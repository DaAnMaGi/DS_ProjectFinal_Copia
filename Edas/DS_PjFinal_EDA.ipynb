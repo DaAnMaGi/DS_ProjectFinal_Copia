{
 "cells": [
  {
   "cell_type": "markdown",
   "metadata": {},
   "source": [
    "# Introducción, objetivos y contenido\n",
    "===================================================================================================================================="
   ]
  },
  {
   "cell_type": "markdown",
   "metadata": {},
   "source": [
    "* Importación de librerías\n",
    "* Carga de datos\n",
    "    * Dataset de restaurantes unívocos\n",
    "    * Dataset de YELP\n",
    "        * Restaurants\n",
    "        * User\n",
    "        * Checkins\n",
    "        * Reviews\n",
    "        * Tips\n",
    "        * Categorías y atributos\n",
    "    * Dataset de GOOGLE\n",
    "        * Restaurantes\n",
    "        * Reviews\n",
    "        * Categorías\n",
    "* Preprocesamiento: gestión final de tipos de datos, valores nulos y duplicados, características\n",
    "    * Datasets de YELP\n",
    "    * Datasets de GOOGLE\n",
    "    * Datasets COMBINADOS\n",
    "        * Restaurants\n",
    "        * User\n",
    "        * Checkins\n",
    "        * Reviews\n",
    "        * Categorías\n",
    "* Análisis de datos\n",
    "    * Análisis de plantel de restaurantes (oferentes)\n",
    "    * Análisis de performance de restaurantes\n",
    "    * Análisis de plantel de usuarios (clientes)\n",
    "    * Análisis de demanda\n",
    "    * Análisis de preferencias de usuario\n",
    "        * Categorías top\n",
    "        * Atributos\n",
    "        * Marcas top\n",
    "        * Locaciones top\n",
    "    * Análisis de participación del usuario\n",
    "        * Involucramiento\n",
    "        * Satisfacción\n",
    "* Conclusiones"
   ]
  },
  {
   "cell_type": "markdown",
   "metadata": {},
   "source": [
    "# Importación de librerías\n",
    "===================================================================================================================================="
   ]
  },
  {
   "cell_type": "code",
   "execution_count": 2,
   "metadata": {},
   "outputs": [],
   "source": [
    "import pandas as pd\n",
    "import numpy as np\n",
    "\n",
    "import math\n",
    "import seaborn as sns\n",
    "import matplotlib as mpl\n",
    "import matplotlib.pyplot as plt"
   ]
  },
  {
   "cell_type": "markdown",
   "metadata": {},
   "source": [
    "# Carga de datos\n",
    "========================================================================================================="
   ]
  },
  {
   "cell_type": "markdown",
   "metadata": {},
   "source": [
    "## Dataset de restaurantes unívocos\n",
    "------------------------------------------------------------------------------------------------------"
   ]
  },
  {
   "cell_type": "code",
   "execution_count": 3,
   "metadata": {},
   "outputs": [],
   "source": [
    "# Listado unívoco de locales de ambos datasets\n",
    "dfgy_rest_uniques = pd.read_parquet('dfgy_rest_uniques.parquet')"
   ]
  },
  {
   "cell_type": "markdown",
   "metadata": {},
   "source": [
    "## Datasets de YELP\n",
    "------------------------------------------------------------------------------------------------------"
   ]
  },
  {
   "cell_type": "code",
   "execution_count": 4,
   "metadata": {},
   "outputs": [],
   "source": [
    "# Yelp\n",
    "yelp_rest = pd.read_parquet('dfy_rest.parquet')\n",
    "yelp_user = pd.read_parquet('dfy_user.parquet')\n",
    "yelp_checkins = pd.read_parquet('dfy_checkins.parquet')"
   ]
  },
  {
   "cell_type": "code",
   "execution_count": 5,
   "metadata": {},
   "outputs": [],
   "source": [
    "# Review\n",
    "yelp_reviews = pd.read_parquet('dfy_reviews.parquet')"
   ]
  },
  {
   "cell_type": "code",
   "execution_count": 6,
   "metadata": {},
   "outputs": [],
   "source": [
    "# Tips\n",
    "yelp_tips = pd.read_parquet('dfy_tips.parquet')"
   ]
  },
  {
   "cell_type": "code",
   "execution_count": 7,
   "metadata": {},
   "outputs": [],
   "source": [
    "# Categorías y atributos\n",
    "yelp_site_categories = pd.read_parquet('dfy_site_categories.parquet')\n",
    "yelp_site_attributes = pd.read_parquet('dfy_attributes.parquet')"
   ]
  },
  {
   "cell_type": "markdown",
   "metadata": {},
   "source": [
    "## Datasets de GOOGLE\n",
    "------------------------------------------------------------------------------------------------------"
   ]
  },
  {
   "cell_type": "code",
   "execution_count": 8,
   "metadata": {},
   "outputs": [],
   "source": [
    "# Restaurants\n",
    "google_rest = pd.read_parquet('dfg_rest.parquet')"
   ]
  },
  {
   "cell_type": "code",
   "execution_count": 9,
   "metadata": {},
   "outputs": [],
   "source": [
    "# Reviews\n",
    "google_reviews = pd.read_parquet('dfg_reviews.parquet')"
   ]
  },
  {
   "cell_type": "code",
   "execution_count": 10,
   "metadata": {},
   "outputs": [],
   "source": [
    "# Categorías y atributos\n",
    "google_site_categories = pd.read_parquet('dfg_site_categories.parquet')\n",
    "dfg_attributes = pd.read_parquet('dfg_attributes.parquet')"
   ]
  },
  {
   "cell_type": "markdown",
   "metadata": {},
   "source": [
    "# Preprocesamiento\n",
    "========================================================================================================="
   ]
  },
  {
   "cell_type": "markdown",
   "metadata": {},
   "source": [
    "## Datasets de YELP\n",
    "------------------------------------------------------------------------------------------------------"
   ]
  },
  {
   "cell_type": "markdown",
   "metadata": {},
   "source": [
    "### YELP reviews"
   ]
  },
  {
   "cell_type": "code",
   "execution_count": 11,
   "metadata": {},
   "outputs": [
    {
     "name": "stdout",
     "output_type": "stream",
     "text": [
      "<class 'pandas.core.frame.DataFrame'>\n",
      "RangeIndex: 1000000 entries, 0 to 999999\n",
      "Data columns (total 14 columns):\n",
      " #   Column       Non-Null Count    Dtype         \n",
      "---  ------       --------------    -----         \n",
      " 0   review_id    1000000 non-null  object        \n",
      " 1   user_id      1000000 non-null  object        \n",
      " 2   business_id  1000000 non-null  object        \n",
      " 3   stars        1000000 non-null  float64       \n",
      " 4   useful       1000000 non-null  int64         \n",
      " 5   funny        1000000 non-null  int64         \n",
      " 6   cool         1000000 non-null  int64         \n",
      " 7   text         1000000 non-null  object        \n",
      " 8   date         1000000 non-null  datetime64[ns]\n",
      " 9   year         1000000 non-null  int32         \n",
      " 10  month        1000000 non-null  int32         \n",
      " 11  year_month   1000000 non-null  object        \n",
      " 12  polarity     1000000 non-null  float64       \n",
      " 13  sentiment    1000000 non-null  int64         \n",
      "dtypes: datetime64[ns](1), float64(2), int32(2), int64(4), object(5)\n",
      "memory usage: 99.2+ MB\n",
      "None\n"
     ]
    },
    {
     "data": {
      "text/html": [
       "<div>\n",
       "<style scoped>\n",
       "    .dataframe tbody tr th:only-of-type {\n",
       "        vertical-align: middle;\n",
       "    }\n",
       "\n",
       "    .dataframe tbody tr th {\n",
       "        vertical-align: top;\n",
       "    }\n",
       "\n",
       "    .dataframe thead th {\n",
       "        text-align: right;\n",
       "    }\n",
       "</style>\n",
       "<table border=\"1\" class=\"dataframe\">\n",
       "  <thead>\n",
       "    <tr style=\"text-align: right;\">\n",
       "      <th></th>\n",
       "      <th>review_id</th>\n",
       "      <th>user_id</th>\n",
       "      <th>business_id</th>\n",
       "      <th>stars</th>\n",
       "      <th>useful</th>\n",
       "      <th>funny</th>\n",
       "      <th>cool</th>\n",
       "      <th>text</th>\n",
       "      <th>date</th>\n",
       "      <th>year</th>\n",
       "      <th>month</th>\n",
       "      <th>year_month</th>\n",
       "      <th>polarity</th>\n",
       "      <th>sentiment</th>\n",
       "    </tr>\n",
       "  </thead>\n",
       "  <tbody>\n",
       "    <tr>\n",
       "      <th>368957</th>\n",
       "      <td>QHKSyygDcxRewI7gSin-sw</td>\n",
       "      <td>Rwlu_h4rNIZtmmQQWhwPCA</td>\n",
       "      <td>Lm88Ma65kQduVhuClg1tqQ</td>\n",
       "      <td>3.0</td>\n",
       "      <td>1</td>\n",
       "      <td>0</td>\n",
       "      <td>0</td>\n",
       "      <td>Came for lunch and sat on the dinning area. Wh...</td>\n",
       "      <td>2016-06-22 17:39:30</td>\n",
       "      <td>2016</td>\n",
       "      <td>6</td>\n",
       "      <td>1606</td>\n",
       "      <td>0.7717</td>\n",
       "      <td>1</td>\n",
       "    </tr>\n",
       "    <tr>\n",
       "      <th>242888</th>\n",
       "      <td>tz1D2FugFpfrkwvCmdrUdA</td>\n",
       "      <td>Y-BGED5H76HryuIuvK-OLg</td>\n",
       "      <td>avivi8rQFEaR9iH_CZ1iBA</td>\n",
       "      <td>3.0</td>\n",
       "      <td>0</td>\n",
       "      <td>0</td>\n",
       "      <td>0</td>\n",
       "      <td>I wanted to love Henrietta Red, but they clear...</td>\n",
       "      <td>2019-08-13 23:41:16</td>\n",
       "      <td>2019</td>\n",
       "      <td>8</td>\n",
       "      <td>1908</td>\n",
       "      <td>0.9743</td>\n",
       "      <td>1</td>\n",
       "    </tr>\n",
       "  </tbody>\n",
       "</table>\n",
       "</div>"
      ],
      "text/plain": [
       "                     review_id                 user_id  \\\n",
       "368957  QHKSyygDcxRewI7gSin-sw  Rwlu_h4rNIZtmmQQWhwPCA   \n",
       "242888  tz1D2FugFpfrkwvCmdrUdA  Y-BGED5H76HryuIuvK-OLg   \n",
       "\n",
       "                   business_id  stars  useful  funny  cool  \\\n",
       "368957  Lm88Ma65kQduVhuClg1tqQ    3.0       1      0     0   \n",
       "242888  avivi8rQFEaR9iH_CZ1iBA    3.0       0      0     0   \n",
       "\n",
       "                                                     text                date  \\\n",
       "368957  Came for lunch and sat on the dinning area. Wh... 2016-06-22 17:39:30   \n",
       "242888  I wanted to love Henrietta Red, but they clear... 2019-08-13 23:41:16   \n",
       "\n",
       "        year  month year_month  polarity  sentiment  \n",
       "368957  2016      6       1606    0.7717          1  \n",
       "242888  2019      8       1908    0.9743          1  "
      ]
     },
     "execution_count": 11,
     "metadata": {},
     "output_type": "execute_result"
    }
   ],
   "source": [
    "print(yelp_reviews.info())\n",
    "yelp_reviews.sample(2)\n",
    "# Nota: el dataset constituye una muestra 1 millón de registros debido a que el dataset de reviews es mucho mayor. \n",
    "# A Efectos del EDA, se considera suficiente."
   ]
  },
  {
   "cell_type": "code",
   "execution_count": 12,
   "metadata": {},
   "outputs": [
    {
     "name": "stdout",
     "output_type": "stream",
     "text": [
      "<class 'pandas.core.frame.DataFrame'>\n",
      "RangeIndex: 1000000 entries, 0 to 999999\n",
      "Data columns (total 9 columns):\n",
      " #   Column     Non-Null Count    Dtype         \n",
      "---  ------     --------------    -----         \n",
      " 0   source     1000000 non-null  object        \n",
      " 1   site_id    1000000 non-null  object        \n",
      " 2   user_id    1000000 non-null  object        \n",
      " 3   datetime   1000000 non-null  datetime64[ns]\n",
      " 4   month      1000000 non-null  int32         \n",
      " 5   year       1000000 non-null  int32         \n",
      " 6   rating     1000000 non-null  float64       \n",
      " 7   polarity   1000000 non-null  float64       \n",
      " 8   sentiment  1000000 non-null  int64         \n",
      "dtypes: datetime64[ns](1), float64(2), int32(2), int64(1), object(3)\n",
      "memory usage: 61.0+ MB\n",
      "None\n"
     ]
    },
    {
     "data": {
      "text/html": [
       "<div>\n",
       "<style scoped>\n",
       "    .dataframe tbody tr th:only-of-type {\n",
       "        vertical-align: middle;\n",
       "    }\n",
       "\n",
       "    .dataframe tbody tr th {\n",
       "        vertical-align: top;\n",
       "    }\n",
       "\n",
       "    .dataframe thead th {\n",
       "        text-align: right;\n",
       "    }\n",
       "</style>\n",
       "<table border=\"1\" class=\"dataframe\">\n",
       "  <thead>\n",
       "    <tr style=\"text-align: right;\">\n",
       "      <th></th>\n",
       "      <th>source</th>\n",
       "      <th>site_id</th>\n",
       "      <th>user_id</th>\n",
       "      <th>datetime</th>\n",
       "      <th>month</th>\n",
       "      <th>year</th>\n",
       "      <th>rating</th>\n",
       "      <th>polarity</th>\n",
       "      <th>sentiment</th>\n",
       "    </tr>\n",
       "  </thead>\n",
       "  <tbody>\n",
       "    <tr>\n",
       "      <th>858551</th>\n",
       "      <td>yelp</td>\n",
       "      <td>iANE0gtS_Vpb7BJ_2mEi_Q</td>\n",
       "      <td>aD3Ql4O8fBGfidEgdPsvDw</td>\n",
       "      <td>2017-05-06 21:42:25</td>\n",
       "      <td>5</td>\n",
       "      <td>2017</td>\n",
       "      <td>4.0</td>\n",
       "      <td>0.9354</td>\n",
       "      <td>1</td>\n",
       "    </tr>\n",
       "    <tr>\n",
       "      <th>896890</th>\n",
       "      <td>yelp</td>\n",
       "      <td>eoN0GAIRV0WmwUm7FmzKgQ</td>\n",
       "      <td>yi9v5IFgz9FE80FWwpx1Cg</td>\n",
       "      <td>2011-04-19 22:19:43</td>\n",
       "      <td>4</td>\n",
       "      <td>2011</td>\n",
       "      <td>3.0</td>\n",
       "      <td>0.8911</td>\n",
       "      <td>1</td>\n",
       "    </tr>\n",
       "  </tbody>\n",
       "</table>\n",
       "</div>"
      ],
      "text/plain": [
       "       source                 site_id                 user_id  \\\n",
       "858551   yelp  iANE0gtS_Vpb7BJ_2mEi_Q  aD3Ql4O8fBGfidEgdPsvDw   \n",
       "896890   yelp  eoN0GAIRV0WmwUm7FmzKgQ  yi9v5IFgz9FE80FWwpx1Cg   \n",
       "\n",
       "                  datetime  month  year  rating  polarity  sentiment  \n",
       "858551 2017-05-06 21:42:25      5  2017     4.0    0.9354          1  \n",
       "896890 2011-04-19 22:19:43      4  2011     3.0    0.8911          1  "
      ]
     },
     "execution_count": 12,
     "metadata": {},
     "output_type": "execute_result"
    }
   ],
   "source": [
    "dfy_reviews = yelp_reviews.copy()\n",
    "\n",
    "dfy_reviews['source'] = 'yelp'\n",
    "dfy_reviews = dfy_reviews[['source','business_id','user_id', 'date', 'month', 'year', 'stars', 'polarity', 'sentiment']]\n",
    "dfy_reviews = dfy_reviews.rename(columns={'business_id': 'site_id', 'date':'datetime', 'stars':'rating'})\n",
    "\n",
    "print(dfy_reviews.info())\n",
    "dfy_reviews.sample(2)"
   ]
  },
  {
   "cell_type": "markdown",
   "metadata": {},
   "source": [
    "### YELP restaurants"
   ]
  },
  {
   "cell_type": "code",
   "execution_count": 13,
   "metadata": {},
   "outputs": [
    {
     "name": "stdout",
     "output_type": "stream",
     "text": [
      "<class 'pandas.core.frame.DataFrame'>\n",
      "RangeIndex: 212998 entries, 0 to 212997\n",
      "Data columns (total 16 columns):\n",
      " #   Column                 Non-Null Count   Dtype  \n",
      "---  ------                 --------------   -----  \n",
      " 0   business_id            212998 non-null  object \n",
      " 1   name                   212998 non-null  object \n",
      " 2   city                   212998 non-null  object \n",
      " 3   postal_code            212998 non-null  object \n",
      " 4   latitude               212998 non-null  float64\n",
      " 5   longitude              212998 non-null  float64\n",
      " 6   stars                  212998 non-null  float64\n",
      " 7   review_count           212998 non-null  int64  \n",
      " 8   is_open                212998 non-null  int64  \n",
      " 9   state                  212998 non-null  object \n",
      " 10  state_city             212998 non-null  object \n",
      " 11  city_postalcode        212998 non-null  object \n",
      " 12  state_city_postalcode  212998 non-null  object \n",
      " 13  categories             133777 non-null  object \n",
      " 14  food                   133777 non-null  object \n",
      " 15  price                  211084 non-null  float64\n",
      "dtypes: float64(4), int64(2), object(10)\n",
      "memory usage: 26.0+ MB\n",
      "None\n"
     ]
    },
    {
     "data": {
      "text/html": [
       "<div>\n",
       "<style scoped>\n",
       "    .dataframe tbody tr th:only-of-type {\n",
       "        vertical-align: middle;\n",
       "    }\n",
       "\n",
       "    .dataframe tbody tr th {\n",
       "        vertical-align: top;\n",
       "    }\n",
       "\n",
       "    .dataframe thead th {\n",
       "        text-align: right;\n",
       "    }\n",
       "</style>\n",
       "<table border=\"1\" class=\"dataframe\">\n",
       "  <thead>\n",
       "    <tr style=\"text-align: right;\">\n",
       "      <th></th>\n",
       "      <th>business_id</th>\n",
       "      <th>name</th>\n",
       "      <th>city</th>\n",
       "      <th>postal_code</th>\n",
       "      <th>latitude</th>\n",
       "      <th>longitude</th>\n",
       "      <th>stars</th>\n",
       "      <th>review_count</th>\n",
       "      <th>is_open</th>\n",
       "      <th>state</th>\n",
       "      <th>state_city</th>\n",
       "      <th>city_postalcode</th>\n",
       "      <th>state_city_postalcode</th>\n",
       "      <th>categories</th>\n",
       "      <th>food</th>\n",
       "      <th>price</th>\n",
       "    </tr>\n",
       "  </thead>\n",
       "  <tbody>\n",
       "    <tr>\n",
       "      <th>77717</th>\n",
       "      <td>QWUhcLhBnWnNVNOHbadwlQ</td>\n",
       "      <td>Blue Box Pizza</td>\n",
       "      <td>St. Louis</td>\n",
       "      <td>63130</td>\n",
       "      <td>38.655642</td>\n",
       "      <td>-90.304459</td>\n",
       "      <td>3.5</td>\n",
       "      <td>22</td>\n",
       "      <td>0</td>\n",
       "      <td>MO</td>\n",
       "      <td>MO - St. Louis</td>\n",
       "      <td>St. Louis - 63130</td>\n",
       "      <td>MO - St. Louis - 63130</td>\n",
       "      <td>Bars</td>\n",
       "      <td>yes</td>\n",
       "      <td>1.421053</td>\n",
       "    </tr>\n",
       "    <tr>\n",
       "      <th>90</th>\n",
       "      <td>Si6LXSR9gvAbmgO5DzV2cw</td>\n",
       "      <td>Lafitte's Landing Seafood House</td>\n",
       "      <td>Harvey</td>\n",
       "      <td>70058</td>\n",
       "      <td>29.875482</td>\n",
       "      <td>-90.049380</td>\n",
       "      <td>2.5</td>\n",
       "      <td>38</td>\n",
       "      <td>0</td>\n",
       "      <td>LA</td>\n",
       "      <td>LA - Harvey</td>\n",
       "      <td>Harvey - 70058</td>\n",
       "      <td>LA - Harvey - 70058</td>\n",
       "      <td>Seafood</td>\n",
       "      <td>yes</td>\n",
       "      <td>1.105263</td>\n",
       "    </tr>\n",
       "    <tr>\n",
       "      <th>189953</th>\n",
       "      <td>YjKuwQSJF1ErVYqRufXJMQ</td>\n",
       "      <td>Barracuda</td>\n",
       "      <td>New Orleans</td>\n",
       "      <td>70115</td>\n",
       "      <td>29.917390</td>\n",
       "      <td>-90.096232</td>\n",
       "      <td>4.5</td>\n",
       "      <td>173</td>\n",
       "      <td>1</td>\n",
       "      <td>LA</td>\n",
       "      <td>LA - New Orleans</td>\n",
       "      <td>New Orleans - 70115</td>\n",
       "      <td>LA - New Orleans - 70115</td>\n",
       "      <td>Tacos</td>\n",
       "      <td>yes</td>\n",
       "      <td>1.782609</td>\n",
       "    </tr>\n",
       "    <tr>\n",
       "      <th>145557</th>\n",
       "      <td>TOiaJJqS2fvNRj0MLfQ7EA</td>\n",
       "      <td>Domino's Pizza</td>\n",
       "      <td>Clearwater</td>\n",
       "      <td>33764</td>\n",
       "      <td>27.941756</td>\n",
       "      <td>-82.744097</td>\n",
       "      <td>2.5</td>\n",
       "      <td>17</td>\n",
       "      <td>1</td>\n",
       "      <td>FL</td>\n",
       "      <td>FL - Clearwater</td>\n",
       "      <td>Clearwater - 33764</td>\n",
       "      <td>FL - Clearwater - 33764</td>\n",
       "      <td>Sandwiches</td>\n",
       "      <td>yes</td>\n",
       "      <td>1.000000</td>\n",
       "    </tr>\n",
       "    <tr>\n",
       "      <th>170958</th>\n",
       "      <td>CcaYQDslcBH_PA0wbwZtKQ</td>\n",
       "      <td>McDonald's</td>\n",
       "      <td>Nashville</td>\n",
       "      <td>37211</td>\n",
       "      <td>36.046548</td>\n",
       "      <td>-86.712833</td>\n",
       "      <td>1.5</td>\n",
       "      <td>17</td>\n",
       "      <td>1</td>\n",
       "      <td>TN</td>\n",
       "      <td>TN - Nashville</td>\n",
       "      <td>Nashville - 37211</td>\n",
       "      <td>TN - Nashville - 37211</td>\n",
       "      <td>Burgers</td>\n",
       "      <td>yes</td>\n",
       "      <td>1.217391</td>\n",
       "    </tr>\n",
       "  </tbody>\n",
       "</table>\n",
       "</div>"
      ],
      "text/plain": [
       "                   business_id                             name         city  \\\n",
       "77717   QWUhcLhBnWnNVNOHbadwlQ                   Blue Box Pizza    St. Louis   \n",
       "90      Si6LXSR9gvAbmgO5DzV2cw  Lafitte's Landing Seafood House       Harvey   \n",
       "189953  YjKuwQSJF1ErVYqRufXJMQ                        Barracuda  New Orleans   \n",
       "145557  TOiaJJqS2fvNRj0MLfQ7EA                   Domino's Pizza   Clearwater   \n",
       "170958  CcaYQDslcBH_PA0wbwZtKQ                       McDonald's    Nashville   \n",
       "\n",
       "       postal_code   latitude  longitude  stars  review_count  is_open state  \\\n",
       "77717        63130  38.655642 -90.304459    3.5            22        0    MO   \n",
       "90           70058  29.875482 -90.049380    2.5            38        0    LA   \n",
       "189953       70115  29.917390 -90.096232    4.5           173        1    LA   \n",
       "145557       33764  27.941756 -82.744097    2.5            17        1    FL   \n",
       "170958       37211  36.046548 -86.712833    1.5            17        1    TN   \n",
       "\n",
       "              state_city      city_postalcode     state_city_postalcode  \\\n",
       "77717     MO - St. Louis    St. Louis - 63130    MO - St. Louis - 63130   \n",
       "90           LA - Harvey       Harvey - 70058       LA - Harvey - 70058   \n",
       "189953  LA - New Orleans  New Orleans - 70115  LA - New Orleans - 70115   \n",
       "145557   FL - Clearwater   Clearwater - 33764   FL - Clearwater - 33764   \n",
       "170958    TN - Nashville    Nashville - 37211    TN - Nashville - 37211   \n",
       "\n",
       "        categories food     price  \n",
       "77717         Bars  yes  1.421053  \n",
       "90         Seafood  yes  1.105263  \n",
       "189953       Tacos  yes  1.782609  \n",
       "145557  Sandwiches  yes  1.000000  \n",
       "170958     Burgers  yes  1.217391  "
      ]
     },
     "execution_count": 13,
     "metadata": {},
     "output_type": "execute_result"
    }
   ],
   "source": [
    "print(yelp_rest.info())\n",
    "yelp_rest.sample(5)"
   ]
  },
  {
   "cell_type": "code",
   "execution_count": 14,
   "metadata": {},
   "outputs": [
    {
     "name": "stdout",
     "output_type": "stream",
     "text": [
      "<class 'pandas.core.frame.DataFrame'>\n",
      "RangeIndex: 211084 entries, 0 to 211083\n",
      "Data columns (total 15 columns):\n",
      " #   Column                 Non-Null Count   Dtype         \n",
      "---  ------                 --------------   -----         \n",
      " 0   source                 211084 non-null  object        \n",
      " 1   site_id                211084 non-null  object        \n",
      " 2   name                   211084 non-null  object        \n",
      " 3   state                  211084 non-null  object        \n",
      " 4   city                   211084 non-null  object        \n",
      " 5   postal_code            211084 non-null  object        \n",
      " 6   price                  211084 non-null  float64       \n",
      " 7   rating_avg             211084 non-null  float64       \n",
      " 8   reviews_count          211084 non-null  int64         \n",
      " 9   date_start             128792 non-null  datetime64[ns]\n",
      " 10  year                   128792 non-null  float64       \n",
      " 11  month                  128792 non-null  float64       \n",
      " 12  state_city             211084 non-null  object        \n",
      " 13  city_postalcode        211084 non-null  object        \n",
      " 14  state_city_postalcode  211084 non-null  object        \n",
      "dtypes: datetime64[ns](1), float64(4), int64(1), object(9)\n",
      "memory usage: 24.2+ MB\n",
      "None\n"
     ]
    },
    {
     "data": {
      "text/html": [
       "<div>\n",
       "<style scoped>\n",
       "    .dataframe tbody tr th:only-of-type {\n",
       "        vertical-align: middle;\n",
       "    }\n",
       "\n",
       "    .dataframe tbody tr th {\n",
       "        vertical-align: top;\n",
       "    }\n",
       "\n",
       "    .dataframe thead th {\n",
       "        text-align: right;\n",
       "    }\n",
       "</style>\n",
       "<table border=\"1\" class=\"dataframe\">\n",
       "  <thead>\n",
       "    <tr style=\"text-align: right;\">\n",
       "      <th></th>\n",
       "      <th>source</th>\n",
       "      <th>site_id</th>\n",
       "      <th>name</th>\n",
       "      <th>state</th>\n",
       "      <th>city</th>\n",
       "      <th>postal_code</th>\n",
       "      <th>price</th>\n",
       "      <th>rating_avg</th>\n",
       "      <th>reviews_count</th>\n",
       "      <th>date_start</th>\n",
       "      <th>year</th>\n",
       "      <th>month</th>\n",
       "      <th>state_city</th>\n",
       "      <th>city_postalcode</th>\n",
       "      <th>state_city_postalcode</th>\n",
       "    </tr>\n",
       "  </thead>\n",
       "  <tbody>\n",
       "    <tr>\n",
       "      <th>35641</th>\n",
       "      <td>yelp</td>\n",
       "      <td>lqokT4QY4hyd2jh2ZNmWjA</td>\n",
       "      <td>501 Eagle</td>\n",
       "      <td>IN</td>\n",
       "      <td>Indianapolis</td>\n",
       "      <td>46202</td>\n",
       "      <td>1.625000</td>\n",
       "      <td>3.5</td>\n",
       "      <td>14</td>\n",
       "      <td>2011-08-02 21:17:06</td>\n",
       "      <td>2011.0</td>\n",
       "      <td>8.0</td>\n",
       "      <td>IN - Indianapolis</td>\n",
       "      <td>Indianapolis - 46202</td>\n",
       "      <td>IN - Indianapolis - 46202</td>\n",
       "    </tr>\n",
       "    <tr>\n",
       "      <th>165632</th>\n",
       "      <td>yelp</td>\n",
       "      <td>uUXwxk8REyJyY_nihwNvCg</td>\n",
       "      <td>Carmel Racquet Club</td>\n",
       "      <td>IN</td>\n",
       "      <td>Carmel</td>\n",
       "      <td>46032</td>\n",
       "      <td>1.588235</td>\n",
       "      <td>3.0</td>\n",
       "      <td>7</td>\n",
       "      <td>NaT</td>\n",
       "      <td>NaN</td>\n",
       "      <td>NaN</td>\n",
       "      <td>IN - Carmel</td>\n",
       "      <td>Carmel - 46032</td>\n",
       "      <td>IN - Carmel - 46032</td>\n",
       "    </tr>\n",
       "  </tbody>\n",
       "</table>\n",
       "</div>"
      ],
      "text/plain": [
       "       source                 site_id                 name state  \\\n",
       "35641    yelp  lqokT4QY4hyd2jh2ZNmWjA            501 Eagle    IN   \n",
       "165632   yelp  uUXwxk8REyJyY_nihwNvCg  Carmel Racquet Club    IN   \n",
       "\n",
       "                city postal_code     price  rating_avg  reviews_count  \\\n",
       "35641   Indianapolis       46202  1.625000         3.5             14   \n",
       "165632        Carmel       46032  1.588235         3.0              7   \n",
       "\n",
       "                date_start    year  month         state_city  \\\n",
       "35641  2011-08-02 21:17:06  2011.0    8.0  IN - Indianapolis   \n",
       "165632                 NaT     NaN    NaN        IN - Carmel   \n",
       "\n",
       "             city_postalcode      state_city_postalcode  \n",
       "35641   Indianapolis - 46202  IN - Indianapolis - 46202  \n",
       "165632        Carmel - 46032        IN - Carmel - 46032  "
      ]
     },
     "execution_count": 14,
     "metadata": {},
     "output_type": "execute_result"
    }
   ],
   "source": [
    "dfy_rest = yelp_rest\n",
    "\n",
    "dfy_rest['source'] = 'yelp'\n",
    "dfy_rest = dfy_rest[['source','business_id', 'name', 'state', 'city', 'postal_code', 'price', 'stars', 'review_count']]\n",
    "dfy_rest = dfy_rest.rename(columns={'business_id': 'site_id', 'stars':'rating_avg', 'review_count':'reviews_count'})\n",
    "\n",
    "dfy_rest.dropna(subset=['price'], inplace=True)\n",
    "\n",
    "# Agregado de fecha de inicio de acitividad\n",
    "dfy_rest_date_start = dfy_reviews.groupby('site_id')['datetime'].min().reset_index()\n",
    "dfy_rest = pd.merge(dfy_rest, dfy_rest_date_start, how='left', on=['site_id'])\n",
    "dfy_rest = dfy_rest.rename(columns={'datetime': 'date_start'})\n",
    "\n",
    "dfy_rest['year'] = dfy_rest['date_start'].dt.year\n",
    "dfy_rest['month'] = dfy_rest['date_start'].dt.month\n",
    "\n",
    "dfy_rest['state_city'] = dfy_rest['state'].str.cat(dfy_rest['city'], sep=' - ')\n",
    "dfy_rest['city_postalcode'] = dfy_rest['city'].str.cat(dfy_rest['postal_code'], sep=' - ')\n",
    "dfy_rest['state_city_postalcode'] = dfy_rest['state'].str.cat(dfy_rest['city'], sep=' - ').str.cat(dfy_rest['postal_code'], sep=' - ')\n",
    "\n",
    "print(dfy_rest.info())\n",
    "dfy_rest.sample(2)"
   ]
  },
  {
   "cell_type": "code",
   "execution_count": 15,
   "metadata": {},
   "outputs": [
    {
     "name": "stdout",
     "output_type": "stream",
     "text": [
      "<class 'pandas.core.frame.DataFrame'>\n",
      "RangeIndex: 211084 entries, 0 to 211083\n",
      "Data columns (total 15 columns):\n",
      " #   Column                 Non-Null Count   Dtype         \n",
      "---  ------                 --------------   -----         \n",
      " 0   source                 211084 non-null  object        \n",
      " 1   site_id                211084 non-null  object        \n",
      " 2   name                   211084 non-null  object        \n",
      " 3   state                  211084 non-null  object        \n",
      " 4   city                   211084 non-null  object        \n",
      " 5   postal_code            211084 non-null  object        \n",
      " 6   price                  211084 non-null  float64       \n",
      " 7   rating_avg             211084 non-null  float64       \n",
      " 8   reviews_count          211084 non-null  int64         \n",
      " 9   date_start             128792 non-null  datetime64[ns]\n",
      " 10  year                   128792 non-null  float64       \n",
      " 11  month                  128792 non-null  float64       \n",
      " 12  state_city             211084 non-null  object        \n",
      " 13  city_postalcode        211084 non-null  object        \n",
      " 14  state_city_postalcode  211084 non-null  object        \n",
      "dtypes: datetime64[ns](1), float64(4), int64(1), object(9)\n",
      "memory usage: 24.2+ MB\n",
      "None\n"
     ]
    },
    {
     "data": {
      "text/html": [
       "<div>\n",
       "<style scoped>\n",
       "    .dataframe tbody tr th:only-of-type {\n",
       "        vertical-align: middle;\n",
       "    }\n",
       "\n",
       "    .dataframe tbody tr th {\n",
       "        vertical-align: top;\n",
       "    }\n",
       "\n",
       "    .dataframe thead th {\n",
       "        text-align: right;\n",
       "    }\n",
       "</style>\n",
       "<table border=\"1\" class=\"dataframe\">\n",
       "  <thead>\n",
       "    <tr style=\"text-align: right;\">\n",
       "      <th></th>\n",
       "      <th>source</th>\n",
       "      <th>site_id</th>\n",
       "      <th>name</th>\n",
       "      <th>state</th>\n",
       "      <th>city</th>\n",
       "      <th>postal_code</th>\n",
       "      <th>price</th>\n",
       "      <th>rating_avg</th>\n",
       "      <th>reviews_count</th>\n",
       "      <th>date_start</th>\n",
       "      <th>year</th>\n",
       "      <th>month</th>\n",
       "      <th>state_city</th>\n",
       "      <th>city_postalcode</th>\n",
       "      <th>state_city_postalcode</th>\n",
       "    </tr>\n",
       "  </thead>\n",
       "  <tbody>\n",
       "    <tr>\n",
       "      <th>166071</th>\n",
       "      <td>yelp</td>\n",
       "      <td>-qP1L9kx0FoH-kFwHXEwbw</td>\n",
       "      <td>Popeyes Louisiana Kitchen</td>\n",
       "      <td>PA</td>\n",
       "      <td>Philadelphia</td>\n",
       "      <td>19123</td>\n",
       "      <td>1.482759</td>\n",
       "      <td>3.0</td>\n",
       "      <td>8</td>\n",
       "      <td>2019-11-24 15:49:57</td>\n",
       "      <td>2019.0</td>\n",
       "      <td>11.0</td>\n",
       "      <td>PA - Philadelphia</td>\n",
       "      <td>Philadelphia - 19123</td>\n",
       "      <td>PA - Philadelphia - 19123</td>\n",
       "    </tr>\n",
       "    <tr>\n",
       "      <th>93271</th>\n",
       "      <td>yelp</td>\n",
       "      <td>PPow3qO48buSNaEkQ_us_w</td>\n",
       "      <td>Nola Mia Gelato Cafe</td>\n",
       "      <td>LA</td>\n",
       "      <td>New Orleans</td>\n",
       "      <td>70117</td>\n",
       "      <td>1.250000</td>\n",
       "      <td>4.5</td>\n",
       "      <td>65</td>\n",
       "      <td>2019-06-28 14:31:01</td>\n",
       "      <td>2019.0</td>\n",
       "      <td>6.0</td>\n",
       "      <td>LA - New Orleans</td>\n",
       "      <td>New Orleans - 70117</td>\n",
       "      <td>LA - New Orleans - 70117</td>\n",
       "    </tr>\n",
       "  </tbody>\n",
       "</table>\n",
       "</div>"
      ],
      "text/plain": [
       "       source                 site_id                       name state  \\\n",
       "166071   yelp  -qP1L9kx0FoH-kFwHXEwbw  Popeyes Louisiana Kitchen    PA   \n",
       "93271    yelp  PPow3qO48buSNaEkQ_us_w       Nola Mia Gelato Cafe    LA   \n",
       "\n",
       "                city postal_code     price  rating_avg  reviews_count  \\\n",
       "166071  Philadelphia       19123  1.482759         3.0              8   \n",
       "93271    New Orleans       70117  1.250000         4.5             65   \n",
       "\n",
       "                date_start    year  month         state_city  \\\n",
       "166071 2019-11-24 15:49:57  2019.0   11.0  PA - Philadelphia   \n",
       "93271  2019-06-28 14:31:01  2019.0    6.0   LA - New Orleans   \n",
       "\n",
       "             city_postalcode      state_city_postalcode  \n",
       "166071  Philadelphia - 19123  PA - Philadelphia - 19123  \n",
       "93271    New Orleans - 70117   LA - New Orleans - 70117  "
      ]
     },
     "execution_count": 15,
     "metadata": {},
     "output_type": "execute_result"
    }
   ],
   "source": [
    "print(dfy_rest.info())\n",
    "dfy_rest.sample(2)"
   ]
  },
  {
   "cell_type": "markdown",
   "metadata": {},
   "source": [
    "### YELP user"
   ]
  },
  {
   "cell_type": "code",
   "execution_count": 16,
   "metadata": {},
   "outputs": [
    {
     "name": "stdout",
     "output_type": "stream",
     "text": [
      "<class 'pandas.core.frame.DataFrame'>\n",
      "RangeIndex: 2105597 entries, 0 to 2105596\n",
      "Data columns (total 11 columns):\n",
      " #   Column         Dtype         \n",
      "---  ------         -----         \n",
      " 0   user_id        object        \n",
      " 1   review_count   int64         \n",
      " 2   fans           int64         \n",
      " 3   yelping_since  datetime64[ns]\n",
      " 4   useful         int64         \n",
      " 5   funny          int64         \n",
      " 6   cool           int64         \n",
      " 7   average_stars  float64       \n",
      " 8   year           int32         \n",
      " 9   month          int32         \n",
      " 10  year_month     object        \n",
      "dtypes: datetime64[ns](1), float64(1), int32(2), int64(5), object(2)\n",
      "memory usage: 160.6+ MB\n",
      "None\n"
     ]
    },
    {
     "data": {
      "text/html": [
       "<div>\n",
       "<style scoped>\n",
       "    .dataframe tbody tr th:only-of-type {\n",
       "        vertical-align: middle;\n",
       "    }\n",
       "\n",
       "    .dataframe tbody tr th {\n",
       "        vertical-align: top;\n",
       "    }\n",
       "\n",
       "    .dataframe thead th {\n",
       "        text-align: right;\n",
       "    }\n",
       "</style>\n",
       "<table border=\"1\" class=\"dataframe\">\n",
       "  <thead>\n",
       "    <tr style=\"text-align: right;\">\n",
       "      <th></th>\n",
       "      <th>user_id</th>\n",
       "      <th>review_count</th>\n",
       "      <th>fans</th>\n",
       "      <th>yelping_since</th>\n",
       "      <th>useful</th>\n",
       "      <th>funny</th>\n",
       "      <th>cool</th>\n",
       "      <th>average_stars</th>\n",
       "      <th>year</th>\n",
       "      <th>month</th>\n",
       "      <th>year_month</th>\n",
       "    </tr>\n",
       "  </thead>\n",
       "  <tbody>\n",
       "    <tr>\n",
       "      <th>286816</th>\n",
       "      <td>BvPF8hrURMMEDlROUfaYFw</td>\n",
       "      <td>9</td>\n",
       "      <td>0</td>\n",
       "      <td>2008-07-23 16:06:20</td>\n",
       "      <td>2</td>\n",
       "      <td>0</td>\n",
       "      <td>2</td>\n",
       "      <td>4.50</td>\n",
       "      <td>2008</td>\n",
       "      <td>7</td>\n",
       "      <td>0807</td>\n",
       "    </tr>\n",
       "    <tr>\n",
       "      <th>207987</th>\n",
       "      <td>pMMTFtJ6BONrrNDOGs9rhA</td>\n",
       "      <td>22</td>\n",
       "      <td>1</td>\n",
       "      <td>2013-01-21 00:54:47</td>\n",
       "      <td>26</td>\n",
       "      <td>8</td>\n",
       "      <td>11</td>\n",
       "      <td>4.59</td>\n",
       "      <td>2013</td>\n",
       "      <td>1</td>\n",
       "      <td>1301</td>\n",
       "    </tr>\n",
       "  </tbody>\n",
       "</table>\n",
       "</div>"
      ],
      "text/plain": [
       "                       user_id  review_count  fans       yelping_since  \\\n",
       "286816  BvPF8hrURMMEDlROUfaYFw             9     0 2008-07-23 16:06:20   \n",
       "207987  pMMTFtJ6BONrrNDOGs9rhA            22     1 2013-01-21 00:54:47   \n",
       "\n",
       "        useful  funny  cool  average_stars  year  month year_month  \n",
       "286816       2      0     2           4.50  2008      7       0807  \n",
       "207987      26      8    11           4.59  2013      1       1301  "
      ]
     },
     "execution_count": 16,
     "metadata": {},
     "output_type": "execute_result"
    }
   ],
   "source": [
    "dfy_user =yelp_user.copy()\n",
    "print(dfy_user.info())\n",
    "dfy_user.sample(2)"
   ]
  },
  {
   "cell_type": "code",
   "execution_count": 17,
   "metadata": {},
   "outputs": [
    {
     "name": "stdout",
     "output_type": "stream",
     "text": [
      "<class 'pandas.core.frame.DataFrame'>\n",
      "RangeIndex: 2105597 entries, 0 to 2105596\n",
      "Data columns (total 7 columns):\n",
      " #   Column         Dtype         \n",
      "---  ------         -----         \n",
      " 0   user_id        object        \n",
      " 1   reviews_count  int64         \n",
      " 2   date_start     datetime64[ns]\n",
      " 3   rating_avg     float64       \n",
      " 4   year           int32         \n",
      " 5   month          int32         \n",
      " 6   source         object        \n",
      "dtypes: datetime64[ns](1), float64(1), int32(2), int64(1), object(2)\n",
      "memory usage: 96.4+ MB\n"
     ]
    },
    {
     "data": {
      "text/html": [
       "<div>\n",
       "<style scoped>\n",
       "    .dataframe tbody tr th:only-of-type {\n",
       "        vertical-align: middle;\n",
       "    }\n",
       "\n",
       "    .dataframe tbody tr th {\n",
       "        vertical-align: top;\n",
       "    }\n",
       "\n",
       "    .dataframe thead th {\n",
       "        text-align: right;\n",
       "    }\n",
       "</style>\n",
       "<table border=\"1\" class=\"dataframe\">\n",
       "  <thead>\n",
       "    <tr style=\"text-align: right;\">\n",
       "      <th></th>\n",
       "      <th>user_id</th>\n",
       "      <th>reviews_count</th>\n",
       "      <th>date_start</th>\n",
       "      <th>rating_avg</th>\n",
       "      <th>year</th>\n",
       "      <th>month</th>\n",
       "      <th>source</th>\n",
       "    </tr>\n",
       "  </thead>\n",
       "  <tbody>\n",
       "    <tr>\n",
       "      <th>1620717</th>\n",
       "      <td>5jMUPtf7j-KM_0OxaIxp7A</td>\n",
       "      <td>1</td>\n",
       "      <td>2016-09-30 20:22:29</td>\n",
       "      <td>5.00</td>\n",
       "      <td>2016</td>\n",
       "      <td>9</td>\n",
       "      <td>yelp</td>\n",
       "    </tr>\n",
       "    <tr>\n",
       "      <th>320694</th>\n",
       "      <td>RjtPdLUI_r_kJOIGfyRzdg</td>\n",
       "      <td>8</td>\n",
       "      <td>2017-11-27 17:49:42</td>\n",
       "      <td>4.56</td>\n",
       "      <td>2017</td>\n",
       "      <td>11</td>\n",
       "      <td>yelp</td>\n",
       "    </tr>\n",
       "    <tr>\n",
       "      <th>1967597</th>\n",
       "      <td>XJ0-gdGV-aKJWRdg3M8i3w</td>\n",
       "      <td>2</td>\n",
       "      <td>2015-12-11 18:49:34</td>\n",
       "      <td>1.00</td>\n",
       "      <td>2015</td>\n",
       "      <td>12</td>\n",
       "      <td>yelp</td>\n",
       "    </tr>\n",
       "    <tr>\n",
       "      <th>877486</th>\n",
       "      <td>cVCsE-yDJMtW7GM6tr-4HA</td>\n",
       "      <td>16</td>\n",
       "      <td>2011-03-04 20:54:43</td>\n",
       "      <td>3.79</td>\n",
       "      <td>2011</td>\n",
       "      <td>3</td>\n",
       "      <td>yelp</td>\n",
       "    </tr>\n",
       "    <tr>\n",
       "      <th>1861363</th>\n",
       "      <td>ptaLxikdhN3ZRZIdi2VBuA</td>\n",
       "      <td>7</td>\n",
       "      <td>2014-02-26 21:01:00</td>\n",
       "      <td>4.57</td>\n",
       "      <td>2014</td>\n",
       "      <td>2</td>\n",
       "      <td>yelp</td>\n",
       "    </tr>\n",
       "  </tbody>\n",
       "</table>\n",
       "</div>"
      ],
      "text/plain": [
       "                        user_id  reviews_count          date_start  \\\n",
       "1620717  5jMUPtf7j-KM_0OxaIxp7A              1 2016-09-30 20:22:29   \n",
       "320694   RjtPdLUI_r_kJOIGfyRzdg              8 2017-11-27 17:49:42   \n",
       "1967597  XJ0-gdGV-aKJWRdg3M8i3w              2 2015-12-11 18:49:34   \n",
       "877486   cVCsE-yDJMtW7GM6tr-4HA             16 2011-03-04 20:54:43   \n",
       "1861363  ptaLxikdhN3ZRZIdi2VBuA              7 2014-02-26 21:01:00   \n",
       "\n",
       "         rating_avg  year  month source  \n",
       "1620717        5.00  2016      9   yelp  \n",
       "320694         4.56  2017     11   yelp  \n",
       "1967597        1.00  2015     12   yelp  \n",
       "877486         3.79  2011      3   yelp  \n",
       "1861363        4.57  2014      2   yelp  "
      ]
     },
     "execution_count": 17,
     "metadata": {},
     "output_type": "execute_result"
    }
   ],
   "source": [
    "# Selección de campos\n",
    "dfy_user = dfy_user[['user_id', 'review_count', 'yelping_since', 'average_stars']]\n",
    "dfy_user = dfy_user.rename(columns={'review_count':'reviews_count', 'yelping_since':'date_start', 'average_stars':'rating_avg'})\n",
    "\n",
    "dfy_user['date_start'] = pd.to_datetime(dfy_user['date_start'], errors='coerce')\n",
    "dfy_user.reset_index(drop=True, inplace=True)\n",
    "\n",
    "dfy_user['year'] = dfy_user['date_start'].dt.year\n",
    "dfy_user['month'] = dfy_user['date_start'].dt.month\n",
    "\n",
    "dfy_user['source'] = 'yelp'\n",
    "dfy_user.info()\n",
    "dfy_user.sample(5)"
   ]
  },
  {
   "cell_type": "markdown",
   "metadata": {},
   "source": [
    "### YELP checkin"
   ]
  },
  {
   "cell_type": "code",
   "execution_count": 18,
   "metadata": {},
   "outputs": [
    {
     "name": "stdout",
     "output_type": "stream",
     "text": [
      "(28668325, 19)\n"
     ]
    },
    {
     "data": {
      "text/html": [
       "<div>\n",
       "<style scoped>\n",
       "    .dataframe tbody tr th:only-of-type {\n",
       "        vertical-align: middle;\n",
       "    }\n",
       "\n",
       "    .dataframe tbody tr th {\n",
       "        vertical-align: top;\n",
       "    }\n",
       "\n",
       "    .dataframe thead th {\n",
       "        text-align: right;\n",
       "    }\n",
       "</style>\n",
       "<table border=\"1\" class=\"dataframe\">\n",
       "  <thead>\n",
       "    <tr style=\"text-align: right;\">\n",
       "      <th></th>\n",
       "      <th>business_id</th>\n",
       "      <th>date</th>\n",
       "      <th>name</th>\n",
       "      <th>city</th>\n",
       "      <th>postal_code</th>\n",
       "      <th>latitude</th>\n",
       "      <th>longitude</th>\n",
       "      <th>stars</th>\n",
       "      <th>review_count</th>\n",
       "      <th>is_open</th>\n",
       "      <th>state</th>\n",
       "      <th>state_city</th>\n",
       "      <th>city_postalcode</th>\n",
       "      <th>state_city_postalcode</th>\n",
       "      <th>categories</th>\n",
       "      <th>food</th>\n",
       "      <th>price</th>\n",
       "      <th>year</th>\n",
       "      <th>month</th>\n",
       "    </tr>\n",
       "  </thead>\n",
       "  <tbody>\n",
       "    <tr>\n",
       "      <th>12516391</th>\n",
       "      <td>R5YyD9JX5nNX4sE2WMSn3g</td>\n",
       "      <td>2018-03-16 00:59:28</td>\n",
       "      <td>Raising Cane's Chicken Fingers</td>\n",
       "      <td>Reno</td>\n",
       "      <td>89503</td>\n",
       "      <td>39.548278</td>\n",
       "      <td>-119.821529</td>\n",
       "      <td>4.0</td>\n",
       "      <td>113</td>\n",
       "      <td>1</td>\n",
       "      <td>NV</td>\n",
       "      <td>NV - Reno</td>\n",
       "      <td>Reno - 89503</td>\n",
       "      <td>NV - Reno - 89503</td>\n",
       "      <td>Chicken Wings</td>\n",
       "      <td>yes</td>\n",
       "      <td>1.428571</td>\n",
       "      <td>2018</td>\n",
       "      <td>3</td>\n",
       "    </tr>\n",
       "    <tr>\n",
       "      <th>19026600</th>\n",
       "      <td>eIKjxqdMduIeIqzPg7yc-Q</td>\n",
       "      <td>2016-04-16 20:49:22</td>\n",
       "      <td>Full Belly Deli - Mill Street</td>\n",
       "      <td>Reno</td>\n",
       "      <td>89502</td>\n",
       "      <td>39.516801</td>\n",
       "      <td>-119.776318</td>\n",
       "      <td>4.5</td>\n",
       "      <td>375</td>\n",
       "      <td>1</td>\n",
       "      <td>NV</td>\n",
       "      <td>NV - Reno</td>\n",
       "      <td>Reno - 89502</td>\n",
       "      <td>NV - Reno - 89502</td>\n",
       "      <td>Sandwiches</td>\n",
       "      <td>yes</td>\n",
       "      <td>1.333333</td>\n",
       "      <td>2016</td>\n",
       "      <td>4</td>\n",
       "    </tr>\n",
       "  </tbody>\n",
       "</table>\n",
       "</div>"
      ],
      "text/plain": [
       "                     business_id                date  \\\n",
       "12516391  R5YyD9JX5nNX4sE2WMSn3g 2018-03-16 00:59:28   \n",
       "19026600  eIKjxqdMduIeIqzPg7yc-Q 2016-04-16 20:49:22   \n",
       "\n",
       "                                    name  city postal_code   latitude  \\\n",
       "12516391  Raising Cane's Chicken Fingers  Reno       89503  39.548278   \n",
       "19026600   Full Belly Deli - Mill Street  Reno       89502  39.516801   \n",
       "\n",
       "           longitude  stars  review_count  is_open state state_city  \\\n",
       "12516391 -119.821529    4.0           113        1    NV  NV - Reno   \n",
       "19026600 -119.776318    4.5           375        1    NV  NV - Reno   \n",
       "\n",
       "         city_postalcode state_city_postalcode     categories food     price  \\\n",
       "12516391    Reno - 89503     NV - Reno - 89503  Chicken Wings  yes  1.428571   \n",
       "19026600    Reno - 89502     NV - Reno - 89502     Sandwiches  yes  1.333333   \n",
       "\n",
       "          year  month  \n",
       "12516391  2018      3  \n",
       "19026600  2016      4  "
      ]
     },
     "execution_count": 18,
     "metadata": {},
     "output_type": "execute_result"
    }
   ],
   "source": [
    "print(yelp_checkins.shape)\n",
    "yelp_checkins.sample(2)"
   ]
  },
  {
   "cell_type": "code",
   "execution_count": 19,
   "metadata": {},
   "outputs": [],
   "source": [
    "dfy_checkins = yelp_checkins[['business_id', 'date']]\n",
    "dfy_checkins = dfy_checkins.rename(columns={'business_id':'site_id', 'date':'datetime'})\n",
    "\n",
    "#dfy_checkins['datetime'] = pd.to_datetime(dfy_checkins['date'])\n",
    "dfy_checkins['year'] = dfy_checkins['datetime'].dt.year\n",
    "dfy_checkins['month'] = dfy_checkins['datetime'].dt.month\n",
    "\n",
    "dfy_checkins['source'] = 'yelp'\n",
    "\n",
    "dfy_checkins = dfy_checkins[['source', 'site_id', 'datetime', 'year', 'month']]"
   ]
  },
  {
   "cell_type": "code",
   "execution_count": 20,
   "metadata": {},
   "outputs": [
    {
     "name": "stdout",
     "output_type": "stream",
     "text": [
      "<class 'pandas.core.frame.DataFrame'>\n",
      "Index: 28668325 entries, 0 to 28715821\n",
      "Data columns (total 5 columns):\n",
      " #   Column    Dtype         \n",
      "---  ------    -----         \n",
      " 0   source    object        \n",
      " 1   site_id   object        \n",
      " 2   datetime  datetime64[ns]\n",
      " 3   year      int32         \n",
      " 4   month     int32         \n",
      "dtypes: datetime64[ns](1), int32(2), object(2)\n",
      "memory usage: 1.1+ GB\n",
      "None\n"
     ]
    },
    {
     "data": {
      "text/html": [
       "<div>\n",
       "<style scoped>\n",
       "    .dataframe tbody tr th:only-of-type {\n",
       "        vertical-align: middle;\n",
       "    }\n",
       "\n",
       "    .dataframe tbody tr th {\n",
       "        vertical-align: top;\n",
       "    }\n",
       "\n",
       "    .dataframe thead th {\n",
       "        text-align: right;\n",
       "    }\n",
       "</style>\n",
       "<table border=\"1\" class=\"dataframe\">\n",
       "  <thead>\n",
       "    <tr style=\"text-align: right;\">\n",
       "      <th></th>\n",
       "      <th>source</th>\n",
       "      <th>site_id</th>\n",
       "      <th>datetime</th>\n",
       "      <th>year</th>\n",
       "      <th>month</th>\n",
       "    </tr>\n",
       "  </thead>\n",
       "  <tbody>\n",
       "    <tr>\n",
       "      <th>28520593</th>\n",
       "      <td>yelp</td>\n",
       "      <td>zYnYOzhlG9jPoX9ANecEUw</td>\n",
       "      <td>2014-03-29 00:58:00</td>\n",
       "      <td>2014</td>\n",
       "      <td>3</td>\n",
       "    </tr>\n",
       "    <tr>\n",
       "      <th>28394898</th>\n",
       "      <td>yelp</td>\n",
       "      <td>zARJJ_OKHW6PgzI9SXEVlw</td>\n",
       "      <td>2020-08-28 23:49:29</td>\n",
       "      <td>2020</td>\n",
       "      <td>8</td>\n",
       "    </tr>\n",
       "  </tbody>\n",
       "</table>\n",
       "</div>"
      ],
      "text/plain": [
       "         source                 site_id            datetime  year  month\n",
       "28520593   yelp  zYnYOzhlG9jPoX9ANecEUw 2014-03-29 00:58:00  2014      3\n",
       "28394898   yelp  zARJJ_OKHW6PgzI9SXEVlw 2020-08-28 23:49:29  2020      8"
      ]
     },
     "execution_count": 20,
     "metadata": {},
     "output_type": "execute_result"
    }
   ],
   "source": [
    "print(dfy_checkins.info())\n",
    "dfy_checkins.sample(2)"
   ]
  },
  {
   "cell_type": "markdown",
   "metadata": {},
   "source": [
    "### YELP categories"
   ]
  },
  {
   "cell_type": "code",
   "execution_count": 21,
   "metadata": {},
   "outputs": [
    {
     "name": "stdout",
     "output_type": "stream",
     "text": [
      "<class 'pandas.core.frame.DataFrame'>\n",
      "RangeIndex: 149643 entries, 0 to 149642\n",
      "Data columns (total 3 columns):\n",
      " #   Column      Non-Null Count   Dtype \n",
      "---  ------      --------------   ----- \n",
      " 0   site_id     149643 non-null  object\n",
      " 1   categories  149643 non-null  object\n",
      " 2   food        149643 non-null  object\n",
      "dtypes: object(3)\n",
      "memory usage: 3.4+ MB\n"
     ]
    },
    {
     "data": {
      "text/html": [
       "<div>\n",
       "<style scoped>\n",
       "    .dataframe tbody tr th:only-of-type {\n",
       "        vertical-align: middle;\n",
       "    }\n",
       "\n",
       "    .dataframe tbody tr th {\n",
       "        vertical-align: top;\n",
       "    }\n",
       "\n",
       "    .dataframe thead th {\n",
       "        text-align: right;\n",
       "    }\n",
       "</style>\n",
       "<table border=\"1\" class=\"dataframe\">\n",
       "  <thead>\n",
       "    <tr style=\"text-align: right;\">\n",
       "      <th></th>\n",
       "      <th>site_id</th>\n",
       "      <th>categories</th>\n",
       "      <th>food</th>\n",
       "    </tr>\n",
       "  </thead>\n",
       "  <tbody>\n",
       "    <tr>\n",
       "      <th>54264</th>\n",
       "      <td>KX2WxEYtBIrepYD7MOQqqQ</td>\n",
       "      <td>Italian</td>\n",
       "      <td>yes</td>\n",
       "    </tr>\n",
       "    <tr>\n",
       "      <th>147517</th>\n",
       "      <td>JjSmcvva7SMj6-iXy1dYBA</td>\n",
       "      <td>Cuban</td>\n",
       "      <td>yes</td>\n",
       "    </tr>\n",
       "  </tbody>\n",
       "</table>\n",
       "</div>"
      ],
      "text/plain": [
       "                       site_id categories food\n",
       "54264   KX2WxEYtBIrepYD7MOQqqQ    Italian  yes\n",
       "147517  JjSmcvva7SMj6-iXy1dYBA      Cuban  yes"
      ]
     },
     "execution_count": 21,
     "metadata": {},
     "output_type": "execute_result"
    }
   ],
   "source": [
    "yelp_site_categories.info()\n",
    "yelp_site_categories.sample(2)"
   ]
  },
  {
   "cell_type": "code",
   "execution_count": 22,
   "metadata": {},
   "outputs": [
    {
     "name": "stdout",
     "output_type": "stream",
     "text": [
      "<class 'pandas.core.frame.DataFrame'>\n",
      "RangeIndex: 149643 entries, 0 to 149642\n",
      "Data columns (total 3 columns):\n",
      " #   Column      Non-Null Count   Dtype \n",
      "---  ------      --------------   ----- \n",
      " 0   source      149643 non-null  object\n",
      " 1   site_id     149643 non-null  object\n",
      " 2   categories  149643 non-null  object\n",
      "dtypes: object(3)\n",
      "memory usage: 3.4+ MB\n"
     ]
    },
    {
     "data": {
      "text/html": [
       "<div>\n",
       "<style scoped>\n",
       "    .dataframe tbody tr th:only-of-type {\n",
       "        vertical-align: middle;\n",
       "    }\n",
       "\n",
       "    .dataframe tbody tr th {\n",
       "        vertical-align: top;\n",
       "    }\n",
       "\n",
       "    .dataframe thead th {\n",
       "        text-align: right;\n",
       "    }\n",
       "</style>\n",
       "<table border=\"1\" class=\"dataframe\">\n",
       "  <thead>\n",
       "    <tr style=\"text-align: right;\">\n",
       "      <th></th>\n",
       "      <th>source</th>\n",
       "      <th>site_id</th>\n",
       "      <th>categories</th>\n",
       "    </tr>\n",
       "  </thead>\n",
       "  <tbody>\n",
       "    <tr>\n",
       "      <th>77234</th>\n",
       "      <td>yelp</td>\n",
       "      <td>5afKAJ0IHByvsMaFGm9JVw</td>\n",
       "      <td>Breakfast &amp; Brunch</td>\n",
       "    </tr>\n",
       "    <tr>\n",
       "      <th>70239</th>\n",
       "      <td>yelp</td>\n",
       "      <td>_sW_oA5e_xdDwz05fGS7pQ</td>\n",
       "      <td>Food Trucks</td>\n",
       "    </tr>\n",
       "  </tbody>\n",
       "</table>\n",
       "</div>"
      ],
      "text/plain": [
       "      source                 site_id          categories\n",
       "77234   yelp  5afKAJ0IHByvsMaFGm9JVw  Breakfast & Brunch\n",
       "70239   yelp  _sW_oA5e_xdDwz05fGS7pQ         Food Trucks"
      ]
     },
     "execution_count": 22,
     "metadata": {},
     "output_type": "execute_result"
    }
   ],
   "source": [
    "dfy_categories = yelp_site_categories[['site_id', 'categories']]\n",
    "dfy_categories['source'] = 'yelp'\n",
    "dfy_categories = dfy_categories[['source', 'site_id', 'categories']]\n",
    "\n",
    "dfy_categories.info()\n",
    "dfy_categories.sample(2)"
   ]
  },
  {
   "cell_type": "markdown",
   "metadata": {},
   "source": [
    "### YELP attributes"
   ]
  },
  {
   "cell_type": "code",
   "execution_count": 23,
   "metadata": {},
   "outputs": [
    {
     "name": "stdout",
     "output_type": "stream",
     "text": [
      "(1206820, 3)\n"
     ]
    },
    {
     "data": {
      "text/html": [
       "<div>\n",
       "<style scoped>\n",
       "    .dataframe tbody tr th:only-of-type {\n",
       "        vertical-align: middle;\n",
       "    }\n",
       "\n",
       "    .dataframe tbody tr th {\n",
       "        vertical-align: top;\n",
       "    }\n",
       "\n",
       "    .dataframe thead th {\n",
       "        text-align: right;\n",
       "    }\n",
       "</style>\n",
       "<table border=\"1\" class=\"dataframe\">\n",
       "  <thead>\n",
       "    <tr style=\"text-align: right;\">\n",
       "      <th></th>\n",
       "      <th>site_id</th>\n",
       "      <th>attributes</th>\n",
       "      <th>source</th>\n",
       "    </tr>\n",
       "  </thead>\n",
       "  <tbody>\n",
       "    <tr>\n",
       "      <th>14389</th>\n",
       "      <td>UWk9hczxAjMT6y5C3826fw</td>\n",
       "      <td>Alcohol</td>\n",
       "      <td>yelp</td>\n",
       "    </tr>\n",
       "    <tr>\n",
       "      <th>66968</th>\n",
       "      <td>2TW0TCqrRxyolGb3S_uTiA</td>\n",
       "      <td>GoodForKids</td>\n",
       "      <td>yelp</td>\n",
       "    </tr>\n",
       "  </tbody>\n",
       "</table>\n",
       "</div>"
      ],
      "text/plain": [
       "                      site_id   attributes source\n",
       "14389  UWk9hczxAjMT6y5C3826fw      Alcohol   yelp\n",
       "66968  2TW0TCqrRxyolGb3S_uTiA  GoodForKids   yelp"
      ]
     },
     "execution_count": 23,
     "metadata": {},
     "output_type": "execute_result"
    }
   ],
   "source": [
    "dfy_attributes = yelp_site_attributes.copy()\n",
    "dfy_attributes.rename(columns={'business_id': 'site_id'}, inplace=True)\n",
    "dfy_attributes['source'] = 'yelp'\n",
    "\n",
    "print(dfy_attributes.shape)\n",
    "dfy_attributes.sample(2)"
   ]
  },
  {
   "cell_type": "code",
   "execution_count": 24,
   "metadata": {},
   "outputs": [
    {
     "data": {
      "text/plain": [
       "0"
      ]
     },
     "execution_count": 24,
     "metadata": {},
     "output_type": "execute_result"
    }
   ],
   "source": [
    "dfy_attributes.duplicated().sum()"
   ]
  },
  {
   "cell_type": "code",
   "execution_count": 25,
   "metadata": {},
   "outputs": [],
   "source": [
    "# Exportación de dataset\n",
    "dfy_attributes.to_csv('dfy_attributes.csv', index=False)"
   ]
  },
  {
   "cell_type": "markdown",
   "metadata": {},
   "source": [
    "## Datasets GOOGLE\n",
    "------------------------------------------------------------------------------------------------------"
   ]
  },
  {
   "cell_type": "markdown",
   "metadata": {},
   "source": [
    "### GOOGLE reviews"
   ]
  },
  {
   "cell_type": "code",
   "execution_count": 26,
   "metadata": {},
   "outputs": [
    {
     "name": "stdout",
     "output_type": "stream",
     "text": [
      "<class 'pandas.core.frame.DataFrame'>\n",
      "RangeIndex: 4346287 entries, 0 to 4346286\n",
      "Data columns (total 7 columns):\n",
      " #   Column           Dtype         \n",
      "---  ------           -----         \n",
      " 0   user_id          float64       \n",
      " 1   gmap_id          object        \n",
      " 2   state            object        \n",
      " 3   datetime         datetime64[ns]\n",
      " 4   rating           int64         \n",
      " 5   vader_polarity   float64       \n",
      " 6   vader_sentiment  int64         \n",
      "dtypes: datetime64[ns](1), float64(2), int64(2), object(2)\n",
      "memory usage: 232.1+ MB\n",
      "None\n"
     ]
    },
    {
     "data": {
      "text/html": [
       "<div>\n",
       "<style scoped>\n",
       "    .dataframe tbody tr th:only-of-type {\n",
       "        vertical-align: middle;\n",
       "    }\n",
       "\n",
       "    .dataframe tbody tr th {\n",
       "        vertical-align: top;\n",
       "    }\n",
       "\n",
       "    .dataframe thead th {\n",
       "        text-align: right;\n",
       "    }\n",
       "</style>\n",
       "<table border=\"1\" class=\"dataframe\">\n",
       "  <thead>\n",
       "    <tr style=\"text-align: right;\">\n",
       "      <th></th>\n",
       "      <th>user_id</th>\n",
       "      <th>gmap_id</th>\n",
       "      <th>state</th>\n",
       "      <th>datetime</th>\n",
       "      <th>rating</th>\n",
       "      <th>vader_polarity</th>\n",
       "      <th>vader_sentiment</th>\n",
       "    </tr>\n",
       "  </thead>\n",
       "  <tbody>\n",
       "    <tr>\n",
       "      <th>4181006</th>\n",
       "      <td>1.033697e+20</td>\n",
       "      <td>0x54936d812d11dcd9:0xba60f245594aa3bc</td>\n",
       "      <td>WA</td>\n",
       "      <td>2019-12-24 07:54:50.854</td>\n",
       "      <td>4</td>\n",
       "      <td>0.4215</td>\n",
       "      <td>1</td>\n",
       "    </tr>\n",
       "    <tr>\n",
       "      <th>2981522</th>\n",
       "      <td>1.095373e+20</td>\n",
       "      <td>0x88309dc6e9397ab1:0x9e5eb29197087086</td>\n",
       "      <td>OH</td>\n",
       "      <td>2020-02-22 14:34:50.941</td>\n",
       "      <td>5</td>\n",
       "      <td>0.8807</td>\n",
       "      <td>1</td>\n",
       "    </tr>\n",
       "  </tbody>\n",
       "</table>\n",
       "</div>"
      ],
      "text/plain": [
       "              user_id                                gmap_id state  \\\n",
       "4181006  1.033697e+20  0x54936d812d11dcd9:0xba60f245594aa3bc    WA   \n",
       "2981522  1.095373e+20  0x88309dc6e9397ab1:0x9e5eb29197087086    OH   \n",
       "\n",
       "                       datetime  rating  vader_polarity  vader_sentiment  \n",
       "4181006 2019-12-24 07:54:50.854       4          0.4215                1  \n",
       "2981522 2020-02-22 14:34:50.941       5          0.8807                1  "
      ]
     },
     "execution_count": 26,
     "metadata": {},
     "output_type": "execute_result"
    }
   ],
   "source": [
    "print(google_reviews.info())\n",
    "google_reviews.sample(2)"
   ]
  },
  {
   "cell_type": "code",
   "execution_count": 27,
   "metadata": {},
   "outputs": [],
   "source": [
    "dfg_reviews = google_reviews\n",
    "dfg_reviews['source'] = 'google'\n",
    "dfg_reviews['month'] = dfg_reviews['datetime'].dt.month\n",
    "dfg_reviews['year'] = dfg_reviews['datetime'].dt.year\n",
    "dfg_reviews = dfg_reviews[['source', 'gmap_id','user_id', 'datetime', 'month', 'year', 'rating', 'vader_polarity', 'vader_sentiment']]\n",
    "dfg_reviews = dfg_reviews.rename(columns={'gmap_id': 'site_id', 'vader_polarity':'polarity', 'vader_sentiment':'sentiment'})"
   ]
  },
  {
   "cell_type": "code",
   "execution_count": 28,
   "metadata": {},
   "outputs": [
    {
     "data": {
      "text/html": [
       "<div>\n",
       "<style scoped>\n",
       "    .dataframe tbody tr th:only-of-type {\n",
       "        vertical-align: middle;\n",
       "    }\n",
       "\n",
       "    .dataframe tbody tr th {\n",
       "        vertical-align: top;\n",
       "    }\n",
       "\n",
       "    .dataframe thead th {\n",
       "        text-align: right;\n",
       "    }\n",
       "</style>\n",
       "<table border=\"1\" class=\"dataframe\">\n",
       "  <thead>\n",
       "    <tr style=\"text-align: right;\">\n",
       "      <th></th>\n",
       "      <th>source</th>\n",
       "      <th>site_id</th>\n",
       "      <th>user_id</th>\n",
       "      <th>datetime</th>\n",
       "      <th>month</th>\n",
       "      <th>year</th>\n",
       "      <th>rating</th>\n",
       "      <th>polarity</th>\n",
       "      <th>sentiment</th>\n",
       "    </tr>\n",
       "  </thead>\n",
       "  <tbody>\n",
       "    <tr>\n",
       "      <th>1898078</th>\n",
       "      <td>google</td>\n",
       "      <td>0x52b09a27a2f3c94d:0x9e41095b2d42fe5a</td>\n",
       "      <td>1.069982e+20</td>\n",
       "      <td>2019-05-06 04:56:01.102</td>\n",
       "      <td>5</td>\n",
       "      <td>2019</td>\n",
       "      <td>5</td>\n",
       "      <td>0.6249</td>\n",
       "      <td>1</td>\n",
       "    </tr>\n",
       "    <tr>\n",
       "      <th>2393371</th>\n",
       "      <td>google</td>\n",
       "      <td>0x87183d1175f9b0db:0x761ec755126b31a6</td>\n",
       "      <td>1.078729e+20</td>\n",
       "      <td>2019-08-14 21:08:03.044</td>\n",
       "      <td>8</td>\n",
       "      <td>2019</td>\n",
       "      <td>5</td>\n",
       "      <td>0.8516</td>\n",
       "      <td>1</td>\n",
       "    </tr>\n",
       "  </tbody>\n",
       "</table>\n",
       "</div>"
      ],
      "text/plain": [
       "         source                                site_id       user_id  \\\n",
       "1898078  google  0x52b09a27a2f3c94d:0x9e41095b2d42fe5a  1.069982e+20   \n",
       "2393371  google  0x87183d1175f9b0db:0x761ec755126b31a6  1.078729e+20   \n",
       "\n",
       "                       datetime  month  year  rating  polarity  sentiment  \n",
       "1898078 2019-05-06 04:56:01.102      5  2019       5    0.6249          1  \n",
       "2393371 2019-08-14 21:08:03.044      8  2019       5    0.8516          1  "
      ]
     },
     "execution_count": 28,
     "metadata": {},
     "output_type": "execute_result"
    }
   ],
   "source": [
    "dfg_reviews.sample(2)"
   ]
  },
  {
   "cell_type": "markdown",
   "metadata": {},
   "source": [
    "### GOOGLE restaurants"
   ]
  },
  {
   "cell_type": "code",
   "execution_count": 29,
   "metadata": {},
   "outputs": [
    {
     "name": "stdout",
     "output_type": "stream",
     "text": [
      "<class 'pandas.core.frame.DataFrame'>\n",
      "Index: 223485 entries, 2 to 274996\n",
      "Data columns (total 12 columns):\n",
      " #   Column          Non-Null Count   Dtype  \n",
      "---  ------          --------------   -----  \n",
      " 0   name            223485 non-null  object \n",
      " 1   address_full    223485 non-null  object \n",
      " 2   gmap_id         223485 non-null  object \n",
      " 3   latitude        223485 non-null  float64\n",
      " 4   longitude       223485 non-null  float64\n",
      " 5   avg_rating      223485 non-null  float64\n",
      " 6   num_of_reviews  223485 non-null  int64  \n",
      " 7   price           223485 non-null  float64\n",
      " 8   address         223485 non-null  object \n",
      " 9   city            223485 non-null  object \n",
      " 10  postal_code     223485 non-null  object \n",
      " 11  state           223485 non-null  object \n",
      "dtypes: float64(4), int64(1), object(7)\n",
      "memory usage: 22.2+ MB\n",
      "None\n"
     ]
    },
    {
     "data": {
      "text/html": [
       "<div>\n",
       "<style scoped>\n",
       "    .dataframe tbody tr th:only-of-type {\n",
       "        vertical-align: middle;\n",
       "    }\n",
       "\n",
       "    .dataframe tbody tr th {\n",
       "        vertical-align: top;\n",
       "    }\n",
       "\n",
       "    .dataframe thead th {\n",
       "        text-align: right;\n",
       "    }\n",
       "</style>\n",
       "<table border=\"1\" class=\"dataframe\">\n",
       "  <thead>\n",
       "    <tr style=\"text-align: right;\">\n",
       "      <th></th>\n",
       "      <th>name</th>\n",
       "      <th>address_full</th>\n",
       "      <th>gmap_id</th>\n",
       "      <th>latitude</th>\n",
       "      <th>longitude</th>\n",
       "      <th>avg_rating</th>\n",
       "      <th>num_of_reviews</th>\n",
       "      <th>price</th>\n",
       "      <th>address</th>\n",
       "      <th>city</th>\n",
       "      <th>postal_code</th>\n",
       "      <th>state</th>\n",
       "    </tr>\n",
       "  </thead>\n",
       "  <tbody>\n",
       "    <tr>\n",
       "      <th>63950</th>\n",
       "      <td>Planet Swirl Fro-Yo &amp; Grill</td>\n",
       "      <td>Planet Swirl Fro-Yo &amp; Grill, 44 Franklin Ave, ...</td>\n",
       "      <td>0x89c2e4a8a947748f:0xd781e8fa739fe0c0</td>\n",
       "      <td>40.980865</td>\n",
       "      <td>-74.118019</td>\n",
       "      <td>4.5</td>\n",
       "      <td>6</td>\n",
       "      <td>1.0</td>\n",
       "      <td>44 Franklin Ave</td>\n",
       "      <td>Ridgewood</td>\n",
       "      <td>7450</td>\n",
       "      <td>NJ</td>\n",
       "    </tr>\n",
       "    <tr>\n",
       "      <th>33618</th>\n",
       "      <td>China House Cafe</td>\n",
       "      <td>China House Cafe, 137 W Ciro St, Truman, MN 56088</td>\n",
       "      <td>0x87f4878424a3c977:0x8db182cea3d6016c</td>\n",
       "      <td>43.827472</td>\n",
       "      <td>-94.436740</td>\n",
       "      <td>4.6</td>\n",
       "      <td>124</td>\n",
       "      <td>1.0</td>\n",
       "      <td>137 W Ciro St</td>\n",
       "      <td>Truman</td>\n",
       "      <td>56088</td>\n",
       "      <td>MN</td>\n",
       "    </tr>\n",
       "  </tbody>\n",
       "</table>\n",
       "</div>"
      ],
      "text/plain": [
       "                              name  \\\n",
       "63950  Planet Swirl Fro-Yo & Grill   \n",
       "33618             China House Cafe   \n",
       "\n",
       "                                            address_full  \\\n",
       "63950  Planet Swirl Fro-Yo & Grill, 44 Franklin Ave, ...   \n",
       "33618  China House Cafe, 137 W Ciro St, Truman, MN 56088   \n",
       "\n",
       "                                     gmap_id   latitude  longitude  \\\n",
       "63950  0x89c2e4a8a947748f:0xd781e8fa739fe0c0  40.980865 -74.118019   \n",
       "33618  0x87f4878424a3c977:0x8db182cea3d6016c  43.827472 -94.436740   \n",
       "\n",
       "       avg_rating  num_of_reviews  price          address       city  \\\n",
       "63950         4.5               6    1.0  44 Franklin Ave  Ridgewood   \n",
       "33618         4.6             124    1.0    137 W Ciro St     Truman   \n",
       "\n",
       "      postal_code state  \n",
       "63950        7450    NJ  \n",
       "33618       56088    MN  "
      ]
     },
     "execution_count": 29,
     "metadata": {},
     "output_type": "execute_result"
    }
   ],
   "source": [
    "print(google_rest.info())\n",
    "google_rest.sample(2)"
   ]
  },
  {
   "cell_type": "code",
   "execution_count": 30,
   "metadata": {},
   "outputs": [],
   "source": [
    "dfg_rest = google_rest\n",
    "dfg_rest['source'] = 'google'\n",
    "dfg_rest = dfg_rest[['source','gmap_id', 'name', 'state', 'city', 'postal_code', 'price', 'avg_rating', 'num_of_reviews']]\n",
    "dfg_rest = dfg_rest.rename(columns={'gmap_id': 'site_id', 'avg_rating':'rating_avg', 'num_of_reviews':'reviews_count'})\n",
    "\n",
    "# Agregado de fecha de inicio de acitividad\n",
    "dfg_rest_date_start = dfg_reviews.groupby('site_id')['datetime'].min().reset_index()\n",
    "dfg_rest = pd.merge(dfg_rest, dfg_rest_date_start, how='left', on=['site_id'])\n",
    "dfg_rest = dfg_rest.rename(columns={'datetime': 'date_start'})\n",
    "\n",
    "dfg_rest['year'] = dfg_rest['date_start'].dt.year\n",
    "dfg_rest['month'] = dfg_rest['date_start'].dt.month\n",
    "\n",
    "dfg_rest['state_city'] = dfg_rest['state'].str.cat(dfg_rest['city'], sep=' - ')\n",
    "dfg_rest['city_postalcode'] = dfg_rest['city'].str.cat(dfg_rest['postal_code'], sep=' - ')\n",
    "dfg_rest['state_city_postalcode'] = dfg_rest['state'].str.cat(dfy_rest['city'], sep=' - ').str.cat(dfg_rest['postal_code'], sep=' - ')\n"
   ]
  },
  {
   "cell_type": "code",
   "execution_count": 31,
   "metadata": {},
   "outputs": [
    {
     "name": "stdout",
     "output_type": "stream",
     "text": [
      "<class 'pandas.core.frame.DataFrame'>\n",
      "RangeIndex: 223485 entries, 0 to 223484\n",
      "Data columns (total 15 columns):\n",
      " #   Column                 Non-Null Count   Dtype         \n",
      "---  ------                 --------------   -----         \n",
      " 0   source                 223485 non-null  object        \n",
      " 1   site_id                223485 non-null  object        \n",
      " 2   name                   223485 non-null  object        \n",
      " 3   state                  223485 non-null  object        \n",
      " 4   city                   223485 non-null  object        \n",
      " 5   postal_code            223485 non-null  object        \n",
      " 6   price                  223485 non-null  float64       \n",
      " 7   rating_avg             223485 non-null  float64       \n",
      " 8   reviews_count          223485 non-null  int64         \n",
      " 9   date_start             134644 non-null  datetime64[ns]\n",
      " 10  year                   134644 non-null  float64       \n",
      " 11  month                  134644 non-null  float64       \n",
      " 12  state_city             223485 non-null  object        \n",
      " 13  city_postalcode        223485 non-null  object        \n",
      " 14  state_city_postalcode  211084 non-null  object        \n",
      "dtypes: datetime64[ns](1), float64(4), int64(1), object(9)\n",
      "memory usage: 25.6+ MB\n",
      "None\n"
     ]
    },
    {
     "data": {
      "text/html": [
       "<div>\n",
       "<style scoped>\n",
       "    .dataframe tbody tr th:only-of-type {\n",
       "        vertical-align: middle;\n",
       "    }\n",
       "\n",
       "    .dataframe tbody tr th {\n",
       "        vertical-align: top;\n",
       "    }\n",
       "\n",
       "    .dataframe thead th {\n",
       "        text-align: right;\n",
       "    }\n",
       "</style>\n",
       "<table border=\"1\" class=\"dataframe\">\n",
       "  <thead>\n",
       "    <tr style=\"text-align: right;\">\n",
       "      <th></th>\n",
       "      <th>source</th>\n",
       "      <th>site_id</th>\n",
       "      <th>name</th>\n",
       "      <th>state</th>\n",
       "      <th>city</th>\n",
       "      <th>postal_code</th>\n",
       "      <th>price</th>\n",
       "      <th>rating_avg</th>\n",
       "      <th>reviews_count</th>\n",
       "      <th>date_start</th>\n",
       "      <th>year</th>\n",
       "      <th>month</th>\n",
       "      <th>state_city</th>\n",
       "      <th>city_postalcode</th>\n",
       "      <th>state_city_postalcode</th>\n",
       "    </tr>\n",
       "  </thead>\n",
       "  <tbody>\n",
       "    <tr>\n",
       "      <th>116675</th>\n",
       "      <td>google</td>\n",
       "      <td>0x87b68db34fabd2e9:0xbefda20769356ecb</td>\n",
       "      <td>King Burrito</td>\n",
       "      <td>OK</td>\n",
       "      <td>Tulsa</td>\n",
       "      <td>74133</td>\n",
       "      <td>1.259259</td>\n",
       "      <td>4.8</td>\n",
       "      <td>58</td>\n",
       "      <td>2021-06-12 07:21:26.718</td>\n",
       "      <td>2021.0</td>\n",
       "      <td>6.0</td>\n",
       "      <td>OK - Tulsa</td>\n",
       "      <td>Tulsa - 74133</td>\n",
       "      <td>OK - New Orleans - 74133</td>\n",
       "    </tr>\n",
       "    <tr>\n",
       "      <th>113853</th>\n",
       "      <td>google</td>\n",
       "      <td>0x876c807d11b74125:0xa9ef0323e5c85ea</td>\n",
       "      <td>Panda One</td>\n",
       "      <td>CO</td>\n",
       "      <td>Englewood</td>\n",
       "      <td>80113</td>\n",
       "      <td>2.000000</td>\n",
       "      <td>4.1</td>\n",
       "      <td>18</td>\n",
       "      <td>2013-07-02 17:56:43.909</td>\n",
       "      <td>2013.0</td>\n",
       "      <td>7.0</td>\n",
       "      <td>CO - Englewood</td>\n",
       "      <td>Englewood - 80113</td>\n",
       "      <td>CO - Valrico - 80113</td>\n",
       "    </tr>\n",
       "  </tbody>\n",
       "</table>\n",
       "</div>"
      ],
      "text/plain": [
       "        source                                site_id          name state  \\\n",
       "116675  google  0x87b68db34fabd2e9:0xbefda20769356ecb  King Burrito    OK   \n",
       "113853  google   0x876c807d11b74125:0xa9ef0323e5c85ea     Panda One    CO   \n",
       "\n",
       "             city postal_code     price  rating_avg  reviews_count  \\\n",
       "116675      Tulsa       74133  1.259259         4.8             58   \n",
       "113853  Englewood       80113  2.000000         4.1             18   \n",
       "\n",
       "                    date_start    year  month      state_city  \\\n",
       "116675 2021-06-12 07:21:26.718  2021.0    6.0      OK - Tulsa   \n",
       "113853 2013-07-02 17:56:43.909  2013.0    7.0  CO - Englewood   \n",
       "\n",
       "          city_postalcode     state_city_postalcode  \n",
       "116675      Tulsa - 74133  OK - New Orleans - 74133  \n",
       "113853  Englewood - 80113      CO - Valrico - 80113  "
      ]
     },
     "execution_count": 31,
     "metadata": {},
     "output_type": "execute_result"
    }
   ],
   "source": [
    "print(dfg_rest.info())\n",
    "dfg_rest.sample(2)"
   ]
  },
  {
   "cell_type": "markdown",
   "metadata": {},
   "source": [
    "### GOOGLE user (creación de dataset)"
   ]
  },
  {
   "cell_type": "code",
   "execution_count": 32,
   "metadata": {},
   "outputs": [
    {
     "data": {
      "text/html": [
       "<div>\n",
       "<style scoped>\n",
       "    .dataframe tbody tr th:only-of-type {\n",
       "        vertical-align: middle;\n",
       "    }\n",
       "\n",
       "    .dataframe tbody tr th {\n",
       "        vertical-align: top;\n",
       "    }\n",
       "\n",
       "    .dataframe thead th {\n",
       "        text-align: right;\n",
       "    }\n",
       "</style>\n",
       "<table border=\"1\" class=\"dataframe\">\n",
       "  <thead>\n",
       "    <tr style=\"text-align: right;\">\n",
       "      <th></th>\n",
       "      <th>user_id</th>\n",
       "      <th>reviews_count</th>\n",
       "      <th>date_start</th>\n",
       "      <th>rating_avg</th>\n",
       "      <th>year</th>\n",
       "      <th>month</th>\n",
       "      <th>source</th>\n",
       "    </tr>\n",
       "  </thead>\n",
       "  <tbody>\n",
       "    <tr>\n",
       "      <th>1838710</th>\n",
       "      <td>1.128498e+20</td>\n",
       "      <td>1</td>\n",
       "      <td>2020-11-03 16:34:00.675</td>\n",
       "      <td>5.0</td>\n",
       "      <td>2020</td>\n",
       "      <td>11</td>\n",
       "      <td>google</td>\n",
       "    </tr>\n",
       "    <tr>\n",
       "      <th>1396970</th>\n",
       "      <td>1.098067e+20</td>\n",
       "      <td>2</td>\n",
       "      <td>2019-08-02 05:47:16.511</td>\n",
       "      <td>5.0</td>\n",
       "      <td>2019</td>\n",
       "      <td>8</td>\n",
       "      <td>google</td>\n",
       "    </tr>\n",
       "  </tbody>\n",
       "</table>\n",
       "</div>"
      ],
      "text/plain": [
       "              user_id  reviews_count              date_start  rating_avg  \\\n",
       "1838710  1.128498e+20              1 2020-11-03 16:34:00.675         5.0   \n",
       "1396970  1.098067e+20              2 2019-08-02 05:47:16.511         5.0   \n",
       "\n",
       "         year  month  source  \n",
       "1838710  2020     11  google  \n",
       "1396970  2019      8  google  "
      ]
     },
     "execution_count": 32,
     "metadata": {},
     "output_type": "execute_result"
    }
   ],
   "source": [
    "dfg_user = dfg_reviews.groupby(['user_id']).agg({'site_id': 'count', 'datetime': 'min', 'rating': 'mean'}).reset_index()\n",
    "dfg_user = dfg_user.rename(columns={'site_id':'reviews_count', 'datetime':'date_start', 'rating':'rating_avg'})\n",
    "dfg_user['year'] = dfg_user['date_start'].dt.year\n",
    "dfg_user['month'] = dfg_user['date_start'].dt.month\n",
    "\n",
    "dfg_user['source'] = 'google'\n",
    "dfg_user.sample(2)\n"
   ]
  },
  {
   "cell_type": "markdown",
   "metadata": {},
   "source": [
    "### GOOGLE checkins (creación de dataset)"
   ]
  },
  {
   "cell_type": "code",
   "execution_count": 33,
   "metadata": {},
   "outputs": [],
   "source": [
    "dfy_checkins = yelp_checkins[['business_id', 'date']]\n",
    "dfy_checkins = dfy_checkins.rename(columns={'business_id':'site_id', 'date':'datetime'})\n",
    "\n",
    "#dfy_checkins['datetime'] = pd.to_datetime(dfy_checkins['date'])\n",
    "dfy_checkins['year'] = dfy_checkins['datetime'].dt.year\n",
    "dfy_checkins['month'] = dfy_checkins['datetime'].dt.month\n",
    "\n",
    "dfy_checkins['source'] = 'yelp'\n",
    "\n",
    "dfy_checkins = dfy_checkins[['source', 'site_id', 'datetime', 'year', 'month']]"
   ]
  },
  {
   "cell_type": "code",
   "execution_count": 34,
   "metadata": {},
   "outputs": [],
   "source": [
    "dfg_checkins = dfg_reviews[['source', 'site_id', 'datetime', 'year', 'month']]"
   ]
  },
  {
   "cell_type": "code",
   "execution_count": 35,
   "metadata": {},
   "outputs": [
    {
     "name": "stdout",
     "output_type": "stream",
     "text": [
      "<class 'pandas.core.frame.DataFrame'>\n",
      "RangeIndex: 4346287 entries, 0 to 4346286\n",
      "Data columns (total 5 columns):\n",
      " #   Column    Dtype         \n",
      "---  ------    -----         \n",
      " 0   source    object        \n",
      " 1   site_id   object        \n",
      " 2   datetime  datetime64[ns]\n",
      " 3   year      int32         \n",
      " 4   month     int32         \n",
      "dtypes: datetime64[ns](1), int32(2), object(2)\n",
      "memory usage: 132.6+ MB\n",
      "None\n"
     ]
    },
    {
     "data": {
      "text/html": [
       "<div>\n",
       "<style scoped>\n",
       "    .dataframe tbody tr th:only-of-type {\n",
       "        vertical-align: middle;\n",
       "    }\n",
       "\n",
       "    .dataframe tbody tr th {\n",
       "        vertical-align: top;\n",
       "    }\n",
       "\n",
       "    .dataframe thead th {\n",
       "        text-align: right;\n",
       "    }\n",
       "</style>\n",
       "<table border=\"1\" class=\"dataframe\">\n",
       "  <thead>\n",
       "    <tr style=\"text-align: right;\">\n",
       "      <th></th>\n",
       "      <th>source</th>\n",
       "      <th>site_id</th>\n",
       "      <th>datetime</th>\n",
       "      <th>year</th>\n",
       "      <th>month</th>\n",
       "    </tr>\n",
       "  </thead>\n",
       "  <tbody>\n",
       "    <tr>\n",
       "      <th>507534</th>\n",
       "      <td>google</td>\n",
       "      <td>0x876a5e90af94e9f9:0x1bb93c23d0c5cba6</td>\n",
       "      <td>2018-03-20 19:21:08.602</td>\n",
       "      <td>2018</td>\n",
       "      <td>3</td>\n",
       "    </tr>\n",
       "    <tr>\n",
       "      <th>1768628</th>\n",
       "      <td>google</td>\n",
       "      <td>0x88179dbfc44115bd:0x2bff8d16c371e0b3</td>\n",
       "      <td>2021-04-02 22:14:07.543</td>\n",
       "      <td>2021</td>\n",
       "      <td>4</td>\n",
       "    </tr>\n",
       "  </tbody>\n",
       "</table>\n",
       "</div>"
      ],
      "text/plain": [
       "         source                                site_id  \\\n",
       "507534   google  0x876a5e90af94e9f9:0x1bb93c23d0c5cba6   \n",
       "1768628  google  0x88179dbfc44115bd:0x2bff8d16c371e0b3   \n",
       "\n",
       "                       datetime  year  month  \n",
       "507534  2018-03-20 19:21:08.602  2018      3  \n",
       "1768628 2021-04-02 22:14:07.543  2021      4  "
      ]
     },
     "execution_count": 35,
     "metadata": {},
     "output_type": "execute_result"
    }
   ],
   "source": [
    "print(dfg_checkins.info())\n",
    "dfg_checkins.sample(2)"
   ]
  },
  {
   "cell_type": "markdown",
   "metadata": {},
   "source": [
    "### GOOGLE categories"
   ]
  },
  {
   "cell_type": "code",
   "execution_count": 36,
   "metadata": {},
   "outputs": [
    {
     "name": "stdout",
     "output_type": "stream",
     "text": [
      "<class 'pandas.core.frame.DataFrame'>\n",
      "Index: 626995 entries, 2 to 274996\n",
      "Data columns (total 2 columns):\n",
      " #   Column    Non-Null Count   Dtype \n",
      "---  ------    --------------   ----- \n",
      " 0   site_id   626995 non-null  object\n",
      " 1   category  626995 non-null  object\n",
      "dtypes: object(2)\n",
      "memory usage: 14.4+ MB\n"
     ]
    },
    {
     "data": {
      "text/html": [
       "<div>\n",
       "<style scoped>\n",
       "    .dataframe tbody tr th:only-of-type {\n",
       "        vertical-align: middle;\n",
       "    }\n",
       "\n",
       "    .dataframe tbody tr th {\n",
       "        vertical-align: top;\n",
       "    }\n",
       "\n",
       "    .dataframe thead th {\n",
       "        text-align: right;\n",
       "    }\n",
       "</style>\n",
       "<table border=\"1\" class=\"dataframe\">\n",
       "  <thead>\n",
       "    <tr style=\"text-align: right;\">\n",
       "      <th></th>\n",
       "      <th>site_id</th>\n",
       "      <th>category</th>\n",
       "    </tr>\n",
       "  </thead>\n",
       "  <tbody>\n",
       "    <tr>\n",
       "      <th>179248</th>\n",
       "      <td>0x88137a3f3cd6cb61:0xd2990ca180918e9</td>\n",
       "      <td>Bar</td>\n",
       "    </tr>\n",
       "    <tr>\n",
       "      <th>39316</th>\n",
       "      <td>0x8816ffaa6bc51967:0x4aaaae14ee1dcc79</td>\n",
       "      <td>Convenience store</td>\n",
       "    </tr>\n",
       "  </tbody>\n",
       "</table>\n",
       "</div>"
      ],
      "text/plain": [
       "                                      site_id           category\n",
       "179248   0x88137a3f3cd6cb61:0xd2990ca180918e9                Bar\n",
       "39316   0x8816ffaa6bc51967:0x4aaaae14ee1dcc79  Convenience store"
      ]
     },
     "execution_count": 36,
     "metadata": {},
     "output_type": "execute_result"
    }
   ],
   "source": [
    "google_site_categories.info()\n",
    "google_site_categories.sample(2)"
   ]
  },
  {
   "cell_type": "code",
   "execution_count": 37,
   "metadata": {},
   "outputs": [
    {
     "name": "stdout",
     "output_type": "stream",
     "text": [
      "<class 'pandas.core.frame.DataFrame'>\n",
      "Index: 626995 entries, 2 to 274996\n",
      "Data columns (total 3 columns):\n",
      " #   Column      Non-Null Count   Dtype \n",
      "---  ------      --------------   ----- \n",
      " 0   source      626995 non-null  object\n",
      " 1   site_id     626995 non-null  object\n",
      " 2   categories  626995 non-null  object\n",
      "dtypes: object(3)\n",
      "memory usage: 19.1+ MB\n"
     ]
    },
    {
     "data": {
      "text/html": [
       "<div>\n",
       "<style scoped>\n",
       "    .dataframe tbody tr th:only-of-type {\n",
       "        vertical-align: middle;\n",
       "    }\n",
       "\n",
       "    .dataframe tbody tr th {\n",
       "        vertical-align: top;\n",
       "    }\n",
       "\n",
       "    .dataframe thead th {\n",
       "        text-align: right;\n",
       "    }\n",
       "</style>\n",
       "<table border=\"1\" class=\"dataframe\">\n",
       "  <thead>\n",
       "    <tr style=\"text-align: right;\">\n",
       "      <th></th>\n",
       "      <th>source</th>\n",
       "      <th>site_id</th>\n",
       "      <th>categories</th>\n",
       "    </tr>\n",
       "  </thead>\n",
       "  <tbody>\n",
       "    <tr>\n",
       "      <th>118756</th>\n",
       "      <td>google</td>\n",
       "      <td>0x8640c7c278e09d8f:0xc5f6d7b9939e6b69</td>\n",
       "      <td>Takeout Restaurant</td>\n",
       "    </tr>\n",
       "    <tr>\n",
       "      <th>144528</th>\n",
       "      <td>google</td>\n",
       "      <td>0x89dcde1cfebfdf1b:0x74325dcfb4a800ed</td>\n",
       "      <td>Chinese restaurant</td>\n",
       "    </tr>\n",
       "  </tbody>\n",
       "</table>\n",
       "</div>"
      ],
      "text/plain": [
       "        source                                site_id          categories\n",
       "118756  google  0x8640c7c278e09d8f:0xc5f6d7b9939e6b69  Takeout Restaurant\n",
       "144528  google  0x89dcde1cfebfdf1b:0x74325dcfb4a800ed  Chinese restaurant"
      ]
     },
     "execution_count": 37,
     "metadata": {},
     "output_type": "execute_result"
    }
   ],
   "source": [
    "dfg_categories = google_site_categories.copy()\n",
    "\n",
    "dfg_categories.rename(columns={'category': 'categories'}, inplace=True)\n",
    "dfg_categories['source'] = 'google'\n",
    "dfg_categories = dfg_categories[['source', 'site_id', 'categories']]\n",
    "\n",
    "dfg_categories.info()\n",
    "dfg_categories.sample(2)"
   ]
  },
  {
   "cell_type": "markdown",
   "metadata": {},
   "source": [
    "### GOOGLE attributes"
   ]
  },
  {
   "cell_type": "code",
   "execution_count": 38,
   "metadata": {},
   "outputs": [
    {
     "name": "stdout",
     "output_type": "stream",
     "text": [
      "(535731, 3)\n"
     ]
    },
    {
     "data": {
      "text/html": [
       "<div>\n",
       "<style scoped>\n",
       "    .dataframe tbody tr th:only-of-type {\n",
       "        vertical-align: middle;\n",
       "    }\n",
       "\n",
       "    .dataframe tbody tr th {\n",
       "        vertical-align: top;\n",
       "    }\n",
       "\n",
       "    .dataframe thead th {\n",
       "        text-align: right;\n",
       "    }\n",
       "</style>\n",
       "<table border=\"1\" class=\"dataframe\">\n",
       "  <thead>\n",
       "    <tr style=\"text-align: right;\">\n",
       "      <th></th>\n",
       "      <th>site_id</th>\n",
       "      <th>attributes</th>\n",
       "      <th>source</th>\n",
       "    </tr>\n",
       "  </thead>\n",
       "  <tbody>\n",
       "    <tr>\n",
       "      <th>1332972</th>\n",
       "      <td>0x80c2c7de804c1f1f:0x853d40d75f48b30e</td>\n",
       "      <td>Wheelchair accessible entrance</td>\n",
       "      <td>google</td>\n",
       "    </tr>\n",
       "    <tr>\n",
       "      <th>1484362</th>\n",
       "      <td>0x88d9c5d8661ddbb9:0x71b92347565bfb56</td>\n",
       "      <td>Wheelchair accessible entrance</td>\n",
       "      <td>google</td>\n",
       "    </tr>\n",
       "  </tbody>\n",
       "</table>\n",
       "</div>"
      ],
      "text/plain": [
       "                                       site_id  \\\n",
       "1332972  0x80c2c7de804c1f1f:0x853d40d75f48b30e   \n",
       "1484362  0x88d9c5d8661ddbb9:0x71b92347565bfb56   \n",
       "\n",
       "                             attributes  source  \n",
       "1332972  Wheelchair accessible entrance  google  \n",
       "1484362  Wheelchair accessible entrance  google  "
      ]
     },
     "execution_count": 38,
     "metadata": {},
     "output_type": "execute_result"
    }
   ],
   "source": [
    "dfg_attributes.rename(columns={'gmap_id': 'site_id'}, inplace=True)\n",
    "dfg_attributes['source'] = 'google'\n",
    "print(dfg_attributes.shape)\n",
    "dfg_attributes.sample(2)"
   ]
  },
  {
   "cell_type": "markdown",
   "metadata": {},
   "source": [
    "## Datasets COMBINADOS\n",
    "------------------------------------------------------------------------------------------------------"
   ]
  },
  {
   "cell_type": "markdown",
   "metadata": {},
   "source": [
    "### Dataset RESTAURANTS"
   ]
  },
  {
   "cell_type": "code",
   "execution_count": 39,
   "metadata": {},
   "outputs": [
    {
     "name": "stdout",
     "output_type": "stream",
     "text": [
      "<class 'pandas.core.frame.DataFrame'>\n",
      "Index: 342834 entries, 3 to 223484\n",
      "Data columns (total 15 columns):\n",
      " #   Column                 Non-Null Count   Dtype         \n",
      "---  ------                 --------------   -----         \n",
      " 0   source                 342834 non-null  object        \n",
      " 1   site_id                342834 non-null  object        \n",
      " 2   name                   342834 non-null  object        \n",
      " 3   state                  342834 non-null  object        \n",
      " 4   city                   342834 non-null  object        \n",
      " 5   postal_code            342834 non-null  object        \n",
      " 6   price                  342834 non-null  float64       \n",
      " 7   rating_avg             342834 non-null  float64       \n",
      " 8   reviews_count          342834 non-null  int64         \n",
      " 9   date_start             247726 non-null  datetime64[ns]\n",
      " 10  year                   247726 non-null  float64       \n",
      " 11  month                  247726 non-null  float64       \n",
      " 12  state_city             342834 non-null  object        \n",
      " 13  city_postalcode        342834 non-null  object        \n",
      " 14  state_city_postalcode  330433 non-null  object        \n",
      "dtypes: datetime64[ns](1), float64(4), int64(1), object(9)\n",
      "memory usage: 41.8+ MB\n",
      "None\n"
     ]
    },
    {
     "data": {
      "text/html": [
       "<div>\n",
       "<style scoped>\n",
       "    .dataframe tbody tr th:only-of-type {\n",
       "        vertical-align: middle;\n",
       "    }\n",
       "\n",
       "    .dataframe tbody tr th {\n",
       "        vertical-align: top;\n",
       "    }\n",
       "\n",
       "    .dataframe thead th {\n",
       "        text-align: right;\n",
       "    }\n",
       "</style>\n",
       "<table border=\"1\" class=\"dataframe\">\n",
       "  <thead>\n",
       "    <tr style=\"text-align: right;\">\n",
       "      <th></th>\n",
       "      <th>source</th>\n",
       "      <th>site_id</th>\n",
       "      <th>name</th>\n",
       "      <th>state</th>\n",
       "      <th>city</th>\n",
       "      <th>postal_code</th>\n",
       "      <th>price</th>\n",
       "      <th>rating_avg</th>\n",
       "      <th>reviews_count</th>\n",
       "      <th>date_start</th>\n",
       "      <th>year</th>\n",
       "      <th>month</th>\n",
       "      <th>state_city</th>\n",
       "      <th>city_postalcode</th>\n",
       "      <th>state_city_postalcode</th>\n",
       "    </tr>\n",
       "  </thead>\n",
       "  <tbody>\n",
       "    <tr>\n",
       "      <th>121266</th>\n",
       "      <td>google</td>\n",
       "      <td>0x88f8bb2859ca7351:0x31cb931b1d96e50e</td>\n",
       "      <td>Global Cafe</td>\n",
       "      <td>SC</td>\n",
       "      <td>Columbia</td>\n",
       "      <td>29201</td>\n",
       "      <td>1.565217</td>\n",
       "      <td>4.2</td>\n",
       "      <td>18</td>\n",
       "      <td>2018-04-30 13:06:03.086</td>\n",
       "      <td>2018.0</td>\n",
       "      <td>4.0</td>\n",
       "      <td>SC - Columbia</td>\n",
       "      <td>Columbia - 29201</td>\n",
       "      <td>SC - Indianapolis - 29201</td>\n",
       "    </tr>\n",
       "    <tr>\n",
       "      <th>139666</th>\n",
       "      <td>google</td>\n",
       "      <td>0x87b6f2d7a1c752d5:0x8f4628302b9c29f5</td>\n",
       "      <td>QuikTrip</td>\n",
       "      <td>OK</td>\n",
       "      <td>Tulsa</td>\n",
       "      <td>74129</td>\n",
       "      <td>1.000000</td>\n",
       "      <td>3.4</td>\n",
       "      <td>36</td>\n",
       "      <td>2012-05-20 19:45:02.575</td>\n",
       "      <td>2012.0</td>\n",
       "      <td>5.0</td>\n",
       "      <td>OK - Tulsa</td>\n",
       "      <td>Tulsa - 74129</td>\n",
       "      <td>OK - Boise - 74129</td>\n",
       "    </tr>\n",
       "  </tbody>\n",
       "</table>\n",
       "</div>"
      ],
      "text/plain": [
       "        source                                site_id         name state  \\\n",
       "121266  google  0x88f8bb2859ca7351:0x31cb931b1d96e50e  Global Cafe    SC   \n",
       "139666  google  0x87b6f2d7a1c752d5:0x8f4628302b9c29f5     QuikTrip    OK   \n",
       "\n",
       "            city postal_code     price  rating_avg  reviews_count  \\\n",
       "121266  Columbia       29201  1.565217         4.2             18   \n",
       "139666     Tulsa       74129  1.000000         3.4             36   \n",
       "\n",
       "                    date_start    year  month     state_city  \\\n",
       "121266 2018-04-30 13:06:03.086  2018.0    4.0  SC - Columbia   \n",
       "139666 2012-05-20 19:45:02.575  2012.0    5.0     OK - Tulsa   \n",
       "\n",
       "         city_postalcode      state_city_postalcode  \n",
       "121266  Columbia - 29201  SC - Indianapolis - 29201  \n",
       "139666     Tulsa - 74129         OK - Boise - 74129  "
      ]
     },
     "execution_count": 39,
     "metadata": {},
     "output_type": "execute_result"
    }
   ],
   "source": [
    "# Filtrado\n",
    "dfy_rest = dfy_rest[dfy_rest['site_id'].isin(dfgy_rest_uniques['business_id'])]\n",
    "# Union\n",
    "dfgy_rest = pd.concat([dfy_rest, dfg_rest])\n",
    "\n",
    "print(dfgy_rest.info())\n",
    "dfgy_rest.sample(2)"
   ]
  },
  {
   "cell_type": "code",
   "execution_count": 40,
   "metadata": {},
   "outputs": [
    {
     "data": {
      "text/plain": [
       "68714"
      ]
     },
     "execution_count": 40,
     "metadata": {},
     "output_type": "execute_result"
    }
   ],
   "source": [
    "dfgy_rest['site_id'].duplicated().sum()"
   ]
  },
  {
   "cell_type": "code",
   "execution_count": 41,
   "metadata": {},
   "outputs": [
    {
     "data": {
      "text/plain": [
       "0"
      ]
     },
     "execution_count": 41,
     "metadata": {},
     "output_type": "execute_result"
    }
   ],
   "source": [
    "# Eliminación de duplicados\n",
    "dfgy_rest= dfgy_rest.drop_duplicates(subset=['site_id'], keep='first')\n",
    "dfgy_rest['site_id'].duplicated().sum()"
   ]
  },
  {
   "cell_type": "code",
   "execution_count": 42,
   "metadata": {},
   "outputs": [
    {
     "data": {
      "text/plain": [
       "array(['PA', 'TN', 'MO', 'FL', 'IN', 'NV', 'IL', 'AZ', 'LA', 'CA', 'DE',\n",
       "       'ID', 'NC', 'CO', 'MT', 'MD', 'MI', 'TX', 'IA', 'WI', 'HI', 'UT',\n",
       "       'ME', 'SC', 'RI', 'OK', 'AR', 'MS', 'WA', 'NY', 'GA', 'MA', 'MN',\n",
       "       'OR', 'CT', 'OH', 'VA', 'NJ', 'KS', 'AK', 'KY', 'NM', 'AL', 'WV',\n",
       "       'SD', 'NE', 'ND', 'DC', 'NH', 'WY', 'VT', 'QINJIAMO邮政编码:',\n",
       "       'kwingexpress邮政编码:', '凯越轩邮政编码:', 'Pokeology邮政编码:', 'Focus邮政编码:',\n",
       "       'cottage1邮政编码:', '十秒到云南过桥米綫邮政编码:', '帝皇軒邮政编码:', \"Brody's邮政编码:\",\n",
       "       '寿喜邮政编码:', 'Asahi邮政编码:', 'SavorySeafood邮政编码:', 'Wasabi邮政编码:',\n",
       "       '湖南(Jamaica)邮政编码:', '怡和邮政编码:', 'KOI邮政编码:', 'Bluefishpokebowl邮政编码:',\n",
       "       '小亚洲邮政编码:', '亚洲自助餐厅邮政编码:', '巴山蜀水邮政编码:', 'Lungwah邮政编码:',\n",
       "       '元祿台式料理邮政编码:', '不二酒馆邮政编码:', 'Teppanyaki邮政编码:', 'Hitea邮政编码:',\n",
       "       'Pokepoint邮政编码:', '江边城外，BK大排档邮政编码:', 'Boileroom邮政编码:', 'Louisiana',\n",
       "       '百家利茶餐廳邮政编码:', '香满楼邮政编码:', '小巷子烧烤邮政编码:', '海之味邮政编码:',\n",
       "       'Everett邮政编码:', '风味麻辣鸭脖邮政编码:', '关东大院邮政编码:', '好运来邮政编码:', '凱悦軒邮政编码:',\n",
       "       '林和順邮政编码:', 'Mura邮政编码:', '金冠邮政编码:', '鲤鱼门邮政编码:', 'Sakura邮政编码:',\n",
       "       'Fuji邮政编码:', '山西百年面道邮政编码:', '新粵旺邮政编码:', '品茗邮政编码:', '越南粉邮政编码:',\n",
       "       '无铭冒菜邮政编码:', 'Shokudou邮政编码:', '朵朵香邮政编码:', 'Sakuma邮政编码:',\n",
       "       'J-PETAL邮政编码:', '喜万年打酒楼邮政编码:', 'Red', '瓷禧邮政编码:', '合意小吃邮政编码:',\n",
       "       \"Freddie's邮政编码:\", 'Mizu邮政编码:', '山城辣妹子邮政编码:'], dtype=object)"
      ]
     },
     "execution_count": 42,
     "metadata": {},
     "output_type": "execute_result"
    }
   ],
   "source": [
    "dfgy_rest['state'].unique()"
   ]
  },
  {
   "cell_type": "code",
   "execution_count": 43,
   "metadata": {},
   "outputs": [
    {
     "name": "stdout",
     "output_type": "stream",
     "text": [
      "['PA' 'TN' 'MO' 'FL' 'IN' 'NV' 'IL' 'AZ' 'LA' 'CA' 'DE' 'ID' 'NC' 'CO'\n",
      " 'MT' 'MD' 'MI' 'TX' 'IA' 'WI' 'HI' 'UT' 'ME' 'SC' 'RI' 'OK' 'AR' 'MS'\n",
      " 'WA' 'NY' 'GA' 'MA' 'MN' 'OR' 'CT' 'OH' 'VA' 'NJ' 'KS' 'AK' 'KY' 'NM'\n",
      " 'AL' 'WV' 'SD' 'NE' 'ND' 'DC' 'NH' 'WY' 'VT' 'Louisiana' 'Red']\n"
     ]
    }
   ],
   "source": [
    "# Eliminación de caracteres no latinos\n",
    "\n",
    "import re\n",
    "pattern = re.compile(r'^[A-Za-z]+$')\n",
    "\n",
    "# Filtrar el DataFrame\n",
    "dfgy_rest = dfgy_rest[dfgy_rest['state'].apply(lambda x: bool(pattern.match(x)))]\n",
    "\n",
    "# Mostrar valores únicos en el campo 'state' después de la filtración\n",
    "print(dfgy_rest['state'].unique())"
   ]
  },
  {
   "cell_type": "code",
   "execution_count": 44,
   "metadata": {},
   "outputs": [
    {
     "name": "stdout",
     "output_type": "stream",
     "text": [
      "['PA' 'TN' 'MO' 'FL' 'IN' 'NV' 'IL' 'AZ' 'LA' 'CA' 'DE' 'ID' 'NC' 'CO'\n",
      " 'MT' 'MD' 'MI' 'TX' 'IA' 'WI' 'HI' 'UT' 'ME' 'SC' 'RI' 'OK' 'AR' 'MS'\n",
      " 'WA' 'NY' 'GA' 'MA' 'MN' 'OR' 'CT' 'OH' 'VA' 'NJ' 'KS' 'AK' 'KY' 'NM'\n",
      " 'AL' 'WV' 'SD' 'NE' 'ND' 'DC' 'NH' 'WY' 'VT']\n"
     ]
    }
   ],
   "source": [
    "dfgy_rest = dfgy_rest[~dfgy_rest['state'].isin(['Louisiana', 'Red'])]\n",
    "print(dfgy_rest['state'].unique())"
   ]
  },
  {
   "cell_type": "code",
   "execution_count": 45,
   "metadata": {},
   "outputs": [
    {
     "name": "stdout",
     "output_type": "stream",
     "text": [
      "<class 'pandas.core.frame.DataFrame'>\n",
      "Index: 274060 entries, 3 to 223484\n",
      "Data columns (total 15 columns):\n",
      " #   Column                 Non-Null Count   Dtype         \n",
      "---  ------                 --------------   -----         \n",
      " 0   source                 274060 non-null  object        \n",
      " 1   site_id                274060 non-null  object        \n",
      " 2   name                   274060 non-null  object        \n",
      " 3   state                  274060 non-null  object        \n",
      " 4   city                   274060 non-null  object        \n",
      " 5   postal_code            274060 non-null  object        \n",
      " 6   price                  274060 non-null  float64       \n",
      " 7   rating_avg             274060 non-null  float64       \n",
      " 8   reviews_count          274060 non-null  int64         \n",
      " 9   date_start             182440 non-null  datetime64[ns]\n",
      " 10  year                   182440 non-null  float64       \n",
      " 11  month                  182440 non-null  float64       \n",
      " 12  state_city             274060 non-null  object        \n",
      " 13  city_postalcode        274060 non-null  object        \n",
      " 14  state_city_postalcode  261663 non-null  object        \n",
      "dtypes: datetime64[ns](1), float64(4), int64(1), object(9)\n",
      "memory usage: 33.5+ MB\n"
     ]
    }
   ],
   "source": [
    "dfgy_rest.info()"
   ]
  },
  {
   "cell_type": "code",
   "execution_count": 84,
   "metadata": {},
   "outputs": [],
   "source": [
    "# Exportación de dataset\n",
    "dfgy_rest.to_parquet('dfgy_rest.parquet')\n",
    "dfgy_rest.to_csv('dfgy_rest.csv', index=False)"
   ]
  },
  {
   "cell_type": "markdown",
   "metadata": {},
   "source": [
    "### Dataset USER"
   ]
  },
  {
   "cell_type": "code",
   "execution_count": 47,
   "metadata": {},
   "outputs": [
    {
     "name": "stdout",
     "output_type": "stream",
     "text": [
      "<class 'pandas.core.frame.DataFrame'>\n",
      "Index: 4756911 entries, 0 to 2651313\n",
      "Data columns (total 7 columns):\n",
      " #   Column         Dtype         \n",
      "---  ------         -----         \n",
      " 0   user_id        object        \n",
      " 1   reviews_count  int64         \n",
      " 2   date_start     datetime64[ns]\n",
      " 3   rating_avg     float64       \n",
      " 4   year           int32         \n",
      " 5   month          int32         \n",
      " 6   source         object        \n",
      "dtypes: datetime64[ns](1), float64(1), int32(2), int64(1), object(2)\n",
      "memory usage: 254.0+ MB\n",
      "None\n"
     ]
    },
    {
     "data": {
      "text/html": [
       "<div>\n",
       "<style scoped>\n",
       "    .dataframe tbody tr th:only-of-type {\n",
       "        vertical-align: middle;\n",
       "    }\n",
       "\n",
       "    .dataframe tbody tr th {\n",
       "        vertical-align: top;\n",
       "    }\n",
       "\n",
       "    .dataframe thead th {\n",
       "        text-align: right;\n",
       "    }\n",
       "</style>\n",
       "<table border=\"1\" class=\"dataframe\">\n",
       "  <thead>\n",
       "    <tr style=\"text-align: right;\">\n",
       "      <th></th>\n",
       "      <th>user_id</th>\n",
       "      <th>reviews_count</th>\n",
       "      <th>date_start</th>\n",
       "      <th>rating_avg</th>\n",
       "      <th>year</th>\n",
       "      <th>month</th>\n",
       "      <th>source</th>\n",
       "    </tr>\n",
       "  </thead>\n",
       "  <tbody>\n",
       "    <tr>\n",
       "      <th>1128031</th>\n",
       "      <td>107953587438817492992.0</td>\n",
       "      <td>1</td>\n",
       "      <td>2021-03-11 13:40:44.858</td>\n",
       "      <td>5.0</td>\n",
       "      <td>2021</td>\n",
       "      <td>3</td>\n",
       "      <td>google</td>\n",
       "    </tr>\n",
       "    <tr>\n",
       "      <th>1769586</th>\n",
       "      <td>112375036956338126848.0</td>\n",
       "      <td>1</td>\n",
       "      <td>2020-02-17 01:13:33.878</td>\n",
       "      <td>1.0</td>\n",
       "      <td>2020</td>\n",
       "      <td>2</td>\n",
       "      <td>google</td>\n",
       "    </tr>\n",
       "  </tbody>\n",
       "</table>\n",
       "</div>"
      ],
      "text/plain": [
       "                         user_id  reviews_count              date_start  \\\n",
       "1128031  107953587438817492992.0              1 2021-03-11 13:40:44.858   \n",
       "1769586  112375036956338126848.0              1 2020-02-17 01:13:33.878   \n",
       "\n",
       "         rating_avg  year  month  source  \n",
       "1128031         5.0  2021      3  google  \n",
       "1769586         1.0  2020      2  google  "
      ]
     },
     "execution_count": 47,
     "metadata": {},
     "output_type": "execute_result"
    }
   ],
   "source": [
    "dfgy_user = pd.concat([dfy_user, dfg_user])\n",
    "\n",
    "print(dfgy_user.info())\n",
    "dfgy_user.sample(2)"
   ]
  },
  {
   "cell_type": "code",
   "execution_count": 48,
   "metadata": {},
   "outputs": [
    {
     "data": {
      "text/plain": [
       "117700"
      ]
     },
     "execution_count": 48,
     "metadata": {},
     "output_type": "execute_result"
    }
   ],
   "source": [
    "dfgy_user['user_id'].duplicated().sum()"
   ]
  },
  {
   "cell_type": "code",
   "execution_count": 49,
   "metadata": {},
   "outputs": [
    {
     "data": {
      "text/plain": [
       "0"
      ]
     },
     "execution_count": 49,
     "metadata": {},
     "output_type": "execute_result"
    }
   ],
   "source": [
    "# Eliminación de duplicados\n",
    "dfgy_user = dfgy_user.drop_duplicates(subset=['user_id'], keep='first')\n",
    "dfgy_user['user_id'].duplicated().sum()"
   ]
  },
  {
   "cell_type": "code",
   "execution_count": 50,
   "metadata": {},
   "outputs": [
    {
     "name": "stdout",
     "output_type": "stream",
     "text": [
      "<class 'pandas.core.frame.DataFrame'>\n",
      "Index: 4639211 entries, 0 to 2651313\n",
      "Data columns (total 7 columns):\n",
      " #   Column         Dtype         \n",
      "---  ------         -----         \n",
      " 0   user_id        object        \n",
      " 1   reviews_count  int64         \n",
      " 2   date_start     datetime64[ns]\n",
      " 3   rating_avg     float64       \n",
      " 4   year           int32         \n",
      " 5   month          int32         \n",
      " 6   source         object        \n",
      "dtypes: datetime64[ns](1), float64(1), int32(2), int64(1), object(2)\n",
      "memory usage: 247.8+ MB\n"
     ]
    }
   ],
   "source": [
    "dfgy_user.info()"
   ]
  },
  {
   "cell_type": "code",
   "execution_count": 51,
   "metadata": {},
   "outputs": [],
   "source": [
    "# Exportación de dataset\n",
    "#dfgy_user['user_id'] = dfgy_user['user_id'].astype(str)\n",
    "#dfgy_user.to_parquet('dfgy_user.parquet')\n",
    "#dfgy_user.to_csv('dfgy_user.csv', index=False)"
   ]
  },
  {
   "cell_type": "markdown",
   "metadata": {},
   "source": [
    "### Dataset CHECKINS"
   ]
  },
  {
   "cell_type": "code",
   "execution_count": 52,
   "metadata": {},
   "outputs": [
    {
     "name": "stdout",
     "output_type": "stream",
     "text": [
      "<class 'pandas.core.frame.DataFrame'>\n",
      "Index: 13193101 entries, 0 to 4346286\n",
      "Data columns (total 5 columns):\n",
      " #   Column    Dtype         \n",
      "---  ------    -----         \n",
      " 0   source    object        \n",
      " 1   site_id   object        \n",
      " 2   datetime  datetime64[ns]\n",
      " 3   year      int32         \n",
      " 4   month     int32         \n",
      "dtypes: datetime64[ns](1), int32(2), object(2)\n",
      "memory usage: 503.3+ MB\n",
      "None\n"
     ]
    },
    {
     "data": {
      "text/html": [
       "<div>\n",
       "<style scoped>\n",
       "    .dataframe tbody tr th:only-of-type {\n",
       "        vertical-align: middle;\n",
       "    }\n",
       "\n",
       "    .dataframe tbody tr th {\n",
       "        vertical-align: top;\n",
       "    }\n",
       "\n",
       "    .dataframe thead th {\n",
       "        text-align: right;\n",
       "    }\n",
       "</style>\n",
       "<table border=\"1\" class=\"dataframe\">\n",
       "  <thead>\n",
       "    <tr style=\"text-align: right;\">\n",
       "      <th></th>\n",
       "      <th>source</th>\n",
       "      <th>site_id</th>\n",
       "      <th>datetime</th>\n",
       "      <th>year</th>\n",
       "      <th>month</th>\n",
       "    </tr>\n",
       "  </thead>\n",
       "  <tbody>\n",
       "    <tr>\n",
       "      <th>148108</th>\n",
       "      <td>google</td>\n",
       "      <td>0x80d6f5ef02ba28a5:0x8581b75f6e2f7cf3</td>\n",
       "      <td>2021-02-19 14:27:06.849</td>\n",
       "      <td>2021</td>\n",
       "      <td>2</td>\n",
       "    </tr>\n",
       "    <tr>\n",
       "      <th>2679199</th>\n",
       "      <td>yelp</td>\n",
       "      <td>4vak1jxwM6dQ-pNQQ5U8Vw</td>\n",
       "      <td>2017-05-24 20:19:05.000</td>\n",
       "      <td>2017</td>\n",
       "      <td>5</td>\n",
       "    </tr>\n",
       "  </tbody>\n",
       "</table>\n",
       "</div>"
      ],
      "text/plain": [
       "         source                                site_id  \\\n",
       "148108   google  0x80d6f5ef02ba28a5:0x8581b75f6e2f7cf3   \n",
       "2679199    yelp                 4vak1jxwM6dQ-pNQQ5U8Vw   \n",
       "\n",
       "                       datetime  year  month  \n",
       "148108  2021-02-19 14:27:06.849  2021      2  \n",
       "2679199 2017-05-24 20:19:05.000  2017      5  "
      ]
     },
     "execution_count": 52,
     "metadata": {},
     "output_type": "execute_result"
    }
   ],
   "source": [
    "# Filtrado\n",
    "dfy_checkins = dfy_checkins[dfy_checkins['site_id'].isin(dfgy_rest_uniques['business_id'])]\n",
    "\n",
    "# Union\n",
    "dfgy_checkins = pd.concat([dfy_checkins, dfg_checkins])\n",
    "\n",
    "dfgy_checkins = dfgy_checkins.drop_duplicates()\n",
    "print(dfgy_checkins.info())\n",
    "dfgy_checkins.sample(2)"
   ]
  },
  {
   "cell_type": "code",
   "execution_count": 53,
   "metadata": {},
   "outputs": [
    {
     "data": {
      "text/plain": [
       "0"
      ]
     },
     "execution_count": 53,
     "metadata": {},
     "output_type": "execute_result"
    }
   ],
   "source": [
    "dfgy_checkins.duplicated().sum()"
   ]
  },
  {
   "cell_type": "code",
   "execution_count": 54,
   "metadata": {},
   "outputs": [],
   "source": [
    "# Exportación de dataset\n",
    "#dfgy_checkins.to_parquet('dfgy_checkins.parquet')\n",
    "#dfgy_checkins.to_csv('dfgy_checkins.csv', index=False)"
   ]
  },
  {
   "cell_type": "markdown",
   "metadata": {},
   "source": [
    "### Dataset REVIEWS"
   ]
  },
  {
   "cell_type": "code",
   "execution_count": 55,
   "metadata": {},
   "outputs": [
    {
     "name": "stdout",
     "output_type": "stream",
     "text": [
      "<class 'pandas.core.frame.DataFrame'>\n",
      "Index: 5057754 entries, 0 to 4346286\n",
      "Data columns (total 9 columns):\n",
      " #   Column     Dtype         \n",
      "---  ------     -----         \n",
      " 0   source     object        \n",
      " 1   site_id    object        \n",
      " 2   user_id    object        \n",
      " 3   datetime   datetime64[ns]\n",
      " 4   month      int32         \n",
      " 5   year       int32         \n",
      " 6   rating     float64       \n",
      " 7   polarity   float64       \n",
      " 8   sentiment  int64         \n",
      "dtypes: datetime64[ns](1), float64(2), int32(2), int64(1), object(3)\n",
      "memory usage: 347.3+ MB\n",
      "None\n"
     ]
    },
    {
     "data": {
      "text/html": [
       "<div>\n",
       "<style scoped>\n",
       "    .dataframe tbody tr th:only-of-type {\n",
       "        vertical-align: middle;\n",
       "    }\n",
       "\n",
       "    .dataframe tbody tr th {\n",
       "        vertical-align: top;\n",
       "    }\n",
       "\n",
       "    .dataframe thead th {\n",
       "        text-align: right;\n",
       "    }\n",
       "</style>\n",
       "<table border=\"1\" class=\"dataframe\">\n",
       "  <thead>\n",
       "    <tr style=\"text-align: right;\">\n",
       "      <th></th>\n",
       "      <th>source</th>\n",
       "      <th>site_id</th>\n",
       "      <th>user_id</th>\n",
       "      <th>datetime</th>\n",
       "      <th>month</th>\n",
       "      <th>year</th>\n",
       "      <th>rating</th>\n",
       "      <th>polarity</th>\n",
       "      <th>sentiment</th>\n",
       "    </tr>\n",
       "  </thead>\n",
       "  <tbody>\n",
       "    <tr>\n",
       "      <th>2204524</th>\n",
       "      <td>google</td>\n",
       "      <td>0x89e2e6f8062ebb21:0x4b32e4baf5a3316c</td>\n",
       "      <td>115223138746939703296.0</td>\n",
       "      <td>2018-12-21 17:27:24.266</td>\n",
       "      <td>12</td>\n",
       "      <td>2018</td>\n",
       "      <td>5.0</td>\n",
       "      <td>0.6249</td>\n",
       "      <td>1</td>\n",
       "    </tr>\n",
       "    <tr>\n",
       "      <th>759809</th>\n",
       "      <td>google</td>\n",
       "      <td>0x88e7643952841ef9:0xb59c1daabfcb483d</td>\n",
       "      <td>108994923054430240768.0</td>\n",
       "      <td>2018-07-17 10:54:14.709</td>\n",
       "      <td>7</td>\n",
       "      <td>2018</td>\n",
       "      <td>4.0</td>\n",
       "      <td>0.4310</td>\n",
       "      <td>1</td>\n",
       "    </tr>\n",
       "  </tbody>\n",
       "</table>\n",
       "</div>"
      ],
      "text/plain": [
       "         source                                site_id  \\\n",
       "2204524  google  0x89e2e6f8062ebb21:0x4b32e4baf5a3316c   \n",
       "759809   google  0x88e7643952841ef9:0xb59c1daabfcb483d   \n",
       "\n",
       "                         user_id                datetime  month  year  rating  \\\n",
       "2204524  115223138746939703296.0 2018-12-21 17:27:24.266     12  2018     5.0   \n",
       "759809   108994923054430240768.0 2018-07-17 10:54:14.709      7  2018     4.0   \n",
       "\n",
       "         polarity  sentiment  \n",
       "2204524    0.6249          1  \n",
       "759809     0.4310          1  "
      ]
     },
     "execution_count": 55,
     "metadata": {},
     "output_type": "execute_result"
    }
   ],
   "source": [
    "# Filtrado\n",
    "dfy_reviews = dfy_reviews[dfy_reviews['site_id'].isin(dfgy_rest_uniques['business_id'])]\n",
    "\n",
    "# Union\n",
    "dfgy_reviews = pd.concat([dfy_reviews, dfg_reviews])\n",
    "\n",
    "dfgy_reviews = dfgy_reviews.drop_duplicates()\n",
    "print(dfgy_reviews.info())\n",
    "dfgy_reviews.sample(2)"
   ]
  },
  {
   "cell_type": "code",
   "execution_count": 56,
   "metadata": {},
   "outputs": [
    {
     "data": {
      "text/plain": [
       "0"
      ]
     },
     "execution_count": 56,
     "metadata": {},
     "output_type": "execute_result"
    }
   ],
   "source": [
    "dfgy_reviews.duplicated().sum()"
   ]
  },
  {
   "cell_type": "code",
   "execution_count": 57,
   "metadata": {},
   "outputs": [],
   "source": [
    "# Exportación de dataset\n",
    "dfgy_reviews['user_id'] = dfgy_reviews['user_id'].astype(str)\n",
    "#dfgy_reviews.to_parquet('dfgy_reviews.parquet')\n",
    "#dfgy_reviews.to_csv('dfgy_reviews.csv', index=False)"
   ]
  },
  {
   "cell_type": "markdown",
   "metadata": {},
   "source": [
    "### Dataset CATEGORIES"
   ]
  },
  {
   "cell_type": "code",
   "execution_count": 58,
   "metadata": {},
   "outputs": [
    {
     "name": "stdout",
     "output_type": "stream",
     "text": [
      "<class 'pandas.core.frame.DataFrame'>\n",
      "Index: 741804 entries, 0 to 274996\n",
      "Data columns (total 3 columns):\n",
      " #   Column      Non-Null Count   Dtype \n",
      "---  ------      --------------   ----- \n",
      " 0   source      741804 non-null  object\n",
      " 1   site_id     741804 non-null  object\n",
      " 2   categories  741804 non-null  object\n",
      "dtypes: object(3)\n",
      "memory usage: 22.6+ MB\n",
      "None\n"
     ]
    },
    {
     "data": {
      "text/html": [
       "<div>\n",
       "<style scoped>\n",
       "    .dataframe tbody tr th:only-of-type {\n",
       "        vertical-align: middle;\n",
       "    }\n",
       "\n",
       "    .dataframe tbody tr th {\n",
       "        vertical-align: top;\n",
       "    }\n",
       "\n",
       "    .dataframe thead th {\n",
       "        text-align: right;\n",
       "    }\n",
       "</style>\n",
       "<table border=\"1\" class=\"dataframe\">\n",
       "  <thead>\n",
       "    <tr style=\"text-align: right;\">\n",
       "      <th></th>\n",
       "      <th>source</th>\n",
       "      <th>site_id</th>\n",
       "      <th>categories</th>\n",
       "    </tr>\n",
       "  </thead>\n",
       "  <tbody>\n",
       "    <tr>\n",
       "      <th>144897</th>\n",
       "      <td>google</td>\n",
       "      <td>0x8629d0673334b469:0x12707e36645ff65e</td>\n",
       "      <td>Restaurant</td>\n",
       "    </tr>\n",
       "    <tr>\n",
       "      <th>114583</th>\n",
       "      <td>google</td>\n",
       "      <td>0x88874bd296d6d3a9:0x15fb02cfe90754fe</td>\n",
       "      <td>Family restaurant</td>\n",
       "    </tr>\n",
       "  </tbody>\n",
       "</table>\n",
       "</div>"
      ],
      "text/plain": [
       "        source                                site_id         categories\n",
       "144897  google  0x8629d0673334b469:0x12707e36645ff65e         Restaurant\n",
       "114583  google  0x88874bd296d6d3a9:0x15fb02cfe90754fe  Family restaurant"
      ]
     },
     "execution_count": 58,
     "metadata": {},
     "output_type": "execute_result"
    }
   ],
   "source": [
    "# Filtrado\n",
    "dfy_categories = dfy_categories[dfy_categories['site_id'].isin(dfgy_rest_uniques['business_id'])]\n",
    "\n",
    "# Union\n",
    "dfgy_categories = pd.concat([dfy_categories, dfg_categories])\n",
    "dfgy_categories = dfgy_categories.drop_duplicates()\n",
    "print(dfgy_categories.info())\n",
    "dfgy_categories.sample(2)"
   ]
  },
  {
   "cell_type": "code",
   "execution_count": 59,
   "metadata": {},
   "outputs": [
    {
     "data": {
      "text/plain": [
       "0"
      ]
     },
     "execution_count": 59,
     "metadata": {},
     "output_type": "execute_result"
    }
   ],
   "source": [
    "dfgy_categories.duplicated().sum()"
   ]
  },
  {
   "cell_type": "code",
   "execution_count": 60,
   "metadata": {},
   "outputs": [],
   "source": [
    "# Exportación de dataset\n",
    "#dfgy_categories.to_parquet('dfgy_categories.parquet')\n",
    "#dfgy_categories.to_csv('dfgy_categories.csv', index=False)"
   ]
  },
  {
   "cell_type": "markdown",
   "metadata": {},
   "source": [
    "### Dataset ATTRIBUTES"
   ]
  },
  {
   "cell_type": "code",
   "execution_count": 61,
   "metadata": {},
   "outputs": [
    {
     "name": "stdout",
     "output_type": "stream",
     "text": [
      "<class 'pandas.core.frame.DataFrame'>\n",
      "Index: 1290917 entries, 3 to 1741961\n",
      "Data columns (total 3 columns):\n",
      " #   Column      Non-Null Count    Dtype \n",
      "---  ------      --------------    ----- \n",
      " 0   site_id     1290917 non-null  object\n",
      " 1   attributes  1290917 non-null  object\n",
      " 2   source      1290917 non-null  object\n",
      "dtypes: object(3)\n",
      "memory usage: 39.4+ MB\n",
      "None\n"
     ]
    },
    {
     "data": {
      "text/html": [
       "<div>\n",
       "<style scoped>\n",
       "    .dataframe tbody tr th:only-of-type {\n",
       "        vertical-align: middle;\n",
       "    }\n",
       "\n",
       "    .dataframe tbody tr th {\n",
       "        vertical-align: top;\n",
       "    }\n",
       "\n",
       "    .dataframe thead th {\n",
       "        text-align: right;\n",
       "    }\n",
       "</style>\n",
       "<table border=\"1\" class=\"dataframe\">\n",
       "  <thead>\n",
       "    <tr style=\"text-align: right;\">\n",
       "      <th></th>\n",
       "      <th>site_id</th>\n",
       "      <th>attributes</th>\n",
       "      <th>source</th>\n",
       "    </tr>\n",
       "  </thead>\n",
       "  <tbody>\n",
       "    <tr>\n",
       "      <th>21457</th>\n",
       "      <td>6GbuHdYPuN3jcSBmFplpXA</td>\n",
       "      <td>Ambience</td>\n",
       "      <td>yelp</td>\n",
       "    </tr>\n",
       "    <tr>\n",
       "      <th>122113</th>\n",
       "      <td>oHywMcurU-Z94mLGRNL85A</td>\n",
       "      <td>WiFi</td>\n",
       "      <td>yelp</td>\n",
       "    </tr>\n",
       "  </tbody>\n",
       "</table>\n",
       "</div>"
      ],
      "text/plain": [
       "                       site_id attributes source\n",
       "21457   6GbuHdYPuN3jcSBmFplpXA   Ambience   yelp\n",
       "122113  oHywMcurU-Z94mLGRNL85A       WiFi   yelp"
      ]
     },
     "execution_count": 61,
     "metadata": {},
     "output_type": "execute_result"
    }
   ],
   "source": [
    "# Filtrado\n",
    "dfy_attributes = dfy_attributes[dfy_attributes['site_id'].isin(dfgy_rest_uniques['business_id'])]\n",
    "\n",
    "# Union\n",
    "dfgy_attributes = pd.concat([dfy_attributes, dfg_attributes])\n",
    "\n",
    "dfgy_attributes = dfgy_attributes.drop_duplicates()\n",
    "print(dfgy_attributes.info())\n",
    "dfgy_attributes.sample(2)"
   ]
  },
  {
   "cell_type": "code",
   "execution_count": 62,
   "metadata": {},
   "outputs": [],
   "source": [
    "# Exportación de dataset\n",
    "#dfgy_attributes.to_parquet('dfgy_attributes.parquet')\n",
    "#dfgy_attributes.to_csv('dfgy_attributes.csv', index=False)"
   ]
  },
  {
   "cell_type": "markdown",
   "metadata": {},
   "source": [
    "# Análisis de datos\n",
    "========================================================================================================="
   ]
  },
  {
   "cell_type": "markdown",
   "metadata": {},
   "source": [
    "## Análisis de plantel de restaurantes (oferentes)"
   ]
  },
  {
   "cell_type": "code",
   "execution_count": 63,
   "metadata": {},
   "outputs": [
    {
     "data": {
      "image/png": "[encoded data removed]",
      "text/plain": [
       "<Figure size 1400x400 with 1 Axes>"
      ]
     },
     "metadata": {},
     "output_type": "display_data"
    }
   ],
   "source": [
    "rest_evolution = dfgy_rest.groupby(['year']).agg({'site_id': 'count'}).reset_index()\n",
    "rest_evolution = rest_evolution.loc[(rest_evolution['year'] >= 2010) & (rest_evolution['year'] <= 2021)]\n",
    "\n",
    "plt.figure(figsize=(14, 4))\n",
    "sns.lineplot(data=rest_evolution, x='year', y='site_id')\n",
    "plt.title('Evolución de cantidad de locales por año')\n",
    "plt.xlabel('Año')\n",
    "plt.ylabel('Cantidad de locales')\n",
    "plt.grid(True)"
   ]
  },
  {
   "cell_type": "markdown",
   "metadata": {},
   "source": [
    "Conclusiones:\n",
    "* El gráfico muestra la cantidad de locales registrados en yelp y google a lo largo del tiempo, medido en años\n",
    "* Se observan claramente las fases de:\n",
    "    * Nacimiento, en 2010\n",
    "    * Evolución y desarrollo, entre 2012 y 2014\n",
    "    * Posicionamiento y estabilización en el mercado, entre 2015 y 2019 \n",
    "    * Involución, en 2020 -- esto último causado por el covid19"
   ]
  },
  {
   "cell_type": "markdown",
   "metadata": {},
   "source": [
    "## Análisis de performance de restaurantes"
   ]
  },
  {
   "cell_type": "code",
   "execution_count": 64,
   "metadata": {},
   "outputs": [
    {
     "data": {
      "image/png": "[encoded data removed]",
      "text/plain": [
       "<Figure size 1400x400 with 1 Axes>"
      ]
     },
     "metadata": {},
     "output_type": "display_data"
    }
   ],
   "source": [
    "rest_performance = dfgy_rest.groupby(['year']).agg({'rating_avg': 'mean'}).reset_index()\n",
    "rest_performance = rest_performance.loc[(rest_performance['year'] >= 2010) & (rest_performance['year'] <= 2021)]\n",
    "\n",
    "plt.figure(figsize=(14, 4))\n",
    "sns.lineplot(data=rest_performance, x='year', y='rating_avg')\n",
    "plt.title('Evolución de performance de locales por año')\n",
    "plt.xlabel('Año')\n",
    "plt.ylabel('Performance')\n",
    "plt.grid(True)"
   ]
  },
  {
   "cell_type": "markdown",
   "metadata": {},
   "source": []
  },
  {
   "cell_type": "markdown",
   "metadata": {},
   "source": [
    "Conclusión:\n",
    "* Se muestra el rating promedio a lo largo del tiempo de todos los locales registrados\n",
    "* Se observa una clara tendencia a la mejora del rating, lo cual se traduce en el involucramiento de los oferentes para cuidar su clientela. \n",
    "* Esta tendencia tiene un alto impacto social, ya que contribuye a instalar la mentalidad de satisfacción del cliente"
   ]
  },
  {
   "cell_type": "markdown",
   "metadata": {},
   "source": [
    "## Análisis de plantel de usuarios (clientes)"
   ]
  },
  {
   "cell_type": "code",
   "execution_count": 65,
   "metadata": {},
   "outputs": [
    {
     "data": {
      "image/png": "[encoded data removed]",
      "text/plain": [
       "<Figure size 1400x400 with 1 Axes>"
      ]
     },
     "metadata": {},
     "output_type": "display_data"
    }
   ],
   "source": [
    "user_evolution = dfgy_user.groupby(['year']).agg({'user_id': 'count'}).reset_index()\n",
    "user_evolution = user_evolution.loc[(user_evolution['year'] >= 2010) & (user_evolution['year'] <= 2021)]\n",
    "\n",
    "plt.figure(figsize=(14, 4))\n",
    "sns.lineplot(data=user_evolution, x='year', y='user_id')\n",
    "plt.title('Evolución de cantidad de usuarios por año')\n",
    "plt.xlabel('Año')\n",
    "plt.ylabel('Cantidad de usuarios')\n",
    "plt.grid(True)"
   ]
  },
  {
   "cell_type": "markdown",
   "metadata": {},
   "source": [
    "Conclusión:\n",
    "* Se muestran a lo largo del tiempo, la cantidad de usuarios registrados en yelp y google\n",
    "* Se observa una clara tendencia de aumento de usuarios\n",
    "* Se observa una clara disminución a partir de 2019, esto último causado por el fenómeno de covid19"
   ]
  },
  {
   "cell_type": "markdown",
   "metadata": {},
   "source": [
    "## Análisis de demanda"
   ]
  },
  {
   "cell_type": "code",
   "execution_count": 66,
   "metadata": {},
   "outputs": [
    {
     "data": {
      "image/png": "[encoded data removed]",
      "text/plain": [
       "<Figure size 1400x400 with 1 Axes>"
      ]
     },
     "metadata": {},
     "output_type": "display_data"
    }
   ],
   "source": [
    "checkins_evolution = dfgy_checkins.groupby(['year']).agg({'datetime': 'count'}).reset_index()\n",
    "checkins_evolution = checkins_evolution.loc[(checkins_evolution['year'] >= 2010) & (checkins_evolution['year'] <= 2021)]\n",
    "\n",
    "plt.figure(figsize=(14, 4))\n",
    "sns.lineplot(data=checkins_evolution, x='year', y='datetime')\n",
    "plt.title('Evolución de cantidad de checkins por año')\n",
    "plt.xlabel('Año')\n",
    "plt.ylabel('Cantidad de checkins')\n",
    "plt.grid(True)"
   ]
  },
  {
   "cell_type": "markdown",
   "metadata": {},
   "source": [
    "Conclusiones:\n",
    "* El gráfico muestra la cantidad de check-ins registrados en yelp a lo largo del tiempo, medido en años\n",
    "* La baja de actividad a partir del 2015 puede deberse a la fuerte entrada del mercado de delivery"
   ]
  },
  {
   "cell_type": "markdown",
   "metadata": {},
   "source": [
    "## Análisis de preferencias de usuario"
   ]
  },
  {
   "cell_type": "markdown",
   "metadata": {},
   "source": [
    "### Categorías top"
   ]
  },
  {
   "cell_type": "code",
   "execution_count": 67,
   "metadata": {},
   "outputs": [
    {
     "data": {
      "text/html": [
       "<div>\n",
       "<style scoped>\n",
       "    .dataframe tbody tr th:only-of-type {\n",
       "        vertical-align: middle;\n",
       "    }\n",
       "\n",
       "    .dataframe tbody tr th {\n",
       "        vertical-align: top;\n",
       "    }\n",
       "\n",
       "    .dataframe thead th {\n",
       "        text-align: right;\n",
       "    }\n",
       "</style>\n",
       "<table border=\"1\" class=\"dataframe\">\n",
       "  <thead>\n",
       "    <tr style=\"text-align: right;\">\n",
       "      <th></th>\n",
       "      <th>Id</th>\n",
       "      <th>source</th>\n",
       "      <th>categories</th>\n",
       "      <th>supracategory</th>\n",
       "      <th>category_edited</th>\n",
       "      <th>category_edited2</th>\n",
       "      <th>category_edited3</th>\n",
       "      <th>category_edited4</th>\n",
       "    </tr>\n",
       "  </thead>\n",
       "  <tbody>\n",
       "    <tr>\n",
       "      <th>0</th>\n",
       "      <td>1</td>\n",
       "      <td>yelp</td>\n",
       "      <td>Restaurants</td>\n",
       "      <td>general</td>\n",
       "      <td>Restaurants</td>\n",
       "      <td>Restaurants</td>\n",
       "      <td>restaurants</td>\n",
       "      <td>restaurant</td>\n",
       "    </tr>\n",
       "    <tr>\n",
       "      <th>1</th>\n",
       "      <td>2</td>\n",
       "      <td>yelp</td>\n",
       "      <td>Food</td>\n",
       "      <td>general</td>\n",
       "      <td>Food</td>\n",
       "      <td>Food</td>\n",
       "      <td>food</td>\n",
       "      <td>food</td>\n",
       "    </tr>\n",
       "    <tr>\n",
       "      <th>2</th>\n",
       "      <td>3</td>\n",
       "      <td>yelp</td>\n",
       "      <td>Burgers</td>\n",
       "      <td>burger</td>\n",
       "      <td>Burgers</td>\n",
       "      <td>Burgers</td>\n",
       "      <td>burgers</td>\n",
       "      <td>burgers</td>\n",
       "    </tr>\n",
       "    <tr>\n",
       "      <th>3</th>\n",
       "      <td>4</td>\n",
       "      <td>yelp</td>\n",
       "      <td>Fast Food</td>\n",
       "      <td>fast food</td>\n",
       "      <td>Fast Food</td>\n",
       "      <td>Fast Food</td>\n",
       "      <td>fast food</td>\n",
       "      <td>fast food</td>\n",
       "    </tr>\n",
       "    <tr>\n",
       "      <th>4</th>\n",
       "      <td>5</td>\n",
       "      <td>yelp</td>\n",
       "      <td>Sandwiches</td>\n",
       "      <td>burger</td>\n",
       "      <td>Sandwiches</td>\n",
       "      <td>Sandwiches</td>\n",
       "      <td>sandwiches</td>\n",
       "      <td>sandwiches</td>\n",
       "    </tr>\n",
       "    <tr>\n",
       "      <th>...</th>\n",
       "      <td>...</td>\n",
       "      <td>...</td>\n",
       "      <td>...</td>\n",
       "      <td>...</td>\n",
       "      <td>...</td>\n",
       "      <td>...</td>\n",
       "      <td>...</td>\n",
       "      <td>...</td>\n",
       "    </tr>\n",
       "    <tr>\n",
       "      <th>444</th>\n",
       "      <td>445</td>\n",
       "      <td>google</td>\n",
       "      <td>Yakiniku restaurant</td>\n",
       "      <td>regional</td>\n",
       "      <td>Yakiniku</td>\n",
       "      <td>Yakiniku</td>\n",
       "      <td>yakiniku</td>\n",
       "      <td>yakiniku</td>\n",
       "    </tr>\n",
       "    <tr>\n",
       "      <th>445</th>\n",
       "      <td>446</td>\n",
       "      <td>google</td>\n",
       "      <td>Yakisoba Restaurant</td>\n",
       "      <td>regional</td>\n",
       "      <td>Yakisoba</td>\n",
       "      <td>Yakisoba</td>\n",
       "      <td>yakisoba</td>\n",
       "      <td>yakisoba</td>\n",
       "    </tr>\n",
       "    <tr>\n",
       "      <th>446</th>\n",
       "      <td>447</td>\n",
       "      <td>google</td>\n",
       "      <td>Yakitori restaurant</td>\n",
       "      <td>regional</td>\n",
       "      <td>Yakitori</td>\n",
       "      <td>Yakitori</td>\n",
       "      <td>yakitori</td>\n",
       "      <td>yakitori</td>\n",
       "    </tr>\n",
       "    <tr>\n",
       "      <th>447</th>\n",
       "      <td>448</td>\n",
       "      <td>google</td>\n",
       "      <td>Yemenite restaurant</td>\n",
       "      <td>regional</td>\n",
       "      <td>Yemenite</td>\n",
       "      <td>Yemenite</td>\n",
       "      <td>yemenite</td>\n",
       "      <td>yemenite</td>\n",
       "    </tr>\n",
       "    <tr>\n",
       "      <th>448</th>\n",
       "      <td>449</td>\n",
       "      <td>google</td>\n",
       "      <td>Yucatan restaurant</td>\n",
       "      <td>regional</td>\n",
       "      <td>Yucatan</td>\n",
       "      <td>Yucatan</td>\n",
       "      <td>yucatan</td>\n",
       "      <td>yucatan</td>\n",
       "    </tr>\n",
       "  </tbody>\n",
       "</table>\n",
       "<p>449 rows × 8 columns</p>\n",
       "</div>"
      ],
      "text/plain": [
       "      Id  source           categories supracategory category_edited  \\\n",
       "0      1    yelp          Restaurants       general     Restaurants   \n",
       "1      2    yelp                 Food       general            Food   \n",
       "2      3    yelp              Burgers        burger         Burgers   \n",
       "3      4    yelp            Fast Food     fast food       Fast Food   \n",
       "4      5    yelp           Sandwiches        burger      Sandwiches   \n",
       "..   ...     ...                  ...           ...             ...   \n",
       "444  445  google  Yakiniku restaurant      regional       Yakiniku    \n",
       "445  446  google  Yakisoba Restaurant      regional       Yakisoba    \n",
       "446  447  google  Yakitori restaurant      regional       Yakitori    \n",
       "447  448  google  Yemenite restaurant      regional       Yemenite    \n",
       "448  449  google   Yucatan restaurant      regional        Yucatan    \n",
       "\n",
       "    category_edited2 category_edited3 category_edited4  \n",
       "0        Restaurants      restaurants       restaurant  \n",
       "1               Food             food             food  \n",
       "2            Burgers          burgers          burgers  \n",
       "3          Fast Food        fast food        fast food  \n",
       "4         Sandwiches       sandwiches       sandwiches  \n",
       "..               ...              ...              ...  \n",
       "444         Yakiniku         yakiniku         yakiniku  \n",
       "445         Yakisoba         yakisoba         yakisoba  \n",
       "446         Yakitori         yakitori         yakitori  \n",
       "447         Yemenite         yemenite         yemenite  \n",
       "448          Yucatan          yucatan          yucatan  \n",
       "\n",
       "[449 rows x 8 columns]"
      ]
     },
     "execution_count": 67,
     "metadata": {},
     "output_type": "execute_result"
    }
   ],
   "source": [
    "dfgy_categories_food_edited = pd.read_csv('dataset_gy_categories_food_edited.csv')\n",
    "dfgy_categories_food_edited"
   ]
  },
  {
   "cell_type": "code",
   "execution_count": 68,
   "metadata": {},
   "outputs": [
    {
     "data": {
      "text/html": [
       "<div>\n",
       "<style scoped>\n",
       "    .dataframe tbody tr th:only-of-type {\n",
       "        vertical-align: middle;\n",
       "    }\n",
       "\n",
       "    .dataframe tbody tr th {\n",
       "        vertical-align: top;\n",
       "    }\n",
       "\n",
       "    .dataframe thead th {\n",
       "        text-align: right;\n",
       "    }\n",
       "</style>\n",
       "<table border=\"1\" class=\"dataframe\">\n",
       "  <thead>\n",
       "    <tr style=\"text-align: right;\">\n",
       "      <th></th>\n",
       "      <th>source_x</th>\n",
       "      <th>site_id</th>\n",
       "      <th>categories</th>\n",
       "      <th>Id</th>\n",
       "      <th>source_y</th>\n",
       "      <th>supracategory</th>\n",
       "      <th>category_edited</th>\n",
       "      <th>category_edited2</th>\n",
       "      <th>category_edited3</th>\n",
       "      <th>category_edited4</th>\n",
       "    </tr>\n",
       "  </thead>\n",
       "  <tbody>\n",
       "    <tr>\n",
       "      <th>0</th>\n",
       "      <td>yelp</td>\n",
       "      <td>MTSW4McQd7CbVtyjqoe9mw</td>\n",
       "      <td>Food</td>\n",
       "      <td>2</td>\n",
       "      <td>yelp</td>\n",
       "      <td>general</td>\n",
       "      <td>Food</td>\n",
       "      <td>Food</td>\n",
       "      <td>food</td>\n",
       "      <td>food</td>\n",
       "    </tr>\n",
       "    <tr>\n",
       "      <th>1</th>\n",
       "      <td>yelp</td>\n",
       "      <td>mWMc6_wTdE0EUBKIGXDVfA</td>\n",
       "      <td>Food</td>\n",
       "      <td>2</td>\n",
       "      <td>yelp</td>\n",
       "      <td>general</td>\n",
       "      <td>Food</td>\n",
       "      <td>Food</td>\n",
       "      <td>food</td>\n",
       "      <td>food</td>\n",
       "    </tr>\n",
       "    <tr>\n",
       "      <th>2</th>\n",
       "      <td>yelp</td>\n",
       "      <td>CF33F8-E6oudUQ46HnavjQ</td>\n",
       "      <td>Food</td>\n",
       "      <td>2</td>\n",
       "      <td>yelp</td>\n",
       "      <td>general</td>\n",
       "      <td>Food</td>\n",
       "      <td>Food</td>\n",
       "      <td>food</td>\n",
       "      <td>food</td>\n",
       "    </tr>\n",
       "    <tr>\n",
       "      <th>3</th>\n",
       "      <td>yelp</td>\n",
       "      <td>bBDDEgkFA1Otx9Lfe7BZUQ</td>\n",
       "      <td>Food</td>\n",
       "      <td>2</td>\n",
       "      <td>yelp</td>\n",
       "      <td>general</td>\n",
       "      <td>Food</td>\n",
       "      <td>Food</td>\n",
       "      <td>food</td>\n",
       "      <td>food</td>\n",
       "    </tr>\n",
       "    <tr>\n",
       "      <th>4</th>\n",
       "      <td>yelp</td>\n",
       "      <td>eEOYSgkmpB90uNA7lDOMRA</td>\n",
       "      <td>Food</td>\n",
       "      <td>2</td>\n",
       "      <td>yelp</td>\n",
       "      <td>general</td>\n",
       "      <td>Food</td>\n",
       "      <td>Food</td>\n",
       "      <td>food</td>\n",
       "      <td>food</td>\n",
       "    </tr>\n",
       "    <tr>\n",
       "      <th>...</th>\n",
       "      <td>...</td>\n",
       "      <td>...</td>\n",
       "      <td>...</td>\n",
       "      <td>...</td>\n",
       "      <td>...</td>\n",
       "      <td>...</td>\n",
       "      <td>...</td>\n",
       "      <td>...</td>\n",
       "      <td>...</td>\n",
       "      <td>...</td>\n",
       "    </tr>\n",
       "    <tr>\n",
       "      <th>547859</th>\n",
       "      <td>google</td>\n",
       "      <td>0x80ec1fd3d42c9afb:0x90a7b30788182fc4</td>\n",
       "      <td>Sfiha restaurant</td>\n",
       "      <td>373</td>\n",
       "      <td>google</td>\n",
       "      <td>regional</td>\n",
       "      <td>Sfiha</td>\n",
       "      <td>Sfiha</td>\n",
       "      <td>sfiha</td>\n",
       "      <td>sfiha</td>\n",
       "    </tr>\n",
       "    <tr>\n",
       "      <th>547860</th>\n",
       "      <td>google</td>\n",
       "      <td>0x87e4f11cdb194ced:0x9f69c8ed25a28eb2</td>\n",
       "      <td>Mutton barbecue restaurant</td>\n",
       "      <td>312</td>\n",
       "      <td>google</td>\n",
       "      <td>regional</td>\n",
       "      <td>Mutton barbecue</td>\n",
       "      <td>Mutton barbecue</td>\n",
       "      <td>mutton barbecue</td>\n",
       "      <td>mutton barbecue</td>\n",
       "    </tr>\n",
       "    <tr>\n",
       "      <th>547861</th>\n",
       "      <td>google</td>\n",
       "      <td>0x89c2f9331071005d:0x308aad6c8c05becd</td>\n",
       "      <td>Mutton barbecue restaurant</td>\n",
       "      <td>312</td>\n",
       "      <td>google</td>\n",
       "      <td>regional</td>\n",
       "      <td>Mutton barbecue</td>\n",
       "      <td>Mutton barbecue</td>\n",
       "      <td>mutton barbecue</td>\n",
       "      <td>mutton barbecue</td>\n",
       "    </tr>\n",
       "    <tr>\n",
       "      <th>547862</th>\n",
       "      <td>google</td>\n",
       "      <td>0x80deaa0b093ecaa5:0xca75dfda7eacf203</td>\n",
       "      <td>Steamboat restaurant</td>\n",
       "      <td>398</td>\n",
       "      <td>google</td>\n",
       "      <td>regional</td>\n",
       "      <td>Steamboat</td>\n",
       "      <td>Steamboat</td>\n",
       "      <td>steamboat</td>\n",
       "      <td>steamboat</td>\n",
       "    </tr>\n",
       "    <tr>\n",
       "      <th>547863</th>\n",
       "      <td>google</td>\n",
       "      <td>0x8085808ff899b48d:0xe3766e273c9a594</td>\n",
       "      <td>Sundanese restaurant</td>\n",
       "      <td>402</td>\n",
       "      <td>google</td>\n",
       "      <td>regional</td>\n",
       "      <td>Sundanese</td>\n",
       "      <td>Sundanese</td>\n",
       "      <td>sundanese</td>\n",
       "      <td>sundanese</td>\n",
       "    </tr>\n",
       "  </tbody>\n",
       "</table>\n",
       "<p>547864 rows × 10 columns</p>\n",
       "</div>"
      ],
      "text/plain": [
       "       source_x                                site_id  \\\n",
       "0          yelp                 MTSW4McQd7CbVtyjqoe9mw   \n",
       "1          yelp                 mWMc6_wTdE0EUBKIGXDVfA   \n",
       "2          yelp                 CF33F8-E6oudUQ46HnavjQ   \n",
       "3          yelp                 bBDDEgkFA1Otx9Lfe7BZUQ   \n",
       "4          yelp                 eEOYSgkmpB90uNA7lDOMRA   \n",
       "...         ...                                    ...   \n",
       "547859   google  0x80ec1fd3d42c9afb:0x90a7b30788182fc4   \n",
       "547860   google  0x87e4f11cdb194ced:0x9f69c8ed25a28eb2   \n",
       "547861   google  0x89c2f9331071005d:0x308aad6c8c05becd   \n",
       "547862   google  0x80deaa0b093ecaa5:0xca75dfda7eacf203   \n",
       "547863   google   0x8085808ff899b48d:0xe3766e273c9a594   \n",
       "\n",
       "                        categories   Id source_y supracategory  \\\n",
       "0                             Food    2     yelp       general   \n",
       "1                             Food    2     yelp       general   \n",
       "2                             Food    2     yelp       general   \n",
       "3                             Food    2     yelp       general   \n",
       "4                             Food    2     yelp       general   \n",
       "...                            ...  ...      ...           ...   \n",
       "547859            Sfiha restaurant  373   google      regional   \n",
       "547860  Mutton barbecue restaurant  312   google      regional   \n",
       "547861  Mutton barbecue restaurant  312   google      regional   \n",
       "547862        Steamboat restaurant  398   google      regional   \n",
       "547863        Sundanese restaurant  402   google      regional   \n",
       "\n",
       "         category_edited category_edited2 category_edited3 category_edited4  \n",
       "0                   Food             Food             food             food  \n",
       "1                   Food             Food             food             food  \n",
       "2                   Food             Food             food             food  \n",
       "3                   Food             Food             food             food  \n",
       "4                   Food             Food             food             food  \n",
       "...                  ...              ...              ...              ...  \n",
       "547859            Sfiha             Sfiha            sfiha            sfiha  \n",
       "547860  Mutton barbecue   Mutton barbecue  mutton barbecue  mutton barbecue  \n",
       "547861  Mutton barbecue   Mutton barbecue  mutton barbecue  mutton barbecue  \n",
       "547862        Steamboat         Steamboat        steamboat        steamboat  \n",
       "547863        Sundanese         Sundanese        sundanese        sundanese  \n",
       "\n",
       "[547864 rows x 10 columns]"
      ]
     },
     "execution_count": 68,
     "metadata": {},
     "output_type": "execute_result"
    }
   ],
   "source": [
    "dfgy_categories_final = pd.merge(dfgy_categories, dfgy_categories_food_edited, on='categories')\n",
    "dfgy_categories_final"
   ]
  },
  {
   "cell_type": "code",
   "execution_count": 69,
   "metadata": {},
   "outputs": [
    {
     "data": {
      "text/plain": [
       "Text(0, 0.5, 'SUPRA-Categoría')"
      ]
     },
     "execution_count": 69,
     "metadata": {},
     "output_type": "execute_result"
    },
    {
     "data": {
      "image/png": "[encoded data removed]",
      "text/plain": [
       "<Figure size 1400x600 with 1 Axes>"
      ]
     },
     "metadata": {},
     "output_type": "display_data"
    }
   ],
   "source": [
    "dfgy_categories_count = dfgy_categories_final.groupby('supracategory')['site_id'].count().reset_index()\n",
    "dfgy_categories_count.rename(columns={'site_id':'categories_count'}, inplace=True)\n",
    "dfgy_categories_count.sort_values('categories_count', ascending=False, inplace=True)\n",
    "\n",
    "plt.figure(figsize=(14, 6))\n",
    "sns.barplot(x=\"categories_count\", y=\"supracategory\", data=dfgy_categories_count.head(20))\n",
    "plt.title('Preferencias de usuario por SUPRA-categoría')\n",
    "plt.ylabel('SUPRA-Categoría')"
   ]
  },
  {
   "cell_type": "markdown",
   "metadata": {},
   "source": [
    "Conclusión:\n",
    "* Se muestran las \"supra-categorías\" más buscadas\n",
    "* La característica denominada \"supra-categoría\" se ha incorporado en el modelo para ahondar en el conocimiento del usuario\n",
    "* Se observa que la supra-categoría de \"beverages\" que contiene bares y pubs, contiene a un tipo de producto que puede ser de interés para los clientes"
   ]
  },
  {
   "cell_type": "code",
   "execution_count": 70,
   "metadata": {},
   "outputs": [
    {
     "data": {
      "text/plain": [
       "Text(0, 0.5, 'Categoría')"
      ]
     },
     "execution_count": 70,
     "metadata": {},
     "output_type": "execute_result"
    },
    {
     "data": {
      "image/png": "[encoded data removed]",
      "text/plain": [
       "<Figure size 1400x600 with 1 Axes>"
      ]
     },
     "metadata": {},
     "output_type": "display_data"
    }
   ],
   "source": [
    "dfgy_categories_count = dfgy_categories_final.groupby('category_edited4')['site_id'].count().reset_index()\n",
    "dfgy_categories_count.rename(columns={'site_id':'categories_count'}, inplace=True)\n",
    "dfgy_categories_count.sort_values('categories_count', ascending=False, inplace=True)\n",
    "\n",
    "plt.figure(figsize=(14, 6))\n",
    "sns.barplot(x=\"categories_count\", y=\"category_edited4\", data=dfgy_categories_count.head(20))\n",
    "plt.title('Preferencias de usuario por categoría')\n",
    "plt.ylabel('Categoría')"
   ]
  },
  {
   "cell_type": "markdown",
   "metadata": {},
   "source": [
    "### Atributos top"
   ]
  },
  {
   "cell_type": "code",
   "execution_count": 71,
   "metadata": {},
   "outputs": [
    {
     "data": {
      "text/plain": [
       "Text(0, 0.5, 'Atributos')"
      ]
     },
     "execution_count": 71,
     "metadata": {},
     "output_type": "execute_result"
    },
    {
     "data": {
      "image/png": "[encoded data removed]",
      "text/plain": [
       "<Figure size 1400x600 with 1 Axes>"
      ]
     },
     "metadata": {},
     "output_type": "display_data"
    }
   ],
   "source": [
    "dfgy_attributes_count = dfgy_attributes.groupby('attributes')['site_id'].count().reset_index()\n",
    "dfgy_attributes_count.rename(columns={'site_id': 'attributes_count'}, inplace=True)\n",
    "dfgy_attributes_count.sort_values('attributes_count', ascending=False, inplace=True)\n",
    "dfgy_attributes_count\n",
    "\n",
    "\n",
    "plt.figure(figsize=(14, 6))\n",
    "sns.barplot(x=\"attributes_count\", y=\"attributes\", data=dfgy_attributes_count.head(20))\n",
    "plt.title('Preferencias de usuario por atributos')\n",
    "plt.ylabel('Atributos')"
   ]
  },
  {
   "cell_type": "markdown",
   "metadata": {},
   "source": [
    "Conclusión:\n",
    "* Se observan los atributos más valorados por el mercado de USA\n",
    "* El atributo líder es el que facilita el pago con tarjetas de crédito\n",
    "* Resulta de gran interés para la clientela que el establecimiento cuente con parking"
   ]
  },
  {
   "cell_type": "markdown",
   "metadata": {},
   "source": [
    "### Marcas top"
   ]
  },
  {
   "cell_type": "code",
   "execution_count": 72,
   "metadata": {},
   "outputs": [],
   "source": [
    "dfgy_names_top = pd.merge(dfgy_checkins, dfgy_rest[['site_id', 'name']], how='left', on='site_id')\n",
    "dfgy_names_top = dfgy_names_top.groupby('name')['site_id'].count().reset_index()"
   ]
  },
  {
   "cell_type": "code",
   "execution_count": 73,
   "metadata": {},
   "outputs": [
    {
     "data": {
      "text/plain": [
       "Text(0, 0.5, 'Marca')"
      ]
     },
     "execution_count": 73,
     "metadata": {},
     "output_type": "execute_result"
    },
    {
     "data": {
      "image/png": "[encoded data removed]",
      "text/plain": [
       "<Figure size 1400x600 with 1 Axes>"
      ]
     },
     "metadata": {},
     "output_type": "display_data"
    }
   ],
   "source": [
    "dfgy_names_top.rename(columns={'site_id': 'name_count'}, inplace=True)\n",
    "dfgy_names_top = dfgy_names_top.sort_values('name_count', ascending=False)\n",
    "\n",
    "plt.figure(figsize=(14, 6))\n",
    "sns.barplot(x=\"name_count\", y=\"name\", data=dfgy_names_top.head(20))\n",
    "plt.title('Preferencias de usuario por marca')\n",
    "plt.ylabel('Marca')"
   ]
  },
  {
   "cell_type": "markdown",
   "metadata": {},
   "source": [
    "Conclusiones:\n",
    "* Las dos marcas líderes como \"Reading Terminal Market\" y \"Datz\" ofrecen no solamente una experiencia gastronómica, sino un espacio social y de distensión. \"Reading Terminal Market\" es un espacio de paseo de compras y adyacentemente cuenta con un mercado gastronómico. Esta variable debe tenerse dentro de los atributos considerados para un sistema de recomendación\n",
    "* Las dos marcas que le siguen son cafeterías, y luego sigue una marca de comidas rápidas (\"McDonalds), para continuar con otros mercados de comida que ofrecen paseos\n",
    "* Lo notable de esto es que no hay ningún restaurante tradicional dentro de las primeras diez marcas "
   ]
  },
  {
   "cell_type": "markdown",
   "metadata": {},
   "source": [
    "### Locaciones top"
   ]
  },
  {
   "cell_type": "code",
   "execution_count": 74,
   "metadata": {},
   "outputs": [],
   "source": [
    "checkin_locations = pd.merge(dfgy_checkins, dfgy_rest[['site_id', 'state_city_postalcode']], on='site_id', how='inner')"
   ]
  },
  {
   "cell_type": "code",
   "execution_count": 75,
   "metadata": {},
   "outputs": [],
   "source": [
    "checkin_locations = checkin_locations.loc[(checkin_locations['year'] >= 2010) & (checkin_locations['year'] <= 2021)]"
   ]
  },
  {
   "cell_type": "code",
   "execution_count": 76,
   "metadata": {},
   "outputs": [
    {
     "data": {
      "text/html": [
       "<div>\n",
       "<style scoped>\n",
       "    .dataframe tbody tr th:only-of-type {\n",
       "        vertical-align: middle;\n",
       "    }\n",
       "\n",
       "    .dataframe tbody tr th {\n",
       "        vertical-align: top;\n",
       "    }\n",
       "\n",
       "    .dataframe thead th {\n",
       "        text-align: right;\n",
       "    }\n",
       "</style>\n",
       "<table border=\"1\" class=\"dataframe\">\n",
       "  <thead>\n",
       "    <tr style=\"text-align: right;\">\n",
       "      <th></th>\n",
       "      <th>source</th>\n",
       "      <th>site_id</th>\n",
       "      <th>datetime</th>\n",
       "      <th>year</th>\n",
       "      <th>month</th>\n",
       "      <th>state_city_postalcode</th>\n",
       "    </tr>\n",
       "  </thead>\n",
       "  <tbody>\n",
       "    <tr>\n",
       "      <th>7237400</th>\n",
       "      <td>yelp</td>\n",
       "      <td>naFGcne3L3jawX6dojSE4w</td>\n",
       "      <td>2020-03-08 22:35:36</td>\n",
       "      <td>2020</td>\n",
       "      <td>3</td>\n",
       "      <td>MO - St. Louis - 63104</td>\n",
       "    </tr>\n",
       "    <tr>\n",
       "      <th>2941992</th>\n",
       "      <td>yelp</td>\n",
       "      <td>JbxOWK2tMUkNmYPvjPBVoA</td>\n",
       "      <td>2019-03-05 23:25:02</td>\n",
       "      <td>2019</td>\n",
       "      <td>3</td>\n",
       "      <td>LA - New Orleans - 70130</td>\n",
       "    </tr>\n",
       "  </tbody>\n",
       "</table>\n",
       "</div>"
      ],
      "text/plain": [
       "        source                 site_id            datetime  year  month  \\\n",
       "7237400   yelp  naFGcne3L3jawX6dojSE4w 2020-03-08 22:35:36  2020      3   \n",
       "2941992   yelp  JbxOWK2tMUkNmYPvjPBVoA 2019-03-05 23:25:02  2019      3   \n",
       "\n",
       "            state_city_postalcode  \n",
       "7237400    MO - St. Louis - 63104  \n",
       "2941992  LA - New Orleans - 70130  "
      ]
     },
     "execution_count": 76,
     "metadata": {},
     "output_type": "execute_result"
    }
   ],
   "source": [
    "checkin_locations.sample(2)"
   ]
  },
  {
   "cell_type": "code",
   "execution_count": 77,
   "metadata": {},
   "outputs": [
    {
     "data": {
      "text/html": [
       "<div>\n",
       "<style scoped>\n",
       "    .dataframe tbody tr th:only-of-type {\n",
       "        vertical-align: middle;\n",
       "    }\n",
       "\n",
       "    .dataframe tbody tr th {\n",
       "        vertical-align: top;\n",
       "    }\n",
       "\n",
       "    .dataframe thead th {\n",
       "        text-align: right;\n",
       "    }\n",
       "</style>\n",
       "<table border=\"1\" class=\"dataframe\">\n",
       "  <thead>\n",
       "    <tr style=\"text-align: right;\">\n",
       "      <th></th>\n",
       "      <th>state_city_postalcode</th>\n",
       "      <th>checkins_count</th>\n",
       "    </tr>\n",
       "  </thead>\n",
       "  <tbody>\n",
       "    <tr>\n",
       "      <th>36925</th>\n",
       "      <td>LA - New Orleans - 70130</td>\n",
       "      <td>455589</td>\n",
       "    </tr>\n",
       "    <tr>\n",
       "      <th>81415</th>\n",
       "      <td>PA - Philadelphia - 19107</td>\n",
       "      <td>277818</td>\n",
       "    </tr>\n",
       "    <tr>\n",
       "      <th>10094</th>\n",
       "      <td>CA - Santa Barbara - 93101</td>\n",
       "      <td>233267</td>\n",
       "    </tr>\n",
       "    <tr>\n",
       "      <th>36912</th>\n",
       "      <td>LA - New Orleans - 70116</td>\n",
       "      <td>212483</td>\n",
       "    </tr>\n",
       "    <tr>\n",
       "      <th>87035</th>\n",
       "      <td>TN - Nashville - 37203</td>\n",
       "      <td>171068</td>\n",
       "    </tr>\n",
       "    <tr>\n",
       "      <th>81412</th>\n",
       "      <td>PA - Philadelphia - 19103</td>\n",
       "      <td>169875</td>\n",
       "    </tr>\n",
       "    <tr>\n",
       "      <th>81450</th>\n",
       "      <td>PA - Philadelphia - 19147</td>\n",
       "      <td>157774</td>\n",
       "    </tr>\n",
       "    <tr>\n",
       "      <th>36911</th>\n",
       "      <td>LA - New Orleans - 70115</td>\n",
       "      <td>130476</td>\n",
       "    </tr>\n",
       "    <tr>\n",
       "      <th>62024</th>\n",
       "      <td>NV - Reno - 89502</td>\n",
       "      <td>120782</td>\n",
       "    </tr>\n",
       "    <tr>\n",
       "      <th>31966</th>\n",
       "      <td>IN - Indianapolis - 46204</td>\n",
       "      <td>107256</td>\n",
       "    </tr>\n",
       "  </tbody>\n",
       "</table>\n",
       "</div>"
      ],
      "text/plain": [
       "            state_city_postalcode  checkins_count\n",
       "36925    LA - New Orleans - 70130          455589\n",
       "81415   PA - Philadelphia - 19107          277818\n",
       "10094  CA - Santa Barbara - 93101          233267\n",
       "36912    LA - New Orleans - 70116          212483\n",
       "87035      TN - Nashville - 37203          171068\n",
       "81412   PA - Philadelphia - 19103          169875\n",
       "81450   PA - Philadelphia - 19147          157774\n",
       "36911    LA - New Orleans - 70115          130476\n",
       "62024           NV - Reno - 89502          120782\n",
       "31966   IN - Indianapolis - 46204          107256"
      ]
     },
     "execution_count": 77,
     "metadata": {},
     "output_type": "execute_result"
    }
   ],
   "source": [
    "locations_top = checkin_locations.groupby(['state_city_postalcode']).agg({'datetime':'count'})\n",
    "locations_top.rename(columns={'datetime':'checkins_count'}, inplace=True)\n",
    "locations_top = locations_top.reset_index()\n",
    "locations_top = locations_top.sort_values(by='checkins_count', ascending=False)\n",
    "\n",
    "locations_top.head(10)"
   ]
  },
  {
   "cell_type": "code",
   "execution_count": 78,
   "metadata": {},
   "outputs": [
    {
     "data": {
      "text/plain": [
       "Text(0, 0.5, 'Locación')"
      ]
     },
     "execution_count": 78,
     "metadata": {},
     "output_type": "execute_result"
    },
    {
     "data": {
      "image/png": "[encoded data removed]",
      "text/plain": [
       "<Figure size 1400x600 with 1 Axes>"
      ]
     },
     "metadata": {},
     "output_type": "display_data"
    }
   ],
   "source": [
    "plt.figure(figsize=(14, 6))\n",
    "sns.barplot(x=\"checkins_count\", y=\"state_city_postalcode\", data=locations_top.head(10))\n",
    "plt.title('Preferencias de usuario por locación')\n",
    "plt.ylabel('Locación')"
   ]
  },
  {
   "cell_type": "markdown",
   "metadata": {},
   "source": [
    "Conclusiones:\n",
    "* El gráfico de barras horizontales muestra la cantidad acumulada de check-ins, por locación (Estado - Ciudad - Código postal)\n",
    "* Las locaciones líderes se encuentran en las ciudades de Philadelphia, New Orleans y Santa Barbara"
   ]
  },
  {
   "cell_type": "code",
   "execution_count": 79,
   "metadata": {},
   "outputs": [
    {
     "data": {
      "image/png": "[encoded data removed]",
      "text/plain": [
       "<Figure size 1200x800 with 2 Axes>"
      ]
     },
     "metadata": {},
     "output_type": "display_data"
    }
   ],
   "source": [
    "locations_top10 = locations_top.head(20)\n",
    "locations_top_evol = pd.merge(checkin_locations, locations_top10, on='state_city_postalcode')\n",
    "locations_top_evol_map = locations_top_evol.pivot_table(index='state_city_postalcode', columns='year', values='checkins_count', aggfunc='max')\n",
    "\n",
    "plt.figure(figsize=(12, 8))\n",
    "sns.heatmap(locations_top_evol_map, cmap='YlOrRd', linewidths=0.5, linecolor='gray')\n",
    "plt.title('Evolución de preferencias de locación')\n",
    "plt.xlabel('Año')\n",
    "plt.ylabel('Locación')\n",
    "plt.yticks(rotation=0)\n",
    "plt.show()"
   ]
  },
  {
   "cell_type": "markdown",
   "metadata": {},
   "source": [
    "Conclusiones:\n",
    "* El mapa de calor muestra la evolución anual de los check-ins, por locación\n",
    "* Se muestran las 20 locaciones más visitadas\n",
    "* Las ciudades de Philadelphia, New Orleans y Santa Bárbara lideran el podio en diversos sitios"
   ]
  },
  {
   "cell_type": "markdown",
   "metadata": {},
   "source": [
    "## Análisis de participación del usuario"
   ]
  },
  {
   "cell_type": "markdown",
   "metadata": {},
   "source": [
    "### Involucramiento"
   ]
  },
  {
   "cell_type": "code",
   "execution_count": 80,
   "metadata": {},
   "outputs": [
    {
     "data": {
      "text/html": [
       "<div>\n",
       "<style scoped>\n",
       "    .dataframe tbody tr th:only-of-type {\n",
       "        vertical-align: middle;\n",
       "    }\n",
       "\n",
       "    .dataframe tbody tr th {\n",
       "        vertical-align: top;\n",
       "    }\n",
       "\n",
       "    .dataframe thead th {\n",
       "        text-align: right;\n",
       "    }\n",
       "</style>\n",
       "<table border=\"1\" class=\"dataframe\">\n",
       "  <thead>\n",
       "    <tr style=\"text-align: right;\">\n",
       "      <th></th>\n",
       "      <th>year</th>\n",
       "      <th>reviews_count</th>\n",
       "      <th>users_count</th>\n",
       "      <th>sites_count</th>\n",
       "      <th>reviews_per_user</th>\n",
       "      <th>reviews_per_site</th>\n",
       "    </tr>\n",
       "  </thead>\n",
       "  <tbody>\n",
       "    <tr>\n",
       "      <th>8</th>\n",
       "      <td>2010</td>\n",
       "      <td>20627</td>\n",
       "      <td>12087</td>\n",
       "      <td>8892</td>\n",
       "      <td>1.706544</td>\n",
       "      <td>2.319726</td>\n",
       "    </tr>\n",
       "    <tr>\n",
       "      <th>9</th>\n",
       "      <td>2011</td>\n",
       "      <td>36781</td>\n",
       "      <td>22105</td>\n",
       "      <td>14868</td>\n",
       "      <td>1.663922</td>\n",
       "      <td>2.473836</td>\n",
       "    </tr>\n",
       "    <tr>\n",
       "      <th>10</th>\n",
       "      <td>2012</td>\n",
       "      <td>47374</td>\n",
       "      <td>30459</td>\n",
       "      <td>20147</td>\n",
       "      <td>1.555337</td>\n",
       "      <td>2.351417</td>\n",
       "    </tr>\n",
       "    <tr>\n",
       "      <th>11</th>\n",
       "      <td>2013</td>\n",
       "      <td>64513</td>\n",
       "      <td>42954</td>\n",
       "      <td>25244</td>\n",
       "      <td>1.501909</td>\n",
       "      <td>2.555578</td>\n",
       "    </tr>\n",
       "    <tr>\n",
       "      <th>12</th>\n",
       "      <td>2014</td>\n",
       "      <td>85133</td>\n",
       "      <td>60275</td>\n",
       "      <td>30285</td>\n",
       "      <td>1.412410</td>\n",
       "      <td>2.811062</td>\n",
       "    </tr>\n",
       "    <tr>\n",
       "      <th>13</th>\n",
       "      <td>2015</td>\n",
       "      <td>131421</td>\n",
       "      <td>96712</td>\n",
       "      <td>45792</td>\n",
       "      <td>1.358890</td>\n",
       "      <td>2.869955</td>\n",
       "    </tr>\n",
       "    <tr>\n",
       "      <th>14</th>\n",
       "      <td>2016</td>\n",
       "      <td>300939</td>\n",
       "      <td>224901</td>\n",
       "      <td>80914</td>\n",
       "      <td>1.338095</td>\n",
       "      <td>3.719245</td>\n",
       "    </tr>\n",
       "    <tr>\n",
       "      <th>15</th>\n",
       "      <td>2017</td>\n",
       "      <td>666497</td>\n",
       "      <td>526146</td>\n",
       "      <td>107830</td>\n",
       "      <td>1.266753</td>\n",
       "      <td>6.180998</td>\n",
       "    </tr>\n",
       "    <tr>\n",
       "      <th>16</th>\n",
       "      <td>2018</td>\n",
       "      <td>1037783</td>\n",
       "      <td>828240</td>\n",
       "      <td>119870</td>\n",
       "      <td>1.252998</td>\n",
       "      <td>8.657571</td>\n",
       "    </tr>\n",
       "    <tr>\n",
       "      <th>17</th>\n",
       "      <td>2019</td>\n",
       "      <td>1284198</td>\n",
       "      <td>998926</td>\n",
       "      <td>125015</td>\n",
       "      <td>1.285579</td>\n",
       "      <td>10.272351</td>\n",
       "    </tr>\n",
       "    <tr>\n",
       "      <th>18</th>\n",
       "      <td>2020</td>\n",
       "      <td>782814</td>\n",
       "      <td>647227</td>\n",
       "      <td>117638</td>\n",
       "      <td>1.209489</td>\n",
       "      <td>6.654431</td>\n",
       "    </tr>\n",
       "    <tr>\n",
       "      <th>19</th>\n",
       "      <td>2021</td>\n",
       "      <td>595164</td>\n",
       "      <td>499215</td>\n",
       "      <td>107152</td>\n",
       "      <td>1.192200</td>\n",
       "      <td>5.554390</td>\n",
       "    </tr>\n",
       "  </tbody>\n",
       "</table>\n",
       "</div>"
      ],
      "text/plain": [
       "    year  reviews_count  users_count  sites_count  reviews_per_user  \\\n",
       "8   2010          20627        12087         8892          1.706544   \n",
       "9   2011          36781        22105        14868          1.663922   \n",
       "10  2012          47374        30459        20147          1.555337   \n",
       "11  2013          64513        42954        25244          1.501909   \n",
       "12  2014          85133        60275        30285          1.412410   \n",
       "13  2015         131421        96712        45792          1.358890   \n",
       "14  2016         300939       224901        80914          1.338095   \n",
       "15  2017         666497       526146       107830          1.266753   \n",
       "16  2018        1037783       828240       119870          1.252998   \n",
       "17  2019        1284198       998926       125015          1.285579   \n",
       "18  2020         782814       647227       117638          1.209489   \n",
       "19  2021         595164       499215       107152          1.192200   \n",
       "\n",
       "    reviews_per_site  \n",
       "8           2.319726  \n",
       "9           2.473836  \n",
       "10          2.351417  \n",
       "11          2.555578  \n",
       "12          2.811062  \n",
       "13          2.869955  \n",
       "14          3.719245  \n",
       "15          6.180998  \n",
       "16          8.657571  \n",
       "17         10.272351  \n",
       "18          6.654431  \n",
       "19          5.554390  "
      ]
     },
     "execution_count": 80,
     "metadata": {},
     "output_type": "execute_result"
    }
   ],
   "source": [
    "customer_engagement = dfgy_reviews.groupby(['year']).agg({'datetime':'nunique', 'user_id':'nunique', 'site_id':'nunique'}).reset_index()\n",
    "customer_engagement.rename(columns={'datetime':'reviews_count', 'user_id':'users_count', 'site_id':'sites_count'}, inplace=True)\n",
    "customer_engagement['reviews_per_user'] = customer_engagement['reviews_count'] / customer_engagement['users_count']\n",
    "customer_engagement['reviews_per_site'] = customer_engagement['reviews_count'] / customer_engagement['sites_count']\n",
    "\n",
    "customer_engagement = customer_engagement.loc[(customer_engagement['year'] >= 2010) & (customer_engagement['year'] <= 2021)]\n",
    "customer_engagement['year'] = customer_engagement['year'].astype(int)\n",
    "\n",
    "customer_engagement"
   ]
  },
  {
   "cell_type": "code",
   "execution_count": 81,
   "metadata": {},
   "outputs": [
    {
     "data": {
      "image/png": "[encoded data removed]",
      "text/plain": [
       "<Figure size 1400x600 with 1 Axes>"
      ]
     },
     "metadata": {},
     "output_type": "display_data"
    }
   ],
   "source": [
    "plt.figure(figsize=(14, 6))\n",
    "\n",
    "sns.lineplot(customer_engagement, x='year', y='reviews_per_user', label='Reviews per user')\n",
    "sns.lineplot(customer_engagement, x='year', y='reviews_per_site', label='Reviews per site')\n",
    "\n",
    "plt.title('Evolución de Cantidad de Reseñas por Año')\n",
    "plt.xlabel('Año')\n",
    "plt.ylabel('Reseñas')\n",
    "plt.legend()\n",
    "plt.grid(True)\n",
    "\n",
    "plt.show()"
   ]
  },
  {
   "cell_type": "markdown",
   "metadata": {},
   "source": [
    "Conclusión:\n",
    "* Se muestran los promedios de reseñas por usuario y por local, respectivamente\n",
    "* Se observa una leve tendencia a disminuir la cantidad de reseñas promedio por usuario\n",
    "* Se obswerva una amplica tendencia a recibir más reseñas por local"
   ]
  },
  {
   "cell_type": "markdown",
   "metadata": {},
   "source": [
    "### Satisfacción"
   ]
  },
  {
   "cell_type": "code",
   "execution_count": 82,
   "metadata": {},
   "outputs": [
    {
     "data": {
      "text/html": [
       "<div>\n",
       "<style scoped>\n",
       "    .dataframe tbody tr th:only-of-type {\n",
       "        vertical-align: middle;\n",
       "    }\n",
       "\n",
       "    .dataframe tbody tr th {\n",
       "        vertical-align: top;\n",
       "    }\n",
       "\n",
       "    .dataframe thead th {\n",
       "        text-align: right;\n",
       "    }\n",
       "</style>\n",
       "<table border=\"1\" class=\"dataframe\">\n",
       "  <thead>\n",
       "    <tr style=\"text-align: right;\">\n",
       "      <th></th>\n",
       "      <th>year</th>\n",
       "      <th>rating</th>\n",
       "      <th>polarity</th>\n",
       "    </tr>\n",
       "  </thead>\n",
       "  <tbody>\n",
       "    <tr>\n",
       "      <th>8</th>\n",
       "      <td>2010</td>\n",
       "      <td>3.734976</td>\n",
       "      <td>0.731821</td>\n",
       "    </tr>\n",
       "    <tr>\n",
       "      <th>9</th>\n",
       "      <td>2011</td>\n",
       "      <td>3.731350</td>\n",
       "      <td>0.697699</td>\n",
       "    </tr>\n",
       "    <tr>\n",
       "      <th>10</th>\n",
       "      <td>2012</td>\n",
       "      <td>3.762938</td>\n",
       "      <td>0.683471</td>\n",
       "    </tr>\n",
       "    <tr>\n",
       "      <th>11</th>\n",
       "      <td>2013</td>\n",
       "      <td>3.758628</td>\n",
       "      <td>0.676473</td>\n",
       "    </tr>\n",
       "    <tr>\n",
       "      <th>12</th>\n",
       "      <td>2014</td>\n",
       "      <td>3.784720</td>\n",
       "      <td>0.664070</td>\n",
       "    </tr>\n",
       "    <tr>\n",
       "      <th>13</th>\n",
       "      <td>2015</td>\n",
       "      <td>3.816212</td>\n",
       "      <td>0.622458</td>\n",
       "    </tr>\n",
       "    <tr>\n",
       "      <th>14</th>\n",
       "      <td>2016</td>\n",
       "      <td>3.967301</td>\n",
       "      <td>0.564790</td>\n",
       "    </tr>\n",
       "    <tr>\n",
       "      <th>15</th>\n",
       "      <td>2017</td>\n",
       "      <td>4.102170</td>\n",
       "      <td>0.546677</td>\n",
       "    </tr>\n",
       "    <tr>\n",
       "      <th>16</th>\n",
       "      <td>2018</td>\n",
       "      <td>4.156971</td>\n",
       "      <td>0.547505</td>\n",
       "    </tr>\n",
       "    <tr>\n",
       "      <th>17</th>\n",
       "      <td>2019</td>\n",
       "      <td>4.201548</td>\n",
       "      <td>0.549258</td>\n",
       "    </tr>\n",
       "    <tr>\n",
       "      <th>18</th>\n",
       "      <td>2020</td>\n",
       "      <td>4.259600</td>\n",
       "      <td>0.571561</td>\n",
       "    </tr>\n",
       "    <tr>\n",
       "      <th>19</th>\n",
       "      <td>2021</td>\n",
       "      <td>4.235957</td>\n",
       "      <td>0.587618</td>\n",
       "    </tr>\n",
       "  </tbody>\n",
       "</table>\n",
       "</div>"
      ],
      "text/plain": [
       "    year    rating  polarity\n",
       "8   2010  3.734976  0.731821\n",
       "9   2011  3.731350  0.697699\n",
       "10  2012  3.762938  0.683471\n",
       "11  2013  3.758628  0.676473\n",
       "12  2014  3.784720  0.664070\n",
       "13  2015  3.816212  0.622458\n",
       "14  2016  3.967301  0.564790\n",
       "15  2017  4.102170  0.546677\n",
       "16  2018  4.156971  0.547505\n",
       "17  2019  4.201548  0.549258\n",
       "18  2020  4.259600  0.571561\n",
       "19  2021  4.235957  0.587618"
      ]
     },
     "execution_count": 82,
     "metadata": {},
     "output_type": "execute_result"
    }
   ],
   "source": [
    "customer_satisfaction = dfgy_reviews.groupby(['year']).agg({'rating':'mean', 'polarity':'mean'}).reset_index()\n",
    "customer_satisfaction = customer_satisfaction.loc[(customer_satisfaction['year'] >= 2010) & (customer_satisfaction['year'] <= 2021)]\n",
    "\n",
    "customer_satisfaction"
   ]
  },
  {
   "cell_type": "code",
   "execution_count": 83,
   "metadata": {},
   "outputs": [
    {
     "data": {
      "image/png": "[encoded data removed]",
      "text/plain": [
       "<Figure size 1200x600 with 2 Axes>"
      ]
     },
     "metadata": {},
     "output_type": "display_data"
    }
   ],
   "source": [
    "plt.figure(figsize=(12, 6))\n",
    "\n",
    "ax1 = sns.lineplot(data=customer_satisfaction, x='year', y='rating', color='blue', marker='o', label='Rating')\n",
    "\n",
    "plt.xlabel('Año')\n",
    "ax1.set_ylabel('Rating', color='blue')\n",
    "plt.title('Evolución de Rating y Polarity por Año')\n",
    "plt.grid(True)\n",
    "\n",
    "ax2 = ax1.twinx()\n",
    "sns.lineplot(data=customer_satisfaction, x='year', y='polarity', color='red', marker='s', label='Polarity', ax=ax2)\n",
    "ax2.set_ylabel('Polarity', color='red')\n",
    "\n",
    "ax1.legend(loc='lower left')\n",
    "ax2.legend(loc='upper left')\n",
    "\n",
    "plt.show()"
   ]
  },
  {
   "cell_type": "markdown",
   "metadata": {},
   "source": [
    "Concllusión:\n",
    "* Se muestra la evolución anual de promedios de rating y polaridad del análisis de sentimientos preliminar\n",
    "* SE observa claramente la mejora de la satisfacción del cliente a lo largo del tiempo\n",
    "* Se observa una disminución e inicio de estabilización de la polaridad, lo cual es un indicador de una participación activa y proactiva del usuario en las reseñas"
   ]
  },
  {
   "cell_type": "markdown",
   "metadata": {},
   "source": [
    "# Conclusiones\n",
    "===================================================================================================================================="
   ]
  },
  {
   "cell_type": "markdown",
   "metadata": {},
   "source": [
    "## FASE DE ETL (EXTRACTION, TRANSFORMATION AND LOAD OF DATA)"
   ]
  },
  {
   "cell_type": "markdown",
   "metadata": {},
   "source": [
    "Debido a la gran cantidad de información y necesidad de procesamiento, la fase de ETL se realizó en cinco archivos diferentes:\n",
    "* DS_PjFinal_yelp1_sites_checkins_users\n",
    "* DS_PjFinal_yelp2_reviews\n",
    "* DS_PjFinal_google1_sites\n",
    "* DS_PjFinal_google2_reviews\n",
    "* DS_PjFinal_ETL_SitesUniques"
   ]
  },
  {
   "cell_type": "markdown",
   "metadata": {},
   "source": [
    "### Diagrama simple de estructura de datos"
   ]
  },
  {
   "cell_type": "markdown",
   "metadata": {},
   "source": [
    "<div style=\"text-align:center;\">\n",
    "    <img src=\"/Users/Juan/Documents/Academics/DataScience/PjFinal/DataStructureSimple.png\" alt=\"Texto alternativo\" width=\"1000\" height=\"1000\">\n",
    "</div>"
   ]
  },
  {
   "cell_type": "markdown",
   "metadata": {},
   "source": [
    "### Diagrama completo de estructura de datos"
   ]
  },
  {
   "cell_type": "markdown",
   "metadata": {},
   "source": [
    "<div style=\"text-align:center;\">\n",
    "    <img src=\"/Users/Juan/Documents/Academics/DataScience/PjFinal/DataStructureComplete.png\" alt=\"Texto alternativo\" width=\"1000\" height=\"1000\">\n",
    "</div>"
   ]
  },
  {
   "cell_type": "markdown",
   "metadata": {},
   "source": [
    "## FASE DE EDA (EXPLORATORY DATA ANALYSIS) "
   ]
  },
  {
   "cell_type": "markdown",
   "metadata": {},
   "source": [
    "El EDA se ha basado en el análisis de oferta y demanda del dataset conjunto de Yelp y Google, así como el análisis de preferencias de usuarios, en función de conocer los primeros datos del mercado y buscar oportunidades y soluciones para propuesta del modelo de machine learning a presentar como prooducto final."
   ]
  },
  {
   "cell_type": "markdown",
   "metadata": {},
   "source": [
    "### FASE DE PRE-PROCESAMIENTO DE DATOS"
   ]
  },
  {
   "cell_type": "markdown",
   "metadata": {},
   "source": [
    "El pre-procesamiento de datos consistió en las siguientes tareas:\n",
    "* Gestión de tipos de datos\n",
    "* Gestión de valores nulos\n",
    "* Gestión de valores duplicados\n",
    "* Gestión de características: eliminación de campos innecesarios y agregado de campos auxiliares \n",
    "\n",
    "Observaciones respecto al pre-procesamiento de datos:\n",
    "* Se ha utilizado un dataset de códigos postales para corregir el dataset original de \"business\", ya que se detectó un error en el dataset original. \n",
    "* No se encontraron grandes cantidades de valores nulos, y no se encontraron duplicados que afecten a los datos. \n",
    "* Se modificaron algunos tipos de datos, sobre todo de aquellos campos de valor tipo \"fecha\"\n",
    "* Se agregaron algunas características o campos auxiliares para facilitar el posterior agrupamiento y visualización de datos\n",
    "* En particular, las modificaciones específicas que se han realizado son las siguientes:\n",
    "    * Corrección de zip codes\n",
    "    * Creación de precios en \n",
    "    * Creación de campo de \"supracategorías\" para agrupamiento de categorías de comida\n",
    "    * Creación de listado único de restaurantes, combinando listado de ambas fuentes (Yelp y Google)"
   ]
  },
  {
   "cell_type": "markdown",
   "metadata": {},
   "source": [
    "### FASE DE ANALISIS DE DATOS"
   ]
  },
  {
   "cell_type": "markdown",
   "metadata": {},
   "source": [
    "Respecto al análisis de datos, se ha considerado estudiar el mercado a través de la oferta y demanda, y las preferencias del usuario. \n",
    "* Para valorizar la oferta, se ha considerado la cantidad de locales registrados en yelp\n",
    "* Para valorizar la demanda, se ha considerado la cantidad de check-ins registrados\n",
    "* Para conocer las preferencias del usuario, se consideran también los check-ins agrupados por categorías, marcas y locaciones"
   ]
  },
  {
   "cell_type": "markdown",
   "metadata": {},
   "source": [
    "### CONSIDERACIONES PARA EL PRODUCTO FINAL"
   ]
  },
  {
   "cell_type": "markdown",
   "metadata": {},
   "source": [
    "El interés específico de este análisis deviene en la definición de inputs y outputs a considerar en el modelo de Machine Learning, para luego definir los KPIs del proyecto, dashboard y producto final a presentar al cliente.\n",
    "\n",
    "Inputs a considerar:\n",
    "* Supra-categorías de comida\n",
    "* Categorías de comida\n",
    "* Atributos\n",
    "* Marcas\n",
    "* Locaciones (estado, ciudad y código postal)\n",
    "* Precio\n",
    "\n",
    "Outputs a considerar:\n",
    "* Proyección de ventas\n",
    "* Proyección de check-ins\n",
    "* Proyección de cantidad de reseñas\n",
    "* Proyección de valoracióin de reseñas\n",
    "* Proyección de satisfacción del cliente\n",
    "* Proyección de performance del site"
   ]
  }
 ],
 "metadata": {
  "kernelspec": {
   "display_name": "Python 3",
   "language": "python",
   "name": "python3"
  },
  "language_info": {
   "codemirror_mode": {
    "name": "ipython",
    "version": 3
   },
   "file_extension": ".py",
   "mimetype": "text/x-python",
   "name": "python",
   "nbconvert_exporter": "python",
   "pygments_lexer": "ipython3",
   "version": "3.12.0"
  }
 },
 "nbformat": 4,
 "nbformat_minor": 2
}
