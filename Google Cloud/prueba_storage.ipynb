{
 "cells": [
  {
   "cell_type": "markdown",
   "metadata": {},
   "source": [
    "# Prueba una"
   ]
  },
  {
   "cell_type": "code",
   "execution_count": 14,
   "metadata": {},
   "outputs": [],
   "source": [
    "import pandas as pd\n",
    "import pyarrow.parquet as pq\n",
    "import pyarrow as pa\n",
    "from google.cloud import storage\n",
    "import os\n"
   ]
  },
  {
   "cell_type": "code",
   "execution_count": 9,
   "metadata": {},
   "outputs": [],
   "source": [
    "sites_atributos = pd.read_parquet(\"../Data/dfgy_attributes.parquet\")"
   ]
  },
  {
   "cell_type": "code",
   "execution_count": 10,
   "metadata": {},
   "outputs": [
    {
     "data": {
      "text/plain": [
       "array(['RestaurantsDelivery', 'OutdoorSeating',\n",
       "       'BusinessAcceptsCreditCards', 'BusinessParking', 'BikeParking',\n",
       "       'RestaurantsPriceRange2', 'RestaurantsTakeOut',\n",
       "       'ByAppointmentOnly', 'WiFi', 'Alcohol', 'Caters',\n",
       "       'WheelchairAccessible', 'GoodForKids', 'RestaurantsAttire',\n",
       "       'RestaurantsReservations', 'Ambience', 'CoatCheck', 'DogsAllowed',\n",
       "       'RestaurantsTableService', 'RestaurantsGoodForGroups', 'HasTV',\n",
       "       'HappyHour', 'DriveThru', 'NoiseLevel', 'GoodForMeal',\n",
       "       'BusinessAcceptsBitcoin', 'Smoking', 'Music', 'GoodForDancing',\n",
       "       'BestNights', 'BYOB', 'Corkage', 'BYOBCorkage', 'AcceptsInsurance',\n",
       "       'RestaurantsCounterService', 'Open24Hours', 'AgesAllowed',\n",
       "       'DietaryRestrictions', 'HairSpecializesIn', 'Good for kids',\n",
       "       'Restroom', 'Bar onsite', 'Wi-Fi', 'Gender-neutral restroom',\n",
       "       'Public restroom', 'High chairs', 'Restaurant', 'Golf course',\n",
       "       'Mechanic', 'Air conditioning', 'Bar on site', 'Toilets',\n",
       "       'Gender-neutral toilets', 'Public toilet', 'Baggage storage',\n",
       "       'Swimming pool', 'All-inclusive', 'Stadium seating',\n",
       "       'Wheelchair accessible entrance', 'Wheelchair accessible elevator',\n",
       "       'Wheelchair accessible seating', 'Wheelchair accessible restroom',\n",
       "       'Wheelchair accessible parking lot', 'Assisted listening devices',\n",
       "       'Wheelchair-accessible car park', 'Wheelchair-accessible entrance',\n",
       "       'Wheelchair-accessible toilet', 'Wheelchair-accessible seating',\n",
       "       'Wheelchair-accessible lift'], dtype=object)"
      ]
     },
     "execution_count": 10,
     "metadata": {},
     "output_type": "execute_result"
    }
   ],
   "source": [
    "# Se observan los atributos.\n",
    "sites_atributos[\"attributes\"].unique()"
   ]
  },
  {
   "cell_type": "code",
   "execution_count": 11,
   "metadata": {},
   "outputs": [],
   "source": [
    "# Se seleccionan los atributos que van a ser unificados o corregidos a través de un diccionario de mapeo.\n",
    "reemplazo_atributos = {\n",
    "    \"Accessible entrance\":['Wheelchair accessible entrance','Wheelchair-accessible entrance',\"WheelchairAccessible\"],\n",
    "    \"Accessible elevator\":[\"Wheelchair accessible elevator\",\"Wheelchair-accessible lift\"],\n",
    "    \"Accessible seating\":['Wheelchair accessible seating','Wheelchair-accessible seating'],\n",
    "    \"Accessible restroom\":['Wheelchair accessible restroom','Wheelchair-accessible toilet'],\n",
    "    \"Accessible parking\":['Wheelchair accessible parking lot','Wheelchair-accessible car park'],\n",
    "    \"Wifi\":['WiFi','Wi-Fi'],\n",
    "    \"Delivery&TakeOut\":[\"RestaurantsDelivery\",'RestaurantsTakeOut'],\n",
    "    \"Outdoor Seating\":['OutdoorSeating'],\n",
    "    \"Accepts Cards\":['BusinessAcceptsCreditCards',\"BusinessAcceptsBitcoin\"],\n",
    "    \"Parking\":[\"BusinessParking\",'BikeParking'],\n",
    "    \"Appointment Only\":['ByAppointmentOnly'],\n",
    "    \"Reservations\":['RestaurantsReservations'],\n",
    "    \"HappyHour\":['HappyHour','BestNights'],\n",
    "    \"BYOB\":['BYOB', 'Corkage', 'BYOBCorkage'],\n",
    "    'Good for kids':['Good for kids','GoodForKids'],\n",
    "    \"Sells Alcohol\":['Alcohol','Bar onsite','Bar on site'],\n",
    "    \"Restroom\":['Restroom','Gender-neutral restroom','Public restroom','Toilets','Gender-neutral toilets','Public toilet'],\n",
    "    'Baggage storage':['Baggage storage','CoatCheck']\n",
    "\n",
    "}\n",
    "\n",
    "# Se seleccionan los atributos que no proporcionan información útil para el proceso de análisis.\n",
    "eliminar_atributos = ['Caters','RestaurantsPriceRange2','Ambience','RestaurantsTableService','NoiseLevel',\n",
    "                      'Music','AcceptsInsurance','AgesAllowed','HairSpecializesIn','High chairs', 'Restaurant','Golf course',\n",
    "                      'Mechanic','Swimming pool', 'All-inclusive', 'Stadium seating']"
   ]
  },
  {
   "cell_type": "code",
   "execution_count": 12,
   "metadata": {},
   "outputs": [],
   "source": [
    "# Se invierte el diccionario de mapeo para usarlo en el método \"replace\".\n",
    "reverse_mapping = {v: k for k, values in reemplazo_atributos.items() for v in values}\n",
    "\n",
    "# Se reeemplazan los valores en la columna 'atributos' usando el diccionario invertido\n",
    "sites_atributos['attributes'] = sites_atributos['attributes'].replace(reverse_mapping)\n",
    "\n",
    "# Se filtra y eliminan las filas que contienen atributos en eliminar_atributos\n",
    "sites_atributos = sites_atributos[~sites_atributos['attributes'].str.contains('|'.join(eliminar_atributos))]"
   ]
  },
  {
   "cell_type": "code",
   "execution_count": 13,
   "metadata": {},
   "outputs": [
    {
     "data": {
      "text/plain": [
       "array(['Delivery&TakeOut', 'Outdoor Seating', 'Accepts Cards', 'Parking',\n",
       "       'Appointment Only', 'Wifi', 'Sells Alcohol', 'Accessible entrance',\n",
       "       'Good for kids', 'Reservations', 'Baggage storage', 'DogsAllowed',\n",
       "       'HasTV', 'HappyHour', 'DriveThru', 'GoodForMeal', 'Smoking',\n",
       "       'GoodForDancing', 'BYOB', 'Open24Hours', 'DietaryRestrictions',\n",
       "       'Restroom', 'Air conditioning', 'Accessible elevator',\n",
       "       'Accessible seating', 'Accessible restroom', 'Accessible parking',\n",
       "       'Assisted listening devices'], dtype=object)"
      ]
     },
     "execution_count": 13,
     "metadata": {},
     "output_type": "execute_result"
    }
   ],
   "source": [
    "# Se observan las categorías limpias.\n",
    "sites_atributos[\"attributes\"].unique()"
   ]
  },
  {
   "cell_type": "code",
   "execution_count": 15,
   "metadata": {},
   "outputs": [],
   "source": [
    "# Subida del dataframe a Google Cloud \n",
    "\n",
    "# Configura tus credenciales de Google Cloud\n",
    "# os.environ['GOOGLE_APPLICATION_CREDENTIALS'] = 'path/to/your/credentials.json'\n",
    "\n",
    "# Función que sube el archivo a Google Cloud Storage\n",
    "def upload_to_gcs(bucket_name, source_file_name, destination_blob_name):\n",
    "    \"\"\"Sube un archivo a un bucket de Google Cloud Storage.\"\"\"\n",
    "    # Inicializa el cliente de GCS\n",
    "    storage_client = storage.Client()\n",
    "    # Obtén el bucket\n",
    "    bucket = storage_client.bucket(bucket_name)\n",
    "    # Crea un blob en el bucket\n",
    "    blob = bucket.blob(destination_blob_name)\n",
    "    # Sube el archivo al blob\n",
    "    blob.upload_from_filename(source_file_name)\n",
    "    print(f\"Archivo {source_file_name} subido a {destination_blob_name}.\")\n",
    "\n",
    "# Función que guarda el dataframe en un archivo temporal de parquet y lo sube\n",
    "def dataframe_to_parquet_and_upload(df, bucket_name, destination_blob_name):\n",
    "    # Guarda el DataFrame como archivo Parquet\n",
    "    table = pa.Table.from_pandas(df)\n",
    "    pq.write_table(table, 'temp.parquet')\n",
    "\n",
    "    # Sube el archivo Parquet a Google Cloud Storage\n",
    "    upload_to_gcs(bucket_name, 'temp.parquet', destination_blob_name)\n",
    "\n",
    "    # Elimina el archivo temporal\n",
    "    os.remove('temp.parquet')"
   ]
  },
  {
   "cell_type": "code",
   "execution_count": 17,
   "metadata": {},
   "outputs": [
    {
     "name": "stdout",
     "output_type": "stream",
     "text": [
      "Archivo temp.parquet subido a dfgy_attributes.parquet.\n"
     ]
    }
   ],
   "source": [
    "# Se sube el dataframe de atributos\n",
    "\n",
    "# Nombre del bucket de GCS y del archivo destino\n",
    "bucket_name = 'scripts-python-proyecto-henry'\n",
    "destination_blob_name = 'dfgy_attributes.parquet'\n",
    "\n",
    "dataframe_to_parquet_and_upload(sites_atributos,bucket_name,destination_blob_name)"
   ]
  },
  {
   "cell_type": "markdown",
   "metadata": {},
   "source": [
    "# Prueba Dos"
   ]
  },
  {
   "cell_type": "code",
   "execution_count": 3,
   "metadata": {},
   "outputs": [],
   "source": [
    "import pandas as pd\n",
    "import os"
   ]
  },
  {
   "cell_type": "code",
   "execution_count": 1,
   "metadata": {},
   "outputs": [],
   "source": [
    "# Lista para almacenar los dataframes de todos los estados\n",
    "dataframes = []\n",
    "\n",
    "# Función para procesar cada estado y ruta\n",
    "def procesar_archivos_json(state, ruta_directorio, chunksize=10000):\n",
    "    for filename in os.listdir(ruta_directorio):\n",
    "        if filename.endswith('.json'):\n",
    "            try:\n",
    "                filepath = os.path.join(ruta_directorio, filename)\n",
    "                with pd.read_json(filepath, lines=True, chunksize=chunksize) as reader:\n",
    "                    for chunk in reader:\n",
    "                        chunk['state'] = state\n",
    "                        dataframes.append(chunk)\n",
    "            except Exception as e:\n",
    "                print(f\"Error al procesar el archivo {filename}: {e}\")"
   ]
  },
  {
   "cell_type": "code",
   "execution_count": 4,
   "metadata": {},
   "outputs": [],
   "source": [
    "# Diccionario de estados y rutas\n",
    "estados_ruta = {\n",
    "    \"AL\": \"../Data/Google/reviews-estados/review-Alabama/review-Alabama\",\n",
    "    'AK':'../Data/Google/reviews-estados/review-Alaska/review-Alaska',\n",
    "    'AZ':'../Data/Google/reviews-estados/review-Arizona/review-Arizona',\n",
    "    'AR':'../Data/Google/reviews-estados/review-Arkansas/review-Arkansas',\n",
    "    'CA':'../Data/Google/reviews-estados/review-California/review-California',\n",
    "    'CO':'../Data/Google/reviews-estados/review-Colorado/review-Colorado',\n",
    "    'CT':'../Data/Google/reviews-estados/review-Connecticut/review-Connecticut',\n",
    "    'DE':\"../Data/Google/reviews-estados/review-Delaware/review-Delaware\",\n",
    "    'District_of_Columbia':\"../Data/Google/reviews-estados/review-District_of_Columbia\",\n",
    "    'FL':\"../Data/Google/reviews-estados/review-Florida/review-Florida\",\n",
    "    'GA':\"../Data/Google/reviews-estados/review-Georgia/review-Georgia\",\n",
    "    'HI':\"../Data/Google/reviews-estados/review-Hawaii/review-Hawaii\",\n",
    "    'ID':\"../Data/Google/reviews-estados/review-Idaho/review-Idaho\",\n",
    "    'IL':\"../Data/Google/reviews-estados/review-Illinois/review-Illinois\",\n",
    "    'IN':\"../Data/Google/reviews-estados/review-Indiana/review-Indiana\",\n",
    "    'IA':\"../Data/Google/reviews-estados/review-Iowa/review-Iowa\",\n",
    "    'KS':\"../Data/Google/reviews-estados/review-Kansas/review-Kansas\",\n",
    "    'KY':\"../Data/Google/reviews-estados/review-Kentucky/review-Kentucky\",\n",
    "    'LA':\"../Data/Google/reviews-estados/review-Louisiana/review-Louisiana\",\n",
    "    'ME':\"../Data/Google/reviews-estados/review-Maine/review-Maine\",\n",
    "    'MD':\"../Data/Google/reviews-estados/review-Maryland/review-Maryland\",\n",
    "    'MA':\"../Data/Google/reviews-estados/review-Massachusetts/review-Massachusetts\",\n",
    "    'MI':\"../Data/Google/reviews-estados/review-Michigan/review-Michigan\",\n",
    "    'MN':\"../Data/Google/reviews-estados/review-Minnesota/review-Minnesota\",\n",
    "    'MS':\"../Data/Google/reviews-estados/review-Mississippi/review-Mississippi\",\n",
    "    'MO':\"../Data/Google/reviews-estados/review-Missouri/review-Missouri\",\n",
    "    'MT':\"../Data/Google/reviews-estados/review-Montana/review-Montana\",\n",
    "    'NE':\"../Data/Google/reviews-estados/review-Nebraska/review-Nebraska\",\n",
    "    'NV':\"../Data/Google/reviews-estados/review-Nevada/review-Nevada\",\n",
    "    'NH':\"../Data/Google/reviews-estados/review-New_Hampshire/review-New_Hampshire\",\n",
    "    'NJ':\"../Data/Google/reviews-estados/review-New_Jersey/review-New_Jersey\",\n",
    "    'NM':\"../Data/Google/reviews-estados/review-New_Mexico/review-New_Mexico\",\n",
    "    'NY':\"../Data/Google/reviews-estados/review-New_York/review-New_York\",\n",
    "    'NC':\"../Data/Google/reviews-estados/review-North_Carolina/review-North_Carolina\",\n",
    "    'ND':\"../Data/Google/reviews-estados/review-North_Dakota/review-North_Dakota\",\n",
    "    'OH':\"../Data/Google/reviews-estados/review-Ohio/review-Ohio\",\n",
    "    'OK':\"../Data/Google/reviews-estados/review-Oklahoma/review-Oklahoma\",\n",
    "    'OR':\"../Data/Google/reviews-estados/review-Oregon/review-Oregon\",\n",
    "    'PA':\"../Data/Google/reviews-estados/review-Pennsylvania/review-Pennsylvania\",\n",
    "    'RI':\"../Data/Google/reviews-estados/review-Rhode_Island/review-Rhode_Island\",\n",
    "    'SC':\"../Data/Google/reviews-estados/review-South_Carolina/review-South_Carolina\",\n",
    "    'SD':\"../Data/Google/reviews-estados/review-South_Dakota/review-South_Dakota\",\n",
    "    'TN':\"../Data/Google/reviews-estados/review-Tennessee/review-Tennessee\",\n",
    "    'TX':\"../Data/Google/reviews-estados/review-Texas/review-Texas\",\n",
    "    'UT':\"../Data/Google/reviews-estados/review-Utah/review-Utah\",\n",
    "    'VT':\"../Data/Google/reviews-estados/review-Vermont/review-Vermont\",\n",
    "    'VA':\"../Data/Google/reviews-estados/review-Virginia/review-Virginia\",\n",
    "    'WA':\"../Data/Google/reviews-estados/review-Washington/review-Washington\",\n",
    "    'WV':\"../Data/Google/reviews-estados/review-West_Virginia/review-West_Virginia\",\n",
    "    'WI':\"../Data/Google/reviews-estados/review-Wisconsin/review-Wisconsin\",\n",
    "    'WY':\"../Data/Google/reviews-estados/review-Wyoming/review-Wyoming\"\n",
    "}\n",
    "\n",
    "\n",
    "# Iterar sobre el diccionario y procesar los archivos\n",
    "for state, ruta_directorio in estados_ruta.items():\n",
    "    procesar_archivos_json(state, ruta_directorio)\n",
    "\n",
    "# Concatenar todos los dataframes en uno solo\n",
    "dfg_reviews = pd.concat(dataframes, ignore_index=True)\n",
    "\n",
    "# Mostrar el dataframe final\n",
    "print(dfg_reviews)"
   ]
  }
 ],
 "metadata": {
  "kernelspec": {
   "display_name": "Python 3",
   "language": "python",
   "name": "python3"
  },
  "language_info": {
   "codemirror_mode": {
    "name": "ipython",
    "version": 3
   },
   "file_extension": ".py",
   "mimetype": "text/x-python",
   "name": "python",
   "nbconvert_exporter": "python",
   "pygments_lexer": "ipython3",
   "version": "3.12.2"
  }
 },
 "nbformat": 4,
 "nbformat_minor": 2
}
