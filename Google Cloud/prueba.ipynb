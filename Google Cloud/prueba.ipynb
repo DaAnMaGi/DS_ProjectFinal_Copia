{
 "cells": [
  {
   "cell_type": "code",
   "execution_count": 4,
   "metadata": {},
   "outputs": [],
   "source": [
    "from google.oauth2 import service_account\n",
    "from googleapiclient.discovery import build\n",
    "import io\n",
    "import os\n",
    "from google.cloud import storage"
   ]
  },
  {
   "cell_type": "code",
   "execution_count": 11,
   "metadata": {},
   "outputs": [],
   "source": [
    "def extract_and_load_to_storage(folder_id):\n",
    "    # Uso de las credenciales de autenticación para acceder al servidor de Google Cloud\n",
    "    credentials = service_account.Credentials.from_service_account_file(\n",
    "        '../Clave/proyecto-nuevo-423502-b27ede29c633.json',\n",
    "        scopes=['https://www.googleapis.com/auth/drive']\n",
    "    )\n",
    "\n",
    "    # Se instancia el cliente de la API de Google Drive\n",
    "    drive_service = build('drive', 'v3', credentials=credentials)\n",
    "\n",
    "    # Se obtiene la lista de archivos desde la carpeta especificada en Google Drive\n",
    "    query = f\"'{folder_id}' in parents\"\n",
    "    response = drive_service.files().list(q=query, fields=\"files(id, name)\").execute()\n",
    "    files = response.get('files', [])\n",
    "\n",
    "    # Verificar si hay más archivos disponibles en el resultado y obtenerlos si es necesario\n",
    "    while 'nextPageToken' in response:\n",
    "        # Realizar la solicitud para la siguiente lista de archivos utilizando el token de paginación\n",
    "        response = drive_service.files().list(pageSize=1000, fields=\"files(id, name)\", pageToken=response['nextPageToken']).execute()\n",
    "        \n",
    "        # Agregar los archivos de la siguiente página a la lista de archivos\n",
    "        files.extend(response.get('files', []))\n",
    "\n",
    "    # Configurar cliente de Google Cloud Storage\n",
    "    storage_client = storage.Client()\n",
    "\n",
    "    # Nombre del bucket en Google Cloud Storage\n",
    "    bucket_name = \"archivos-originales\"\n",
    "\n",
    "    # Iterar sobre los archivos obtenidos y cargarlos en Google Cloud Storage\n",
    "    for file in files:\n",
    "        file_id = file['id']\n",
    "        file_name = file['name']\n",
    "\n",
    "        # Descargar el archivo desde Google Drive\n",
    "        request = drive_service.files().get_media(fileId=file_id)\n",
    "        fh = io.BytesIO()\n",
    "        downloader = googleapiclient.http.MediaIoBaseDownload(fh, request)\n",
    "        done = False\n",
    "        while not done:\n",
    "            status, done = downloader.next_chunk()\n",
    "\n",
    "        # Cargar el archivo descargado en Google Cloud Storage\n",
    "        bucket = storage_client.bucket(bucket_name)\n",
    "        blob = bucket.blob(file_name)\n",
    "        blob.upload_from_file(fh)\n",
    "\n",
    "        print(f\"Archivo '{file_name}' cargado en Google Cloud Storage.\")\n",
    "\n"
   ]
  },
  {
   "cell_type": "code",
   "execution_count": 1,
   "metadata": {},
   "outputs": [],
   "source": [
    "import pandas as pd"
   ]
  },
  {
   "cell_type": "code",
   "execution_count": null,
   "metadata": {},
   "outputs": [],
   "source": []
  }
 ],
 "metadata": {
  "kernelspec": {
   "display_name": "Python 3",
   "language": "python",
   "name": "python3"
  },
  "language_info": {
   "codemirror_mode": {
    "name": "ipython",
    "version": 3
   },
   "file_extension": ".py",
   "mimetype": "text/x-python",
   "name": "python",
   "nbconvert_exporter": "python",
   "pygments_lexer": "ipython3",
   "version": "3.12.2"
  }
 },
 "nbformat": 4,
 "nbformat_minor": 2
}
