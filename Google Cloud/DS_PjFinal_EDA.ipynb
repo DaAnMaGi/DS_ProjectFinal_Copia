{
 "cells": [
  {
   "cell_type": "markdown",
   "metadata": {},
   "source": [
    "# Introducción, objetivos y contenido\n",
    "===================================================================================================================================="
   ]
  },
  {
   "cell_type": "markdown",
   "metadata": {},
   "source": [
    "* Importación de librerías\n",
    "* Carga de datos\n",
    "    * Dataset de restaurantes unívocos\n",
    "    * Dataset de YELP\n",
    "        * Restaurants\n",
    "        * User\n",
    "        * Checkins\n",
    "        * Reviews\n",
    "        * Tips\n",
    "        * Categorías y atributos\n",
    "    * Dataset de GOOGLE\n",
    "        * Restaurantes\n",
    "        * Reviews\n",
    "        * Categorías\n",
    "* Preprocesamiento: gestión final de tipos de datos, valores nulos y duplicados, características\n",
    "    * Datasets de YELP\n",
    "    * Datasets de GOOGLE\n",
    "    * Datasets COMBINADOS\n",
    "        * Restaurants\n",
    "        * User\n",
    "        * Checkins\n",
    "        * Reviews\n",
    "        * Categorías\n",
    "* Análisis de datos\n",
    "    * Análisis de plantel de restaurantes (oferentes)\n",
    "    * Análisis de performance de restaurantes\n",
    "    * Análisis de plantel de usuarios (clientes)\n",
    "    * Análisis de demanda\n",
    "    * Análisis de preferencias de usuario\n",
    "        * Categorías top\n",
    "        * Atributos\n",
    "        * Marcas top\n",
    "        * Locaciones top\n",
    "    * Análisis de participación del usuario\n",
    "        * Involucramiento\n",
    "        * Satisfacción\n",
    "* Conclusiones"
   ]
  },
  {
   "cell_type": "markdown",
   "metadata": {},
   "source": [
    "# Importación de librerías\n",
    "===================================================================================================================================="
   ]
  },
  {
   "cell_type": "code",
   "execution_count": 1,
   "metadata": {},
   "outputs": [],
   "source": [
    "import pandas as pd\n",
    "import numpy as np\n",
    "\n",
    "import math\n",
    "import seaborn as sns\n",
    "import matplotlib as mpl\n",
    "import matplotlib.pyplot as plt"
   ]
  },
  {
   "cell_type": "markdown",
   "metadata": {},
   "source": [
    "# Carga de datos\n",
    "========================================================================================================="
   ]
  },
  {
   "cell_type": "markdown",
   "metadata": {},
   "source": [
    "## Dataset de restaurantes unívocos\n",
    "------------------------------------------------------------------------------------------------------"
   ]
  },
  {
   "cell_type": "code",
   "execution_count": 2,
   "metadata": {},
   "outputs": [],
   "source": [
    "# Listado unívoco de locales de ambos datasets\n",
    "dfgy_rest_uniques = pd.read_parquet('dfgy_rest_uniques.parquet')"
   ]
  },
  {
   "cell_type": "markdown",
   "metadata": {},
   "source": [
    "## Datasets de YELP\n",
    "------------------------------------------------------------------------------------------------------"
   ]
  },
  {
   "cell_type": "code",
   "execution_count": 3,
   "metadata": {},
   "outputs": [],
   "source": [
    "# Yelp\n",
    "yelp_rest = pd.read_parquet('dfy_rest.parquet')\n",
    "yelp_user = pd.read_parquet('dfy_user.parquet')\n",
    "yelp_checkins = pd.read_parquet('dfy_checkins.parquet')"
   ]
  },
  {
   "cell_type": "code",
   "execution_count": 4,
   "metadata": {},
   "outputs": [],
   "source": [
    "# Review\n",
    "yelp_reviews = pd.read_parquet('dfy_reviews.parquet')"
   ]
  },
  {
   "cell_type": "code",
   "execution_count": 5,
   "metadata": {},
   "outputs": [],
   "source": [
    "# Tips\n",
    "yelp_tips = pd.read_parquet('dfy_tips.parquet')"
   ]
  },
  {
   "cell_type": "code",
   "execution_count": 6,
   "metadata": {},
   "outputs": [],
   "source": [
    "# Categorías y atributos\n",
    "yelp_site_categories = pd.read_parquet('dfy_site_categories.parquet')\n",
    "yelp_site_attributes = pd.read_parquet('dfy_attributes.parquet')"
   ]
  },
  {
   "cell_type": "markdown",
   "metadata": {},
   "source": [
    "## Datasets de GOOGLE\n",
    "------------------------------------------------------------------------------------------------------"
   ]
  },
  {
   "cell_type": "code",
   "execution_count": 7,
   "metadata": {},
   "outputs": [],
   "source": [
    "# Restaurants\n",
    "google_rest = pd.read_parquet('dfg_rest.parquet')"
   ]
  },
  {
   "cell_type": "code",
   "execution_count": 8,
   "metadata": {},
   "outputs": [],
   "source": [
    "# Reviews\n",
    "google_reviews = pd.read_parquet('dfg_reviews.parquet')"
   ]
  },
  {
   "cell_type": "code",
   "execution_count": 9,
   "metadata": {},
   "outputs": [],
   "source": [
    "# Categorías y atributos\n",
    "google_site_categories = pd.read_parquet('dfg_site_categories.parquet')"
   ]
  },
  {
   "cell_type": "markdown",
   "metadata": {},
   "source": [
    "# Preprocesamiento\n",
    "========================================================================================================="
   ]
  },
  {
   "cell_type": "markdown",
   "metadata": {},
   "source": [
    "## Datasets de YELP\n",
    "------------------------------------------------------------------------------------------------------"
   ]
  },
  {
   "cell_type": "markdown",
   "metadata": {},
   "source": [
    "### YELP reviews"
   ]
  },
  {
   "cell_type": "code",
   "execution_count": 10,
   "metadata": {},
   "outputs": [
    {
     "name": "stdout",
     "output_type": "stream",
     "text": [
      "<class 'pandas.core.frame.DataFrame'>\n",
      "RangeIndex: 1000000 entries, 0 to 999999\n",
      "Data columns (total 14 columns):\n",
      " #   Column       Non-Null Count    Dtype         \n",
      "---  ------       --------------    -----         \n",
      " 0   review_id    1000000 non-null  object        \n",
      " 1   user_id      1000000 non-null  object        \n",
      " 2   business_id  1000000 non-null  object        \n",
      " 3   stars        1000000 non-null  float64       \n",
      " 4   useful       1000000 non-null  int64         \n",
      " 5   funny        1000000 non-null  int64         \n",
      " 6   cool         1000000 non-null  int64         \n",
      " 7   text         1000000 non-null  object        \n",
      " 8   date         1000000 non-null  datetime64[ns]\n",
      " 9   year         1000000 non-null  int32         \n",
      " 10  month        1000000 non-null  int32         \n",
      " 11  year_month   1000000 non-null  object        \n",
      " 12  polarity     1000000 non-null  float64       \n",
      " 13  sentiment    1000000 non-null  int64         \n",
      "dtypes: datetime64[ns](1), float64(2), int32(2), int64(4), object(5)\n",
      "memory usage: 99.2+ MB\n",
      "None\n"
     ]
    },
    {
     "data": {
      "text/html": [
       "<div>\n",
       "<style scoped>\n",
       "    .dataframe tbody tr th:only-of-type {\n",
       "        vertical-align: middle;\n",
       "    }\n",
       "\n",
       "    .dataframe tbody tr th {\n",
       "        vertical-align: top;\n",
       "    }\n",
       "\n",
       "    .dataframe thead th {\n",
       "        text-align: right;\n",
       "    }\n",
       "</style>\n",
       "<table border=\"1\" class=\"dataframe\">\n",
       "  <thead>\n",
       "    <tr style=\"text-align: right;\">\n",
       "      <th></th>\n",
       "      <th>review_id</th>\n",
       "      <th>user_id</th>\n",
       "      <th>business_id</th>\n",
       "      <th>stars</th>\n",
       "      <th>useful</th>\n",
       "      <th>funny</th>\n",
       "      <th>cool</th>\n",
       "      <th>text</th>\n",
       "      <th>date</th>\n",
       "      <th>year</th>\n",
       "      <th>month</th>\n",
       "      <th>year_month</th>\n",
       "      <th>polarity</th>\n",
       "      <th>sentiment</th>\n",
       "    </tr>\n",
       "  </thead>\n",
       "  <tbody>\n",
       "    <tr>\n",
       "      <th>734084</th>\n",
       "      <td>Kk22sR7dIKTz1MHGtAAjKA</td>\n",
       "      <td>JW5W4OZCohTvZlRF1jzrTg</td>\n",
       "      <td>0-7N3z_cb3Z1xMGDrbez6w</td>\n",
       "      <td>4.0</td>\n",
       "      <td>1</td>\n",
       "      <td>0</td>\n",
       "      <td>0</td>\n",
       "      <td>3.5 for food, 4.5 for service, 4 for wine sele...</td>\n",
       "      <td>2019-01-03 20:49:23</td>\n",
       "      <td>2019</td>\n",
       "      <td>1</td>\n",
       "      <td>1901</td>\n",
       "      <td>0.9975</td>\n",
       "      <td>1</td>\n",
       "    </tr>\n",
       "    <tr>\n",
       "      <th>709499</th>\n",
       "      <td>SJ69HWd_fPZonviVhHiXXA</td>\n",
       "      <td>RVqXI4ufMDQnn-MFz-0MUQ</td>\n",
       "      <td>_-rP1naEtvwxBHOSYIG6ww</td>\n",
       "      <td>5.0</td>\n",
       "      <td>0</td>\n",
       "      <td>0</td>\n",
       "      <td>0</td>\n",
       "      <td>Great meal, good service and a nice atmosphere...</td>\n",
       "      <td>2019-05-04 00:54:33</td>\n",
       "      <td>2019</td>\n",
       "      <td>5</td>\n",
       "      <td>1905</td>\n",
       "      <td>0.9442</td>\n",
       "      <td>1</td>\n",
       "    </tr>\n",
       "  </tbody>\n",
       "</table>\n",
       "</div>"
      ],
      "text/plain": [
       "                     review_id                 user_id  \\\n",
       "734084  Kk22sR7dIKTz1MHGtAAjKA  JW5W4OZCohTvZlRF1jzrTg   \n",
       "709499  SJ69HWd_fPZonviVhHiXXA  RVqXI4ufMDQnn-MFz-0MUQ   \n",
       "\n",
       "                   business_id  stars  useful  funny  cool  \\\n",
       "734084  0-7N3z_cb3Z1xMGDrbez6w    4.0       1      0     0   \n",
       "709499  _-rP1naEtvwxBHOSYIG6ww    5.0       0      0     0   \n",
       "\n",
       "                                                     text                date  \\\n",
       "734084  3.5 for food, 4.5 for service, 4 for wine sele... 2019-01-03 20:49:23   \n",
       "709499  Great meal, good service and a nice atmosphere... 2019-05-04 00:54:33   \n",
       "\n",
       "        year  month year_month  polarity  sentiment  \n",
       "734084  2019      1       1901    0.9975          1  \n",
       "709499  2019      5       1905    0.9442          1  "
      ]
     },
     "execution_count": 10,
     "metadata": {},
     "output_type": "execute_result"
    }
   ],
   "source": [
    "print(yelp_reviews.info())\n",
    "yelp_reviews.sample(2)\n",
    "# Nota: el dataset constituye una muestra 1 millón de registros debido a que el dataset de reviews es mucho mayor. \n",
    "# A Efectos del EDA, se considera suficiente."
   ]
  },
  {
   "cell_type": "code",
   "execution_count": 11,
   "metadata": {},
   "outputs": [
    {
     "name": "stdout",
     "output_type": "stream",
     "text": [
      "<class 'pandas.core.frame.DataFrame'>\n",
      "RangeIndex: 1000000 entries, 0 to 999999\n",
      "Data columns (total 9 columns):\n",
      " #   Column     Non-Null Count    Dtype         \n",
      "---  ------     --------------    -----         \n",
      " 0   source     1000000 non-null  object        \n",
      " 1   site_id    1000000 non-null  object        \n",
      " 2   user_id    1000000 non-null  object        \n",
      " 3   datetime   1000000 non-null  datetime64[ns]\n",
      " 4   month      1000000 non-null  int32         \n",
      " 5   year       1000000 non-null  int32         \n",
      " 6   rating     1000000 non-null  float64       \n",
      " 7   polarity   1000000 non-null  float64       \n",
      " 8   sentiment  1000000 non-null  int64         \n",
      "dtypes: datetime64[ns](1), float64(2), int32(2), int64(1), object(3)\n",
      "memory usage: 61.0+ MB\n",
      "None\n"
     ]
    },
    {
     "data": {
      "text/html": [
       "<div>\n",
       "<style scoped>\n",
       "    .dataframe tbody tr th:only-of-type {\n",
       "        vertical-align: middle;\n",
       "    }\n",
       "\n",
       "    .dataframe tbody tr th {\n",
       "        vertical-align: top;\n",
       "    }\n",
       "\n",
       "    .dataframe thead th {\n",
       "        text-align: right;\n",
       "    }\n",
       "</style>\n",
       "<table border=\"1\" class=\"dataframe\">\n",
       "  <thead>\n",
       "    <tr style=\"text-align: right;\">\n",
       "      <th></th>\n",
       "      <th>source</th>\n",
       "      <th>site_id</th>\n",
       "      <th>user_id</th>\n",
       "      <th>datetime</th>\n",
       "      <th>month</th>\n",
       "      <th>year</th>\n",
       "      <th>rating</th>\n",
       "      <th>polarity</th>\n",
       "      <th>sentiment</th>\n",
       "    </tr>\n",
       "  </thead>\n",
       "  <tbody>\n",
       "    <tr>\n",
       "      <th>931035</th>\n",
       "      <td>yelp</td>\n",
       "      <td>-P7CxFXqAyZ7_ep4r4W-Zg</td>\n",
       "      <td>B11DXWnne8zGNIsILo-mhg</td>\n",
       "      <td>2018-11-08 21:33:49</td>\n",
       "      <td>11</td>\n",
       "      <td>2018</td>\n",
       "      <td>3.0</td>\n",
       "      <td>0.8126</td>\n",
       "      <td>1</td>\n",
       "    </tr>\n",
       "    <tr>\n",
       "      <th>45303</th>\n",
       "      <td>yelp</td>\n",
       "      <td>NUJrCPU51Cvip4ayZD1P5g</td>\n",
       "      <td>fRbWFxxtCP-6Nhv7GiyePg</td>\n",
       "      <td>2013-03-19 00:49:40</td>\n",
       "      <td>3</td>\n",
       "      <td>2013</td>\n",
       "      <td>4.0</td>\n",
       "      <td>0.9783</td>\n",
       "      <td>1</td>\n",
       "    </tr>\n",
       "  </tbody>\n",
       "</table>\n",
       "</div>"
      ],
      "text/plain": [
       "       source                 site_id                 user_id  \\\n",
       "931035   yelp  -P7CxFXqAyZ7_ep4r4W-Zg  B11DXWnne8zGNIsILo-mhg   \n",
       "45303    yelp  NUJrCPU51Cvip4ayZD1P5g  fRbWFxxtCP-6Nhv7GiyePg   \n",
       "\n",
       "                  datetime  month  year  rating  polarity  sentiment  \n",
       "931035 2018-11-08 21:33:49     11  2018     3.0    0.8126          1  \n",
       "45303  2013-03-19 00:49:40      3  2013     4.0    0.9783          1  "
      ]
     },
     "execution_count": 11,
     "metadata": {},
     "output_type": "execute_result"
    }
   ],
   "source": [
    "dfy_reviews = yelp_reviews.copy()\n",
    "\n",
    "dfy_reviews['source'] = 'yelp'\n",
    "dfy_reviews = dfy_reviews[['source','business_id','user_id', 'date', 'month', 'year', 'stars', 'polarity', 'sentiment']]\n",
    "dfy_reviews = dfy_reviews.rename(columns={'business_id': 'site_id', 'date':'datetime', 'stars':'rating'})\n",
    "\n",
    "print(dfy_reviews.info())\n",
    "dfy_reviews.sample(2)"
   ]
  },
  {
   "cell_type": "markdown",
   "metadata": {},
   "source": [
    "### YELP restaurants"
   ]
  },
  {
   "cell_type": "code",
   "execution_count": 12,
   "metadata": {},
   "outputs": [
    {
     "name": "stdout",
     "output_type": "stream",
     "text": [
      "<class 'pandas.core.frame.DataFrame'>\n",
      "RangeIndex: 212998 entries, 0 to 212997\n",
      "Data columns (total 16 columns):\n",
      " #   Column                 Non-Null Count   Dtype  \n",
      "---  ------                 --------------   -----  \n",
      " 0   business_id            212998 non-null  object \n",
      " 1   name                   212998 non-null  object \n",
      " 2   city                   212998 non-null  object \n",
      " 3   postal_code            212998 non-null  object \n",
      " 4   latitude               212998 non-null  float64\n",
      " 5   longitude              212998 non-null  float64\n",
      " 6   stars                  212998 non-null  float64\n",
      " 7   review_count           212998 non-null  int64  \n",
      " 8   is_open                212998 non-null  int64  \n",
      " 9   state                  212998 non-null  object \n",
      " 10  state_city             212998 non-null  object \n",
      " 11  city_postalcode        212998 non-null  object \n",
      " 12  state_city_postalcode  212998 non-null  object \n",
      " 13  categories             133777 non-null  object \n",
      " 14  food                   133777 non-null  object \n",
      " 15  price                  211084 non-null  float64\n",
      "dtypes: float64(4), int64(2), object(10)\n",
      "memory usage: 26.0+ MB\n",
      "None\n"
     ]
    },
    {
     "data": {
      "text/html": [
       "<div>\n",
       "<style scoped>\n",
       "    .dataframe tbody tr th:only-of-type {\n",
       "        vertical-align: middle;\n",
       "    }\n",
       "\n",
       "    .dataframe tbody tr th {\n",
       "        vertical-align: top;\n",
       "    }\n",
       "\n",
       "    .dataframe thead th {\n",
       "        text-align: right;\n",
       "    }\n",
       "</style>\n",
       "<table border=\"1\" class=\"dataframe\">\n",
       "  <thead>\n",
       "    <tr style=\"text-align: right;\">\n",
       "      <th></th>\n",
       "      <th>business_id</th>\n",
       "      <th>name</th>\n",
       "      <th>city</th>\n",
       "      <th>postal_code</th>\n",
       "      <th>latitude</th>\n",
       "      <th>longitude</th>\n",
       "      <th>stars</th>\n",
       "      <th>review_count</th>\n",
       "      <th>is_open</th>\n",
       "      <th>state</th>\n",
       "      <th>state_city</th>\n",
       "      <th>city_postalcode</th>\n",
       "      <th>state_city_postalcode</th>\n",
       "      <th>categories</th>\n",
       "      <th>food</th>\n",
       "      <th>price</th>\n",
       "    </tr>\n",
       "  </thead>\n",
       "  <tbody>\n",
       "    <tr>\n",
       "      <th>109104</th>\n",
       "      <td>_zMywXbTgbV7ml6xycl8sQ</td>\n",
       "      <td>Tried &amp; True Alehouse</td>\n",
       "      <td>Greenwood</td>\n",
       "      <td>46143</td>\n",
       "      <td>39.576910</td>\n",
       "      <td>-86.160562</td>\n",
       "      <td>4.0</td>\n",
       "      <td>201</td>\n",
       "      <td>1</td>\n",
       "      <td>IN</td>\n",
       "      <td>IN - Greenwood</td>\n",
       "      <td>Greenwood - 46143</td>\n",
       "      <td>IN - Greenwood - 46143</td>\n",
       "      <td>Chicken Wings</td>\n",
       "      <td>yes</td>\n",
       "      <td>1.400000</td>\n",
       "    </tr>\n",
       "    <tr>\n",
       "      <th>150557</th>\n",
       "      <td>n4rGwD139PEiFCcyjzS6BA</td>\n",
       "      <td>Farmhouse Restaurant</td>\n",
       "      <td>Avondale</td>\n",
       "      <td>19311</td>\n",
       "      <td>39.847974</td>\n",
       "      <td>-75.781480</td>\n",
       "      <td>4.0</td>\n",
       "      <td>42</td>\n",
       "      <td>1</td>\n",
       "      <td>PA</td>\n",
       "      <td>PA - Avondale</td>\n",
       "      <td>Avondale - 19311</td>\n",
       "      <td>PA - Avondale - 19311</td>\n",
       "      <td>Desserts</td>\n",
       "      <td>yes</td>\n",
       "      <td>1.000000</td>\n",
       "    </tr>\n",
       "    <tr>\n",
       "      <th>33645</th>\n",
       "      <td>yBR-vBe7q9oBa3r7Ou8MsA</td>\n",
       "      <td>Isla Vista Screen Printing</td>\n",
       "      <td>Goleta</td>\n",
       "      <td>93117</td>\n",
       "      <td>34.410895</td>\n",
       "      <td>-119.857767</td>\n",
       "      <td>4.5</td>\n",
       "      <td>10</td>\n",
       "      <td>1</td>\n",
       "      <td>CA</td>\n",
       "      <td>CA - Goleta</td>\n",
       "      <td>Goleta - 93117</td>\n",
       "      <td>CA - Goleta - 93117</td>\n",
       "      <td>None</td>\n",
       "      <td>None</td>\n",
       "      <td>1.378378</td>\n",
       "    </tr>\n",
       "    <tr>\n",
       "      <th>119333</th>\n",
       "      <td>hLTzHeOMIOuoAA06b53B7g</td>\n",
       "      <td>Camera Stop</td>\n",
       "      <td>New Orleans</td>\n",
       "      <td>70130</td>\n",
       "      <td>29.953105</td>\n",
       "      <td>-90.069426</td>\n",
       "      <td>1.5</td>\n",
       "      <td>7</td>\n",
       "      <td>1</td>\n",
       "      <td>LA</td>\n",
       "      <td>LA - New Orleans</td>\n",
       "      <td>New Orleans - 70130</td>\n",
       "      <td>LA - New Orleans - 70130</td>\n",
       "      <td>None</td>\n",
       "      <td>None</td>\n",
       "      <td>1.886364</td>\n",
       "    </tr>\n",
       "    <tr>\n",
       "      <th>191312</th>\n",
       "      <td>22sWgOK36j_SWLzDoSFxdw</td>\n",
       "      <td>Dobbs Tire And Auto Center</td>\n",
       "      <td>Olivette</td>\n",
       "      <td>63132</td>\n",
       "      <td>38.673656</td>\n",
       "      <td>-90.384309</td>\n",
       "      <td>3.0</td>\n",
       "      <td>31</td>\n",
       "      <td>1</td>\n",
       "      <td>MO</td>\n",
       "      <td>MO - Olivette</td>\n",
       "      <td>Olivette - 63132</td>\n",
       "      <td>MO - Olivette - 63132</td>\n",
       "      <td>None</td>\n",
       "      <td>None</td>\n",
       "      <td>1.000000</td>\n",
       "    </tr>\n",
       "  </tbody>\n",
       "</table>\n",
       "</div>"
      ],
      "text/plain": [
       "                   business_id                        name         city  \\\n",
       "109104  _zMywXbTgbV7ml6xycl8sQ       Tried & True Alehouse    Greenwood   \n",
       "150557  n4rGwD139PEiFCcyjzS6BA        Farmhouse Restaurant     Avondale   \n",
       "33645   yBR-vBe7q9oBa3r7Ou8MsA  Isla Vista Screen Printing       Goleta   \n",
       "119333  hLTzHeOMIOuoAA06b53B7g                 Camera Stop  New Orleans   \n",
       "191312  22sWgOK36j_SWLzDoSFxdw  Dobbs Tire And Auto Center     Olivette   \n",
       "\n",
       "       postal_code   latitude   longitude  stars  review_count  is_open state  \\\n",
       "109104       46143  39.576910  -86.160562    4.0           201        1    IN   \n",
       "150557       19311  39.847974  -75.781480    4.0            42        1    PA   \n",
       "33645        93117  34.410895 -119.857767    4.5            10        1    CA   \n",
       "119333       70130  29.953105  -90.069426    1.5             7        1    LA   \n",
       "191312       63132  38.673656  -90.384309    3.0            31        1    MO   \n",
       "\n",
       "              state_city      city_postalcode     state_city_postalcode  \\\n",
       "109104    IN - Greenwood    Greenwood - 46143    IN - Greenwood - 46143   \n",
       "150557     PA - Avondale     Avondale - 19311     PA - Avondale - 19311   \n",
       "33645        CA - Goleta       Goleta - 93117       CA - Goleta - 93117   \n",
       "119333  LA - New Orleans  New Orleans - 70130  LA - New Orleans - 70130   \n",
       "191312     MO - Olivette     Olivette - 63132     MO - Olivette - 63132   \n",
       "\n",
       "           categories  food     price  \n",
       "109104  Chicken Wings   yes  1.400000  \n",
       "150557       Desserts   yes  1.000000  \n",
       "33645            None  None  1.378378  \n",
       "119333           None  None  1.886364  \n",
       "191312           None  None  1.000000  "
      ]
     },
     "execution_count": 12,
     "metadata": {},
     "output_type": "execute_result"
    }
   ],
   "source": [
    "print(yelp_rest.info())\n",
    "yelp_rest.sample(5)"
   ]
  },
  {
   "cell_type": "code",
   "execution_count": 13,
   "metadata": {},
   "outputs": [
    {
     "name": "stdout",
     "output_type": "stream",
     "text": [
      "<class 'pandas.core.frame.DataFrame'>\n",
      "RangeIndex: 211084 entries, 0 to 211083\n",
      "Data columns (total 15 columns):\n",
      " #   Column                 Non-Null Count   Dtype         \n",
      "---  ------                 --------------   -----         \n",
      " 0   source                 211084 non-null  object        \n",
      " 1   site_id                211084 non-null  object        \n",
      " 2   name                   211084 non-null  object        \n",
      " 3   state                  211084 non-null  object        \n",
      " 4   city                   211084 non-null  object        \n",
      " 5   postal_code            211084 non-null  object        \n",
      " 6   price                  211084 non-null  float64       \n",
      " 7   rating_avg             211084 non-null  float64       \n",
      " 8   reviews_count          211084 non-null  int64         \n",
      " 9   date_start             128792 non-null  datetime64[ns]\n",
      " 10  year                   128792 non-null  float64       \n",
      " 11  month                  128792 non-null  float64       \n",
      " 12  state_city             211084 non-null  object        \n",
      " 13  city_postalcode        211084 non-null  object        \n",
      " 14  state_city_postalcode  211084 non-null  object        \n",
      "dtypes: datetime64[ns](1), float64(4), int64(1), object(9)\n",
      "memory usage: 24.2+ MB\n",
      "None\n"
     ]
    },
    {
     "data": {
      "text/html": [
       "<div>\n",
       "<style scoped>\n",
       "    .dataframe tbody tr th:only-of-type {\n",
       "        vertical-align: middle;\n",
       "    }\n",
       "\n",
       "    .dataframe tbody tr th {\n",
       "        vertical-align: top;\n",
       "    }\n",
       "\n",
       "    .dataframe thead th {\n",
       "        text-align: right;\n",
       "    }\n",
       "</style>\n",
       "<table border=\"1\" class=\"dataframe\">\n",
       "  <thead>\n",
       "    <tr style=\"text-align: right;\">\n",
       "      <th></th>\n",
       "      <th>source</th>\n",
       "      <th>site_id</th>\n",
       "      <th>name</th>\n",
       "      <th>state</th>\n",
       "      <th>city</th>\n",
       "      <th>postal_code</th>\n",
       "      <th>price</th>\n",
       "      <th>rating_avg</th>\n",
       "      <th>reviews_count</th>\n",
       "      <th>date_start</th>\n",
       "      <th>year</th>\n",
       "      <th>month</th>\n",
       "      <th>state_city</th>\n",
       "      <th>city_postalcode</th>\n",
       "      <th>state_city_postalcode</th>\n",
       "    </tr>\n",
       "  </thead>\n",
       "  <tbody>\n",
       "    <tr>\n",
       "      <th>60109</th>\n",
       "      <td>yelp</td>\n",
       "      <td>tgPR-ytmb8Dz8ZGumhynqw</td>\n",
       "      <td>River House</td>\n",
       "      <td>TN</td>\n",
       "      <td>Nashville</td>\n",
       "      <td>37210</td>\n",
       "      <td>1.384615</td>\n",
       "      <td>4.0</td>\n",
       "      <td>15</td>\n",
       "      <td>NaT</td>\n",
       "      <td>NaN</td>\n",
       "      <td>NaN</td>\n",
       "      <td>TN - Nashville</td>\n",
       "      <td>Nashville - 37210</td>\n",
       "      <td>TN - Nashville - 37210</td>\n",
       "    </tr>\n",
       "    <tr>\n",
       "      <th>187381</th>\n",
       "      <td>yelp</td>\n",
       "      <td>pkWYJOmSx9GdKrhUw7t0Iw</td>\n",
       "      <td>Jet's Pizza</td>\n",
       "      <td>FL</td>\n",
       "      <td>Palm Harbor</td>\n",
       "      <td>34684</td>\n",
       "      <td>1.300000</td>\n",
       "      <td>3.5</td>\n",
       "      <td>37</td>\n",
       "      <td>2012-12-17 15:53:07</td>\n",
       "      <td>2012.0</td>\n",
       "      <td>12.0</td>\n",
       "      <td>FL - Palm Harbor</td>\n",
       "      <td>Palm Harbor - 34684</td>\n",
       "      <td>FL - Palm Harbor - 34684</td>\n",
       "    </tr>\n",
       "  </tbody>\n",
       "</table>\n",
       "</div>"
      ],
      "text/plain": [
       "       source                 site_id         name state         city  \\\n",
       "60109    yelp  tgPR-ytmb8Dz8ZGumhynqw  River House    TN    Nashville   \n",
       "187381   yelp  pkWYJOmSx9GdKrhUw7t0Iw  Jet's Pizza    FL  Palm Harbor   \n",
       "\n",
       "       postal_code     price  rating_avg  reviews_count          date_start  \\\n",
       "60109        37210  1.384615         4.0             15                 NaT   \n",
       "187381       34684  1.300000         3.5             37 2012-12-17 15:53:07   \n",
       "\n",
       "          year  month        state_city      city_postalcode  \\\n",
       "60109      NaN    NaN    TN - Nashville    Nashville - 37210   \n",
       "187381  2012.0   12.0  FL - Palm Harbor  Palm Harbor - 34684   \n",
       "\n",
       "           state_city_postalcode  \n",
       "60109     TN - Nashville - 37210  \n",
       "187381  FL - Palm Harbor - 34684  "
      ]
     },
     "execution_count": 13,
     "metadata": {},
     "output_type": "execute_result"
    }
   ],
   "source": [
    "dfy_rest = yelp_rest\n",
    "\n",
    "dfy_rest['source'] = 'yelp'\n",
    "dfy_rest = dfy_rest[['source','business_id', 'name', 'state', 'city', 'postal_code', 'price', 'stars', 'review_count']]\n",
    "dfy_rest = dfy_rest.rename(columns={'business_id': 'site_id', 'stars':'rating_avg', 'review_count':'reviews_count'})\n",
    "\n",
    "dfy_rest.dropna(subset=['price'], inplace=True)\n",
    "\n",
    "# Agregado de fecha de inicio de acitividad\n",
    "dfy_rest_date_start = dfy_reviews.groupby('site_id')['datetime'].min().reset_index()\n",
    "dfy_rest = pd.merge(dfy_rest, dfy_rest_date_start, how='left', on=['site_id'])\n",
    "dfy_rest = dfy_rest.rename(columns={'datetime': 'date_start'})\n",
    "\n",
    "dfy_rest['year'] = dfy_rest['date_start'].dt.year\n",
    "dfy_rest['month'] = dfy_rest['date_start'].dt.month\n",
    "\n",
    "dfy_rest['state_city'] = dfy_rest['state'].str.cat(dfy_rest['city'], sep=' - ')\n",
    "dfy_rest['city_postalcode'] = dfy_rest['city'].str.cat(dfy_rest['postal_code'], sep=' - ')\n",
    "dfy_rest['state_city_postalcode'] = dfy_rest['state'].str.cat(dfy_rest['city'], sep=' - ').str.cat(dfy_rest['postal_code'], sep=' - ')\n",
    "\n",
    "print(dfy_rest.info())\n",
    "dfy_rest.sample(2)"
   ]
  },
  {
   "cell_type": "code",
   "execution_count": 14,
   "metadata": {},
   "outputs": [
    {
     "name": "stdout",
     "output_type": "stream",
     "text": [
      "<class 'pandas.core.frame.DataFrame'>\n",
      "RangeIndex: 211084 entries, 0 to 211083\n",
      "Data columns (total 15 columns):\n",
      " #   Column                 Non-Null Count   Dtype         \n",
      "---  ------                 --------------   -----         \n",
      " 0   source                 211084 non-null  object        \n",
      " 1   site_id                211084 non-null  object        \n",
      " 2   name                   211084 non-null  object        \n",
      " 3   state                  211084 non-null  object        \n",
      " 4   city                   211084 non-null  object        \n",
      " 5   postal_code            211084 non-null  object        \n",
      " 6   price                  211084 non-null  float64       \n",
      " 7   rating_avg             211084 non-null  float64       \n",
      " 8   reviews_count          211084 non-null  int64         \n",
      " 9   date_start             128792 non-null  datetime64[ns]\n",
      " 10  year                   128792 non-null  float64       \n",
      " 11  month                  128792 non-null  float64       \n",
      " 12  state_city             211084 non-null  object        \n",
      " 13  city_postalcode        211084 non-null  object        \n",
      " 14  state_city_postalcode  211084 non-null  object        \n",
      "dtypes: datetime64[ns](1), float64(4), int64(1), object(9)\n",
      "memory usage: 24.2+ MB\n",
      "None\n"
     ]
    },
    {
     "data": {
      "text/html": [
       "<div>\n",
       "<style scoped>\n",
       "    .dataframe tbody tr th:only-of-type {\n",
       "        vertical-align: middle;\n",
       "    }\n",
       "\n",
       "    .dataframe tbody tr th {\n",
       "        vertical-align: top;\n",
       "    }\n",
       "\n",
       "    .dataframe thead th {\n",
       "        text-align: right;\n",
       "    }\n",
       "</style>\n",
       "<table border=\"1\" class=\"dataframe\">\n",
       "  <thead>\n",
       "    <tr style=\"text-align: right;\">\n",
       "      <th></th>\n",
       "      <th>source</th>\n",
       "      <th>site_id</th>\n",
       "      <th>name</th>\n",
       "      <th>state</th>\n",
       "      <th>city</th>\n",
       "      <th>postal_code</th>\n",
       "      <th>price</th>\n",
       "      <th>rating_avg</th>\n",
       "      <th>reviews_count</th>\n",
       "      <th>date_start</th>\n",
       "      <th>year</th>\n",
       "      <th>month</th>\n",
       "      <th>state_city</th>\n",
       "      <th>city_postalcode</th>\n",
       "      <th>state_city_postalcode</th>\n",
       "    </tr>\n",
       "  </thead>\n",
       "  <tbody>\n",
       "    <tr>\n",
       "      <th>90733</th>\n",
       "      <td>yelp</td>\n",
       "      <td>IE-5GIHlAINr0zO4lrJ_Lg</td>\n",
       "      <td>I Dream of Weenie</td>\n",
       "      <td>TN</td>\n",
       "      <td>Nashville</td>\n",
       "      <td>37206</td>\n",
       "      <td>1.727273</td>\n",
       "      <td>4.5</td>\n",
       "      <td>213</td>\n",
       "      <td>2010-12-02 00:53:15</td>\n",
       "      <td>2010.0</td>\n",
       "      <td>12.0</td>\n",
       "      <td>TN - Nashville</td>\n",
       "      <td>Nashville - 37206</td>\n",
       "      <td>TN - Nashville - 37206</td>\n",
       "    </tr>\n",
       "    <tr>\n",
       "      <th>51858</th>\n",
       "      <td>yelp</td>\n",
       "      <td>AGZlpvY8u_WcmznFv0rlTA</td>\n",
       "      <td>Three Brothers Grill</td>\n",
       "      <td>PA</td>\n",
       "      <td>Phoenixville</td>\n",
       "      <td>19460</td>\n",
       "      <td>1.294118</td>\n",
       "      <td>4.0</td>\n",
       "      <td>56</td>\n",
       "      <td>2019-10-02 21:12:22</td>\n",
       "      <td>2019.0</td>\n",
       "      <td>10.0</td>\n",
       "      <td>PA - Phoenixville</td>\n",
       "      <td>Phoenixville - 19460</td>\n",
       "      <td>PA - Phoenixville - 19460</td>\n",
       "    </tr>\n",
       "  </tbody>\n",
       "</table>\n",
       "</div>"
      ],
      "text/plain": [
       "      source                 site_id                  name state  \\\n",
       "90733   yelp  IE-5GIHlAINr0zO4lrJ_Lg     I Dream of Weenie    TN   \n",
       "51858   yelp  AGZlpvY8u_WcmznFv0rlTA  Three Brothers Grill    PA   \n",
       "\n",
       "               city postal_code     price  rating_avg  reviews_count  \\\n",
       "90733     Nashville       37206  1.727273         4.5            213   \n",
       "51858  Phoenixville       19460  1.294118         4.0             56   \n",
       "\n",
       "               date_start    year  month         state_city  \\\n",
       "90733 2010-12-02 00:53:15  2010.0   12.0     TN - Nashville   \n",
       "51858 2019-10-02 21:12:22  2019.0   10.0  PA - Phoenixville   \n",
       "\n",
       "            city_postalcode      state_city_postalcode  \n",
       "90733     Nashville - 37206     TN - Nashville - 37206  \n",
       "51858  Phoenixville - 19460  PA - Phoenixville - 19460  "
      ]
     },
     "execution_count": 14,
     "metadata": {},
     "output_type": "execute_result"
    }
   ],
   "source": [
    "print(dfy_rest.info())\n",
    "dfy_rest.sample(2)"
   ]
  },
  {
   "cell_type": "markdown",
   "metadata": {},
   "source": [
    "### YELP user"
   ]
  },
  {
   "cell_type": "code",
   "execution_count": 15,
   "metadata": {},
   "outputs": [
    {
     "name": "stdout",
     "output_type": "stream",
     "text": [
      "<class 'pandas.core.frame.DataFrame'>\n",
      "RangeIndex: 2105597 entries, 0 to 2105596\n",
      "Data columns (total 11 columns):\n",
      " #   Column         Dtype         \n",
      "---  ------         -----         \n",
      " 0   user_id        object        \n",
      " 1   review_count   int64         \n",
      " 2   fans           int64         \n",
      " 3   yelping_since  datetime64[ns]\n",
      " 4   useful         int64         \n",
      " 5   funny          int64         \n",
      " 6   cool           int64         \n",
      " 7   average_stars  float64       \n",
      " 8   year           int32         \n",
      " 9   month          int32         \n",
      " 10  year_month     object        \n",
      "dtypes: datetime64[ns](1), float64(1), int32(2), int64(5), object(2)\n",
      "memory usage: 160.6+ MB\n",
      "None\n"
     ]
    },
    {
     "data": {
      "text/html": [
       "<div>\n",
       "<style scoped>\n",
       "    .dataframe tbody tr th:only-of-type {\n",
       "        vertical-align: middle;\n",
       "    }\n",
       "\n",
       "    .dataframe tbody tr th {\n",
       "        vertical-align: top;\n",
       "    }\n",
       "\n",
       "    .dataframe thead th {\n",
       "        text-align: right;\n",
       "    }\n",
       "</style>\n",
       "<table border=\"1\" class=\"dataframe\">\n",
       "  <thead>\n",
       "    <tr style=\"text-align: right;\">\n",
       "      <th></th>\n",
       "      <th>user_id</th>\n",
       "      <th>review_count</th>\n",
       "      <th>fans</th>\n",
       "      <th>yelping_since</th>\n",
       "      <th>useful</th>\n",
       "      <th>funny</th>\n",
       "      <th>cool</th>\n",
       "      <th>average_stars</th>\n",
       "      <th>year</th>\n",
       "      <th>month</th>\n",
       "      <th>year_month</th>\n",
       "    </tr>\n",
       "  </thead>\n",
       "  <tbody>\n",
       "    <tr>\n",
       "      <th>1370784</th>\n",
       "      <td>lXgV8K_gorCIaTZalp3U3w</td>\n",
       "      <td>4</td>\n",
       "      <td>0</td>\n",
       "      <td>2018-01-30 18:41:42</td>\n",
       "      <td>0</td>\n",
       "      <td>0</td>\n",
       "      <td>0</td>\n",
       "      <td>5.00</td>\n",
       "      <td>2018</td>\n",
       "      <td>1</td>\n",
       "      <td>1801</td>\n",
       "    </tr>\n",
       "    <tr>\n",
       "      <th>927210</th>\n",
       "      <td>22L6qIo-OKUB38hJkOBLIQ</td>\n",
       "      <td>3</td>\n",
       "      <td>0</td>\n",
       "      <td>2018-11-15 02:19:04</td>\n",
       "      <td>1</td>\n",
       "      <td>0</td>\n",
       "      <td>0</td>\n",
       "      <td>2.33</td>\n",
       "      <td>2018</td>\n",
       "      <td>11</td>\n",
       "      <td>1811</td>\n",
       "    </tr>\n",
       "  </tbody>\n",
       "</table>\n",
       "</div>"
      ],
      "text/plain": [
       "                        user_id  review_count  fans       yelping_since  \\\n",
       "1370784  lXgV8K_gorCIaTZalp3U3w             4     0 2018-01-30 18:41:42   \n",
       "927210   22L6qIo-OKUB38hJkOBLIQ             3     0 2018-11-15 02:19:04   \n",
       "\n",
       "         useful  funny  cool  average_stars  year  month year_month  \n",
       "1370784       0      0     0           5.00  2018      1       1801  \n",
       "927210        1      0     0           2.33  2018     11       1811  "
      ]
     },
     "execution_count": 15,
     "metadata": {},
     "output_type": "execute_result"
    }
   ],
   "source": [
    "dfy_user =yelp_user.copy()\n",
    "print(dfy_user.info())\n",
    "dfy_user.sample(2)"
   ]
  },
  {
   "cell_type": "code",
   "execution_count": 16,
   "metadata": {},
   "outputs": [
    {
     "name": "stdout",
     "output_type": "stream",
     "text": [
      "<class 'pandas.core.frame.DataFrame'>\n",
      "RangeIndex: 2105597 entries, 0 to 2105596\n",
      "Data columns (total 7 columns):\n",
      " #   Column         Dtype         \n",
      "---  ------         -----         \n",
      " 0   user_id        object        \n",
      " 1   reviews_count  int64         \n",
      " 2   date_start     datetime64[ns]\n",
      " 3   rating_avg     float64       \n",
      " 4   year           int32         \n",
      " 5   month          int32         \n",
      " 6   source         object        \n",
      "dtypes: datetime64[ns](1), float64(1), int32(2), int64(1), object(2)\n",
      "memory usage: 96.4+ MB\n"
     ]
    },
    {
     "data": {
      "text/html": [
       "<div>\n",
       "<style scoped>\n",
       "    .dataframe tbody tr th:only-of-type {\n",
       "        vertical-align: middle;\n",
       "    }\n",
       "\n",
       "    .dataframe tbody tr th {\n",
       "        vertical-align: top;\n",
       "    }\n",
       "\n",
       "    .dataframe thead th {\n",
       "        text-align: right;\n",
       "    }\n",
       "</style>\n",
       "<table border=\"1\" class=\"dataframe\">\n",
       "  <thead>\n",
       "    <tr style=\"text-align: right;\">\n",
       "      <th></th>\n",
       "      <th>user_id</th>\n",
       "      <th>reviews_count</th>\n",
       "      <th>date_start</th>\n",
       "      <th>rating_avg</th>\n",
       "      <th>year</th>\n",
       "      <th>month</th>\n",
       "      <th>source</th>\n",
       "    </tr>\n",
       "  </thead>\n",
       "  <tbody>\n",
       "    <tr>\n",
       "      <th>909811</th>\n",
       "      <td>SGvqdJ8i1uN_1foDNMbvtA</td>\n",
       "      <td>5</td>\n",
       "      <td>2018-06-12 13:25:05</td>\n",
       "      <td>3.40</td>\n",
       "      <td>2018</td>\n",
       "      <td>6</td>\n",
       "      <td>yelp</td>\n",
       "    </tr>\n",
       "    <tr>\n",
       "      <th>1072479</th>\n",
       "      <td>6bdjFdFlix-vd7HhVB95MA</td>\n",
       "      <td>52</td>\n",
       "      <td>2016-06-18 22:51:05</td>\n",
       "      <td>2.92</td>\n",
       "      <td>2016</td>\n",
       "      <td>6</td>\n",
       "      <td>yelp</td>\n",
       "    </tr>\n",
       "    <tr>\n",
       "      <th>668920</th>\n",
       "      <td>UeUoSc_Z3LNGvrJMdhMBUw</td>\n",
       "      <td>8</td>\n",
       "      <td>2015-04-11 15:55:52</td>\n",
       "      <td>3.11</td>\n",
       "      <td>2015</td>\n",
       "      <td>4</td>\n",
       "      <td>yelp</td>\n",
       "    </tr>\n",
       "    <tr>\n",
       "      <th>170426</th>\n",
       "      <td>87L_KFhQGReDb81pD9VuoQ</td>\n",
       "      <td>14</td>\n",
       "      <td>2012-05-17 21:45:48</td>\n",
       "      <td>4.94</td>\n",
       "      <td>2012</td>\n",
       "      <td>5</td>\n",
       "      <td>yelp</td>\n",
       "    </tr>\n",
       "    <tr>\n",
       "      <th>1841388</th>\n",
       "      <td>a6UPeNf6UrGxXuTcQ6ixuw</td>\n",
       "      <td>34</td>\n",
       "      <td>2016-10-13 19:59:00</td>\n",
       "      <td>3.86</td>\n",
       "      <td>2016</td>\n",
       "      <td>10</td>\n",
       "      <td>yelp</td>\n",
       "    </tr>\n",
       "  </tbody>\n",
       "</table>\n",
       "</div>"
      ],
      "text/plain": [
       "                        user_id  reviews_count          date_start  \\\n",
       "909811   SGvqdJ8i1uN_1foDNMbvtA              5 2018-06-12 13:25:05   \n",
       "1072479  6bdjFdFlix-vd7HhVB95MA             52 2016-06-18 22:51:05   \n",
       "668920   UeUoSc_Z3LNGvrJMdhMBUw              8 2015-04-11 15:55:52   \n",
       "170426   87L_KFhQGReDb81pD9VuoQ             14 2012-05-17 21:45:48   \n",
       "1841388  a6UPeNf6UrGxXuTcQ6ixuw             34 2016-10-13 19:59:00   \n",
       "\n",
       "         rating_avg  year  month source  \n",
       "909811         3.40  2018      6   yelp  \n",
       "1072479        2.92  2016      6   yelp  \n",
       "668920         3.11  2015      4   yelp  \n",
       "170426         4.94  2012      5   yelp  \n",
       "1841388        3.86  2016     10   yelp  "
      ]
     },
     "execution_count": 16,
     "metadata": {},
     "output_type": "execute_result"
    }
   ],
   "source": [
    "# Selección de campos\n",
    "dfy_user = dfy_user[['user_id', 'review_count', 'yelping_since', 'average_stars']]\n",
    "dfy_user = dfy_user.rename(columns={'review_count':'reviews_count', 'yelping_since':'date_start', 'average_stars':'rating_avg'})\n",
    "\n",
    "dfy_user['date_start'] = pd.to_datetime(dfy_user['date_start'], errors='coerce')\n",
    "dfy_user.reset_index(drop=True, inplace=True)\n",
    "\n",
    "dfy_user['year'] = dfy_user['date_start'].dt.year\n",
    "dfy_user['month'] = dfy_user['date_start'].dt.month\n",
    "\n",
    "dfy_user['source'] = 'yelp'\n",
    "dfy_user.info()\n",
    "dfy_user.sample(5)"
   ]
  },
  {
   "cell_type": "markdown",
   "metadata": {},
   "source": [
    "### YELP checkin"
   ]
  },
  {
   "cell_type": "code",
   "execution_count": 17,
   "metadata": {},
   "outputs": [
    {
     "name": "stdout",
     "output_type": "stream",
     "text": [
      "(28668325, 19)\n"
     ]
    },
    {
     "data": {
      "text/html": [
       "<div>\n",
       "<style scoped>\n",
       "    .dataframe tbody tr th:only-of-type {\n",
       "        vertical-align: middle;\n",
       "    }\n",
       "\n",
       "    .dataframe tbody tr th {\n",
       "        vertical-align: top;\n",
       "    }\n",
       "\n",
       "    .dataframe thead th {\n",
       "        text-align: right;\n",
       "    }\n",
       "</style>\n",
       "<table border=\"1\" class=\"dataframe\">\n",
       "  <thead>\n",
       "    <tr style=\"text-align: right;\">\n",
       "      <th></th>\n",
       "      <th>business_id</th>\n",
       "      <th>date</th>\n",
       "      <th>name</th>\n",
       "      <th>city</th>\n",
       "      <th>postal_code</th>\n",
       "      <th>latitude</th>\n",
       "      <th>longitude</th>\n",
       "      <th>stars</th>\n",
       "      <th>review_count</th>\n",
       "      <th>is_open</th>\n",
       "      <th>state</th>\n",
       "      <th>state_city</th>\n",
       "      <th>city_postalcode</th>\n",
       "      <th>state_city_postalcode</th>\n",
       "      <th>categories</th>\n",
       "      <th>food</th>\n",
       "      <th>price</th>\n",
       "      <th>year</th>\n",
       "      <th>month</th>\n",
       "    </tr>\n",
       "  </thead>\n",
       "  <tbody>\n",
       "    <tr>\n",
       "      <th>3421595</th>\n",
       "      <td>6WnKV1E4J1ItXJtSKjJ0kw</td>\n",
       "      <td>2017-07-08 20:36:36</td>\n",
       "      <td>Banh Street Fried Chicken</td>\n",
       "      <td>Ambler</td>\n",
       "      <td>19002</td>\n",
       "      <td>40.180694</td>\n",
       "      <td>-75.226025</td>\n",
       "      <td>4.0</td>\n",
       "      <td>112</td>\n",
       "      <td>0</td>\n",
       "      <td>PA</td>\n",
       "      <td>PA - Ambler</td>\n",
       "      <td>Ambler - 19002</td>\n",
       "      <td>PA - Ambler - 19002</td>\n",
       "      <td>Chicken Wings</td>\n",
       "      <td>yes</td>\n",
       "      <td>1.666667</td>\n",
       "      <td>2017</td>\n",
       "      <td>7</td>\n",
       "    </tr>\n",
       "    <tr>\n",
       "      <th>25528823</th>\n",
       "      <td>swVdc9piXvG0AXwL-F0GfQ</td>\n",
       "      <td>2019-09-07 14:55:14</td>\n",
       "      <td>Gallier Restaurant &amp; Oyster Bar</td>\n",
       "      <td>New Orleans</td>\n",
       "      <td>70112</td>\n",
       "      <td>29.953324</td>\n",
       "      <td>-90.070790</td>\n",
       "      <td>4.5</td>\n",
       "      <td>819</td>\n",
       "      <td>1</td>\n",
       "      <td>LA</td>\n",
       "      <td>LA - New Orleans</td>\n",
       "      <td>New Orleans - 70112</td>\n",
       "      <td>LA - New Orleans - 70112</td>\n",
       "      <td>Salad</td>\n",
       "      <td>yes</td>\n",
       "      <td>1.555556</td>\n",
       "      <td>2019</td>\n",
       "      <td>9</td>\n",
       "    </tr>\n",
       "  </tbody>\n",
       "</table>\n",
       "</div>"
      ],
      "text/plain": [
       "                     business_id                date  \\\n",
       "3421595   6WnKV1E4J1ItXJtSKjJ0kw 2017-07-08 20:36:36   \n",
       "25528823  swVdc9piXvG0AXwL-F0GfQ 2019-09-07 14:55:14   \n",
       "\n",
       "                                     name         city postal_code   latitude  \\\n",
       "3421595         Banh Street Fried Chicken       Ambler       19002  40.180694   \n",
       "25528823  Gallier Restaurant & Oyster Bar  New Orleans       70112  29.953324   \n",
       "\n",
       "          longitude  stars  review_count  is_open state        state_city  \\\n",
       "3421595  -75.226025    4.0           112        0    PA       PA - Ambler   \n",
       "25528823 -90.070790    4.5           819        1    LA  LA - New Orleans   \n",
       "\n",
       "              city_postalcode     state_city_postalcode     categories food  \\\n",
       "3421595        Ambler - 19002       PA - Ambler - 19002  Chicken Wings  yes   \n",
       "25528823  New Orleans - 70112  LA - New Orleans - 70112          Salad  yes   \n",
       "\n",
       "             price  year  month  \n",
       "3421595   1.666667  2017      7  \n",
       "25528823  1.555556  2019      9  "
      ]
     },
     "execution_count": 17,
     "metadata": {},
     "output_type": "execute_result"
    }
   ],
   "source": [
    "print(yelp_checkins.shape)\n",
    "yelp_checkins.sample(2)"
   ]
  },
  {
   "cell_type": "code",
   "execution_count": 18,
   "metadata": {},
   "outputs": [],
   "source": [
    "dfy_checkins = yelp_checkins[['business_id', 'date']]\n",
    "dfy_checkins = dfy_checkins.rename(columns={'business_id':'site_id', 'date':'datetime'})\n",
    "\n",
    "#dfy_checkins['datetime'] = pd.to_datetime(dfy_checkins['date'])\n",
    "dfy_checkins['year'] = dfy_checkins['datetime'].dt.year\n",
    "dfy_checkins['month'] = dfy_checkins['datetime'].dt.month\n",
    "\n",
    "dfy_checkins['source'] = 'yelp'\n",
    "\n",
    "dfy_checkins = dfy_checkins[['source', 'site_id', 'datetime', 'year', 'month']]"
   ]
  },
  {
   "cell_type": "code",
   "execution_count": 19,
   "metadata": {},
   "outputs": [
    {
     "name": "stdout",
     "output_type": "stream",
     "text": [
      "<class 'pandas.core.frame.DataFrame'>\n",
      "Index: 28668325 entries, 0 to 28715821\n",
      "Data columns (total 5 columns):\n",
      " #   Column    Dtype         \n",
      "---  ------    -----         \n",
      " 0   source    object        \n",
      " 1   site_id   object        \n",
      " 2   datetime  datetime64[ns]\n",
      " 3   year      int32         \n",
      " 4   month     int32         \n",
      "dtypes: datetime64[ns](1), int32(2), object(2)\n",
      "memory usage: 1.1+ GB\n",
      "None\n"
     ]
    },
    {
     "data": {
      "text/html": [
       "<div>\n",
       "<style scoped>\n",
       "    .dataframe tbody tr th:only-of-type {\n",
       "        vertical-align: middle;\n",
       "    }\n",
       "\n",
       "    .dataframe tbody tr th {\n",
       "        vertical-align: top;\n",
       "    }\n",
       "\n",
       "    .dataframe thead th {\n",
       "        text-align: right;\n",
       "    }\n",
       "</style>\n",
       "<table border=\"1\" class=\"dataframe\">\n",
       "  <thead>\n",
       "    <tr style=\"text-align: right;\">\n",
       "      <th></th>\n",
       "      <th>source</th>\n",
       "      <th>site_id</th>\n",
       "      <th>datetime</th>\n",
       "      <th>year</th>\n",
       "      <th>month</th>\n",
       "    </tr>\n",
       "  </thead>\n",
       "  <tbody>\n",
       "    <tr>\n",
       "      <th>14072188</th>\n",
       "      <td>yelp</td>\n",
       "      <td>UCMSWPqzXjd7QHq7v8PJjQ</td>\n",
       "      <td>2021-03-26 21:30:54</td>\n",
       "      <td>2021</td>\n",
       "      <td>3</td>\n",
       "    </tr>\n",
       "    <tr>\n",
       "      <th>12705354</th>\n",
       "      <td>yelp</td>\n",
       "      <td>RW6QbpkmAyEPHrdi32IQwA</td>\n",
       "      <td>2013-12-15 21:22:51</td>\n",
       "      <td>2013</td>\n",
       "      <td>12</td>\n",
       "    </tr>\n",
       "  </tbody>\n",
       "</table>\n",
       "</div>"
      ],
      "text/plain": [
       "         source                 site_id            datetime  year  month\n",
       "14072188   yelp  UCMSWPqzXjd7QHq7v8PJjQ 2021-03-26 21:30:54  2021      3\n",
       "12705354   yelp  RW6QbpkmAyEPHrdi32IQwA 2013-12-15 21:22:51  2013     12"
      ]
     },
     "execution_count": 19,
     "metadata": {},
     "output_type": "execute_result"
    }
   ],
   "source": [
    "print(dfy_checkins.info())\n",
    "dfy_checkins.sample(2)"
   ]
  },
  {
   "cell_type": "markdown",
   "metadata": {},
   "source": [
    "### YELP categories"
   ]
  },
  {
   "cell_type": "code",
   "execution_count": 20,
   "metadata": {},
   "outputs": [
    {
     "name": "stdout",
     "output_type": "stream",
     "text": [
      "<class 'pandas.core.frame.DataFrame'>\n",
      "RangeIndex: 149643 entries, 0 to 149642\n",
      "Data columns (total 3 columns):\n",
      " #   Column      Non-Null Count   Dtype \n",
      "---  ------      --------------   ----- \n",
      " 0   site_id     149643 non-null  object\n",
      " 1   categories  149643 non-null  object\n",
      " 2   food        149643 non-null  object\n",
      "dtypes: object(3)\n",
      "memory usage: 3.4+ MB\n"
     ]
    },
    {
     "data": {
      "text/html": [
       "<div>\n",
       "<style scoped>\n",
       "    .dataframe tbody tr th:only-of-type {\n",
       "        vertical-align: middle;\n",
       "    }\n",
       "\n",
       "    .dataframe tbody tr th {\n",
       "        vertical-align: top;\n",
       "    }\n",
       "\n",
       "    .dataframe thead th {\n",
       "        text-align: right;\n",
       "    }\n",
       "</style>\n",
       "<table border=\"1\" class=\"dataframe\">\n",
       "  <thead>\n",
       "    <tr style=\"text-align: right;\">\n",
       "      <th></th>\n",
       "      <th>site_id</th>\n",
       "      <th>categories</th>\n",
       "      <th>food</th>\n",
       "    </tr>\n",
       "  </thead>\n",
       "  <tbody>\n",
       "    <tr>\n",
       "      <th>35138</th>\n",
       "      <td>gpYBhnTk4KzvvH83TsZiQg</td>\n",
       "      <td>Fast Food</td>\n",
       "      <td>yes</td>\n",
       "    </tr>\n",
       "    <tr>\n",
       "      <th>112908</th>\n",
       "      <td>m8N0btBDOxfnYjgl2OuOaQ</td>\n",
       "      <td>Specialty Food</td>\n",
       "      <td>yes</td>\n",
       "    </tr>\n",
       "  </tbody>\n",
       "</table>\n",
       "</div>"
      ],
      "text/plain": [
       "                       site_id      categories food\n",
       "35138   gpYBhnTk4KzvvH83TsZiQg       Fast Food  yes\n",
       "112908  m8N0btBDOxfnYjgl2OuOaQ  Specialty Food  yes"
      ]
     },
     "execution_count": 20,
     "metadata": {},
     "output_type": "execute_result"
    }
   ],
   "source": [
    "yelp_site_categories.info()\n",
    "yelp_site_categories.sample(2)"
   ]
  },
  {
   "cell_type": "code",
   "execution_count": 21,
   "metadata": {},
   "outputs": [
    {
     "name": "stdout",
     "output_type": "stream",
     "text": [
      "<class 'pandas.core.frame.DataFrame'>\n",
      "RangeIndex: 149643 entries, 0 to 149642\n",
      "Data columns (total 3 columns):\n",
      " #   Column      Non-Null Count   Dtype \n",
      "---  ------      --------------   ----- \n",
      " 0   source      149643 non-null  object\n",
      " 1   site_id     149643 non-null  object\n",
      " 2   categories  149643 non-null  object\n",
      "dtypes: object(3)\n",
      "memory usage: 3.4+ MB\n"
     ]
    },
    {
     "data": {
      "text/html": [
       "<div>\n",
       "<style scoped>\n",
       "    .dataframe tbody tr th:only-of-type {\n",
       "        vertical-align: middle;\n",
       "    }\n",
       "\n",
       "    .dataframe tbody tr th {\n",
       "        vertical-align: top;\n",
       "    }\n",
       "\n",
       "    .dataframe thead th {\n",
       "        text-align: right;\n",
       "    }\n",
       "</style>\n",
       "<table border=\"1\" class=\"dataframe\">\n",
       "  <thead>\n",
       "    <tr style=\"text-align: right;\">\n",
       "      <th></th>\n",
       "      <th>source</th>\n",
       "      <th>site_id</th>\n",
       "      <th>categories</th>\n",
       "    </tr>\n",
       "  </thead>\n",
       "  <tbody>\n",
       "    <tr>\n",
       "      <th>91091</th>\n",
       "      <td>yelp</td>\n",
       "      <td>xroqvcfo86oFsvlbj5h2_g</td>\n",
       "      <td>Seafood</td>\n",
       "    </tr>\n",
       "    <tr>\n",
       "      <th>142245</th>\n",
       "      <td>yelp</td>\n",
       "      <td>10wt8eSXI_PZfl9dRIiWmg</td>\n",
       "      <td>Halal</td>\n",
       "    </tr>\n",
       "  </tbody>\n",
       "</table>\n",
       "</div>"
      ],
      "text/plain": [
       "       source                 site_id categories\n",
       "91091    yelp  xroqvcfo86oFsvlbj5h2_g    Seafood\n",
       "142245   yelp  10wt8eSXI_PZfl9dRIiWmg      Halal"
      ]
     },
     "execution_count": 21,
     "metadata": {},
     "output_type": "execute_result"
    }
   ],
   "source": [
    "dfy_categories = yelp_site_categories[['site_id', 'categories']]\n",
    "dfy_categories['source'] = 'yelp'\n",
    "dfy_categories = dfy_categories[['source', 'site_id', 'categories']]\n",
    "\n",
    "dfy_categories.info()\n",
    "dfy_categories.sample(2)"
   ]
  },
  {
   "cell_type": "markdown",
   "metadata": {},
   "source": [
    "### YELP attributes"
   ]
  },
  {
   "cell_type": "code",
   "execution_count": 66,
   "metadata": {},
   "outputs": [
    {
     "name": "stdout",
     "output_type": "stream",
     "text": [
      "(1206820, 2)\n"
     ]
    },
    {
     "data": {
      "text/html": [
       "<div>\n",
       "<style scoped>\n",
       "    .dataframe tbody tr th:only-of-type {\n",
       "        vertical-align: middle;\n",
       "    }\n",
       "\n",
       "    .dataframe tbody tr th {\n",
       "        vertical-align: top;\n",
       "    }\n",
       "\n",
       "    .dataframe thead th {\n",
       "        text-align: right;\n",
       "    }\n",
       "</style>\n",
       "<table border=\"1\" class=\"dataframe\">\n",
       "  <thead>\n",
       "    <tr style=\"text-align: right;\">\n",
       "      <th></th>\n",
       "      <th>business_id</th>\n",
       "      <th>attributes</th>\n",
       "    </tr>\n",
       "  </thead>\n",
       "  <tbody>\n",
       "    <tr>\n",
       "      <th>1107</th>\n",
       "      <td>Ea2hPSFazxXITET4f6ZJhw</td>\n",
       "      <td>Caters</td>\n",
       "    </tr>\n",
       "    <tr>\n",
       "      <th>585</th>\n",
       "      <td>BQkH3UGGtXzU4IfZewaw_w</td>\n",
       "      <td>WheelchairAccessible</td>\n",
       "    </tr>\n",
       "  </tbody>\n",
       "</table>\n",
       "</div>"
      ],
      "text/plain": [
       "                 business_id            attributes\n",
       "1107  Ea2hPSFazxXITET4f6ZJhw                Caters\n",
       "585   BQkH3UGGtXzU4IfZewaw_w  WheelchairAccessible"
      ]
     },
     "execution_count": 66,
     "metadata": {},
     "output_type": "execute_result"
    }
   ],
   "source": [
    "dfy_attributes = yelp_site_attributes.copy()\n",
    "\n",
    "print(dfy_attributes.shape)\n",
    "dfy_attributes.sample(2)"
   ]
  },
  {
   "cell_type": "code",
   "execution_count": 68,
   "metadata": {},
   "outputs": [
    {
     "data": {
      "text/plain": [
       "0"
      ]
     },
     "execution_count": 68,
     "metadata": {},
     "output_type": "execute_result"
    }
   ],
   "source": [
    "dfy_attributes.duplicated().sum()"
   ]
  },
  {
   "cell_type": "code",
   "execution_count": 69,
   "metadata": {},
   "outputs": [],
   "source": [
    "# Exportación de dataset\n",
    "dfy_attributes.to_csv('dfy_attributes.csv', index=False)"
   ]
  },
  {
   "cell_type": "markdown",
   "metadata": {},
   "source": [
    "## Datasets GOOGLE\n",
    "------------------------------------------------------------------------------------------------------"
   ]
  },
  {
   "cell_type": "markdown",
   "metadata": {},
   "source": [
    "### GOOGLE reviews"
   ]
  },
  {
   "cell_type": "code",
   "execution_count": 23,
   "metadata": {},
   "outputs": [
    {
     "name": "stdout",
     "output_type": "stream",
     "text": [
      "<class 'pandas.core.frame.DataFrame'>\n",
      "RangeIndex: 4346287 entries, 0 to 4346286\n",
      "Data columns (total 7 columns):\n",
      " #   Column           Dtype         \n",
      "---  ------           -----         \n",
      " 0   user_id          float64       \n",
      " 1   gmap_id          object        \n",
      " 2   state            object        \n",
      " 3   datetime         datetime64[ns]\n",
      " 4   rating           int64         \n",
      " 5   vader_polarity   float64       \n",
      " 6   vader_sentiment  int64         \n",
      "dtypes: datetime64[ns](1), float64(2), int64(2), object(2)\n",
      "memory usage: 232.1+ MB\n",
      "None\n"
     ]
    },
    {
     "data": {
      "text/html": [
       "<div>\n",
       "<style scoped>\n",
       "    .dataframe tbody tr th:only-of-type {\n",
       "        vertical-align: middle;\n",
       "    }\n",
       "\n",
       "    .dataframe tbody tr th {\n",
       "        vertical-align: top;\n",
       "    }\n",
       "\n",
       "    .dataframe thead th {\n",
       "        text-align: right;\n",
       "    }\n",
       "</style>\n",
       "<table border=\"1\" class=\"dataframe\">\n",
       "  <thead>\n",
       "    <tr style=\"text-align: right;\">\n",
       "      <th></th>\n",
       "      <th>user_id</th>\n",
       "      <th>gmap_id</th>\n",
       "      <th>state</th>\n",
       "      <th>datetime</th>\n",
       "      <th>rating</th>\n",
       "      <th>vader_polarity</th>\n",
       "      <th>vader_sentiment</th>\n",
       "    </tr>\n",
       "  </thead>\n",
       "  <tbody>\n",
       "    <tr>\n",
       "      <th>1737498</th>\n",
       "      <td>1.044525e+20</td>\n",
       "      <td>0x89e37c1c2bf9649f:0xb2e37def485358e6</td>\n",
       "      <td>MA</td>\n",
       "      <td>2019-07-02 21:24:55.147</td>\n",
       "      <td>5</td>\n",
       "      <td>0.5093</td>\n",
       "      <td>1</td>\n",
       "    </tr>\n",
       "    <tr>\n",
       "      <th>1332000</th>\n",
       "      <td>1.108222e+20</td>\n",
       "      <td>0x87e4fa83b2b4b611:0x6f07f6d8c88372f4</td>\n",
       "      <td>IA</td>\n",
       "      <td>2016-08-26 03:32:39.644</td>\n",
       "      <td>5</td>\n",
       "      <td>0.6239</td>\n",
       "      <td>1</td>\n",
       "    </tr>\n",
       "  </tbody>\n",
       "</table>\n",
       "</div>"
      ],
      "text/plain": [
       "              user_id                                gmap_id state  \\\n",
       "1737498  1.044525e+20  0x89e37c1c2bf9649f:0xb2e37def485358e6    MA   \n",
       "1332000  1.108222e+20  0x87e4fa83b2b4b611:0x6f07f6d8c88372f4    IA   \n",
       "\n",
       "                       datetime  rating  vader_polarity  vader_sentiment  \n",
       "1737498 2019-07-02 21:24:55.147       5          0.5093                1  \n",
       "1332000 2016-08-26 03:32:39.644       5          0.6239                1  "
      ]
     },
     "execution_count": 23,
     "metadata": {},
     "output_type": "execute_result"
    }
   ],
   "source": [
    "print(google_reviews.info())\n",
    "google_reviews.sample(2)"
   ]
  },
  {
   "cell_type": "code",
   "execution_count": 24,
   "metadata": {},
   "outputs": [],
   "source": [
    "dfg_reviews = google_reviews\n",
    "dfg_reviews['source'] = 'google'\n",
    "dfg_reviews['month'] = dfg_reviews['datetime'].dt.month\n",
    "dfg_reviews['year'] = dfg_reviews['datetime'].dt.year\n",
    "dfg_reviews = dfg_reviews[['source', 'gmap_id','user_id', 'datetime', 'month', 'year', 'rating', 'vader_polarity', 'vader_sentiment']]\n",
    "dfg_reviews = dfg_reviews.rename(columns={'gmap_id': 'site_id', 'vader_polarity':'polarity', 'vader_sentiment':'sentiment'})"
   ]
  },
  {
   "cell_type": "code",
   "execution_count": 25,
   "metadata": {},
   "outputs": [
    {
     "data": {
      "text/html": [
       "<div>\n",
       "<style scoped>\n",
       "    .dataframe tbody tr th:only-of-type {\n",
       "        vertical-align: middle;\n",
       "    }\n",
       "\n",
       "    .dataframe tbody tr th {\n",
       "        vertical-align: top;\n",
       "    }\n",
       "\n",
       "    .dataframe thead th {\n",
       "        text-align: right;\n",
       "    }\n",
       "</style>\n",
       "<table border=\"1\" class=\"dataframe\">\n",
       "  <thead>\n",
       "    <tr style=\"text-align: right;\">\n",
       "      <th></th>\n",
       "      <th>source</th>\n",
       "      <th>site_id</th>\n",
       "      <th>user_id</th>\n",
       "      <th>datetime</th>\n",
       "      <th>month</th>\n",
       "      <th>year</th>\n",
       "      <th>rating</th>\n",
       "      <th>polarity</th>\n",
       "      <th>sentiment</th>\n",
       "    </tr>\n",
       "  </thead>\n",
       "  <tbody>\n",
       "    <tr>\n",
       "      <th>2593148</th>\n",
       "      <td>google</td>\n",
       "      <td>0x89c2595f0bba706d:0xb9cf046d527b85fd</td>\n",
       "      <td>1.074906e+20</td>\n",
       "      <td>2020-09-08 11:37:15.058</td>\n",
       "      <td>9</td>\n",
       "      <td>2020</td>\n",
       "      <td>5</td>\n",
       "      <td>0.9493</td>\n",
       "      <td>1</td>\n",
       "    </tr>\n",
       "    <tr>\n",
       "      <th>479517</th>\n",
       "      <td>google</td>\n",
       "      <td>0x876c875d24506131:0x9a96d5c9bca1eb32</td>\n",
       "      <td>1.167134e+20</td>\n",
       "      <td>2018-08-05 18:28:48.961</td>\n",
       "      <td>8</td>\n",
       "      <td>2018</td>\n",
       "      <td>5</td>\n",
       "      <td>0.9457</td>\n",
       "      <td>1</td>\n",
       "    </tr>\n",
       "  </tbody>\n",
       "</table>\n",
       "</div>"
      ],
      "text/plain": [
       "         source                                site_id       user_id  \\\n",
       "2593148  google  0x89c2595f0bba706d:0xb9cf046d527b85fd  1.074906e+20   \n",
       "479517   google  0x876c875d24506131:0x9a96d5c9bca1eb32  1.167134e+20   \n",
       "\n",
       "                       datetime  month  year  rating  polarity  sentiment  \n",
       "2593148 2020-09-08 11:37:15.058      9  2020       5    0.9493          1  \n",
       "479517  2018-08-05 18:28:48.961      8  2018       5    0.9457          1  "
      ]
     },
     "execution_count": 25,
     "metadata": {},
     "output_type": "execute_result"
    }
   ],
   "source": [
    "dfg_reviews.sample(2)"
   ]
  },
  {
   "cell_type": "markdown",
   "metadata": {},
   "source": [
    "### GOOGLE restaurants"
   ]
  },
  {
   "cell_type": "code",
   "execution_count": 26,
   "metadata": {},
   "outputs": [
    {
     "name": "stdout",
     "output_type": "stream",
     "text": [
      "<class 'pandas.core.frame.DataFrame'>\n",
      "Index: 223485 entries, 2 to 274996\n",
      "Data columns (total 12 columns):\n",
      " #   Column          Non-Null Count   Dtype  \n",
      "---  ------          --------------   -----  \n",
      " 0   name            223485 non-null  object \n",
      " 1   address_full    223485 non-null  object \n",
      " 2   gmap_id         223485 non-null  object \n",
      " 3   latitude        223485 non-null  float64\n",
      " 4   longitude       223485 non-null  float64\n",
      " 5   avg_rating      223485 non-null  float64\n",
      " 6   num_of_reviews  223485 non-null  int64  \n",
      " 7   price           223485 non-null  float64\n",
      " 8   address         223485 non-null  object \n",
      " 9   city            223485 non-null  object \n",
      " 10  postal_code     223485 non-null  object \n",
      " 11  state           223485 non-null  object \n",
      "dtypes: float64(4), int64(1), object(7)\n",
      "memory usage: 22.2+ MB\n",
      "None\n"
     ]
    },
    {
     "data": {
      "text/html": [
       "<div>\n",
       "<style scoped>\n",
       "    .dataframe tbody tr th:only-of-type {\n",
       "        vertical-align: middle;\n",
       "    }\n",
       "\n",
       "    .dataframe tbody tr th {\n",
       "        vertical-align: top;\n",
       "    }\n",
       "\n",
       "    .dataframe thead th {\n",
       "        text-align: right;\n",
       "    }\n",
       "</style>\n",
       "<table border=\"1\" class=\"dataframe\">\n",
       "  <thead>\n",
       "    <tr style=\"text-align: right;\">\n",
       "      <th></th>\n",
       "      <th>name</th>\n",
       "      <th>address_full</th>\n",
       "      <th>gmap_id</th>\n",
       "      <th>latitude</th>\n",
       "      <th>longitude</th>\n",
       "      <th>avg_rating</th>\n",
       "      <th>num_of_reviews</th>\n",
       "      <th>price</th>\n",
       "      <th>address</th>\n",
       "      <th>city</th>\n",
       "      <th>postal_code</th>\n",
       "      <th>state</th>\n",
       "    </tr>\n",
       "  </thead>\n",
       "  <tbody>\n",
       "    <tr>\n",
       "      <th>265822</th>\n",
       "      <td>DinnerDelivery.net Healthy Meals for Time Star...</td>\n",
       "      <td>DinnerDelivery.net Healthy Meals for Time Star...</td>\n",
       "      <td>0x80dbf36398f63541:0xf0c16b10e88fd62d</td>\n",
       "      <td>33.124020</td>\n",
       "      <td>-117.074869</td>\n",
       "      <td>5.0</td>\n",
       "      <td>7</td>\n",
       "      <td>1.263158</td>\n",
       "      <td>511 E Grand Ave</td>\n",
       "      <td>Escondido</td>\n",
       "      <td>92025</td>\n",
       "      <td>CA</td>\n",
       "    </tr>\n",
       "    <tr>\n",
       "      <th>17559</th>\n",
       "      <td>Gino's East</td>\n",
       "      <td>Gino's East, 13846 I-35, Live Oak, TX 78233</td>\n",
       "      <td>0x865c8d0c3164635f:0x515ba780bd736c8c</td>\n",
       "      <td>29.565113</td>\n",
       "      <td>-98.335380</td>\n",
       "      <td>3.7</td>\n",
       "      <td>216</td>\n",
       "      <td>1.333333</td>\n",
       "      <td>13846 I-35</td>\n",
       "      <td>Live Oak</td>\n",
       "      <td>78233</td>\n",
       "      <td>TX</td>\n",
       "    </tr>\n",
       "  </tbody>\n",
       "</table>\n",
       "</div>"
      ],
      "text/plain": [
       "                                                     name  \\\n",
       "265822  DinnerDelivery.net Healthy Meals for Time Star...   \n",
       "17559                                         Gino's East   \n",
       "\n",
       "                                             address_full  \\\n",
       "265822  DinnerDelivery.net Healthy Meals for Time Star...   \n",
       "17559         Gino's East, 13846 I-35, Live Oak, TX 78233   \n",
       "\n",
       "                                      gmap_id   latitude   longitude  \\\n",
       "265822  0x80dbf36398f63541:0xf0c16b10e88fd62d  33.124020 -117.074869   \n",
       "17559   0x865c8d0c3164635f:0x515ba780bd736c8c  29.565113  -98.335380   \n",
       "\n",
       "        avg_rating  num_of_reviews     price          address       city  \\\n",
       "265822         5.0               7  1.263158  511 E Grand Ave  Escondido   \n",
       "17559          3.7             216  1.333333       13846 I-35   Live Oak   \n",
       "\n",
       "       postal_code state  \n",
       "265822       92025    CA  \n",
       "17559        78233    TX  "
      ]
     },
     "execution_count": 26,
     "metadata": {},
     "output_type": "execute_result"
    }
   ],
   "source": [
    "print(google_rest.info())\n",
    "google_rest.sample(2)"
   ]
  },
  {
   "cell_type": "code",
   "execution_count": 27,
   "metadata": {},
   "outputs": [],
   "source": [
    "dfg_rest = google_rest\n",
    "dfg_rest['source'] = 'google'\n",
    "dfg_rest = dfg_rest[['source','gmap_id', 'name', 'state', 'city', 'postal_code', 'price', 'avg_rating', 'num_of_reviews']]\n",
    "dfg_rest = dfg_rest.rename(columns={'gmap_id': 'site_id', 'avg_rating':'rating_avg', 'num_of_reviews':'reviews_count'})\n",
    "\n",
    "# Agregado de fecha de inicio de acitividad\n",
    "dfg_rest_date_start = dfg_reviews.groupby('site_id')['datetime'].min().reset_index()\n",
    "dfg_rest = pd.merge(dfg_rest, dfg_rest_date_start, how='left', on=['site_id'])\n",
    "dfg_rest = dfg_rest.rename(columns={'datetime': 'date_start'})\n",
    "\n",
    "dfg_rest['year'] = dfg_rest['date_start'].dt.year\n",
    "dfg_rest['month'] = dfg_rest['date_start'].dt.month\n",
    "\n",
    "dfg_rest['state_city'] = dfg_rest['state'].str.cat(dfg_rest['city'], sep=' - ')\n",
    "dfg_rest['city_postalcode'] = dfg_rest['city'].str.cat(dfg_rest['postal_code'], sep=' - ')\n",
    "dfg_rest['state_city_postalcode'] = dfg_rest['state'].str.cat(dfy_rest['city'], sep=' - ').str.cat(dfg_rest['postal_code'], sep=' - ')\n"
   ]
  },
  {
   "cell_type": "code",
   "execution_count": 28,
   "metadata": {},
   "outputs": [
    {
     "name": "stdout",
     "output_type": "stream",
     "text": [
      "<class 'pandas.core.frame.DataFrame'>\n",
      "RangeIndex: 223485 entries, 0 to 223484\n",
      "Data columns (total 15 columns):\n",
      " #   Column                 Non-Null Count   Dtype         \n",
      "---  ------                 --------------   -----         \n",
      " 0   source                 223485 non-null  object        \n",
      " 1   site_id                223485 non-null  object        \n",
      " 2   name                   223485 non-null  object        \n",
      " 3   state                  223485 non-null  object        \n",
      " 4   city                   223485 non-null  object        \n",
      " 5   postal_code            223485 non-null  object        \n",
      " 6   price                  223485 non-null  float64       \n",
      " 7   rating_avg             223485 non-null  float64       \n",
      " 8   reviews_count          223485 non-null  int64         \n",
      " 9   date_start             134644 non-null  datetime64[ns]\n",
      " 10  year                   134644 non-null  float64       \n",
      " 11  month                  134644 non-null  float64       \n",
      " 12  state_city             223485 non-null  object        \n",
      " 13  city_postalcode        223485 non-null  object        \n",
      " 14  state_city_postalcode  211084 non-null  object        \n",
      "dtypes: datetime64[ns](1), float64(4), int64(1), object(9)\n",
      "memory usage: 25.6+ MB\n",
      "None\n"
     ]
    },
    {
     "data": {
      "text/html": [
       "<div>\n",
       "<style scoped>\n",
       "    .dataframe tbody tr th:only-of-type {\n",
       "        vertical-align: middle;\n",
       "    }\n",
       "\n",
       "    .dataframe tbody tr th {\n",
       "        vertical-align: top;\n",
       "    }\n",
       "\n",
       "    .dataframe thead th {\n",
       "        text-align: right;\n",
       "    }\n",
       "</style>\n",
       "<table border=\"1\" class=\"dataframe\">\n",
       "  <thead>\n",
       "    <tr style=\"text-align: right;\">\n",
       "      <th></th>\n",
       "      <th>source</th>\n",
       "      <th>site_id</th>\n",
       "      <th>name</th>\n",
       "      <th>state</th>\n",
       "      <th>city</th>\n",
       "      <th>postal_code</th>\n",
       "      <th>price</th>\n",
       "      <th>rating_avg</th>\n",
       "      <th>reviews_count</th>\n",
       "      <th>date_start</th>\n",
       "      <th>year</th>\n",
       "      <th>month</th>\n",
       "      <th>state_city</th>\n",
       "      <th>city_postalcode</th>\n",
       "      <th>state_city_postalcode</th>\n",
       "    </tr>\n",
       "  </thead>\n",
       "  <tbody>\n",
       "    <tr>\n",
       "      <th>195768</th>\n",
       "      <td>google</td>\n",
       "      <td>0x864e6f3ff932639d:0x373bd42ad39c8e0a</td>\n",
       "      <td>Taco san andres</td>\n",
       "      <td>TX</td>\n",
       "      <td>Fort Worth</td>\n",
       "      <td>76134</td>\n",
       "      <td>1.0</td>\n",
       "      <td>4.4</td>\n",
       "      <td>168</td>\n",
       "      <td>NaT</td>\n",
       "      <td>NaN</td>\n",
       "      <td>NaN</td>\n",
       "      <td>TX - Fort Worth</td>\n",
       "      <td>Fort Worth - 76134</td>\n",
       "      <td>TX - Philadelphia - 76134</td>\n",
       "    </tr>\n",
       "    <tr>\n",
       "      <th>62207</th>\n",
       "      <td>google</td>\n",
       "      <td>0x89c2599a1743fc41:0xa8015bf033f2af2</td>\n",
       "      <td>grk - Fresh Greek</td>\n",
       "      <td>NY</td>\n",
       "      <td>New York</td>\n",
       "      <td>10003</td>\n",
       "      <td>2.0</td>\n",
       "      <td>3.8</td>\n",
       "      <td>188</td>\n",
       "      <td>2017-12-28 09:59:02.025</td>\n",
       "      <td>2017.0</td>\n",
       "      <td>12.0</td>\n",
       "      <td>NY - New York</td>\n",
       "      <td>New York - 10003</td>\n",
       "      <td>NY - Kirkwood - 10003</td>\n",
       "    </tr>\n",
       "  </tbody>\n",
       "</table>\n",
       "</div>"
      ],
      "text/plain": [
       "        source                                site_id               name  \\\n",
       "195768  google  0x864e6f3ff932639d:0x373bd42ad39c8e0a    Taco san andres   \n",
       "62207   google   0x89c2599a1743fc41:0xa8015bf033f2af2  grk - Fresh Greek   \n",
       "\n",
       "       state        city postal_code  price  rating_avg  reviews_count  \\\n",
       "195768    TX  Fort Worth       76134    1.0         4.4            168   \n",
       "62207     NY    New York       10003    2.0         3.8            188   \n",
       "\n",
       "                    date_start    year  month       state_city  \\\n",
       "195768                     NaT     NaN    NaN  TX - Fort Worth   \n",
       "62207  2017-12-28 09:59:02.025  2017.0   12.0    NY - New York   \n",
       "\n",
       "           city_postalcode      state_city_postalcode  \n",
       "195768  Fort Worth - 76134  TX - Philadelphia - 76134  \n",
       "62207     New York - 10003      NY - Kirkwood - 10003  "
      ]
     },
     "execution_count": 28,
     "metadata": {},
     "output_type": "execute_result"
    }
   ],
   "source": [
    "print(dfg_rest.info())\n",
    "dfg_rest.sample(2)"
   ]
  },
  {
   "cell_type": "markdown",
   "metadata": {},
   "source": [
    "### GOOGLE user (creación de dataset)"
   ]
  },
  {
   "cell_type": "code",
   "execution_count": 29,
   "metadata": {},
   "outputs": [
    {
     "data": {
      "text/html": [
       "<div>\n",
       "<style scoped>\n",
       "    .dataframe tbody tr th:only-of-type {\n",
       "        vertical-align: middle;\n",
       "    }\n",
       "\n",
       "    .dataframe tbody tr th {\n",
       "        vertical-align: top;\n",
       "    }\n",
       "\n",
       "    .dataframe thead th {\n",
       "        text-align: right;\n",
       "    }\n",
       "</style>\n",
       "<table border=\"1\" class=\"dataframe\">\n",
       "  <thead>\n",
       "    <tr style=\"text-align: right;\">\n",
       "      <th></th>\n",
       "      <th>user_id</th>\n",
       "      <th>reviews_count</th>\n",
       "      <th>date_start</th>\n",
       "      <th>rating_avg</th>\n",
       "      <th>year</th>\n",
       "      <th>month</th>\n",
       "      <th>source</th>\n",
       "    </tr>\n",
       "  </thead>\n",
       "  <tbody>\n",
       "    <tr>\n",
       "      <th>2383830</th>\n",
       "      <td>1.166050e+20</td>\n",
       "      <td>1</td>\n",
       "      <td>2019-03-10 09:19:30.471</td>\n",
       "      <td>5.0</td>\n",
       "      <td>2019</td>\n",
       "      <td>3</td>\n",
       "      <td>google</td>\n",
       "    </tr>\n",
       "    <tr>\n",
       "      <th>2374318</th>\n",
       "      <td>1.165402e+20</td>\n",
       "      <td>1</td>\n",
       "      <td>2019-03-02 15:57:02.718</td>\n",
       "      <td>4.0</td>\n",
       "      <td>2019</td>\n",
       "      <td>3</td>\n",
       "      <td>google</td>\n",
       "    </tr>\n",
       "  </tbody>\n",
       "</table>\n",
       "</div>"
      ],
      "text/plain": [
       "              user_id  reviews_count              date_start  rating_avg  \\\n",
       "2383830  1.166050e+20              1 2019-03-10 09:19:30.471         5.0   \n",
       "2374318  1.165402e+20              1 2019-03-02 15:57:02.718         4.0   \n",
       "\n",
       "         year  month  source  \n",
       "2383830  2019      3  google  \n",
       "2374318  2019      3  google  "
      ]
     },
     "execution_count": 29,
     "metadata": {},
     "output_type": "execute_result"
    }
   ],
   "source": [
    "dfg_user = dfg_reviews.groupby(['user_id']).agg({'site_id': 'count', 'datetime': 'min', 'rating': 'mean'}).reset_index()\n",
    "dfg_user = dfg_user.rename(columns={'site_id':'reviews_count', 'datetime':'date_start', 'rating':'rating_avg'})\n",
    "dfg_user['year'] = dfg_user['date_start'].dt.year\n",
    "dfg_user['month'] = dfg_user['date_start'].dt.month\n",
    "\n",
    "dfg_user['source'] = 'google'\n",
    "dfg_user.sample(2)\n"
   ]
  },
  {
   "cell_type": "markdown",
   "metadata": {},
   "source": [
    "### GOOGLE checkins (creación de dataset)"
   ]
  },
  {
   "cell_type": "code",
   "execution_count": 30,
   "metadata": {},
   "outputs": [],
   "source": [
    "dfy_checkins = yelp_checkins[['business_id', 'date']]\n",
    "dfy_checkins = dfy_checkins.rename(columns={'business_id':'site_id', 'date':'datetime'})\n",
    "\n",
    "#dfy_checkins['datetime'] = pd.to_datetime(dfy_checkins['date'])\n",
    "dfy_checkins['year'] = dfy_checkins['datetime'].dt.year\n",
    "dfy_checkins['month'] = dfy_checkins['datetime'].dt.month\n",
    "\n",
    "dfy_checkins['source'] = 'yelp'\n",
    "\n",
    "dfy_checkins = dfy_checkins[['source', 'site_id', 'datetime', 'year', 'month']]"
   ]
  },
  {
   "cell_type": "code",
   "execution_count": 31,
   "metadata": {},
   "outputs": [],
   "source": [
    "dfg_checkins = dfg_reviews[['source', 'site_id', 'datetime', 'year', 'month']]"
   ]
  },
  {
   "cell_type": "code",
   "execution_count": 32,
   "metadata": {},
   "outputs": [
    {
     "name": "stdout",
     "output_type": "stream",
     "text": [
      "<class 'pandas.core.frame.DataFrame'>\n",
      "RangeIndex: 4346287 entries, 0 to 4346286\n",
      "Data columns (total 5 columns):\n",
      " #   Column    Dtype         \n",
      "---  ------    -----         \n",
      " 0   source    object        \n",
      " 1   site_id   object        \n",
      " 2   datetime  datetime64[ns]\n",
      " 3   year      int32         \n",
      " 4   month     int32         \n",
      "dtypes: datetime64[ns](1), int32(2), object(2)\n",
      "memory usage: 132.6+ MB\n",
      "None\n"
     ]
    },
    {
     "data": {
      "text/html": [
       "<div>\n",
       "<style scoped>\n",
       "    .dataframe tbody tr th:only-of-type {\n",
       "        vertical-align: middle;\n",
       "    }\n",
       "\n",
       "    .dataframe tbody tr th {\n",
       "        vertical-align: top;\n",
       "    }\n",
       "\n",
       "    .dataframe thead th {\n",
       "        text-align: right;\n",
       "    }\n",
       "</style>\n",
       "<table border=\"1\" class=\"dataframe\">\n",
       "  <thead>\n",
       "    <tr style=\"text-align: right;\">\n",
       "      <th></th>\n",
       "      <th>source</th>\n",
       "      <th>site_id</th>\n",
       "      <th>datetime</th>\n",
       "      <th>year</th>\n",
       "      <th>month</th>\n",
       "    </tr>\n",
       "  </thead>\n",
       "  <tbody>\n",
       "    <tr>\n",
       "      <th>2162908</th>\n",
       "      <td>google</td>\n",
       "      <td>0x80c8c557d9d30c57:0xf0f2852208ec1090</td>\n",
       "      <td>2019-10-03 13:36:04.755</td>\n",
       "      <td>2019</td>\n",
       "      <td>10</td>\n",
       "    </tr>\n",
       "    <tr>\n",
       "      <th>3678577</th>\n",
       "      <td>google</td>\n",
       "      <td>0x86e76a9c5eed85b1:0x2223cf1f98dd6647</td>\n",
       "      <td>2020-11-09 18:26:17.974</td>\n",
       "      <td>2020</td>\n",
       "      <td>11</td>\n",
       "    </tr>\n",
       "  </tbody>\n",
       "</table>\n",
       "</div>"
      ],
      "text/plain": [
       "         source                                site_id  \\\n",
       "2162908  google  0x80c8c557d9d30c57:0xf0f2852208ec1090   \n",
       "3678577  google  0x86e76a9c5eed85b1:0x2223cf1f98dd6647   \n",
       "\n",
       "                       datetime  year  month  \n",
       "2162908 2019-10-03 13:36:04.755  2019     10  \n",
       "3678577 2020-11-09 18:26:17.974  2020     11  "
      ]
     },
     "execution_count": 32,
     "metadata": {},
     "output_type": "execute_result"
    }
   ],
   "source": [
    "print(dfg_checkins.info())\n",
    "dfg_checkins.sample(2)"
   ]
  },
  {
   "cell_type": "markdown",
   "metadata": {},
   "source": [
    "### GOOGLE categories"
   ]
  },
  {
   "cell_type": "code",
   "execution_count": 33,
   "metadata": {},
   "outputs": [
    {
     "name": "stdout",
     "output_type": "stream",
     "text": [
      "<class 'pandas.core.frame.DataFrame'>\n",
      "Index: 626995 entries, 2 to 274996\n",
      "Data columns (total 2 columns):\n",
      " #   Column    Non-Null Count   Dtype \n",
      "---  ------    --------------   ----- \n",
      " 0   site_id   626995 non-null  object\n",
      " 1   category  626995 non-null  object\n",
      "dtypes: object(2)\n",
      "memory usage: 14.4+ MB\n"
     ]
    },
    {
     "data": {
      "text/html": [
       "<div>\n",
       "<style scoped>\n",
       "    .dataframe tbody tr th:only-of-type {\n",
       "        vertical-align: middle;\n",
       "    }\n",
       "\n",
       "    .dataframe tbody tr th {\n",
       "        vertical-align: top;\n",
       "    }\n",
       "\n",
       "    .dataframe thead th {\n",
       "        text-align: right;\n",
       "    }\n",
       "</style>\n",
       "<table border=\"1\" class=\"dataframe\">\n",
       "  <thead>\n",
       "    <tr style=\"text-align: right;\">\n",
       "      <th></th>\n",
       "      <th>site_id</th>\n",
       "      <th>category</th>\n",
       "    </tr>\n",
       "  </thead>\n",
       "  <tbody>\n",
       "    <tr>\n",
       "      <th>7010</th>\n",
       "      <td>0x89e3e6bbec2a5d3d:0x65f5a2c123db4120</td>\n",
       "      <td>Pizza restaurant</td>\n",
       "    </tr>\n",
       "    <tr>\n",
       "      <th>156531</th>\n",
       "      <td>0x89d3124ee696474b:0x91c2cfe6d78b61f7</td>\n",
       "      <td>Night club</td>\n",
       "    </tr>\n",
       "  </tbody>\n",
       "</table>\n",
       "</div>"
      ],
      "text/plain": [
       "                                      site_id          category\n",
       "7010    0x89e3e6bbec2a5d3d:0x65f5a2c123db4120  Pizza restaurant\n",
       "156531  0x89d3124ee696474b:0x91c2cfe6d78b61f7        Night club"
      ]
     },
     "execution_count": 33,
     "metadata": {},
     "output_type": "execute_result"
    }
   ],
   "source": [
    "google_site_categories.info()\n",
    "google_site_categories.sample(2)"
   ]
  },
  {
   "cell_type": "code",
   "execution_count": 34,
   "metadata": {},
   "outputs": [
    {
     "name": "stdout",
     "output_type": "stream",
     "text": [
      "<class 'pandas.core.frame.DataFrame'>\n",
      "Index: 626995 entries, 2 to 274996\n",
      "Data columns (total 3 columns):\n",
      " #   Column      Non-Null Count   Dtype \n",
      "---  ------      --------------   ----- \n",
      " 0   source      626995 non-null  object\n",
      " 1   site_id     626995 non-null  object\n",
      " 2   categories  626995 non-null  object\n",
      "dtypes: object(3)\n",
      "memory usage: 19.1+ MB\n"
     ]
    },
    {
     "data": {
      "text/html": [
       "<div>\n",
       "<style scoped>\n",
       "    .dataframe tbody tr th:only-of-type {\n",
       "        vertical-align: middle;\n",
       "    }\n",
       "\n",
       "    .dataframe tbody tr th {\n",
       "        vertical-align: top;\n",
       "    }\n",
       "\n",
       "    .dataframe thead th {\n",
       "        text-align: right;\n",
       "    }\n",
       "</style>\n",
       "<table border=\"1\" class=\"dataframe\">\n",
       "  <thead>\n",
       "    <tr style=\"text-align: right;\">\n",
       "      <th></th>\n",
       "      <th>source</th>\n",
       "      <th>site_id</th>\n",
       "      <th>categories</th>\n",
       "    </tr>\n",
       "  </thead>\n",
       "  <tbody>\n",
       "    <tr>\n",
       "      <th>100489</th>\n",
       "      <td>google</td>\n",
       "      <td>0x883e4baa25179713:0x397461523284829c</td>\n",
       "      <td>Fast food restaurant</td>\n",
       "    </tr>\n",
       "    <tr>\n",
       "      <th>241547</th>\n",
       "      <td>google</td>\n",
       "      <td>0x8640c68a46dc9a89:0x77d77af5b936336a</td>\n",
       "      <td>Pho restaurant</td>\n",
       "    </tr>\n",
       "  </tbody>\n",
       "</table>\n",
       "</div>"
      ],
      "text/plain": [
       "        source                                site_id            categories\n",
       "100489  google  0x883e4baa25179713:0x397461523284829c  Fast food restaurant\n",
       "241547  google  0x8640c68a46dc9a89:0x77d77af5b936336a        Pho restaurant"
      ]
     },
     "execution_count": 34,
     "metadata": {},
     "output_type": "execute_result"
    }
   ],
   "source": [
    "dfg_categories = google_site_categories.copy()\n",
    "\n",
    "dfg_categories.rename(columns={'category': 'categories'}, inplace=True)\n",
    "dfg_categories['source'] = 'google'\n",
    "dfg_categories = dfg_categories[['source', 'site_id', 'categories']]\n",
    "\n",
    "dfg_categories.info()\n",
    "dfg_categories.sample(2)"
   ]
  },
  {
   "cell_type": "markdown",
   "metadata": {},
   "source": [
    "## Datasets COMBINADOS\n",
    "------------------------------------------------------------------------------------------------------"
   ]
  },
  {
   "cell_type": "markdown",
   "metadata": {},
   "source": [
    "### Dataset RESTAURANTS"
   ]
  },
  {
   "cell_type": "code",
   "execution_count": 35,
   "metadata": {},
   "outputs": [
    {
     "name": "stdout",
     "output_type": "stream",
     "text": [
      "<class 'pandas.core.frame.DataFrame'>\n",
      "Index: 342834 entries, 3 to 223484\n",
      "Data columns (total 15 columns):\n",
      " #   Column                 Non-Null Count   Dtype         \n",
      "---  ------                 --------------   -----         \n",
      " 0   source                 342834 non-null  object        \n",
      " 1   site_id                342834 non-null  object        \n",
      " 2   name                   342834 non-null  object        \n",
      " 3   state                  342834 non-null  object        \n",
      " 4   city                   342834 non-null  object        \n",
      " 5   postal_code            342834 non-null  object        \n",
      " 6   price                  342834 non-null  float64       \n",
      " 7   rating_avg             342834 non-null  float64       \n",
      " 8   reviews_count          342834 non-null  int64         \n",
      " 9   date_start             247726 non-null  datetime64[ns]\n",
      " 10  year                   247726 non-null  float64       \n",
      " 11  month                  247726 non-null  float64       \n",
      " 12  state_city             342834 non-null  object        \n",
      " 13  city_postalcode        342834 non-null  object        \n",
      " 14  state_city_postalcode  330433 non-null  object        \n",
      "dtypes: datetime64[ns](1), float64(4), int64(1), object(9)\n",
      "memory usage: 41.8+ MB\n",
      "None\n"
     ]
    },
    {
     "data": {
      "text/html": [
       "<div>\n",
       "<style scoped>\n",
       "    .dataframe tbody tr th:only-of-type {\n",
       "        vertical-align: middle;\n",
       "    }\n",
       "\n",
       "    .dataframe tbody tr th {\n",
       "        vertical-align: top;\n",
       "    }\n",
       "\n",
       "    .dataframe thead th {\n",
       "        text-align: right;\n",
       "    }\n",
       "</style>\n",
       "<table border=\"1\" class=\"dataframe\">\n",
       "  <thead>\n",
       "    <tr style=\"text-align: right;\">\n",
       "      <th></th>\n",
       "      <th>source</th>\n",
       "      <th>site_id</th>\n",
       "      <th>name</th>\n",
       "      <th>state</th>\n",
       "      <th>city</th>\n",
       "      <th>postal_code</th>\n",
       "      <th>price</th>\n",
       "      <th>rating_avg</th>\n",
       "      <th>reviews_count</th>\n",
       "      <th>date_start</th>\n",
       "      <th>year</th>\n",
       "      <th>month</th>\n",
       "      <th>state_city</th>\n",
       "      <th>city_postalcode</th>\n",
       "      <th>state_city_postalcode</th>\n",
       "    </tr>\n",
       "  </thead>\n",
       "  <tbody>\n",
       "    <tr>\n",
       "      <th>130715</th>\n",
       "      <td>google</td>\n",
       "      <td>0x52b45f05a7df0713:0xc4242d0e072bb596</td>\n",
       "      <td>Extreme Pita</td>\n",
       "      <td>MN</td>\n",
       "      <td>St Cloud</td>\n",
       "      <td>56301</td>\n",
       "      <td>1.4</td>\n",
       "      <td>3.6</td>\n",
       "      <td>57</td>\n",
       "      <td>2014-08-10 16:05:32.275</td>\n",
       "      <td>2014.0</td>\n",
       "      <td>8.0</td>\n",
       "      <td>MN - St Cloud</td>\n",
       "      <td>St Cloud - 56301</td>\n",
       "      <td>MN - Tampa - 56301</td>\n",
       "    </tr>\n",
       "    <tr>\n",
       "      <th>96049</th>\n",
       "      <td>google</td>\n",
       "      <td>0x80c29777931a4535:0x74fe12429c28beac</td>\n",
       "      <td>La Michoacana King Ice Cream Parlor</td>\n",
       "      <td>CA</td>\n",
       "      <td>Van Nuys</td>\n",
       "      <td>91406</td>\n",
       "      <td>1.0</td>\n",
       "      <td>4.2</td>\n",
       "      <td>68</td>\n",
       "      <td>2020-02-02 16:32:33.852</td>\n",
       "      <td>2020.0</td>\n",
       "      <td>2.0</td>\n",
       "      <td>CA - Van Nuys</td>\n",
       "      <td>Van Nuys - 91406</td>\n",
       "      <td>CA - Kenner - 91406</td>\n",
       "    </tr>\n",
       "  </tbody>\n",
       "</table>\n",
       "</div>"
      ],
      "text/plain": [
       "        source                                site_id  \\\n",
       "130715  google  0x52b45f05a7df0713:0xc4242d0e072bb596   \n",
       "96049   google  0x80c29777931a4535:0x74fe12429c28beac   \n",
       "\n",
       "                                       name state      city postal_code  \\\n",
       "130715                         Extreme Pita    MN  St Cloud       56301   \n",
       "96049   La Michoacana King Ice Cream Parlor    CA  Van Nuys       91406   \n",
       "\n",
       "        price  rating_avg  reviews_count              date_start    year  \\\n",
       "130715    1.4         3.6             57 2014-08-10 16:05:32.275  2014.0   \n",
       "96049     1.0         4.2             68 2020-02-02 16:32:33.852  2020.0   \n",
       "\n",
       "        month     state_city   city_postalcode state_city_postalcode  \n",
       "130715    8.0  MN - St Cloud  St Cloud - 56301    MN - Tampa - 56301  \n",
       "96049     2.0  CA - Van Nuys  Van Nuys - 91406   CA - Kenner - 91406  "
      ]
     },
     "execution_count": 35,
     "metadata": {},
     "output_type": "execute_result"
    }
   ],
   "source": [
    "# Filtrado\n",
    "dfy_rest = dfy_rest[dfy_rest['site_id'].isin(dfgy_rest_uniques['business_id'])]\n",
    "# Union\n",
    "dfgy_rest = pd.concat([dfy_rest, dfg_rest])\n",
    "\n",
    "print(dfgy_rest.info())\n",
    "dfgy_rest.sample(2)"
   ]
  },
  {
   "cell_type": "code",
   "execution_count": 36,
   "metadata": {},
   "outputs": [
    {
     "data": {
      "text/plain": [
       "68714"
      ]
     },
     "execution_count": 36,
     "metadata": {},
     "output_type": "execute_result"
    }
   ],
   "source": [
    "dfgy_rest['site_id'].duplicated().sum()"
   ]
  },
  {
   "cell_type": "code",
   "execution_count": 38,
   "metadata": {},
   "outputs": [
    {
     "data": {
      "text/plain": [
       "0"
      ]
     },
     "execution_count": 38,
     "metadata": {},
     "output_type": "execute_result"
    }
   ],
   "source": [
    "# Eliminación de duplicados\n",
    "dfgy_rest= dfgy_rest.drop_duplicates(subset=['site_id'], keep='first')\n",
    "dfgy_rest['site_id'].duplicated().sum()"
   ]
  },
  {
   "cell_type": "code",
   "execution_count": 39,
   "metadata": {},
   "outputs": [
    {
     "name": "stdout",
     "output_type": "stream",
     "text": [
      "<class 'pandas.core.frame.DataFrame'>\n",
      "Index: 274120 entries, 3 to 223484\n",
      "Data columns (total 15 columns):\n",
      " #   Column                 Non-Null Count   Dtype         \n",
      "---  ------                 --------------   -----         \n",
      " 0   source                 274120 non-null  object        \n",
      " 1   site_id                274120 non-null  object        \n",
      " 2   name                   274120 non-null  object        \n",
      " 3   state                  274120 non-null  object        \n",
      " 4   city                   274120 non-null  object        \n",
      " 5   postal_code            274120 non-null  object        \n",
      " 6   price                  274120 non-null  float64       \n",
      " 7   rating_avg             274120 non-null  float64       \n",
      " 8   reviews_count          274120 non-null  int64         \n",
      " 9   date_start             182456 non-null  datetime64[ns]\n",
      " 10  year                   182456 non-null  float64       \n",
      " 11  month                  182456 non-null  float64       \n",
      " 12  state_city             274120 non-null  object        \n",
      " 13  city_postalcode        274120 non-null  object        \n",
      " 14  state_city_postalcode  261719 non-null  object        \n",
      "dtypes: datetime64[ns](1), float64(4), int64(1), object(9)\n",
      "memory usage: 33.5+ MB\n"
     ]
    }
   ],
   "source": [
    "dfgy_rest.info()"
   ]
  },
  {
   "cell_type": "code",
   "execution_count": 40,
   "metadata": {},
   "outputs": [],
   "source": [
    "# Exportación de dataset\n",
    "#dfgy_rest.to_parquet('dfgy_rest.parquet')\n",
    "#dfgy_rest.to_csv('dfgy_rest.csv', index=False)"
   ]
  },
  {
   "cell_type": "markdown",
   "metadata": {},
   "source": [
    "### Dataset USER"
   ]
  },
  {
   "cell_type": "code",
   "execution_count": 42,
   "metadata": {},
   "outputs": [
    {
     "name": "stdout",
     "output_type": "stream",
     "text": [
      "<class 'pandas.core.frame.DataFrame'>\n",
      "Index: 4756911 entries, 0 to 2651313\n",
      "Data columns (total 7 columns):\n",
      " #   Column         Dtype         \n",
      "---  ------         -----         \n",
      " 0   user_id        object        \n",
      " 1   reviews_count  int64         \n",
      " 2   date_start     datetime64[ns]\n",
      " 3   rating_avg     float64       \n",
      " 4   year           int32         \n",
      " 5   month          int32         \n",
      " 6   source         object        \n",
      "dtypes: datetime64[ns](1), float64(1), int32(2), int64(1), object(2)\n",
      "memory usage: 254.0+ MB\n",
      "None\n"
     ]
    },
    {
     "data": {
      "text/html": [
       "<div>\n",
       "<style scoped>\n",
       "    .dataframe tbody tr th:only-of-type {\n",
       "        vertical-align: middle;\n",
       "    }\n",
       "\n",
       "    .dataframe tbody tr th {\n",
       "        vertical-align: top;\n",
       "    }\n",
       "\n",
       "    .dataframe thead th {\n",
       "        text-align: right;\n",
       "    }\n",
       "</style>\n",
       "<table border=\"1\" class=\"dataframe\">\n",
       "  <thead>\n",
       "    <tr style=\"text-align: right;\">\n",
       "      <th></th>\n",
       "      <th>user_id</th>\n",
       "      <th>reviews_count</th>\n",
       "      <th>date_start</th>\n",
       "      <th>rating_avg</th>\n",
       "      <th>year</th>\n",
       "      <th>month</th>\n",
       "      <th>source</th>\n",
       "    </tr>\n",
       "  </thead>\n",
       "  <tbody>\n",
       "    <tr>\n",
       "      <th>945229</th>\n",
       "      <td>bxKkRHQ3VkS2T7OZ-2IRcQ</td>\n",
       "      <td>4</td>\n",
       "      <td>2015-11-12 19:11:22.000</td>\n",
       "      <td>5.0</td>\n",
       "      <td>2015</td>\n",
       "      <td>11</td>\n",
       "      <td>yelp</td>\n",
       "    </tr>\n",
       "    <tr>\n",
       "      <th>649406</th>\n",
       "      <td>104676415055235842048.0</td>\n",
       "      <td>2</td>\n",
       "      <td>2019-01-12 06:36:15.598</td>\n",
       "      <td>4.0</td>\n",
       "      <td>2019</td>\n",
       "      <td>1</td>\n",
       "      <td>google</td>\n",
       "    </tr>\n",
       "  </tbody>\n",
       "</table>\n",
       "</div>"
      ],
      "text/plain": [
       "                        user_id  reviews_count              date_start  \\\n",
       "945229   bxKkRHQ3VkS2T7OZ-2IRcQ              4 2015-11-12 19:11:22.000   \n",
       "649406  104676415055235842048.0              2 2019-01-12 06:36:15.598   \n",
       "\n",
       "        rating_avg  year  month  source  \n",
       "945229         5.0  2015     11    yelp  \n",
       "649406         4.0  2019      1  google  "
      ]
     },
     "execution_count": 42,
     "metadata": {},
     "output_type": "execute_result"
    }
   ],
   "source": [
    "dfgy_user = pd.concat([dfy_user, dfg_user])\n",
    "\n",
    "print(dfgy_user.info())\n",
    "dfgy_user.sample(2)"
   ]
  },
  {
   "cell_type": "code",
   "execution_count": 43,
   "metadata": {},
   "outputs": [
    {
     "data": {
      "text/plain": [
       "117700"
      ]
     },
     "execution_count": 43,
     "metadata": {},
     "output_type": "execute_result"
    }
   ],
   "source": [
    "dfgy_user['user_id'].duplicated().sum()"
   ]
  },
  {
   "cell_type": "code",
   "execution_count": 44,
   "metadata": {},
   "outputs": [
    {
     "data": {
      "text/plain": [
       "0"
      ]
     },
     "execution_count": 44,
     "metadata": {},
     "output_type": "execute_result"
    }
   ],
   "source": [
    "# Eliminación de duplicados\n",
    "dfgy_user = dfgy_user.drop_duplicates(subset=['user_id'], keep='first')\n",
    "dfgy_user['user_id'].duplicated().sum()"
   ]
  },
  {
   "cell_type": "code",
   "execution_count": 45,
   "metadata": {},
   "outputs": [
    {
     "name": "stdout",
     "output_type": "stream",
     "text": [
      "<class 'pandas.core.frame.DataFrame'>\n",
      "Index: 4639211 entries, 0 to 2651313\n",
      "Data columns (total 7 columns):\n",
      " #   Column         Dtype         \n",
      "---  ------         -----         \n",
      " 0   user_id        object        \n",
      " 1   reviews_count  int64         \n",
      " 2   date_start     datetime64[ns]\n",
      " 3   rating_avg     float64       \n",
      " 4   year           int32         \n",
      " 5   month          int32         \n",
      " 6   source         object        \n",
      "dtypes: datetime64[ns](1), float64(1), int32(2), int64(1), object(2)\n",
      "memory usage: 247.8+ MB\n"
     ]
    }
   ],
   "source": [
    "dfgy_user.info()"
   ]
  },
  {
   "cell_type": "code",
   "execution_count": 46,
   "metadata": {},
   "outputs": [],
   "source": [
    "# Exportación de dataset\n",
    "#dfgy_user['user_id'] = dfgy_user['user_id'].astype(str)\n",
    "#dfgy_user.to_parquet('dfgy_user.parquet')\n",
    "#dfgy_user.to_csv('dfgy_user.csv', index=False)"
   ]
  },
  {
   "cell_type": "markdown",
   "metadata": {},
   "source": [
    "### Dataset CHECKINS"
   ]
  },
  {
   "cell_type": "code",
   "execution_count": 52,
   "metadata": {},
   "outputs": [
    {
     "name": "stdout",
     "output_type": "stream",
     "text": [
      "<class 'pandas.core.frame.DataFrame'>\n",
      "Index: 13193101 entries, 0 to 4346286\n",
      "Data columns (total 5 columns):\n",
      " #   Column    Dtype         \n",
      "---  ------    -----         \n",
      " 0   source    object        \n",
      " 1   site_id   object        \n",
      " 2   datetime  datetime64[ns]\n",
      " 3   year      int32         \n",
      " 4   month     int32         \n",
      "dtypes: datetime64[ns](1), int32(2), object(2)\n",
      "memory usage: 503.3+ MB\n",
      "None\n"
     ]
    },
    {
     "data": {
      "text/html": [
       "<div>\n",
       "<style scoped>\n",
       "    .dataframe tbody tr th:only-of-type {\n",
       "        vertical-align: middle;\n",
       "    }\n",
       "\n",
       "    .dataframe tbody tr th {\n",
       "        vertical-align: top;\n",
       "    }\n",
       "\n",
       "    .dataframe thead th {\n",
       "        text-align: right;\n",
       "    }\n",
       "</style>\n",
       "<table border=\"1\" class=\"dataframe\">\n",
       "  <thead>\n",
       "    <tr style=\"text-align: right;\">\n",
       "      <th></th>\n",
       "      <th>source</th>\n",
       "      <th>site_id</th>\n",
       "      <th>datetime</th>\n",
       "      <th>year</th>\n",
       "      <th>month</th>\n",
       "    </tr>\n",
       "  </thead>\n",
       "  <tbody>\n",
       "    <tr>\n",
       "      <th>3054025</th>\n",
       "      <td>google</td>\n",
       "      <td>0x8831a8dc6c5baac1:0x31572be683c5f8fd</td>\n",
       "      <td>2018-01-19 05:56:51.867</td>\n",
       "      <td>2018</td>\n",
       "      <td>1</td>\n",
       "    </tr>\n",
       "    <tr>\n",
       "      <th>1939072</th>\n",
       "      <td>google</td>\n",
       "      <td>0x87f9d66408a214ef:0xc704d71f48207e53</td>\n",
       "      <td>2019-08-31 12:04:19.824</td>\n",
       "      <td>2019</td>\n",
       "      <td>8</td>\n",
       "    </tr>\n",
       "  </tbody>\n",
       "</table>\n",
       "</div>"
      ],
      "text/plain": [
       "         source                                site_id  \\\n",
       "3054025  google  0x8831a8dc6c5baac1:0x31572be683c5f8fd   \n",
       "1939072  google  0x87f9d66408a214ef:0xc704d71f48207e53   \n",
       "\n",
       "                       datetime  year  month  \n",
       "3054025 2018-01-19 05:56:51.867  2018      1  \n",
       "1939072 2019-08-31 12:04:19.824  2019      8  "
      ]
     },
     "execution_count": 52,
     "metadata": {},
     "output_type": "execute_result"
    }
   ],
   "source": [
    "# Filtrado\n",
    "dfy_checkins = dfy_checkins[dfy_checkins['site_id'].isin(dfgy_rest_uniques['business_id'])]\n",
    "\n",
    "# Union\n",
    "dfgy_checkins = pd.concat([dfy_checkins, dfg_checkins])\n",
    "\n",
    "dfgy_checkins = dfgy_checkins.drop_duplicates()\n",
    "print(dfgy_checkins.info())\n",
    "dfgy_checkins.sample(2)"
   ]
  },
  {
   "cell_type": "code",
   "execution_count": 53,
   "metadata": {},
   "outputs": [
    {
     "data": {
      "text/plain": [
       "0"
      ]
     },
     "execution_count": 53,
     "metadata": {},
     "output_type": "execute_result"
    }
   ],
   "source": [
    "dfgy_checkins.duplicated().sum()"
   ]
  },
  {
   "cell_type": "code",
   "execution_count": 54,
   "metadata": {},
   "outputs": [],
   "source": [
    "# Exportación de dataset\n",
    "#dfgy_checkins.to_parquet('dfgy_checkins.parquet')\n",
    "#dfgy_checkins.to_csv('dfgy_checkins.csv', index=False)"
   ]
  },
  {
   "cell_type": "markdown",
   "metadata": {},
   "source": [
    "### Dataset REVIEWS"
   ]
  },
  {
   "cell_type": "code",
   "execution_count": 57,
   "metadata": {},
   "outputs": [
    {
     "name": "stdout",
     "output_type": "stream",
     "text": [
      "<class 'pandas.core.frame.DataFrame'>\n",
      "Index: 5057754 entries, 0 to 4346286\n",
      "Data columns (total 9 columns):\n",
      " #   Column     Dtype         \n",
      "---  ------     -----         \n",
      " 0   source     object        \n",
      " 1   site_id    object        \n",
      " 2   user_id    object        \n",
      " 3   datetime   datetime64[ns]\n",
      " 4   month      int32         \n",
      " 5   year       int32         \n",
      " 6   rating     float64       \n",
      " 7   polarity   float64       \n",
      " 8   sentiment  int64         \n",
      "dtypes: datetime64[ns](1), float64(2), int32(2), int64(1), object(3)\n",
      "memory usage: 347.3+ MB\n",
      "None\n"
     ]
    },
    {
     "data": {
      "text/html": [
       "<div>\n",
       "<style scoped>\n",
       "    .dataframe tbody tr th:only-of-type {\n",
       "        vertical-align: middle;\n",
       "    }\n",
       "\n",
       "    .dataframe tbody tr th {\n",
       "        vertical-align: top;\n",
       "    }\n",
       "\n",
       "    .dataframe thead th {\n",
       "        text-align: right;\n",
       "    }\n",
       "</style>\n",
       "<table border=\"1\" class=\"dataframe\">\n",
       "  <thead>\n",
       "    <tr style=\"text-align: right;\">\n",
       "      <th></th>\n",
       "      <th>source</th>\n",
       "      <th>site_id</th>\n",
       "      <th>user_id</th>\n",
       "      <th>datetime</th>\n",
       "      <th>month</th>\n",
       "      <th>year</th>\n",
       "      <th>rating</th>\n",
       "      <th>polarity</th>\n",
       "      <th>sentiment</th>\n",
       "    </tr>\n",
       "  </thead>\n",
       "  <tbody>\n",
       "    <tr>\n",
       "      <th>671224</th>\n",
       "      <td>yelp</td>\n",
       "      <td>QFh-h_OZ5Io-mBk32HN28A</td>\n",
       "      <td>mzFdFB1l2pktePrYRGxIvQ</td>\n",
       "      <td>2021-05-13 20:31:45.000</td>\n",
       "      <td>5</td>\n",
       "      <td>2021</td>\n",
       "      <td>5.0</td>\n",
       "      <td>0.9973</td>\n",
       "      <td>1</td>\n",
       "    </tr>\n",
       "    <tr>\n",
       "      <th>2391831</th>\n",
       "      <td>google</td>\n",
       "      <td>0x8722754f92d5a38b:0x35cf1fadd4c97d44</td>\n",
       "      <td>114310922172897312768.0</td>\n",
       "      <td>2021-07-19 20:14:54.155</td>\n",
       "      <td>7</td>\n",
       "      <td>2021</td>\n",
       "      <td>4.0</td>\n",
       "      <td>0.5093</td>\n",
       "      <td>1</td>\n",
       "    </tr>\n",
       "  </tbody>\n",
       "</table>\n",
       "</div>"
      ],
      "text/plain": [
       "         source                                site_id  \\\n",
       "671224     yelp                 QFh-h_OZ5Io-mBk32HN28A   \n",
       "2391831  google  0x8722754f92d5a38b:0x35cf1fadd4c97d44   \n",
       "\n",
       "                         user_id                datetime  month  year  rating  \\\n",
       "671224    mzFdFB1l2pktePrYRGxIvQ 2021-05-13 20:31:45.000      5  2021     5.0   \n",
       "2391831  114310922172897312768.0 2021-07-19 20:14:54.155      7  2021     4.0   \n",
       "\n",
       "         polarity  sentiment  \n",
       "671224     0.9973          1  \n",
       "2391831    0.5093          1  "
      ]
     },
     "execution_count": 57,
     "metadata": {},
     "output_type": "execute_result"
    }
   ],
   "source": [
    "# Filtrado\n",
    "dfy_reviews = dfy_reviews[dfy_reviews['site_id'].isin(dfgy_rest_uniques['business_id'])]\n",
    "\n",
    "# Union\n",
    "dfgy_reviews = pd.concat([dfy_reviews, dfg_reviews])\n",
    "\n",
    "dfgy_reviews = dfgy_reviews.drop_duplicates()\n",
    "print(dfgy_reviews.info())\n",
    "dfgy_reviews.sample(2)"
   ]
  },
  {
   "cell_type": "code",
   "execution_count": 58,
   "metadata": {},
   "outputs": [
    {
     "data": {
      "text/plain": [
       "0"
      ]
     },
     "execution_count": 58,
     "metadata": {},
     "output_type": "execute_result"
    }
   ],
   "source": [
    "dfgy_reviews.duplicated().sum()"
   ]
  },
  {
   "cell_type": "code",
   "execution_count": 59,
   "metadata": {},
   "outputs": [],
   "source": [
    "# Exportación de dataset\n",
    "dfgy_reviews['user_id'] = dfgy_reviews['user_id'].astype(str)\n",
    "#dfgy_reviews.to_parquet('dfgy_reviews.parquet')\n",
    "#dfgy_reviews.to_csv('dfgy_reviews.csv', index=False)"
   ]
  },
  {
   "cell_type": "markdown",
   "metadata": {},
   "source": [
    "### Dataset CATEGORIES"
   ]
  },
  {
   "cell_type": "code",
   "execution_count": 62,
   "metadata": {},
   "outputs": [
    {
     "name": "stdout",
     "output_type": "stream",
     "text": [
      "<class 'pandas.core.frame.DataFrame'>\n",
      "Index: 741804 entries, 0 to 274996\n",
      "Data columns (total 3 columns):\n",
      " #   Column      Non-Null Count   Dtype \n",
      "---  ------      --------------   ----- \n",
      " 0   source      741804 non-null  object\n",
      " 1   site_id     741804 non-null  object\n",
      " 2   categories  741804 non-null  object\n",
      "dtypes: object(3)\n",
      "memory usage: 22.6+ MB\n",
      "None\n"
     ]
    },
    {
     "data": {
      "text/html": [
       "<div>\n",
       "<style scoped>\n",
       "    .dataframe tbody tr th:only-of-type {\n",
       "        vertical-align: middle;\n",
       "    }\n",
       "\n",
       "    .dataframe tbody tr th {\n",
       "        vertical-align: top;\n",
       "    }\n",
       "\n",
       "    .dataframe thead th {\n",
       "        text-align: right;\n",
       "    }\n",
       "</style>\n",
       "<table border=\"1\" class=\"dataframe\">\n",
       "  <thead>\n",
       "    <tr style=\"text-align: right;\">\n",
       "      <th></th>\n",
       "      <th>source</th>\n",
       "      <th>site_id</th>\n",
       "      <th>categories</th>\n",
       "    </tr>\n",
       "  </thead>\n",
       "  <tbody>\n",
       "    <tr>\n",
       "      <th>109467</th>\n",
       "      <td>google</td>\n",
       "      <td>0x89c25ae4706a2b15:0x7a9bbb393a3aa065</td>\n",
       "      <td>Bar</td>\n",
       "    </tr>\n",
       "    <tr>\n",
       "      <th>237790</th>\n",
       "      <td>google</td>\n",
       "      <td>0x808561955a8c163f:0x1587880f1d7a3876</td>\n",
       "      <td>Coffee shop</td>\n",
       "    </tr>\n",
       "  </tbody>\n",
       "</table>\n",
       "</div>"
      ],
      "text/plain": [
       "        source                                site_id   categories\n",
       "109467  google  0x89c25ae4706a2b15:0x7a9bbb393a3aa065          Bar\n",
       "237790  google  0x808561955a8c163f:0x1587880f1d7a3876  Coffee shop"
      ]
     },
     "execution_count": 62,
     "metadata": {},
     "output_type": "execute_result"
    }
   ],
   "source": [
    "# Filtrado\n",
    "dfy_categories = dfy_categories[dfy_categories['site_id'].isin(dfgy_rest_uniques['business_id'])]\n",
    "\n",
    "# Union\n",
    "dfgy_categories = pd.concat([dfy_categories, dfg_categories])\n",
    "dfgy_categories = dfgy_categories.drop_duplicates()\n",
    "print(dfgy_categories.info())\n",
    "dfgy_categories.sample(2)"
   ]
  },
  {
   "cell_type": "code",
   "execution_count": 63,
   "metadata": {},
   "outputs": [
    {
     "data": {
      "text/plain": [
       "0"
      ]
     },
     "execution_count": 63,
     "metadata": {},
     "output_type": "execute_result"
    }
   ],
   "source": [
    "dfgy_categories.duplicated().sum()"
   ]
  },
  {
   "cell_type": "code",
   "execution_count": 64,
   "metadata": {},
   "outputs": [],
   "source": [
    "# Exportación de dataset\n",
    "#dfgy_categories.to_parquet('dfgy_categories.parquet')\n",
    "#dfgy_categories.to_csv('dfgy_categories.csv', index=False)"
   ]
  },
  {
   "cell_type": "markdown",
   "metadata": {},
   "source": [
    "# Análisis de datos\n",
    "========================================================================================================="
   ]
  },
  {
   "cell_type": "markdown",
   "metadata": {},
   "source": [
    "## Análisis de plantel de restaurantes (oferentes)"
   ]
  },
  {
   "cell_type": "code",
   "execution_count": 70,
   "metadata": {},
   "outputs": [
    {
     "data": {
      "image/png": "[encoded data removed]",
      "text/plain": [
       "<Figure size 1400x400 with 1 Axes>"
      ]
     },
     "metadata": {},
     "output_type": "display_data"
    }
   ],
   "source": [
    "rest_evolution = dfgy_rest.groupby(['year']).agg({'site_id': 'count'}).reset_index()\n",
    "rest_evolution = rest_evolution.loc[(rest_evolution['year'] >= 2010) & (rest_evolution['year'] <= 2021)]\n",
    "\n",
    "plt.figure(figsize=(14, 4))\n",
    "sns.lineplot(data=rest_evolution, x='year', y='site_id')\n",
    "plt.title('Evolución de cantidad de locales por año')\n",
    "plt.xlabel('Año')\n",
    "plt.ylabel('Cantidad de locales')\n",
    "plt.grid(True)"
   ]
  },
  {
   "cell_type": "markdown",
   "metadata": {},
   "source": [
    "Conclusiones:\n",
    "* El gráfico muestra la cantidad de locales registrados en yelp y google a lo largo del tiempo, medido en años\n",
    "* Se observan claramente las fases de:\n",
    "    * Nacimiento, en 2010\n",
    "    * Evolución y desarrollo, entre 2012 y 2014\n",
    "    * Posicionamiento y estabilización en el mercado, entre 2015 y 2019 \n",
    "    * Involución, en 2020 -- esto último causado por el covid19"
   ]
  },
  {
   "cell_type": "markdown",
   "metadata": {},
   "source": [
    "## Análisis de performance de restaurantes"
   ]
  },
  {
   "cell_type": "code",
   "execution_count": 71,
   "metadata": {},
   "outputs": [
    {
     "data": {
      "image/png": "[encoded data removed]",
      "text/plain": [
       "<Figure size 1400x400 with 1 Axes>"
      ]
     },
     "metadata": {},
     "output_type": "display_data"
    }
   ],
   "source": [
    "rest_performance = dfgy_rest.groupby(['year']).agg({'rating_avg': 'mean'}).reset_index()\n",
    "rest_performance = rest_performance.loc[(rest_performance['year'] >= 2010) & (rest_performance['year'] <= 2021)]\n",
    "\n",
    "plt.figure(figsize=(14, 4))\n",
    "sns.lineplot(data=rest_performance, x='year', y='rating_avg')\n",
    "plt.title('Evolución de performance de locales por año')\n",
    "plt.xlabel('Año')\n",
    "plt.ylabel('Performance')\n",
    "plt.grid(True)"
   ]
  },
  {
   "cell_type": "markdown",
   "metadata": {},
   "source": [
    "Conclusión:\n",
    "* Se muestra el rating promedio a lo largo del tiempo de todos los locales registrados\n",
    "* Se observa una clara tendencia a la mejora del rating, lo cual se traduce en el involucramiento de los oferentes para cuidar su clientela. \n",
    "* Esta tendencia tiene un alto impacto social, ya que contribuye a instalar la mentalidad de satisfacción del cliente"
   ]
  },
  {
   "cell_type": "markdown",
   "metadata": {},
   "source": [
    "## Análisis de plantel de usuarios (clientes)"
   ]
  },
  {
   "cell_type": "code",
   "execution_count": 72,
   "metadata": {},
   "outputs": [
    {
     "data": {
      "image/png": "[encoded data removed]",
      "text/plain": [
       "<Figure size 1400x400 with 1 Axes>"
      ]
     },
     "metadata": {},
     "output_type": "display_data"
    }
   ],
   "source": [
    "user_evolution = dfgy_user.groupby(['year']).agg({'user_id': 'count'}).reset_index()\n",
    "user_evolution = user_evolution.loc[(user_evolution['year'] >= 2010) & (user_evolution['year'] <= 2021)]\n",
    "\n",
    "plt.figure(figsize=(14, 4))\n",
    "sns.lineplot(data=user_evolution, x='year', y='user_id')\n",
    "plt.title('Evolución de cantidad de usuarios por año')\n",
    "plt.xlabel('Año')\n",
    "plt.ylabel('Cantidad de usuarios')\n",
    "plt.grid(True)"
   ]
  },
  {
   "cell_type": "markdown",
   "metadata": {},
   "source": [
    "Conclusión:\n",
    "* Se muestran a lo largo del tiempo, la cantidad de usuarios registrados en yelp y google\n",
    "* Se observa una clara tendencia de aumento de usuarios\n",
    "* Se observa una clara disminución a partir de 2019, esto último causado por el fenómeno de covid19"
   ]
  },
  {
   "cell_type": "markdown",
   "metadata": {},
   "source": [
    "## Análisis de demanda"
   ]
  },
  {
   "cell_type": "code",
   "execution_count": 73,
   "metadata": {},
   "outputs": [
    {
     "data": {
      "image/png": "[encoded data removed]",
      "text/plain": [
       "<Figure size 1400x400 with 1 Axes>"
      ]
     },
     "metadata": {},
     "output_type": "display_data"
    }
   ],
   "source": [
    "checkins_evolution = dfgy_checkins.groupby(['year']).agg({'datetime': 'count'}).reset_index()\n",
    "checkins_evolution = checkins_evolution.loc[(checkins_evolution['year'] >= 2010) & (checkins_evolution['year'] <= 2021)]\n",
    "\n",
    "plt.figure(figsize=(14, 4))\n",
    "sns.lineplot(data=checkins_evolution, x='year', y='datetime')\n",
    "plt.title('Evolución de cantidad de checkins por año')\n",
    "plt.xlabel('Año')\n",
    "plt.ylabel('Cantidad de checkins')\n",
    "plt.grid(True)"
   ]
  },
  {
   "cell_type": "markdown",
   "metadata": {},
   "source": [
    "Conclusiones:\n",
    "* El gráfico muestra la cantidad de check-ins registrados en yelp a lo largo del tiempo, medido en años\n",
    "* La baja de actividad a partir del 2015 puede deberse a la fuerte entrada del mercado de delivery"
   ]
  },
  {
   "cell_type": "markdown",
   "metadata": {},
   "source": [
    "## Análisis de preferencias de usuario"
   ]
  },
  {
   "cell_type": "markdown",
   "metadata": {},
   "source": [
    "### Categorías top"
   ]
  },
  {
   "cell_type": "code",
   "execution_count": 74,
   "metadata": {},
   "outputs": [
    {
     "data": {
      "text/html": [
       "<div>\n",
       "<style scoped>\n",
       "    .dataframe tbody tr th:only-of-type {\n",
       "        vertical-align: middle;\n",
       "    }\n",
       "\n",
       "    .dataframe tbody tr th {\n",
       "        vertical-align: top;\n",
       "    }\n",
       "\n",
       "    .dataframe thead th {\n",
       "        text-align: right;\n",
       "    }\n",
       "</style>\n",
       "<table border=\"1\" class=\"dataframe\">\n",
       "  <thead>\n",
       "    <tr style=\"text-align: right;\">\n",
       "      <th></th>\n",
       "      <th>Id</th>\n",
       "      <th>source</th>\n",
       "      <th>categories</th>\n",
       "      <th>supracategory</th>\n",
       "      <th>category_edited</th>\n",
       "      <th>category_edited2</th>\n",
       "      <th>category_edited3</th>\n",
       "      <th>category_edited4</th>\n",
       "    </tr>\n",
       "  </thead>\n",
       "  <tbody>\n",
       "    <tr>\n",
       "      <th>0</th>\n",
       "      <td>1</td>\n",
       "      <td>yelp</td>\n",
       "      <td>Restaurants</td>\n",
       "      <td>general</td>\n",
       "      <td>Restaurants</td>\n",
       "      <td>Restaurants</td>\n",
       "      <td>restaurants</td>\n",
       "      <td>restaurant</td>\n",
       "    </tr>\n",
       "    <tr>\n",
       "      <th>1</th>\n",
       "      <td>2</td>\n",
       "      <td>yelp</td>\n",
       "      <td>Food</td>\n",
       "      <td>general</td>\n",
       "      <td>Food</td>\n",
       "      <td>Food</td>\n",
       "      <td>food</td>\n",
       "      <td>food</td>\n",
       "    </tr>\n",
       "    <tr>\n",
       "      <th>2</th>\n",
       "      <td>3</td>\n",
       "      <td>yelp</td>\n",
       "      <td>Burgers</td>\n",
       "      <td>burger</td>\n",
       "      <td>Burgers</td>\n",
       "      <td>Burgers</td>\n",
       "      <td>burgers</td>\n",
       "      <td>burgers</td>\n",
       "    </tr>\n",
       "    <tr>\n",
       "      <th>3</th>\n",
       "      <td>4</td>\n",
       "      <td>yelp</td>\n",
       "      <td>Fast Food</td>\n",
       "      <td>fast food</td>\n",
       "      <td>Fast Food</td>\n",
       "      <td>Fast Food</td>\n",
       "      <td>fast food</td>\n",
       "      <td>fast food</td>\n",
       "    </tr>\n",
       "    <tr>\n",
       "      <th>4</th>\n",
       "      <td>5</td>\n",
       "      <td>yelp</td>\n",
       "      <td>Sandwiches</td>\n",
       "      <td>burger</td>\n",
       "      <td>Sandwiches</td>\n",
       "      <td>Sandwiches</td>\n",
       "      <td>sandwiches</td>\n",
       "      <td>sandwiches</td>\n",
       "    </tr>\n",
       "    <tr>\n",
       "      <th>...</th>\n",
       "      <td>...</td>\n",
       "      <td>...</td>\n",
       "      <td>...</td>\n",
       "      <td>...</td>\n",
       "      <td>...</td>\n",
       "      <td>...</td>\n",
       "      <td>...</td>\n",
       "      <td>...</td>\n",
       "    </tr>\n",
       "    <tr>\n",
       "      <th>444</th>\n",
       "      <td>445</td>\n",
       "      <td>google</td>\n",
       "      <td>Yakiniku restaurant</td>\n",
       "      <td>regional</td>\n",
       "      <td>Yakiniku</td>\n",
       "      <td>Yakiniku</td>\n",
       "      <td>yakiniku</td>\n",
       "      <td>yakiniku</td>\n",
       "    </tr>\n",
       "    <tr>\n",
       "      <th>445</th>\n",
       "      <td>446</td>\n",
       "      <td>google</td>\n",
       "      <td>Yakisoba Restaurant</td>\n",
       "      <td>regional</td>\n",
       "      <td>Yakisoba</td>\n",
       "      <td>Yakisoba</td>\n",
       "      <td>yakisoba</td>\n",
       "      <td>yakisoba</td>\n",
       "    </tr>\n",
       "    <tr>\n",
       "      <th>446</th>\n",
       "      <td>447</td>\n",
       "      <td>google</td>\n",
       "      <td>Yakitori restaurant</td>\n",
       "      <td>regional</td>\n",
       "      <td>Yakitori</td>\n",
       "      <td>Yakitori</td>\n",
       "      <td>yakitori</td>\n",
       "      <td>yakitori</td>\n",
       "    </tr>\n",
       "    <tr>\n",
       "      <th>447</th>\n",
       "      <td>448</td>\n",
       "      <td>google</td>\n",
       "      <td>Yemenite restaurant</td>\n",
       "      <td>regional</td>\n",
       "      <td>Yemenite</td>\n",
       "      <td>Yemenite</td>\n",
       "      <td>yemenite</td>\n",
       "      <td>yemenite</td>\n",
       "    </tr>\n",
       "    <tr>\n",
       "      <th>448</th>\n",
       "      <td>449</td>\n",
       "      <td>google</td>\n",
       "      <td>Yucatan restaurant</td>\n",
       "      <td>regional</td>\n",
       "      <td>Yucatan</td>\n",
       "      <td>Yucatan</td>\n",
       "      <td>yucatan</td>\n",
       "      <td>yucatan</td>\n",
       "    </tr>\n",
       "  </tbody>\n",
       "</table>\n",
       "<p>449 rows × 8 columns</p>\n",
       "</div>"
      ],
      "text/plain": [
       "      Id  source           categories supracategory category_edited  \\\n",
       "0      1    yelp          Restaurants       general     Restaurants   \n",
       "1      2    yelp                 Food       general            Food   \n",
       "2      3    yelp              Burgers        burger         Burgers   \n",
       "3      4    yelp            Fast Food     fast food       Fast Food   \n",
       "4      5    yelp           Sandwiches        burger      Sandwiches   \n",
       "..   ...     ...                  ...           ...             ...   \n",
       "444  445  google  Yakiniku restaurant      regional       Yakiniku    \n",
       "445  446  google  Yakisoba Restaurant      regional       Yakisoba    \n",
       "446  447  google  Yakitori restaurant      regional       Yakitori    \n",
       "447  448  google  Yemenite restaurant      regional       Yemenite    \n",
       "448  449  google   Yucatan restaurant      regional        Yucatan    \n",
       "\n",
       "    category_edited2 category_edited3 category_edited4  \n",
       "0        Restaurants      restaurants       restaurant  \n",
       "1               Food             food             food  \n",
       "2            Burgers          burgers          burgers  \n",
       "3          Fast Food        fast food        fast food  \n",
       "4         Sandwiches       sandwiches       sandwiches  \n",
       "..               ...              ...              ...  \n",
       "444         Yakiniku         yakiniku         yakiniku  \n",
       "445         Yakisoba         yakisoba         yakisoba  \n",
       "446         Yakitori         yakitori         yakitori  \n",
       "447         Yemenite         yemenite         yemenite  \n",
       "448          Yucatan          yucatan          yucatan  \n",
       "\n",
       "[449 rows x 8 columns]"
      ]
     },
     "execution_count": 74,
     "metadata": {},
     "output_type": "execute_result"
    }
   ],
   "source": [
    "dfgy_categories_food_edited = pd.read_csv('dataset_gy_categories_food_edited.csv')\n",
    "dfgy_categories_food_edited"
   ]
  },
  {
   "cell_type": "code",
   "execution_count": 75,
   "metadata": {},
   "outputs": [
    {
     "data": {
      "text/html": [
       "<div>\n",
       "<style scoped>\n",
       "    .dataframe tbody tr th:only-of-type {\n",
       "        vertical-align: middle;\n",
       "    }\n",
       "\n",
       "    .dataframe tbody tr th {\n",
       "        vertical-align: top;\n",
       "    }\n",
       "\n",
       "    .dataframe thead th {\n",
       "        text-align: right;\n",
       "    }\n",
       "</style>\n",
       "<table border=\"1\" class=\"dataframe\">\n",
       "  <thead>\n",
       "    <tr style=\"text-align: right;\">\n",
       "      <th></th>\n",
       "      <th>source_x</th>\n",
       "      <th>site_id</th>\n",
       "      <th>categories</th>\n",
       "      <th>Id</th>\n",
       "      <th>source_y</th>\n",
       "      <th>supracategory</th>\n",
       "      <th>category_edited</th>\n",
       "      <th>category_edited2</th>\n",
       "      <th>category_edited3</th>\n",
       "      <th>category_edited4</th>\n",
       "    </tr>\n",
       "  </thead>\n",
       "  <tbody>\n",
       "    <tr>\n",
       "      <th>0</th>\n",
       "      <td>yelp</td>\n",
       "      <td>MTSW4McQd7CbVtyjqoe9mw</td>\n",
       "      <td>Food</td>\n",
       "      <td>2</td>\n",
       "      <td>yelp</td>\n",
       "      <td>general</td>\n",
       "      <td>Food</td>\n",
       "      <td>Food</td>\n",
       "      <td>food</td>\n",
       "      <td>food</td>\n",
       "    </tr>\n",
       "    <tr>\n",
       "      <th>1</th>\n",
       "      <td>yelp</td>\n",
       "      <td>mWMc6_wTdE0EUBKIGXDVfA</td>\n",
       "      <td>Food</td>\n",
       "      <td>2</td>\n",
       "      <td>yelp</td>\n",
       "      <td>general</td>\n",
       "      <td>Food</td>\n",
       "      <td>Food</td>\n",
       "      <td>food</td>\n",
       "      <td>food</td>\n",
       "    </tr>\n",
       "    <tr>\n",
       "      <th>2</th>\n",
       "      <td>yelp</td>\n",
       "      <td>CF33F8-E6oudUQ46HnavjQ</td>\n",
       "      <td>Food</td>\n",
       "      <td>2</td>\n",
       "      <td>yelp</td>\n",
       "      <td>general</td>\n",
       "      <td>Food</td>\n",
       "      <td>Food</td>\n",
       "      <td>food</td>\n",
       "      <td>food</td>\n",
       "    </tr>\n",
       "    <tr>\n",
       "      <th>3</th>\n",
       "      <td>yelp</td>\n",
       "      <td>bBDDEgkFA1Otx9Lfe7BZUQ</td>\n",
       "      <td>Food</td>\n",
       "      <td>2</td>\n",
       "      <td>yelp</td>\n",
       "      <td>general</td>\n",
       "      <td>Food</td>\n",
       "      <td>Food</td>\n",
       "      <td>food</td>\n",
       "      <td>food</td>\n",
       "    </tr>\n",
       "    <tr>\n",
       "      <th>4</th>\n",
       "      <td>yelp</td>\n",
       "      <td>eEOYSgkmpB90uNA7lDOMRA</td>\n",
       "      <td>Food</td>\n",
       "      <td>2</td>\n",
       "      <td>yelp</td>\n",
       "      <td>general</td>\n",
       "      <td>Food</td>\n",
       "      <td>Food</td>\n",
       "      <td>food</td>\n",
       "      <td>food</td>\n",
       "    </tr>\n",
       "    <tr>\n",
       "      <th>...</th>\n",
       "      <td>...</td>\n",
       "      <td>...</td>\n",
       "      <td>...</td>\n",
       "      <td>...</td>\n",
       "      <td>...</td>\n",
       "      <td>...</td>\n",
       "      <td>...</td>\n",
       "      <td>...</td>\n",
       "      <td>...</td>\n",
       "      <td>...</td>\n",
       "    </tr>\n",
       "    <tr>\n",
       "      <th>547859</th>\n",
       "      <td>google</td>\n",
       "      <td>0x80ec1fd3d42c9afb:0x90a7b30788182fc4</td>\n",
       "      <td>Sfiha restaurant</td>\n",
       "      <td>373</td>\n",
       "      <td>google</td>\n",
       "      <td>regional</td>\n",
       "      <td>Sfiha</td>\n",
       "      <td>Sfiha</td>\n",
       "      <td>sfiha</td>\n",
       "      <td>sfiha</td>\n",
       "    </tr>\n",
       "    <tr>\n",
       "      <th>547860</th>\n",
       "      <td>google</td>\n",
       "      <td>0x87e4f11cdb194ced:0x9f69c8ed25a28eb2</td>\n",
       "      <td>Mutton barbecue restaurant</td>\n",
       "      <td>312</td>\n",
       "      <td>google</td>\n",
       "      <td>regional</td>\n",
       "      <td>Mutton barbecue</td>\n",
       "      <td>Mutton barbecue</td>\n",
       "      <td>mutton barbecue</td>\n",
       "      <td>mutton barbecue</td>\n",
       "    </tr>\n",
       "    <tr>\n",
       "      <th>547861</th>\n",
       "      <td>google</td>\n",
       "      <td>0x89c2f9331071005d:0x308aad6c8c05becd</td>\n",
       "      <td>Mutton barbecue restaurant</td>\n",
       "      <td>312</td>\n",
       "      <td>google</td>\n",
       "      <td>regional</td>\n",
       "      <td>Mutton barbecue</td>\n",
       "      <td>Mutton barbecue</td>\n",
       "      <td>mutton barbecue</td>\n",
       "      <td>mutton barbecue</td>\n",
       "    </tr>\n",
       "    <tr>\n",
       "      <th>547862</th>\n",
       "      <td>google</td>\n",
       "      <td>0x80deaa0b093ecaa5:0xca75dfda7eacf203</td>\n",
       "      <td>Steamboat restaurant</td>\n",
       "      <td>398</td>\n",
       "      <td>google</td>\n",
       "      <td>regional</td>\n",
       "      <td>Steamboat</td>\n",
       "      <td>Steamboat</td>\n",
       "      <td>steamboat</td>\n",
       "      <td>steamboat</td>\n",
       "    </tr>\n",
       "    <tr>\n",
       "      <th>547863</th>\n",
       "      <td>google</td>\n",
       "      <td>0x8085808ff899b48d:0xe3766e273c9a594</td>\n",
       "      <td>Sundanese restaurant</td>\n",
       "      <td>402</td>\n",
       "      <td>google</td>\n",
       "      <td>regional</td>\n",
       "      <td>Sundanese</td>\n",
       "      <td>Sundanese</td>\n",
       "      <td>sundanese</td>\n",
       "      <td>sundanese</td>\n",
       "    </tr>\n",
       "  </tbody>\n",
       "</table>\n",
       "<p>547864 rows × 10 columns</p>\n",
       "</div>"
      ],
      "text/plain": [
       "       source_x                                site_id  \\\n",
       "0          yelp                 MTSW4McQd7CbVtyjqoe9mw   \n",
       "1          yelp                 mWMc6_wTdE0EUBKIGXDVfA   \n",
       "2          yelp                 CF33F8-E6oudUQ46HnavjQ   \n",
       "3          yelp                 bBDDEgkFA1Otx9Lfe7BZUQ   \n",
       "4          yelp                 eEOYSgkmpB90uNA7lDOMRA   \n",
       "...         ...                                    ...   \n",
       "547859   google  0x80ec1fd3d42c9afb:0x90a7b30788182fc4   \n",
       "547860   google  0x87e4f11cdb194ced:0x9f69c8ed25a28eb2   \n",
       "547861   google  0x89c2f9331071005d:0x308aad6c8c05becd   \n",
       "547862   google  0x80deaa0b093ecaa5:0xca75dfda7eacf203   \n",
       "547863   google   0x8085808ff899b48d:0xe3766e273c9a594   \n",
       "\n",
       "                        categories   Id source_y supracategory  \\\n",
       "0                             Food    2     yelp       general   \n",
       "1                             Food    2     yelp       general   \n",
       "2                             Food    2     yelp       general   \n",
       "3                             Food    2     yelp       general   \n",
       "4                             Food    2     yelp       general   \n",
       "...                            ...  ...      ...           ...   \n",
       "547859            Sfiha restaurant  373   google      regional   \n",
       "547860  Mutton barbecue restaurant  312   google      regional   \n",
       "547861  Mutton barbecue restaurant  312   google      regional   \n",
       "547862        Steamboat restaurant  398   google      regional   \n",
       "547863        Sundanese restaurant  402   google      regional   \n",
       "\n",
       "         category_edited category_edited2 category_edited3 category_edited4  \n",
       "0                   Food             Food             food             food  \n",
       "1                   Food             Food             food             food  \n",
       "2                   Food             Food             food             food  \n",
       "3                   Food             Food             food             food  \n",
       "4                   Food             Food             food             food  \n",
       "...                  ...              ...              ...              ...  \n",
       "547859            Sfiha             Sfiha            sfiha            sfiha  \n",
       "547860  Mutton barbecue   Mutton barbecue  mutton barbecue  mutton barbecue  \n",
       "547861  Mutton barbecue   Mutton barbecue  mutton barbecue  mutton barbecue  \n",
       "547862        Steamboat         Steamboat        steamboat        steamboat  \n",
       "547863        Sundanese         Sundanese        sundanese        sundanese  \n",
       "\n",
       "[547864 rows x 10 columns]"
      ]
     },
     "execution_count": 75,
     "metadata": {},
     "output_type": "execute_result"
    }
   ],
   "source": [
    "dfgy_categories_final = pd.merge(dfgy_categories, dfgy_categories_food_edited, on='categories')\n",
    "dfgy_categories_final"
   ]
  },
  {
   "cell_type": "code",
   "execution_count": 76,
   "metadata": {},
   "outputs": [
    {
     "data": {
      "text/plain": [
       "Text(0, 0.5, 'SUPRA-Categoría')"
      ]
     },
     "execution_count": 76,
     "metadata": {},
     "output_type": "execute_result"
    },
    {
     "data": {
      "image/png": "[encoded data removed]",
      "text/plain": [
       "<Figure size 1400x600 with 1 Axes>"
      ]
     },
     "metadata": {},
     "output_type": "display_data"
    }
   ],
   "source": [
    "dfgy_categories_count = dfgy_categories_final.groupby('supracategory')['site_id'].count().reset_index()\n",
    "dfgy_categories_count.rename(columns={'site_id':'categories_count'}, inplace=True)\n",
    "dfgy_categories_count.sort_values('categories_count', ascending=False, inplace=True)\n",
    "\n",
    "plt.figure(figsize=(14, 6))\n",
    "sns.barplot(x=\"categories_count\", y=\"supracategory\", data=dfgy_categories_count.head(20))\n",
    "plt.title('Preferencias de usuario por SUPRA-categoría')\n",
    "plt.ylabel('SUPRA-Categoría')"
   ]
  },
  {
   "cell_type": "markdown",
   "metadata": {},
   "source": [
    "Conclusión:\n",
    "* Se muestran las \"supra-categorías\" más buscadas\n",
    "* La característica denominada \"supra-categoría\" se ha incorporado en el modelo para ahondar en el conocimiento del usuario\n",
    "* Se observa que la supra-categoría de \"beverages\" que contiene bares y pubs, contiene a un tipo de producto que puede ser de interés para los clientes"
   ]
  },
  {
   "cell_type": "code",
   "execution_count": 77,
   "metadata": {},
   "outputs": [
    {
     "data": {
      "text/plain": [
       "Text(0, 0.5, 'Categoría')"
      ]
     },
     "execution_count": 77,
     "metadata": {},
     "output_type": "execute_result"
    },
    {
     "data": {
      "image/png": "[encoded data removed]",
      "text/plain": [
       "<Figure size 1400x600 with 1 Axes>"
      ]
     },
     "metadata": {},
     "output_type": "display_data"
    }
   ],
   "source": [
    "dfgy_categories_count = dfgy_categories_final.groupby('category_edited4')['site_id'].count().reset_index()\n",
    "dfgy_categories_count.rename(columns={'site_id':'categories_count'}, inplace=True)\n",
    "dfgy_categories_count.sort_values('categories_count', ascending=False, inplace=True)\n",
    "\n",
    "plt.figure(figsize=(14, 6))\n",
    "sns.barplot(x=\"categories_count\", y=\"category_edited4\", data=dfgy_categories_count.head(20))\n",
    "plt.title('Preferencias de usuario por categoría')\n",
    "plt.ylabel('Categoría')"
   ]
  },
  {
   "cell_type": "markdown",
   "metadata": {},
   "source": [
    "### Atributos top"
   ]
  },
  {
   "cell_type": "code",
   "execution_count": 78,
   "metadata": {},
   "outputs": [
    {
     "data": {
      "text/plain": [
       "Text(0, 0.5, 'Atributos')"
      ]
     },
     "execution_count": 78,
     "metadata": {},
     "output_type": "execute_result"
    },
    {
     "data": {
      "image/png": "[encoded data removed]",
      "text/plain": [
       "<Figure size 1400x600 with 1 Axes>"
      ]
     },
     "metadata": {},
     "output_type": "display_data"
    }
   ],
   "source": [
    "dfy_attributes_count = dfy_attributes.groupby('attributes')['business_id'].count().reset_index()\n",
    "dfy_attributes_count.rename(columns={'business_id': 'attributes_count'}, inplace=True)\n",
    "dfy_attributes_count.sort_values('attributes_count', ascending=False, inplace=True)\n",
    "dfy_attributes_count\n",
    "\n",
    "\n",
    "plt.figure(figsize=(14, 6))\n",
    "sns.barplot(x=\"attributes_count\", y=\"attributes\", data=dfy_attributes_count.head(20))\n",
    "plt.title('Preferencias de usuario por atributos')\n",
    "plt.ylabel('Atributos')"
   ]
  },
  {
   "cell_type": "markdown",
   "metadata": {},
   "source": [
    "Conclusión:\n",
    "* Se observan los atributos más valorados por el mercado de USA\n",
    "* El atributo líder es el que facilita el pago con tarjetas de crédito\n",
    "* Resulta de gran interés para la clientela que el establecimiento cuente con parking"
   ]
  },
  {
   "cell_type": "markdown",
   "metadata": {},
   "source": [
    "### Marcas top"
   ]
  },
  {
   "cell_type": "code",
   "execution_count": 79,
   "metadata": {},
   "outputs": [],
   "source": [
    "dfgy_names_top = pd.merge(dfgy_checkins, dfgy_rest[['site_id', 'name']], how='left', on='site_id')\n",
    "dfgy_names_top = dfgy_names_top.groupby('name')['site_id'].count().reset_index()"
   ]
  },
  {
   "cell_type": "code",
   "execution_count": 80,
   "metadata": {},
   "outputs": [
    {
     "data": {
      "text/plain": [
       "Text(0, 0.5, 'Marca')"
      ]
     },
     "execution_count": 80,
     "metadata": {},
     "output_type": "execute_result"
    },
    {
     "data": {
      "image/png": "[encoded data removed]",
      "text/plain": [
       "<Figure size 1400x600 with 1 Axes>"
      ]
     },
     "metadata": {},
     "output_type": "display_data"
    }
   ],
   "source": [
    "dfgy_names_top.rename(columns={'site_id': 'name_count'}, inplace=True)\n",
    "dfgy_names_top = dfgy_names_top.sort_values('name_count', ascending=False)\n",
    "\n",
    "plt.figure(figsize=(14, 6))\n",
    "sns.barplot(x=\"name_count\", y=\"name\", data=dfgy_names_top.head(20))\n",
    "plt.title('Preferencias de usuario por marca')\n",
    "plt.ylabel('Marca')"
   ]
  },
  {
   "cell_type": "markdown",
   "metadata": {},
   "source": [
    "Conclusiones:\n",
    "* Las dos marcas líderes como \"Reading Terminal Market\" y \"Datz\" ofrecen no solamente una experiencia gastronómica, sino un espacio social y de distensión. \"Reading Terminal Market\" es un espacio de paseo de compras y adyacentemente cuenta con un mercado gastronómico. Esta variable debe tenerse dentro de los atributos considerados para un sistema de recomendación\n",
    "* Las dos marcas que le siguen son cafeterías, y luego sigue una marca de comidas rápidas (\"McDonalds), para continuar con otros mercados de comida que ofrecen paseos\n",
    "* Lo notable de esto es que no hay ningún restaurante tradicional dentro de las primeras diez marcas "
   ]
  },
  {
   "cell_type": "markdown",
   "metadata": {},
   "source": [
    "### Locaciones top"
   ]
  },
  {
   "cell_type": "code",
   "execution_count": 81,
   "metadata": {},
   "outputs": [],
   "source": [
    "checkin_locations = pd.merge(dfgy_checkins, dfgy_rest[['site_id', 'state_city_postalcode']], on='site_id', how='inner')"
   ]
  },
  {
   "cell_type": "code",
   "execution_count": 82,
   "metadata": {},
   "outputs": [],
   "source": [
    "checkin_locations = checkin_locations.loc[(checkin_locations['year'] >= 2010) & (checkin_locations['year'] <= 2021)]"
   ]
  },
  {
   "cell_type": "code",
   "execution_count": 83,
   "metadata": {},
   "outputs": [
    {
     "data": {
      "text/html": [
       "<div>\n",
       "<style scoped>\n",
       "    .dataframe tbody tr th:only-of-type {\n",
       "        vertical-align: middle;\n",
       "    }\n",
       "\n",
       "    .dataframe tbody tr th {\n",
       "        vertical-align: top;\n",
       "    }\n",
       "\n",
       "    .dataframe thead th {\n",
       "        text-align: right;\n",
       "    }\n",
       "</style>\n",
       "<table border=\"1\" class=\"dataframe\">\n",
       "  <thead>\n",
       "    <tr style=\"text-align: right;\">\n",
       "      <th></th>\n",
       "      <th>source</th>\n",
       "      <th>site_id</th>\n",
       "      <th>datetime</th>\n",
       "      <th>year</th>\n",
       "      <th>month</th>\n",
       "      <th>state_city_postalcode</th>\n",
       "    </tr>\n",
       "  </thead>\n",
       "  <tbody>\n",
       "    <tr>\n",
       "      <th>5676260</th>\n",
       "      <td>yelp</td>\n",
       "      <td>cAgwUJ5oMhrm_WVbB0Q1Fg</td>\n",
       "      <td>2014-08-30 17:46:29</td>\n",
       "      <td>2014</td>\n",
       "      <td>8</td>\n",
       "      <td>PA - Wayne - 19087</td>\n",
       "    </tr>\n",
       "    <tr>\n",
       "      <th>4653625</th>\n",
       "      <td>yelp</td>\n",
       "      <td>Vf8ZDtjOLN6lkRFatBmezw</td>\n",
       "      <td>2018-05-30 01:41:18</td>\n",
       "      <td>2018</td>\n",
       "      <td>5</td>\n",
       "      <td>FL - Seminole - 33772</td>\n",
       "    </tr>\n",
       "  </tbody>\n",
       "</table>\n",
       "</div>"
      ],
      "text/plain": [
       "        source                 site_id            datetime  year  month  \\\n",
       "5676260   yelp  cAgwUJ5oMhrm_WVbB0Q1Fg 2014-08-30 17:46:29  2014      8   \n",
       "4653625   yelp  Vf8ZDtjOLN6lkRFatBmezw 2018-05-30 01:41:18  2018      5   \n",
       "\n",
       "         state_city_postalcode  \n",
       "5676260     PA - Wayne - 19087  \n",
       "4653625  FL - Seminole - 33772  "
      ]
     },
     "execution_count": 83,
     "metadata": {},
     "output_type": "execute_result"
    }
   ],
   "source": [
    "checkin_locations.sample(2)"
   ]
  },
  {
   "cell_type": "code",
   "execution_count": 84,
   "metadata": {},
   "outputs": [
    {
     "data": {
      "text/html": [
       "<div>\n",
       "<style scoped>\n",
       "    .dataframe tbody tr th:only-of-type {\n",
       "        vertical-align: middle;\n",
       "    }\n",
       "\n",
       "    .dataframe tbody tr th {\n",
       "        vertical-align: top;\n",
       "    }\n",
       "\n",
       "    .dataframe thead th {\n",
       "        text-align: right;\n",
       "    }\n",
       "</style>\n",
       "<table border=\"1\" class=\"dataframe\">\n",
       "  <thead>\n",
       "    <tr style=\"text-align: right;\">\n",
       "      <th></th>\n",
       "      <th>state_city_postalcode</th>\n",
       "      <th>checkins_count</th>\n",
       "    </tr>\n",
       "  </thead>\n",
       "  <tbody>\n",
       "    <tr>\n",
       "      <th>36929</th>\n",
       "      <td>LA - New Orleans - 70130</td>\n",
       "      <td>455589</td>\n",
       "    </tr>\n",
       "    <tr>\n",
       "      <th>81419</th>\n",
       "      <td>PA - Philadelphia - 19107</td>\n",
       "      <td>277818</td>\n",
       "    </tr>\n",
       "    <tr>\n",
       "      <th>10095</th>\n",
       "      <td>CA - Santa Barbara - 93101</td>\n",
       "      <td>233267</td>\n",
       "    </tr>\n",
       "    <tr>\n",
       "      <th>36916</th>\n",
       "      <td>LA - New Orleans - 70116</td>\n",
       "      <td>212483</td>\n",
       "    </tr>\n",
       "    <tr>\n",
       "      <th>87040</th>\n",
       "      <td>TN - Nashville - 37203</td>\n",
       "      <td>171068</td>\n",
       "    </tr>\n",
       "    <tr>\n",
       "      <th>81416</th>\n",
       "      <td>PA - Philadelphia - 19103</td>\n",
       "      <td>169875</td>\n",
       "    </tr>\n",
       "    <tr>\n",
       "      <th>81454</th>\n",
       "      <td>PA - Philadelphia - 19147</td>\n",
       "      <td>157774</td>\n",
       "    </tr>\n",
       "    <tr>\n",
       "      <th>36915</th>\n",
       "      <td>LA - New Orleans - 70115</td>\n",
       "      <td>130476</td>\n",
       "    </tr>\n",
       "    <tr>\n",
       "      <th>62028</th>\n",
       "      <td>NV - Reno - 89502</td>\n",
       "      <td>120782</td>\n",
       "    </tr>\n",
       "    <tr>\n",
       "      <th>31969</th>\n",
       "      <td>IN - Indianapolis - 46204</td>\n",
       "      <td>107256</td>\n",
       "    </tr>\n",
       "  </tbody>\n",
       "</table>\n",
       "</div>"
      ],
      "text/plain": [
       "            state_city_postalcode  checkins_count\n",
       "36929    LA - New Orleans - 70130          455589\n",
       "81419   PA - Philadelphia - 19107          277818\n",
       "10095  CA - Santa Barbara - 93101          233267\n",
       "36916    LA - New Orleans - 70116          212483\n",
       "87040      TN - Nashville - 37203          171068\n",
       "81416   PA - Philadelphia - 19103          169875\n",
       "81454   PA - Philadelphia - 19147          157774\n",
       "36915    LA - New Orleans - 70115          130476\n",
       "62028           NV - Reno - 89502          120782\n",
       "31969   IN - Indianapolis - 46204          107256"
      ]
     },
     "execution_count": 84,
     "metadata": {},
     "output_type": "execute_result"
    }
   ],
   "source": [
    "locations_top = checkin_locations.groupby(['state_city_postalcode']).agg({'datetime':'count'})\n",
    "locations_top.rename(columns={'datetime':'checkins_count'}, inplace=True)\n",
    "locations_top = locations_top.reset_index()\n",
    "locations_top = locations_top.sort_values(by='checkins_count', ascending=False)\n",
    "\n",
    "locations_top.head(10)"
   ]
  },
  {
   "cell_type": "code",
   "execution_count": 85,
   "metadata": {},
   "outputs": [
    {
     "data": {
      "text/plain": [
       "Text(0, 0.5, 'Locación')"
      ]
     },
     "execution_count": 85,
     "metadata": {},
     "output_type": "execute_result"
    },
    {
     "data": {
      "image/png": "[encoded data removed]",
      "text/plain": [
       "<Figure size 1400x600 with 1 Axes>"
      ]
     },
     "metadata": {},
     "output_type": "display_data"
    }
   ],
   "source": [
    "plt.figure(figsize=(14, 6))\n",
    "sns.barplot(x=\"checkins_count\", y=\"state_city_postalcode\", data=locations_top.head(10))\n",
    "plt.title('Preferencias de usuario por locación')\n",
    "plt.ylabel('Locación')"
   ]
  },
  {
   "cell_type": "markdown",
   "metadata": {},
   "source": [
    "Conclusiones:\n",
    "* El gráfico de barras horizontales muestra la cantidad acumulada de check-ins, por locación (Estado - Ciudad - Código postal)\n",
    "* Las locaciones líderes se encuentran en las ciudades de Philadelphia, New Orleans y Santa Barbara"
   ]
  },
  {
   "cell_type": "code",
   "execution_count": 86,
   "metadata": {},
   "outputs": [
    {
     "data": {
      "image/png": "[encoded data removed]",
      "text/plain": [
       "<Figure size 1200x800 with 2 Axes>"
      ]
     },
     "metadata": {},
     "output_type": "display_data"
    }
   ],
   "source": [
    "locations_top10 = locations_top.head(20)\n",
    "locations_top_evol = pd.merge(checkin_locations, locations_top10, on='state_city_postalcode')\n",
    "locations_top_evol_map = locations_top_evol.pivot_table(index='state_city_postalcode', columns='year', values='checkins_count', aggfunc='max')\n",
    "\n",
    "plt.figure(figsize=(12, 8))\n",
    "sns.heatmap(locations_top_evol_map, cmap='YlOrRd', linewidths=0.5, linecolor='gray')\n",
    "plt.title('Evolución de preferencias de locación')\n",
    "plt.xlabel('Año')\n",
    "plt.ylabel('Locación')\n",
    "plt.yticks(rotation=0)\n",
    "plt.show()"
   ]
  },
  {
   "cell_type": "markdown",
   "metadata": {},
   "source": [
    "Conclusiones:\n",
    "* El mapa de calor muestra la evolución anual de los check-ins, por locación\n",
    "* Se muestran las 20 locaciones más visitadas\n",
    "* Las ciudades de Philadelphia, New Orleans y Santa Bárbara lideran el podio en diversos sitios"
   ]
  },
  {
   "cell_type": "markdown",
   "metadata": {},
   "source": [
    "## Análisis de participación del usuario"
   ]
  },
  {
   "cell_type": "markdown",
   "metadata": {},
   "source": [
    "### Involucramiento"
   ]
  },
  {
   "cell_type": "code",
   "execution_count": 87,
   "metadata": {},
   "outputs": [
    {
     "data": {
      "text/html": [
       "<div>\n",
       "<style scoped>\n",
       "    .dataframe tbody tr th:only-of-type {\n",
       "        vertical-align: middle;\n",
       "    }\n",
       "\n",
       "    .dataframe tbody tr th {\n",
       "        vertical-align: top;\n",
       "    }\n",
       "\n",
       "    .dataframe thead th {\n",
       "        text-align: right;\n",
       "    }\n",
       "</style>\n",
       "<table border=\"1\" class=\"dataframe\">\n",
       "  <thead>\n",
       "    <tr style=\"text-align: right;\">\n",
       "      <th></th>\n",
       "      <th>year</th>\n",
       "      <th>reviews_count</th>\n",
       "      <th>users_count</th>\n",
       "      <th>sites_count</th>\n",
       "      <th>reviews_per_user</th>\n",
       "      <th>reviews_per_site</th>\n",
       "    </tr>\n",
       "  </thead>\n",
       "  <tbody>\n",
       "    <tr>\n",
       "      <th>8</th>\n",
       "      <td>2010</td>\n",
       "      <td>20627</td>\n",
       "      <td>12087</td>\n",
       "      <td>8892</td>\n",
       "      <td>1.706544</td>\n",
       "      <td>2.319726</td>\n",
       "    </tr>\n",
       "    <tr>\n",
       "      <th>9</th>\n",
       "      <td>2011</td>\n",
       "      <td>36781</td>\n",
       "      <td>22105</td>\n",
       "      <td>14868</td>\n",
       "      <td>1.663922</td>\n",
       "      <td>2.473836</td>\n",
       "    </tr>\n",
       "    <tr>\n",
       "      <th>10</th>\n",
       "      <td>2012</td>\n",
       "      <td>47374</td>\n",
       "      <td>30459</td>\n",
       "      <td>20147</td>\n",
       "      <td>1.555337</td>\n",
       "      <td>2.351417</td>\n",
       "    </tr>\n",
       "    <tr>\n",
       "      <th>11</th>\n",
       "      <td>2013</td>\n",
       "      <td>64513</td>\n",
       "      <td>42954</td>\n",
       "      <td>25244</td>\n",
       "      <td>1.501909</td>\n",
       "      <td>2.555578</td>\n",
       "    </tr>\n",
       "    <tr>\n",
       "      <th>12</th>\n",
       "      <td>2014</td>\n",
       "      <td>85133</td>\n",
       "      <td>60275</td>\n",
       "      <td>30285</td>\n",
       "      <td>1.412410</td>\n",
       "      <td>2.811062</td>\n",
       "    </tr>\n",
       "    <tr>\n",
       "      <th>13</th>\n",
       "      <td>2015</td>\n",
       "      <td>131421</td>\n",
       "      <td>96712</td>\n",
       "      <td>45792</td>\n",
       "      <td>1.358890</td>\n",
       "      <td>2.869955</td>\n",
       "    </tr>\n",
       "    <tr>\n",
       "      <th>14</th>\n",
       "      <td>2016</td>\n",
       "      <td>300939</td>\n",
       "      <td>224901</td>\n",
       "      <td>80914</td>\n",
       "      <td>1.338095</td>\n",
       "      <td>3.719245</td>\n",
       "    </tr>\n",
       "    <tr>\n",
       "      <th>15</th>\n",
       "      <td>2017</td>\n",
       "      <td>666497</td>\n",
       "      <td>526146</td>\n",
       "      <td>107830</td>\n",
       "      <td>1.266753</td>\n",
       "      <td>6.180998</td>\n",
       "    </tr>\n",
       "    <tr>\n",
       "      <th>16</th>\n",
       "      <td>2018</td>\n",
       "      <td>1037783</td>\n",
       "      <td>828240</td>\n",
       "      <td>119870</td>\n",
       "      <td>1.252998</td>\n",
       "      <td>8.657571</td>\n",
       "    </tr>\n",
       "    <tr>\n",
       "      <th>17</th>\n",
       "      <td>2019</td>\n",
       "      <td>1284198</td>\n",
       "      <td>998926</td>\n",
       "      <td>125015</td>\n",
       "      <td>1.285579</td>\n",
       "      <td>10.272351</td>\n",
       "    </tr>\n",
       "    <tr>\n",
       "      <th>18</th>\n",
       "      <td>2020</td>\n",
       "      <td>782814</td>\n",
       "      <td>647227</td>\n",
       "      <td>117638</td>\n",
       "      <td>1.209489</td>\n",
       "      <td>6.654431</td>\n",
       "    </tr>\n",
       "    <tr>\n",
       "      <th>19</th>\n",
       "      <td>2021</td>\n",
       "      <td>595164</td>\n",
       "      <td>499215</td>\n",
       "      <td>107152</td>\n",
       "      <td>1.192200</td>\n",
       "      <td>5.554390</td>\n",
       "    </tr>\n",
       "  </tbody>\n",
       "</table>\n",
       "</div>"
      ],
      "text/plain": [
       "    year  reviews_count  users_count  sites_count  reviews_per_user  \\\n",
       "8   2010          20627        12087         8892          1.706544   \n",
       "9   2011          36781        22105        14868          1.663922   \n",
       "10  2012          47374        30459        20147          1.555337   \n",
       "11  2013          64513        42954        25244          1.501909   \n",
       "12  2014          85133        60275        30285          1.412410   \n",
       "13  2015         131421        96712        45792          1.358890   \n",
       "14  2016         300939       224901        80914          1.338095   \n",
       "15  2017         666497       526146       107830          1.266753   \n",
       "16  2018        1037783       828240       119870          1.252998   \n",
       "17  2019        1284198       998926       125015          1.285579   \n",
       "18  2020         782814       647227       117638          1.209489   \n",
       "19  2021         595164       499215       107152          1.192200   \n",
       "\n",
       "    reviews_per_site  \n",
       "8           2.319726  \n",
       "9           2.473836  \n",
       "10          2.351417  \n",
       "11          2.555578  \n",
       "12          2.811062  \n",
       "13          2.869955  \n",
       "14          3.719245  \n",
       "15          6.180998  \n",
       "16          8.657571  \n",
       "17         10.272351  \n",
       "18          6.654431  \n",
       "19          5.554390  "
      ]
     },
     "execution_count": 87,
     "metadata": {},
     "output_type": "execute_result"
    }
   ],
   "source": [
    "customer_engagement = dfgy_reviews.groupby(['year']).agg({'datetime':'nunique', 'user_id':'nunique', 'site_id':'nunique'}).reset_index()\n",
    "customer_engagement.rename(columns={'datetime':'reviews_count', 'user_id':'users_count', 'site_id':'sites_count'}, inplace=True)\n",
    "customer_engagement['reviews_per_user'] = customer_engagement['reviews_count'] / customer_engagement['users_count']\n",
    "customer_engagement['reviews_per_site'] = customer_engagement['reviews_count'] / customer_engagement['sites_count']\n",
    "\n",
    "customer_engagement = customer_engagement.loc[(customer_engagement['year'] >= 2010) & (customer_engagement['year'] <= 2021)]\n",
    "customer_engagement['year'] = customer_engagement['year'].astype(int)\n",
    "\n",
    "customer_engagement"
   ]
  },
  {
   "cell_type": "code",
   "execution_count": 88,
   "metadata": {},
   "outputs": [
    {
     "data": {
      "image/png": "[encoded data removed]",
      "text/plain": [
       "<Figure size 1400x600 with 1 Axes>"
      ]
     },
     "metadata": {},
     "output_type": "display_data"
    }
   ],
   "source": [
    "plt.figure(figsize=(14, 6))\n",
    "\n",
    "sns.lineplot(customer_engagement, x='year', y='reviews_per_user', label='Reviews per user')\n",
    "sns.lineplot(customer_engagement, x='year', y='reviews_per_site', label='Reviews per site')\n",
    "\n",
    "plt.title('Evolución de Cantidad de Reseñas por Año')\n",
    "plt.xlabel('Año')\n",
    "plt.ylabel('Reseñas')\n",
    "plt.legend()\n",
    "plt.grid(True)\n",
    "\n",
    "plt.show()"
   ]
  },
  {
   "cell_type": "markdown",
   "metadata": {},
   "source": [
    "Conclusión:\n",
    "* Se muestran los promedios de reseñas por usuario y por local, respectivamente\n",
    "* Se observa una leve tendencia a disminuir la cantidad de reseñas promedio por usuario\n",
    "* Se obswerva una amplica tendencia a recibir más reseñas por local"
   ]
  },
  {
   "cell_type": "markdown",
   "metadata": {},
   "source": [
    "### Satisfacción"
   ]
  },
  {
   "cell_type": "code",
   "execution_count": 89,
   "metadata": {},
   "outputs": [
    {
     "data": {
      "text/html": [
       "<div>\n",
       "<style scoped>\n",
       "    .dataframe tbody tr th:only-of-type {\n",
       "        vertical-align: middle;\n",
       "    }\n",
       "\n",
       "    .dataframe tbody tr th {\n",
       "        vertical-align: top;\n",
       "    }\n",
       "\n",
       "    .dataframe thead th {\n",
       "        text-align: right;\n",
       "    }\n",
       "</style>\n",
       "<table border=\"1\" class=\"dataframe\">\n",
       "  <thead>\n",
       "    <tr style=\"text-align: right;\">\n",
       "      <th></th>\n",
       "      <th>year</th>\n",
       "      <th>rating</th>\n",
       "      <th>polarity</th>\n",
       "    </tr>\n",
       "  </thead>\n",
       "  <tbody>\n",
       "    <tr>\n",
       "      <th>8</th>\n",
       "      <td>2010</td>\n",
       "      <td>3.734976</td>\n",
       "      <td>0.731821</td>\n",
       "    </tr>\n",
       "    <tr>\n",
       "      <th>9</th>\n",
       "      <td>2011</td>\n",
       "      <td>3.731350</td>\n",
       "      <td>0.697699</td>\n",
       "    </tr>\n",
       "    <tr>\n",
       "      <th>10</th>\n",
       "      <td>2012</td>\n",
       "      <td>3.762938</td>\n",
       "      <td>0.683471</td>\n",
       "    </tr>\n",
       "    <tr>\n",
       "      <th>11</th>\n",
       "      <td>2013</td>\n",
       "      <td>3.758628</td>\n",
       "      <td>0.676473</td>\n",
       "    </tr>\n",
       "    <tr>\n",
       "      <th>12</th>\n",
       "      <td>2014</td>\n",
       "      <td>3.784720</td>\n",
       "      <td>0.664070</td>\n",
       "    </tr>\n",
       "    <tr>\n",
       "      <th>13</th>\n",
       "      <td>2015</td>\n",
       "      <td>3.816212</td>\n",
       "      <td>0.622458</td>\n",
       "    </tr>\n",
       "    <tr>\n",
       "      <th>14</th>\n",
       "      <td>2016</td>\n",
       "      <td>3.967301</td>\n",
       "      <td>0.564790</td>\n",
       "    </tr>\n",
       "    <tr>\n",
       "      <th>15</th>\n",
       "      <td>2017</td>\n",
       "      <td>4.102170</td>\n",
       "      <td>0.546677</td>\n",
       "    </tr>\n",
       "    <tr>\n",
       "      <th>16</th>\n",
       "      <td>2018</td>\n",
       "      <td>4.156971</td>\n",
       "      <td>0.547505</td>\n",
       "    </tr>\n",
       "    <tr>\n",
       "      <th>17</th>\n",
       "      <td>2019</td>\n",
       "      <td>4.201548</td>\n",
       "      <td>0.549258</td>\n",
       "    </tr>\n",
       "    <tr>\n",
       "      <th>18</th>\n",
       "      <td>2020</td>\n",
       "      <td>4.259600</td>\n",
       "      <td>0.571561</td>\n",
       "    </tr>\n",
       "    <tr>\n",
       "      <th>19</th>\n",
       "      <td>2021</td>\n",
       "      <td>4.235957</td>\n",
       "      <td>0.587618</td>\n",
       "    </tr>\n",
       "  </tbody>\n",
       "</table>\n",
       "</div>"
      ],
      "text/plain": [
       "    year    rating  polarity\n",
       "8   2010  3.734976  0.731821\n",
       "9   2011  3.731350  0.697699\n",
       "10  2012  3.762938  0.683471\n",
       "11  2013  3.758628  0.676473\n",
       "12  2014  3.784720  0.664070\n",
       "13  2015  3.816212  0.622458\n",
       "14  2016  3.967301  0.564790\n",
       "15  2017  4.102170  0.546677\n",
       "16  2018  4.156971  0.547505\n",
       "17  2019  4.201548  0.549258\n",
       "18  2020  4.259600  0.571561\n",
       "19  2021  4.235957  0.587618"
      ]
     },
     "execution_count": 89,
     "metadata": {},
     "output_type": "execute_result"
    }
   ],
   "source": [
    "customer_satisfaction = dfgy_reviews.groupby(['year']).agg({'rating':'mean', 'polarity':'mean'}).reset_index()\n",
    "customer_satisfaction = customer_satisfaction.loc[(customer_satisfaction['year'] >= 2010) & (customer_satisfaction['year'] <= 2021)]\n",
    "\n",
    "customer_satisfaction"
   ]
  },
  {
   "cell_type": "code",
   "execution_count": 90,
   "metadata": {},
   "outputs": [
    {
     "data": {
      "image/png": "[encoded data removed]",
      "text/plain": [
       "<Figure size 1200x600 with 2 Axes>"
      ]
     },
     "metadata": {},
     "output_type": "display_data"
    }
   ],
   "source": [
    "plt.figure(figsize=(12, 6))\n",
    "\n",
    "ax1 = sns.lineplot(data=customer_satisfaction, x='year', y='rating', color='blue', marker='o', label='Rating')\n",
    "\n",
    "plt.xlabel('Año')\n",
    "ax1.set_ylabel('Rating', color='blue')\n",
    "plt.title('Evolución de Rating y Polarity por Año')\n",
    "plt.grid(True)\n",
    "\n",
    "ax2 = ax1.twinx()\n",
    "sns.lineplot(data=customer_satisfaction, x='year', y='polarity', color='red', marker='s', label='Polarity', ax=ax2)\n",
    "ax2.set_ylabel('Polarity', color='red')\n",
    "\n",
    "ax1.legend(loc='lower left')\n",
    "ax2.legend(loc='upper left')\n",
    "\n",
    "plt.show()"
   ]
  },
  {
   "cell_type": "markdown",
   "metadata": {},
   "source": [
    "Concllusión:\n",
    "* Se muestra la evolución anual de promedios de rating y polaridad del análisis de sentimientos preliminar\n",
    "* SE observa claramente la mejora de la satisfacción del cliente a lo largo del tiempo\n",
    "* Se observa una disminución e inicio de estabilización de la polaridad, lo cual es un indicador de una participación activa y proactiva del usuario en las reseñas"
   ]
  },
  {
   "cell_type": "markdown",
   "metadata": {},
   "source": [
    "# Conclusiones\n",
    "===================================================================================================================================="
   ]
  },
  {
   "cell_type": "markdown",
   "metadata": {},
   "source": [
    "## FASE DE ETL (EXTRACTION, TRANSFORMATION AND LOAD OF DATA)"
   ]
  },
  {
   "cell_type": "markdown",
   "metadata": {},
   "source": [
    "Debido a la gran cantidad de información y necesidad de procesamiento, la fase de ETL se realizó en cinco archivos diferentes:\n",
    "* DS_PjFinal_yelp1_sites_checkins_users\n",
    "* DS_PjFinal_yelp2_reviews\n",
    "* DS_PjFinal_google1_sites\n",
    "* DS_PjFinal_google2_reviews\n",
    "* DS_PjFinal_ETL_SitesUniques"
   ]
  },
  {
   "cell_type": "markdown",
   "metadata": {},
   "source": [
    "### Diagrama simple de estructura de datos"
   ]
  },
  {
   "cell_type": "markdown",
   "metadata": {},
   "source": [
    "<div style=\"text-align:center;\">\n",
    "    <img src=\"/Users/Juan/Documents/Academics/DataScience/PjFinal/DataStructureSimple.png\" alt=\"Texto alternativo\" width=\"1000\" height=\"1000\">\n",
    "</div>"
   ]
  },
  {
   "cell_type": "markdown",
   "metadata": {},
   "source": [
    "### Diagrama completo de estructura de datos"
   ]
  },
  {
   "cell_type": "markdown",
   "metadata": {},
   "source": [
    "<div style=\"text-align:center;\">\n",
    "    <img src=\"/Users/Juan/Documents/Academics/DataScience/PjFinal/DataStructureComplete.png\" alt=\"Texto alternativo\" width=\"1000\" height=\"1000\">\n",
    "</div>"
   ]
  },
  {
   "cell_type": "markdown",
   "metadata": {},
   "source": [
    "## FASE DE EDA (EXPLORATORY DATA ANALYSIS) "
   ]
  },
  {
   "cell_type": "markdown",
   "metadata": {},
   "source": [
    "El EDA se ha basado en el análisis de oferta y demanda del dataset conjunto de Yelp y Google, así como el análisis de preferencias de usuarios, en función de conocer los primeros datos del mercado y buscar oportunidades y soluciones para propuesta del modelo de machine learning a presentar como prooducto final."
   ]
  },
  {
   "cell_type": "markdown",
   "metadata": {},
   "source": [
    "### FASE DE PRE-PROCESAMIENTO DE DATOS"
   ]
  },
  {
   "cell_type": "markdown",
   "metadata": {},
   "source": [
    "El pre-procesamiento de datos consistió en las siguientes tareas:\n",
    "* Gestión de tipos de datos\n",
    "* Gestión de valores nulos\n",
    "* Gestión de valores duplicados\n",
    "* Gestión de características: eliminación de campos innecesarios y agregado de campos auxiliares \n",
    "\n",
    "Observaciones respecto al pre-procesamiento de datos:\n",
    "* Se ha utilizado un dataset de códigos postales para corregir el dataset original de \"business\", ya que se detectó un error en el dataset original. \n",
    "* No se encontraron grandes cantidades de valores nulos, y no se encontraron duplicados que afecten a los datos. \n",
    "* Se modificaron algunos tipos de datos, sobre todo de aquellos campos de valor tipo \"fecha\"\n",
    "* Se agregaron algunas características o campos auxiliares para facilitar el posterior agrupamiento y visualización de datos\n",
    "* En particular, las modificaciones específicas que se han realizado son las siguientes:\n",
    "    * Corrección de zip codes\n",
    "    * Creación de precios en \n",
    "    * Creación de campo de \"supracategorías\" para agrupamiento de categorías de comida\n",
    "    * Creación de listado único de restaurantes, combinando listado de ambas fuentes (Yelp y Google)"
   ]
  },
  {
   "cell_type": "markdown",
   "metadata": {},
   "source": [
    "### FASE DE ANALISIS DE DATOS"
   ]
  },
  {
   "cell_type": "markdown",
   "metadata": {},
   "source": [
    "Respecto al análisis de datos, se ha considerado estudiar el mercado a través de la oferta y demanda, y las preferencias del usuario. \n",
    "* Para valorizar la oferta, se ha considerado la cantidad de locales registrados en yelp\n",
    "* Para valorizar la demanda, se ha considerado la cantidad de check-ins registrados\n",
    "* Para conocer las preferencias del usuario, se consideran también los check-ins agrupados por categorías, marcas y locaciones"
   ]
  },
  {
   "cell_type": "markdown",
   "metadata": {},
   "source": [
    "### CONSIDERACIONES PARA EL PRODUCTO FINAL"
   ]
  },
  {
   "cell_type": "markdown",
   "metadata": {},
   "source": [
    "El interés específico de este análisis deviene en la definición de inputs y outputs a considerar en el modelo de Machine Learning, para luego definir los KPIs del proyecto, dashboard y producto final a presentar al cliente.\n",
    "\n",
    "Inputs a considerar:\n",
    "* Supra-categorías de comida\n",
    "* Categorías de comida\n",
    "* Atributos\n",
    "* Marcas\n",
    "* Locaciones (estado, ciudad y código postal)\n",
    "* Precio\n",
    "\n",
    "Outputs a considerar:\n",
    "* Proyección de ventas\n",
    "* Proyección de check-ins\n",
    "* Proyección de cantidad de reseñas\n",
    "* Proyección de valoracióin de reseñas\n",
    "* Proyección de satisfacción del cliente\n",
    "* Proyección de performance del site"
   ]
  }
 ],
 "metadata": {
  "kernelspec": {
   "display_name": "Python 3",
   "language": "python",
   "name": "python3"
  },
  "language_info": {
   "codemirror_mode": {
    "name": "ipython",
    "version": 3
   },
   "file_extension": ".py",
   "mimetype": "text/x-python",
   "name": "python",
   "nbconvert_exporter": "python",
   "pygments_lexer": "ipython3",
   "version": "3.12.0"
  }
 },
 "nbformat": 4,
 "nbformat_minor": 2
}
