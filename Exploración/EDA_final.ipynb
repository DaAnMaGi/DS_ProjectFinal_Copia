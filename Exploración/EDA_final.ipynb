{
 "cells": [
  {
   "cell_type": "markdown",
   "metadata": {},
   "source": [
    "# Importación de librerías\n",
    "============================================================================================================="
   ]
  },
  {
   "cell_type": "code",
   "execution_count": 1,
   "metadata": {},
   "outputs": [],
   "source": [
    "import pandas as pd\n",
    "import os\n",
    "import numpy as np\n",
    "\n",
    "import math\n",
    "import seaborn as sns\n",
    "import matplotlib as mpl\n",
    "from matplotlib import pyplot as plt\n",
    "from math import factorial\n",
    "from scipy import stats as st\n",
    "import json\n",
    "import gzip\n",
    "import pickle\n",
    "\n",
    "from vaderSentiment.vaderSentiment import SentimentIntensityAnalyzer\n",
    "from datetime import datetime"
   ]
  },
  {
   "cell_type": "markdown",
   "metadata": {},
   "source": [
    "# ETL de Google - 1"
   ]
  },
  {
   "cell_type": "markdown",
   "metadata": {},
   "source": [
    "## Carga de datos\n",
    "============================================================================================================="
   ]
  },
  {
   "cell_type": "code",
   "execution_count": null,
   "metadata": {},
   "outputs": [],
   "source": [
    "# Ruta a la ubicación de los archivos JSON\n",
    "ruta_directorio = '/Users/Juan/Documents/Academics/DataScience/PjFinal/Google/GoogleSites/'\n",
    "\n",
    "dataframes = []\n",
    "for filename in os.listdir(ruta_directorio):        \n",
    "    if filename.endswith('.json'):\n",
    "        df_temporal = pd.read_json(os.path.join(ruta_directorio, filename), lines=True)\n",
    "        dataframes.append(df_temporal)\n",
    "\n",
    "dfg_sites = pd.concat(dataframes, ignore_index=True)        "
   ]
  },
  {
   "cell_type": "code",
   "execution_count": null,
   "metadata": {},
   "outputs": [],
   "source": [
    "print(dfg_sites.info())\n",
    "dfg_sites.sample(2)"
   ]
  },
  {
   "cell_type": "markdown",
   "metadata": {},
   "source": [
    "## Exportación de datos\n",
    "========================================================="
   ]
  },
  {
   "cell_type": "code",
   "execution_count": null,
   "metadata": {},
   "outputs": [],
   "source": [
    "dfg_sites.to_csv('dfg_sites.csv', index=False)\n",
    "dfg_sites.to_parquet('dfg_sites.parquet')"
   ]
  },
  {
   "cell_type": "markdown",
   "metadata": {},
   "source": [
    "## Conclusiones \n",
    "========================================================"
   ]
  },
  {
   "cell_type": "markdown",
   "metadata": {},
   "source": [
    "* Se realiza la lectura, concatenación y exportación de los datos de locales de google\n",
    "* Debido a la cuantiosa cantidad de información, el preprocesamiento de estos datos se realiza en el EDA"
   ]
  },
  {
   "cell_type": "markdown",
   "metadata": {},
   "source": [
    "# ETL de Google - 2"
   ]
  },
  {
   "cell_type": "markdown",
   "metadata": {},
   "source": [
    "## Carga de datos \n",
    "=================================================================="
   ]
  },
  {
   "cell_type": "code",
   "execution_count": null,
   "metadata": {},
   "outputs": [],
   "source": [
    "# Sites\n",
    "dfg_rest = pd.read_parquet('dataset_g_restaurants.parquet')\n",
    "\n",
    "# Reviews\n",
    "# Este dataset se carga más adelante en su sección de pre-procesamiento"
   ]
  },
  {
   "cell_type": "markdown",
   "metadata": {},
   "source": [
    "## Preprocesamiento\n",
    "============================================================"
   ]
  },
  {
   "cell_type": "markdown",
   "metadata": {},
   "source": [
    "### Dataset SITES"
   ]
  },
  {
   "cell_type": "code",
   "execution_count": null,
   "metadata": {},
   "outputs": [],
   "source": [
    "print(dfg_rest.info())\n",
    "dfg_rest.sample(2)"
   ]
  },
  {
   "cell_type": "code",
   "execution_count": null,
   "metadata": {},
   "outputs": [],
   "source": [
    "# Adecuación de tipos de dato\n",
    "dfg_rest = dfg_rest[['name', 'address', 'gmap_id', 'latitude', 'longitude', 'avg_rating', 'num_of_reviews', 'price']]\n",
    "dfg_rest = dfg_rest.rename(columns={'address': 'address_full'})\n",
    "dfg_rest[['address', 'city', 'postal_code']] = dfg_rest['address_full'].str.extract(r'.*,\\s*([^,]+),\\s*([^,]+),\\s*([^,]+)')\n",
    "dfg_rest['state'] = dfg_rest['postal_code'].str.split(' ').str[0]\n",
    "dfg_rest['postal_code'] = dfg_rest['postal_code'].str.split(' ').str[1]\n",
    "\n",
    "dfg_rest['postal_code'] = pd.to_numeric(dfg_rest['postal_code'], errors='coerce')\n",
    "dfg_rest = dfg_rest.dropna(subset=['postal_code'])\n",
    "dfg_rest['postal_code'] = dfg_rest['postal_code'].astype(int)"
   ]
  },
  {
   "cell_type": "code",
   "execution_count": null,
   "metadata": {},
   "outputs": [],
   "source": [
    "print(dfg_rest.info())\n",
    "dfg_rest.sample(2)"
   ]
  },
  {
   "cell_type": "code",
   "execution_count": null,
   "metadata": {},
   "outputs": [],
   "source": [
    "# Convertir precio a formato numerico\n",
    "price_mapping = {'$': 1, '$$': 2, '$$$': 3, '$$$$': 4}\n",
    "dfg_rest['price'] = dfg_rest['price'].map(price_mapping)\n",
    "\n",
    "# Reemplazar valores nulos del campo \"precio\" con el promedio de precios basado en cercanía, utilzando el código postal\n",
    "dfg_rest['postal_code'] = dfg_rest['postal_code'].astype(str)\n",
    "average_price_by_zip = dfg_rest.groupby('postal_code')['price'].apply(lambda x: x.dropna().astype(float).mean())\n",
    "dfg_rest['price'] = dfg_rest.apply(lambda row: average_price_by_zip.get(row['postal_code']) if pd.isnull(row['price']) else row['price'], axis=1)\n",
    "\n",
    "dfg_rest = dfg_rest.dropna(subset=['price'])"
   ]
  },
  {
   "cell_type": "code",
   "execution_count": null,
   "metadata": {},
   "outputs": [],
   "source": [
    "print(dfg_rest.info())\n",
    "dfg_rest.sample(2)"
   ]
  },
  {
   "cell_type": "code",
   "execution_count": null,
   "metadata": {},
   "outputs": [],
   "source": [
    "#dfg_rest.to_parquet('dfg_rest.parquet')"
   ]
  },
  {
   "cell_type": "markdown",
   "metadata": {},
   "source": [
    "#### Creacion del dataset de categorias"
   ]
  },
  {
   "cell_type": "code",
   "execution_count": null,
   "metadata": {},
   "outputs": [],
   "source": [
    "dfg_restaurants = pd.read_parquet('dataset_g_restaurants.parquet')\n",
    "dfg_categories = dfg_restaurants[['gmap_id', 'category']]\n",
    "dfg_categories = dfg_categories.explode('category')\n",
    "dfg_categories.rename(columns={'gmap_id': 'site_id'}, inplace=True)\n",
    "\n",
    "dfg_categories.info()\n",
    "dfg_categories.sample(10)"
   ]
  },
  {
   "cell_type": "code",
   "execution_count": null,
   "metadata": {},
   "outputs": [],
   "source": [
    "dfg_categories_grouped = dfg_categories.groupby(['site_id'])['category'].count().reset_index()\n",
    "dfg_categories_grouped.sort_values(by='category', ascending=False, inplace=True)\n",
    "dfg_categories_grouped.head()"
   ]
  },
  {
   "cell_type": "code",
   "execution_count": null,
   "metadata": {},
   "outputs": [],
   "source": [
    "# Exportar\n",
    "#dfg_categories.to_parquet('dfg_site_categories.parquet')\n",
    "#dfg_categories.to_excel('dfg_site_categories.xlsx')"
   ]
  },
  {
   "cell_type": "markdown",
   "metadata": {},
   "source": [
    "#### Creacion del dataset de atributos"
   ]
  },
  {
   "cell_type": "code",
   "execution_count": null,
   "metadata": {},
   "outputs": [],
   "source": [
    "dfg_restaurants = pd.read_parquet('dataset_g_restaurants.parquet')\n",
    "dfg_attributes = dfg_restaurants[['gmap_id', 'MISC']]\n",
    "\n",
    "dfg_categories.rename(columns={'gmap_id': 'site_id'}, inplace=True)\n",
    "\n",
    "dfg_attributes.info()\n",
    "dfg_attributes.sample(10)"
   ]
  },
  {
   "cell_type": "code",
   "execution_count": null,
   "metadata": {},
   "outputs": [],
   "source": [
    "# Convertir el campo MISC en un DataFrame separado\n",
    "misc_df = dfg_attributes['MISC'].apply(pd.Series)\n",
    "\n",
    "# Dividir el diccionario en columnas separadas\n",
    "dfg_attributes[['Accessibility', 'Activities', 'Amenities']] = misc_df[['Accessibility', 'Activities', 'Amenities']]\n",
    "\n",
    "# Eliminar la columna MISC original\n",
    "dfg_attributes.drop(columns=['MISC'], inplace=True)\n",
    "\n",
    "dfg_attributes.head(10)"
   ]
  },
  {
   "cell_type": "code",
   "execution_count": null,
   "metadata": {},
   "outputs": [],
   "source": [
    "dfg_attributes.to_csv(\"dfg_attributes.csv\")"
   ]
  },
  {
   "cell_type": "code",
   "execution_count": null,
   "metadata": {},
   "outputs": [],
   "source": [
    "dfg_attributes['Accessibility'].head(10)"
   ]
  },
  {
   "cell_type": "code",
   "execution_count": null,
   "metadata": {},
   "outputs": [],
   "source": [
    "'''import pandas as pd\n",
    "\n",
    "# Función para procesar los valores de la columna Accessibility\n",
    "def process_value(value):\n",
    "    # Verificar si el valor es nulo\n",
    "    if pd.isnull(value):\n",
    "        return None\n",
    "    # Verificar si el valor es una lista\n",
    "    if isinstance(value, list):\n",
    "        return value\n",
    "    # Dividir la cadena por líneas y eliminar elementos vacíos\n",
    "    return value.splitlines() if isinstance(value, str) else None\n",
    "\n",
    "# Aplicar la función a la columna Accessibility\n",
    "dfg_attributes['Accessibility'] = dfg_attributes['Accessibility'].apply(process_value)\n",
    "dfg_attributes['Accessibility'].head(5)'''"
   ]
  },
  {
   "cell_type": "code",
   "execution_count": null,
   "metadata": {},
   "outputs": [],
   "source": [
    "'''# Dividir y limpiar los valores basados en el espacio en blanco\n",
    "dfg_attributes['Accessibility'] = dfg_attributes['Accessibility'].apply(lambda x: x.split() if pd.notnull(x) else [])\n",
    "dfg_attributes['Activities'] = dfg_attributes['Activities'].apply(lambda x: x.split() if pd.notnull(x) else [])\n",
    "dfg_attributes['Amenities'] = dfg_attributes['Amenities'].apply(lambda x: x.split() if pd.notnull(x) else [])\n",
    "\n",
    "# Muestra el DataFrame resultante\n",
    "dfg_attributes.head()'''"
   ]
  },
  {
   "cell_type": "code",
   "execution_count": null,
   "metadata": {},
   "outputs": [],
   "source": [
    "dfg_attributes.head()"
   ]
  },
  {
   "cell_type": "markdown",
   "metadata": {},
   "source": [
    "#### Creacion del dataset de precios"
   ]
  },
  {
   "cell_type": "code",
   "execution_count": null,
   "metadata": {},
   "outputs": [],
   "source": [
    "dfg_rest_prices_by_zip = dfg_rest.groupby('postal_code')['price'].apply(lambda x: x.dropna().astype(float).mean())\n",
    "\n",
    "dfg_rest_prices_by_zip.reset_index()"
   ]
  },
  {
   "cell_type": "code",
   "execution_count": null,
   "metadata": {},
   "outputs": [],
   "source": [
    "dfg_rest_prices_by_zip_df = dfg_rest_prices_by_zip.to_frame()\n",
    "dfg_rest_prices_by_zip_df.to_parquet('dfg_rest_prices_by_zip.parquet')"
   ]
  },
  {
   "cell_type": "markdown",
   "metadata": {},
   "source": [
    "#### Creación de dataset de coordenadas"
   ]
  },
  {
   "cell_type": "code",
   "execution_count": null,
   "metadata": {},
   "outputs": [],
   "source": [
    "dfg_rest_coord = dfg_rest[['gmap_id', 'latitude', 'longitude', 'name', 'state', 'city', 'postal_code',]]\n",
    "dfg_rest_coord = dfg_rest_coord.rename(columns={'gmap_id': 'business_id'})\n",
    "dfg_rest_coord['source'] = 'google'\n",
    "\n",
    "print(dfg_rest_coord.info())\n",
    "dfg_rest_coord.sample(2)"
   ]
  },
  {
   "cell_type": "code",
   "execution_count": null,
   "metadata": {},
   "outputs": [],
   "source": [
    "# Función para convertir latitud y longitud a coordenadas cartesianas\n",
    "def lat_lon_to_cartesian(lat, lon):\n",
    "    R = 6371  # Radio de la Tierra en kilómetros\n",
    "    x = R * math.cos(math.radians(lat)) * math.cos(math.radians(lon))\n",
    "    y = R * math.cos(math.radians(lat)) * math.sin(math.radians(lon))\n",
    "    return x, y\n",
    "\n",
    "# Suponiendo que tienes un DataFrame llamado df con las columnas business_id, latitud y longitud\n",
    "# Agrega campos de coordenadas cartesianas x e y al DataFrame\n",
    "dfg_rest_coord['x'], dfg_rest_coord['y'] = zip(*dfg_rest_coord.apply(lambda row: lat_lon_to_cartesian(row['latitude'], row['longitude']), axis=1))\n",
    "\n",
    "print(dfg_rest_coord.info())\n",
    "dfg_rest_coord.sample(2)"
   ]
  },
  {
   "cell_type": "code",
   "execution_count": null,
   "metadata": {},
   "outputs": [],
   "source": [
    "# Exportar\n",
    "#dfg_rest_coord.to_parquet('dfg_rest_coord.parquet', index=False)\n",
    "#dfg_rest_coord.to_excel('dfg_rest_coord.xlsx', index=False)"
   ]
  },
  {
   "cell_type": "markdown",
   "metadata": {},
   "source": [
    "### Dataset REVIEW"
   ]
  },
  {
   "cell_type": "code",
   "execution_count": null,
   "metadata": {},
   "outputs": [],
   "source": [
    "dfg_rest_ids = dfg_rest[['gmap_id', 'state']]\n",
    "print(dfg_rest_ids.info())\n",
    "dfg_rest_ids.sample(2)"
   ]
  },
  {
   "cell_type": "code",
   "execution_count": null,
   "metadata": {},
   "outputs": [],
   "source": [
    "# Carga de datos desde los datasets .json para cada estado de USA\n",
    "\n",
    "states = [\n",
    "    'AL', 'AK', 'AZ', 'AR', 'CA', 'CO', 'CT', 'DE', 'FL', 'GA', \n",
    "    'HI', 'ID', 'IL', 'IN', 'IA', 'KS', 'KY', 'LA', 'ME', 'MD', \n",
    "    'MA', 'MI', 'MN', 'MS', 'MO', 'MT', 'NE', 'NV', 'NH', 'NJ', \n",
    "    'NM', 'NY', 'NC', 'ND', 'OH', 'OK', 'OR', 'PA', 'RI', 'SC', \n",
    "    'SD', 'TN', 'TX', 'UT', 'VT', 'VA', 'WA', 'WV', 'WI', 'WY',\n",
    "    'District_of_Columbia'\n",
    "]\n",
    "df_list = []\n",
    "\n",
    "for state in states:\n",
    "    filename = f'/Users/Juan/Documents/Academics/DataScience/PjFinal/Google/GoogleReviews/revgoo_{state}.parquet'\n",
    "    dfgrev = pd.read_parquet(filename)\n",
    "    dfgrev = dfgrev.dropna(subset=['text'])\n",
    "\n",
    "    # Filtrado por restaurantes\n",
    "    dfgrev = dfgrev[dfgrev['gmap_id'].isin(dfg_rest_ids['gmap_id'])]\n",
    "    # Análisis de sentimientos con VADER\n",
    "    analyzer = SentimentIntensityAnalyzer()\n",
    "    dfgrev['vader_polarity'] = dfgrev['text'].apply(lambda text: analyzer.polarity_scores(text)['compound'])\n",
    "    dfgrev['vader_sentiment'] = pd.cut(dfgrev['vader_polarity'], bins=[-float('inf'), -0.001, 0.0, float('inf')], labels=[-1, 0, 1])\n",
    "    # Seleccion de campos\n",
    "    dfgrev = dfgrev[['gmap_id', 'state', 'user_id', 'time', 'rating', 'vader_polarity', 'vader_sentiment']]\n",
    "\n",
    "    df_list.append(dfgrev)\n",
    "dfg_reviews = pd.concat(df_list, ignore_index=True)\n",
    "\n",
    "print(dfg_reviews.shape)\n",
    "dfg_reviews.sample(2)"
   ]
  },
  {
   "cell_type": "code",
   "execution_count": null,
   "metadata": {},
   "outputs": [],
   "source": [
    "dfg_reviews_usa = dfg_reviews\n",
    "\n",
    "# Adecuacion de campos\n",
    "dfg_reviews_usa['time'] = dfg_reviews_usa['time'].astype(int)\n",
    "dfg_reviews_usa['time'] = dfg_reviews_usa['time'] / 1000\n",
    "\n",
    "# Convertir la marca de tiempo a un objeto de fecha y hora\n",
    "dfg_reviews_usa['datetime'] = dfg_reviews_usa['time'].apply(lambda x: datetime.fromtimestamp(x))\n",
    "dfg_reviews_usa = dfg_reviews_usa[['user_id', 'gmap_id', 'state', 'datetime', 'rating', 'vader_polarity', 'vader_sentiment']]"
   ]
  },
  {
   "cell_type": "code",
   "execution_count": null,
   "metadata": {},
   "outputs": [],
   "source": [
    "print(dfg_reviews_usa.info())\n",
    "dfg_reviews_usa.sample(5)"
   ]
  },
  {
   "cell_type": "code",
   "execution_count": null,
   "metadata": {},
   "outputs": [],
   "source": [
    "# Exportación de datos\n",
    "#dfg_reviews_usa.to_parquet('dfgrevall.parquet')"
   ]
  },
  {
   "cell_type": "markdown",
   "metadata": {},
   "source": [
    "## Conclusiones\n",
    "\n",
    "* Dataset SITES\n",
    "    * Conversión del campo \"precio\" a formato numérico\n",
    "    * Obtención de los campos \"state\" y \"postal_code\" a partir del campo \"address\" - esto será fundamental para combinar luego el dataset de google y yelp\n",
    "    * Creación del dataset de categorías a partir del campo \"category\" cuyos valores originales están en formato tipo \"lista\" - será de utilidad para el modelo de machine learning\n",
    "    * Creación del dataset de atributos a partir del campo \"MISC\" cuyos valores originales están en formato tipo \"diccionario de listas\" - será de utilidad para el modelo de machine learning\n",
    "    * Creación del dataset de precios - será utilizado para crear el campo \"precio\" en el dataset de yelp\n",
    "    * Creación del dataset de coordenadas - se utilizará para concatenar un listado único de sites entre ambos datasets de google y yelp\n",
    "* Dataset REVIEWS\n",
    "    * Mediante un código se leen todos los archivos de reviews de cada estado, concatenando los registros que correspondan a restaurantes"
   ]
  },
  {
   "cell_type": "markdown",
   "metadata": {},
   "source": [
    "# ETL Yelp - 1"
   ]
  },
  {
   "cell_type": "markdown",
   "metadata": {},
   "source": [
    "## Carga de datos\n",
    "======================================================================================="
   ]
  },
  {
   "cell_type": "code",
   "execution_count": null,
   "metadata": {},
   "outputs": [],
   "source": [
    "# Yelp\n",
    "business = pd.read_pickle('dataset_y_business.pkl')\n",
    "checkin = pd.read_json('dataset_y_checkin.json', lines=True)\n",
    "user = pd.read_parquet('dataset_y_user.parquet')"
   ]
  },
  {
   "cell_type": "code",
   "execution_count": null,
   "metadata": {},
   "outputs": [],
   "source": [
    "# Base de datos externa\n",
    "df_uszip = pd.read_excel('dataset_e_uszips.xlsx')"
   ]
  },
  {
   "cell_type": "markdown",
   "metadata": {},
   "source": [
    "## Preprocesamiento\n",
    "===================================================================================="
   ]
  },
  {
   "cell_type": "markdown",
   "metadata": {},
   "source": [
    "### Dataset uszip (externo)"
   ]
  },
  {
   "cell_type": "code",
   "execution_count": null,
   "metadata": {},
   "outputs": [],
   "source": [
    "print(df_uszip.info())\n",
    "df_uszip.sample(2)"
   ]
  },
  {
   "cell_type": "code",
   "execution_count": null,
   "metadata": {},
   "outputs": [],
   "source": [
    "df_uszip = df_uszip[['postal_code', 'state']]\n",
    "df_uszip['postal_code'] = df_uszip['postal_code'].astype(str)\n",
    "\n",
    "df_uszip.info()\n",
    "df_uszip.sample(2)"
   ]
  },
  {
   "cell_type": "markdown",
   "metadata": {},
   "source": [
    "### Dataset BUSINESS"
   ]
  },
  {
   "cell_type": "code",
   "execution_count": null,
   "metadata": {},
   "outputs": [],
   "source": [
    "print(business.info())\n",
    "business.sample(5)"
   ]
  },
  {
   "cell_type": "code",
   "execution_count": null,
   "metadata": {},
   "outputs": [],
   "source": [
    "business_copy = business.copy()\n",
    "business_copy = business_copy.loc[:,~business_copy.columns.duplicated()]\n",
    "business_copy.head()"
   ]
  },
  {
   "cell_type": "code",
   "execution_count": null,
   "metadata": {},
   "outputs": [],
   "source": [
    "# Selección de campos\n",
    "dfybsn = business[['business_id', 'name', 'state', 'city', 'postal_code', 'latitude', 'longitude', 'stars', 'review_count', 'is_open']]\n",
    "\n",
    "# Eliminación de columnas duplicadas\n",
    "dfybsn = dfybsn.loc[:,~dfybsn.columns.duplicated()]\n",
    "\n",
    "# Adcuación de tipos de datos\n",
    "dfybsn['latitude'] = pd.to_numeric(dfybsn['latitude'], errors='coerce')\n",
    "dfybsn['longitude'] = pd.to_numeric(dfybsn['longitude'], errors='coerce')\n",
    "dfybsn['stars'] = pd.to_numeric(dfybsn['stars'], errors='coerce')\n",
    "dfybsn['review_count'] = pd.to_numeric(dfybsn['review_count'], errors='coerce')\n",
    "dfybsn['is_open'] = pd.to_numeric(dfybsn['is_open'], errors='coerce')\n",
    "\n",
    "# Eliminación de duplicados\n",
    "dfybsn.drop_duplicates()\n",
    "\n",
    "'''Reemplazo de valores del campo \"state\": los valores del dataset original no se corresponden con los códigos postales, \n",
    "por lo cual se utilizará una base de datos externa para corregir esta serie.'''\n",
    "\n",
    "dfybsn.drop(columns=['state'], inplace=True)\n",
    "dfybsn = pd.merge(dfybsn, df_uszip, on='postal_code', how='left')\n",
    "\n",
    "# Campos auxiliares\n",
    "dfybsn.dropna(subset=['state'], inplace=True)\n",
    "dfybsn['state_city'] = dfybsn['state'].str.cat(dfybsn['city'], sep=' - ')\n",
    "dfybsn['city_postalcode'] = dfybsn['city'].str.cat(dfybsn['postal_code'], sep=' - ')\n",
    "dfybsn['state_city_postalcode'] = dfybsn['state'].str.cat(dfybsn['city'], sep=' - ').str.cat(dfybsn['postal_code'], sep=' - ')\n",
    "\n",
    "dfybsn.info()\n",
    "dfybsn.sample(2)"
   ]
  },
  {
   "cell_type": "markdown",
   "metadata": {},
   "source": [
    "### Creación de dataset RESTAURANTES"
   ]
  },
  {
   "cell_type": "code",
   "execution_count": null,
   "metadata": {},
   "outputs": [],
   "source": [
    "# Selección de campos\n",
    "dfybct = business[['business_id', 'categories']]\n",
    "\n",
    "# Eliminación de columnas duplicadas\n",
    "dfybct = dfybct.loc[:,~dfybct.columns.duplicated()]\n",
    "\n",
    "# Adecuación de campos\n",
    "dfybct = dfybct.explode('categories')\n",
    "dfybct = dfybct.assign(categories=dfybct['categories'].str.split(', ')).explode('categories')\n",
    "dfybct.reset_index(drop=True, inplace=True)\n",
    "\n",
    "# Eliminación de nulos\n",
    "dfybct = dfybct.dropna(subset=['categories'])\n",
    "\n",
    "dfybct.info()\n",
    "dfybct.sample(2)"
   ]
  },
  {
   "cell_type": "code",
   "execution_count": null,
   "metadata": {},
   "outputs": [],
   "source": [
    "# CATEGORIAS DISPONIBLES\n",
    "#categories_yelp = pd.DataFrame(dfybct['categories'].unique())\n",
    "#categories_yelp.to_csv('categories_yelp.csv', index=False)"
   ]
  },
  {
   "cell_type": "code",
   "execution_count": null,
   "metadata": {},
   "outputs": [],
   "source": [
    "# CATEGORIAS TIPO \"FOOD\" (LOCALES QUE TIENEN POR LO MENOS UNA CATEGORIA GASTRONOMICA)\n",
    "categories_food = pd.read_csv('dataframe_categories_food.csv')\n",
    "dfyfct = pd.merge(dfybct, categories_food, on='categories', how='inner')\n",
    "\n",
    "dfyfct.info()\n",
    "dfyfct.sample(2)"
   ]
  },
  {
   "cell_type": "code",
   "execution_count": null,
   "metadata": {},
   "outputs": [],
   "source": [
    "dfy_site_categories = dfyfct.copy()\n",
    "dfy_site_categories.rename(columns={\"business_id\":\"site_id\"}, inplace=True)\n",
    "dfy_site_categories.to_parquet(\"dfy_site_categories.parquet\")"
   ]
  },
  {
   "cell_type": "code",
   "execution_count": null,
   "metadata": {},
   "outputs": [],
   "source": [
    "dfyfct['categories'].nunique()"
   ]
  },
  {
   "cell_type": "code",
   "execution_count": null,
   "metadata": {},
   "outputs": [],
   "source": [
    "# LOCALES QUE SON RESTAURANTE\n",
    "dfyrst = pd.merge(dfybsn, dfyfct, on='business_id', how='left')\n",
    "# Eliminación de duplicados\n",
    "#dfyrst = dfyrst.drop_duplicates(subset='business_id', keep='first')\n",
    "\n",
    "dfyrst.info()\n",
    "dfyrst.sample(2)"
   ]
  },
  {
   "cell_type": "code",
   "execution_count": null,
   "metadata": {},
   "outputs": [],
   "source": [
    "# Agregado de campo \"precio\", basado en el dataset de google\n",
    "dfg_rest_prices_by_zip = pd.read_parquet(\"dfg_rest_prices_by_zip.parquet\")\n",
    "dfg_rest_prices_by_zip.sample(5)\n",
    "dfyrst = pd.merge(dfyrst, dfg_rest_prices_by_zip, on=['postal_code'], how='left')\n",
    "\n",
    "dfyrst.info()\n",
    "dfyrst.sample(2)"
   ]
  },
  {
   "cell_type": "code",
   "execution_count": null,
   "metadata": {},
   "outputs": [],
   "source": [
    "dfyrst.to_parquet('dfy_rest.parquet')"
   ]
  },
  {
   "cell_type": "markdown",
   "metadata": {},
   "source": [
    "### Creación de dataset de coordenadas"
   ]
  },
  {
   "cell_type": "code",
   "execution_count": null,
   "metadata": {},
   "outputs": [],
   "source": [
    "dfyrst_coord = dfyrst[['business_id', 'latitude', 'longitude', 'name', 'state', 'city', 'postal_code']]\n",
    "\n",
    "dfyrst_coord['source'] = 'yelp'\n",
    "dfyrst_coord.sample(2)\n",
    "\n",
    "print(dfyrst_coord.info())\n",
    "dfyrst_coord.sample(2)"
   ]
  },
  {
   "cell_type": "code",
   "execution_count": null,
   "metadata": {},
   "outputs": [],
   "source": [
    "# Función para convertir latitud y longitud a coordenadas cartesianas\n",
    "def lat_lon_to_cartesian(lat, lon):\n",
    "    R = 6371  # Radio de la Tierra en kilómetros\n",
    "    x = R * math.cos(math.radians(lat)) * math.cos(math.radians(lon))\n",
    "    y = R * math.cos(math.radians(lat)) * math.sin(math.radians(lon))\n",
    "    return x, y\n",
    "\n",
    "# Suponiendo que tienes un DataFrame llamado df con las columnas business_id, latitud y longitud\n",
    "# Agrega campos de coordenadas cartesianas x e y al DataFrame\n",
    "dfyrst_coord['x'], dfyrst_coord['y'] = zip(*dfyrst_coord.apply(lambda row: lat_lon_to_cartesian(row['latitude'], row['longitude']), axis=1))\n",
    "\n",
    "print(dfyrst_coord.info())\n",
    "dfyrst_coord.sample(2)"
   ]
  },
  {
   "cell_type": "code",
   "execution_count": null,
   "metadata": {},
   "outputs": [],
   "source": [
    "# Exportar \n",
    "#dfyrst_coord.to_parquet('dfyrst_coord.parquet', index=False)\n",
    "#dfyrst_coord.to_excel('dfyrst_coord.xlsx', index=False)"
   ]
  },
  {
   "cell_type": "markdown",
   "metadata": {},
   "source": [
    "### Creación de dataset BUSINESS ATTRIBUTES"
   ]
  },
  {
   "cell_type": "code",
   "execution_count": null,
   "metadata": {},
   "outputs": [],
   "source": [
    "# Selección de campos\n",
    "dfybat = business[['business_id','attributes']]\n",
    "\n",
    "# Eliminación de columnas duplicadas\n",
    "dfybat = dfybat.loc[:,~dfybat.columns.duplicated()]\n",
    "\n",
    "dfybat.info()\n",
    "dfybat.sample(5)"
   ]
  },
  {
   "cell_type": "code",
   "execution_count": null,
   "metadata": {},
   "outputs": [],
   "source": [
    "# Adecuación de campos\n",
    "dfybat = dfybat.explode('attributes')\n",
    "\n",
    "# Eliminación de duplicados\n",
    "dfybat.drop_duplicates()\n",
    "\n",
    "# Eliminación de nulos\n",
    "dfybat = dfybat.dropna(subset=['attributes'])"
   ]
  },
  {
   "cell_type": "code",
   "execution_count": null,
   "metadata": {},
   "outputs": [],
   "source": [
    "dfybat.info()\n",
    "dfybat.sample(5)"
   ]
  },
  {
   "cell_type": "code",
   "execution_count": null,
   "metadata": {},
   "outputs": [],
   "source": [
    "#dfybat[['business_id', 'attributes']].to_parquet('dfy_attributes.parquet')\n",
    "#dfybat[['business_id', 'attributes']].to_csv('dfy_attributes.csv')"
   ]
  },
  {
   "cell_type": "markdown",
   "metadata": {},
   "source": [
    "### Precios"
   ]
  },
  {
   "cell_type": "code",
   "execution_count": null,
   "metadata": {},
   "outputs": [],
   "source": [
    "'''# Filtrar los valores del campo \"attributes\" relacionados con la palabra \"precio\"\n",
    "df_prices = dfybat[dfybat['attributes'].str.contains('price', case=False)]\n",
    "df_prices.rename(columns={'attributes': 'price'}, inplace=True)\n",
    "\n",
    "print(df_prices['price'].nunique())\n",
    "# Mostrar el DataFrame filtrado\n",
    "df_prices.sample(2)'''\n",
    "# Se ha encontrado que este campo no contiene información de precios ni de rangos de precios"
   ]
  },
  {
   "cell_type": "markdown",
   "metadata": {},
   "source": [
    "### Dataset CHECKIN"
   ]
  },
  {
   "cell_type": "code",
   "execution_count": null,
   "metadata": {},
   "outputs": [],
   "source": [
    "print(checkin.shape)\n",
    "checkin.head(2)"
   ]
  },
  {
   "cell_type": "code",
   "execution_count": null,
   "metadata": {},
   "outputs": [],
   "source": [
    "# Filtrado por restarurants y agregado de características\n",
    "dfychk = pd.merge(checkin, dfyrst, on='business_id', how='inner')\n",
    "\n",
    "dfychk.info()\n",
    "dfychk.head(2)"
   ]
  },
  {
   "cell_type": "code",
   "execution_count": null,
   "metadata": {},
   "outputs": [],
   "source": [
    "dfychk['categories'].nunique()"
   ]
  },
  {
   "cell_type": "code",
   "execution_count": null,
   "metadata": {},
   "outputs": [],
   "source": [
    "#dfychk = dfychk.assign(date=dfychk['date'].str.split(', ')).explode('date')"
   ]
  },
  {
   "cell_type": "code",
   "execution_count": null,
   "metadata": {},
   "outputs": [],
   "source": [
    "dfychk['date'] = pd.to_datetime(dfychk['date'], errors='coerce')\n",
    "dfychk['year'] = dfychk['date'].dt.year\n",
    "dfychk['month'] = dfychk['date'].dt.month\n",
    "\n",
    "# Filtrado cronológico (los datos están entre dic2009 y ene2022, por lo tanto se quitan los años 2009 y 2022)\n",
    "dfychk = dfychk[(dfychk['year'] >= 2010) & (dfychk['year'] <= 2021)]\n",
    "\n",
    "dfychk.info()\n",
    "dfychk.sample(2)"
   ]
  },
  {
   "cell_type": "code",
   "execution_count": null,
   "metadata": {},
   "outputs": [],
   "source": [
    "#dfychk.to_parquet('dfy_checkins.parquet')"
   ]
  },
  {
   "cell_type": "markdown",
   "metadata": {},
   "source": [
    "### Dataset USER"
   ]
  },
  {
   "cell_type": "code",
   "execution_count": null,
   "metadata": {},
   "outputs": [],
   "source": [
    "user.info()\n",
    "user.sample(2)"
   ]
  },
  {
   "cell_type": "code",
   "execution_count": null,
   "metadata": {},
   "outputs": [],
   "source": [
    "# Selección de campos\n",
    "dfyusr = user[['user_id', 'review_count', 'fans', 'yelping_since', 'useful', 'funny', 'cool', 'average_stars']]\n",
    "\n",
    "dfyusr['yelping_since'] = pd.to_datetime(dfyusr['yelping_since'], errors='coerce')\n",
    "dfyusr.reset_index(drop=True, inplace=True)\n",
    "\n",
    "dfyusr['year'] = dfyusr['yelping_since'].dt.year\n",
    "dfyusr['month'] = dfyusr['yelping_since'].dt.month\n",
    "dfyusr['year_month'] = dfyusr['year'].astype(str).str.slice(-2) + dfyusr['month'].astype(str).str.zfill(2)\n",
    "\n",
    "dfyusr.info()\n",
    "dfyusr.sample(5)"
   ]
  },
  {
   "cell_type": "code",
   "execution_count": null,
   "metadata": {},
   "outputs": [],
   "source": [
    "dfyusr.to_parquet(\"dfy_user.parquet\")"
   ]
  },
  {
   "cell_type": "markdown",
   "metadata": {},
   "source": [
    "## Conclusiones"
   ]
  },
  {
   "cell_type": "markdown",
   "metadata": {},
   "source": [
    "* Dataset BUSINESS\n",
    "   * Se corrigen los códigos postales originales pues estaban erróneos\n",
    "   * Se eliminan columnas duplicadas\n",
    "   * Se adecúan los tipos de datos para su posterior procesamiento\n",
    "   * Se eliminan registros duplicados\n",
    "* Creación de dataset RESTAURANTES\n",
    "    Mediante un archivo que contiene las categorías deseadas de restaurantes y bares, se filtran los locales a considerar\n",
    "    Se agrega el campo precio tomado del dataset de google, con el cual se estima el rango de precios del local tomando el promedio del código postal al que pertenece\n",
    "* Creación del dataset de COORDENADAS\n",
    "    * Se calculan las coordenadas cartesianas y se exporta un archivo para luego crear un dataset de locales unívocos tomando en conjunto a yelp y google\n",
    "* Creación del dataset ATRIBUTOS\n",
    "    * Explotando el campo \"attributes\" se exporta un dataset con los atributos que se consideran relevantes para el modelo de machine learning\n",
    "* Dataset CHECKIN\n",
    "    * Se obtiene este registro de visitas mediante el filtrado de locales tipo restaurants & bares\n",
    "* Dataset USER\n",
    "    * Se adecúan los tipos de datos para su posterior procesamiento"
   ]
  },
  {
   "cell_type": "markdown",
   "metadata": {},
   "source": [
    "# ETL YELP - 2"
   ]
  },
  {
   "cell_type": "markdown",
   "metadata": {},
   "source": [
    "## Carga de datos\n",
    "============================================================="
   ]
  },
  {
   "cell_type": "code",
   "execution_count": null,
   "metadata": {},
   "outputs": [],
   "source": [
    "# Restaurantes\n",
    "dfyrst = pd.read_parquet('dfyrst_gastronomics.parquet')"
   ]
  },
  {
   "cell_type": "code",
   "execution_count": null,
   "metadata": {},
   "outputs": [],
   "source": [
    "# Tips\n",
    "tip = pd.read_json('dataset_y_tips.json', lines=True)"
   ]
  },
  {
   "cell_type": "code",
   "execution_count": null,
   "metadata": {},
   "outputs": [],
   "source": [
    "# Review\n",
    "review = pd.read_parquet('dataset_y_reviews.parquet')"
   ]
  },
  {
   "cell_type": "markdown",
   "metadata": {},
   "source": [
    "## Preprocesamiento\n",
    "========================================================================="
   ]
  },
  {
   "cell_type": "markdown",
   "metadata": {},
   "source": [
    "### Dataset RESTAURANTES"
   ]
  },
  {
   "cell_type": "code",
   "execution_count": null,
   "metadata": {},
   "outputs": [],
   "source": [
    "dfyrst.sample()"
   ]
  },
  {
   "cell_type": "markdown",
   "metadata": {},
   "source": [
    "### Dataset TIP"
   ]
  },
  {
   "cell_type": "code",
   "execution_count": null,
   "metadata": {},
   "outputs": [],
   "source": [
    "tip.sample(2)"
   ]
  },
  {
   "cell_type": "code",
   "execution_count": null,
   "metadata": {},
   "outputs": [],
   "source": [
    "# Selección de campos\n",
    "dfytip = tip\n",
    "\n",
    "dfytip['year'] = dfytip['date'].dt.year\n",
    "dfytip['month'] = dfytip['date'].dt.month\n",
    "dfytip['year_month'] = dfytip['year'].astype(str).str.slice(-2) + dfytip['month'].astype(str).str.zfill(2)\n",
    "\n",
    "# Filtrado por restaurantes\n",
    "dfytip = dfytip[dfytip['business_id'].isin(dfyrst['business_id'])]\n",
    "dfytip\n",
    "\n",
    "dfytip.info()\n",
    "dfytip.sample(5)"
   ]
  },
  {
   "cell_type": "code",
   "execution_count": null,
   "metadata": {},
   "outputs": [],
   "source": [
    "# Análisis de sentimientos a partir del campo \"text\"\n",
    "dfytip['text'] = dfytip['text'].astype(str)\n",
    "\n",
    "analyzer = SentimentIntensityAnalyzer()\n",
    "dfytip['polarity'] = dfytip['text'].apply(lambda text: analyzer.polarity_scores(text)['compound'])\n",
    "dfytip['sentiment'] = pd.cut(dfytip['polarity'], bins=[-float('inf'), -0.001, 0.0, float('inf')], labels=[-1, 0, 1])\n",
    "\n",
    "dfytip.info()\n",
    "dfytip.sample(5)"
   ]
  },
  {
   "cell_type": "code",
   "execution_count": null,
   "metadata": {},
   "outputs": [],
   "source": [
    "dfytip.to_parquet('dfy_tips.parquet', index=False)"
   ]
  },
  {
   "cell_type": "markdown",
   "metadata": {},
   "source": [
    "### Dataset REVIEW"
   ]
  },
  {
   "cell_type": "code",
   "execution_count": null,
   "metadata": {},
   "outputs": [],
   "source": [
    "print(review.shape)\n",
    "review.sample(2)"
   ]
  },
  {
   "cell_type": "code",
   "execution_count": null,
   "metadata": {},
   "outputs": [],
   "source": [
    "# Selección de campos\n",
    "dfyrev = review\n",
    "# Adecuación de campos\n",
    "dfyrev['date'] = pd.to_datetime(dfyrev['date'], errors='coerce')\n",
    "dfyrev.reset_index(drop=True, inplace=True)\n",
    "\n",
    "# Eliminación de duplicados: No tiene duplicados, se ha analizado fuera de este archivo\n",
    "\n",
    "# Eliminación de nulos\n",
    "dfyrev = dfyrev.dropna()\n",
    "\n",
    "dfyrev['year'] = dfyrev['date'].dt.year\n",
    "dfyrev['month'] = dfyrev['date'].dt.month\n",
    "dfyrev['year_month'] = dfyrev['year'].astype(str).str.slice(-2) + dfyrev['month'].astype(str).str.zfill(2)\n",
    "\n",
    "dfyrev = dfyrev[(dfyrev['year'] >= 2010) & (dfyrev['year'] <= 2021)]\n",
    "\n",
    "# Filtrado por restaurantes\n",
    "dfyrev = dfyrev[dfyrev['business_id'].isin(dfyrst['business_id'])]\n",
    "dfyrev\n",
    "\n",
    "dfyrev.info()\n",
    "dfyrev.sample(2)"
   ]
  },
  {
   "cell_type": "code",
   "execution_count": null,
   "metadata": {},
   "outputs": [],
   "source": [
    "# Especificar la semilla aleatoria para reproducibilidad\n",
    "random_state = 42\n",
    "dfyrev_sample = dfyrev.sample(n=1000000, random_state=random_state)\n",
    "dfyrev_sample.head(2)"
   ]
  },
  {
   "cell_type": "code",
   "execution_count": null,
   "metadata": {},
   "outputs": [],
   "source": [
    "analyzer = SentimentIntensityAnalyzer()\n",
    "\n",
    "dfyrev_sample['polarity'] = [analyzer.polarity_scores(text)['compound'] for text in dfyrev_sample['text']]\n",
    "dfyrev_sample['sentiment'] = pd.cut(dfyrev_sample['polarity'], bins=[-float('inf'), -0.001, 0.0, float('inf')], labels=[-1, 0, 1])\n",
    "\n",
    "print(dfyrev_sample.info())\n",
    "dfyrev_sample.sample(2)"
   ]
  },
  {
   "cell_type": "markdown",
   "metadata": {},
   "source": [
    "## Conclusiones\n",
    "==========================================================================================================================================00"
   ]
  },
  {
   "cell_type": "markdown",
   "metadata": {},
   "source": [
    "* El dataset RESTAURANTES se encuentra ya procesado y se utilizará para filtrar los locales deseados utilizando el campo 'site_id\"\n",
    "* Dataset TIP\n",
    "    * Contiene información de reseñas con un texto un poco más corto pero con sugerencias más rápidas\n",
    "    * Se adecúan los tipos de datos, no se observan valores nulos ni duplicados\n",
    "    * Se aplica un análisis de sentimientos utilizando \"vader\"\n",
    "* Dataset REVIEWS\n",
    "    * Se adecúan los tipos de datos, no se observan valores nulos, se eliminan los pocos duplicados que tiene\n",
    "    * Se aplica un análisis de sentimientos utilizando \"vader\" tomando una muestra de 1 millón de registros (contiene aprox 6 millones)"
   ]
  },
  {
   "cell_type": "markdown",
   "metadata": {},
   "source": [
    "# ETL Unicos"
   ]
  },
  {
   "cell_type": "markdown",
   "metadata": {},
   "source": [
    "## Contenido\n",
    "El presente archivo se realiza con la intención de buscar sites repetidos en los datasets, con el objetivo de crear un listado de locales únicos para luego unir ambos datasets.\n",
    "\n",
    "El plan es el siguiente: se conservarán todos los locales del dataset de GOOGLE, y se eliminarán los locales que se encuentren repetidos en el dataset de YELP."
   ]
  },
  {
   "cell_type": "markdown",
   "metadata": {},
   "source": [
    "## Carga de datos\n",
    "===========================================================================================================================000"
   ]
  },
  {
   "cell_type": "code",
   "execution_count": null,
   "metadata": {},
   "outputs": [],
   "source": [
    "# Lectura de dataset de restaurants de GOOGLE\n",
    "dfgrst_coord = pd.read_parquet('dfgrst_coord.parquet')\n",
    "\n",
    "dfgrst_coord['x'] = dfgrst_coord['x'].round(2)\n",
    "dfgrst_coord['y'] = dfgrst_coord['y'].round(2)\n",
    "\n",
    "dfgrst_coord['latitude'] = dfgrst_coord['latitude'].round(4)\n",
    "dfgrst_coord['longitude'] = dfgrst_coord['longitude'].round(4)\n",
    "\n",
    "print(dfgrst_coord.info())\n",
    "dfgrst_coord.sample(2)"
   ]
  },
  {
   "cell_type": "code",
   "execution_count": null,
   "metadata": {},
   "outputs": [],
   "source": [
    "# Lectura de dataset de restaurants de YELP\n",
    "dfyrst_coord = pd.read_parquet('dfyrst_coord.parquet')\n",
    "\n",
    "dfyrst_coord['x'] = dfyrst_coord['x'].round(2)\n",
    "dfyrst_coord['y'] = dfyrst_coord['y'].round(2)\n",
    "dfyrst_coord['postal_code'] = dfyrst_coord['postal_code'].astype('int64')\n",
    "\n",
    "dfyrst_coord['latitude'] = dfyrst_coord['latitude'].round(4)\n",
    "dfyrst_coord['longitude'] = dfyrst_coord['longitude'].round(4)\n",
    "\n",
    "print(dfyrst_coord.info())\n",
    "dfyrst_coord.sample(2)"
   ]
  },
  {
   "cell_type": "markdown",
   "metadata": {},
   "source": [
    "## Procesamiento\n",
    "=============================================================================================================="
   ]
  },
  {
   "cell_type": "code",
   "execution_count": null,
   "metadata": {},
   "outputs": [],
   "source": [
    "# Locales repetidos\n",
    "df_gy = pd.merge(dfgrst_coord, dfyrst_coord, how='inner', on=['postal_code', 'x', 'y'])\n",
    "print(df_gy.info())\n",
    "df_gy.sample(2)"
   ]
  },
  {
   "cell_type": "code",
   "execution_count": null,
   "metadata": {},
   "outputs": [],
   "source": [
    "# Locales a eliminar en dfy\n",
    "dfy_a_eliminar = df_gy['business_id_y']\n",
    "dfy_a_eliminar = dfy_a_eliminar.to_frame()\n",
    "\n",
    "print(dfy_a_eliminar.info())\n",
    "dfy_a_eliminar.sample(2)"
   ]
  },
  {
   "cell_type": "code",
   "execution_count": null,
   "metadata": {},
   "outputs": [],
   "source": [
    "# Listado final de locales a conservar en dfyrst (restaurantes de YELP)\n",
    "dfy_rst_final = dfyrst_coord[~dfyrst_coord['business_id'].isin(dfy_a_eliminar['business_id_y'])]\n",
    "\n",
    "print(dfy_rst_final.info())\n",
    "dfy_rst_final.sample(2)"
   ]
  },
  {
   "cell_type": "code",
   "execution_count": null,
   "metadata": {},
   "outputs": [],
   "source": [
    "# Listado final de locales a conservar en dfgyrst (restaurantes de YELP y GOOGLE en conjunto)\n",
    "dfgy_rst_final = pd.concat([dfgrst_coord, dfy_rst_final])\n",
    "\n",
    "print(dfgy_rst_final.info())\n",
    "dfgy_rst_final.sample(2)"
   ]
  },
  {
   "cell_type": "markdown",
   "metadata": {},
   "source": [
    "### Exportación de datos"
   ]
  },
  {
   "cell_type": "code",
   "execution_count": 1,
   "metadata": {},
   "outputs": [],
   "source": [
    "# Nota: el cógido se deja comentado a propósito para que al correr el código se evite la sobreescritura \n",
    "# de los archivos ya generados\n",
    "\n",
    "#dfgy_rst_final.to_parquet('dfgy_rest_uniques.parquet')\n",
    "#dfy_rst_final.to_parquet('dfy_rest_uniques.parquet')"
   ]
  },
  {
   "cell_type": "markdown",
   "metadata": {},
   "source": [
    "## Conclusiones"
   ]
  },
  {
   "cell_type": "markdown",
   "metadata": {},
   "source": [
    "El objetivo de este ETL es lograr un listado único de locales, uniendo ambos datasets de yelp y google.\n",
    "\n",
    "* Se conserva el campo \"site_id\" original de cada dataset, pero como cada dataset tiene un formatto diferente, se busca otra alternativa para identificar en forma unívoca a cada site\n",
    "* Para hallar locales coincidentes, se utilizan los campos de coordenadas cartesianas \"x\" e \"y\", y además el campo \"postal_code\"\n",
    "* Finalmente, se conserva el listado original de google, y se eliminan los locales repetidos en el listado de yelp"
   ]
  },
  {
   "cell_type": "markdown",
   "metadata": {},
   "source": [
    "# Unión final de datasets"
   ]
  },
  {
   "cell_type": "markdown",
   "metadata": {},
   "source": [
    "## Carga de datos\n",
    "===============================================================================================================================000"
   ]
  },
  {
   "cell_type": "markdown",
   "metadata": {},
   "source": [
    "### Unicos"
   ]
  },
  {
   "cell_type": "code",
   "execution_count": 4,
   "metadata": {},
   "outputs": [
    {
     "name": "stderr",
     "output_type": "stream",
     "text": [
      "<>:2: SyntaxWarning: invalid escape sequence '\\D'\n",
      "<>:2: SyntaxWarning: invalid escape sequence '\\D'\n",
      "C:\\Users\\dmon2\\AppData\\Local\\Temp\\ipykernel_16872\\1129644781.py:2: SyntaxWarning: invalid escape sequence '\\D'\n",
      "  dfgy_rest_uniques = pd.read_parquet('..\\Data\\dataframes_to_repo\\EDA_df_to_repo\\dfgy_rest_uniques.parquet')\n"
     ]
    }
   ],
   "source": [
    "# Listado unívoco de locales de ambos datasets\n",
    "dfgy_rest_uniques = pd.read_parquet('..\\Data\\dataframes_to_repo\\EDA_df_to_repo\\dfgy_rest_uniques.parquet')"
   ]
  },
  {
   "cell_type": "markdown",
   "metadata": {},
   "source": [
    "### Yelp"
   ]
  },
  {
   "cell_type": "code",
   "execution_count": 6,
   "metadata": {},
   "outputs": [
    {
     "name": "stderr",
     "output_type": "stream",
     "text": [
      "<>:2: SyntaxWarning: invalid escape sequence '\\D'\n",
      "<>:3: SyntaxWarning: invalid escape sequence '\\D'\n",
      "<>:4: SyntaxWarning: invalid escape sequence '\\D'\n",
      "<>:2: SyntaxWarning: invalid escape sequence '\\D'\n",
      "<>:3: SyntaxWarning: invalid escape sequence '\\D'\n",
      "<>:4: SyntaxWarning: invalid escape sequence '\\D'\n",
      "C:\\Users\\dmon2\\AppData\\Local\\Temp\\ipykernel_16872\\1449867972.py:2: SyntaxWarning: invalid escape sequence '\\D'\n",
      "  yelp_rest = pd.read_parquet('..\\Data\\dataframes_to_repo\\EDA_df_to_repo\\dfy_rest.parquet')\n",
      "C:\\Users\\dmon2\\AppData\\Local\\Temp\\ipykernel_16872\\1449867972.py:3: SyntaxWarning: invalid escape sequence '\\D'\n",
      "  yelp_user = pd.read_parquet('..\\Data\\dataframes_to_repo\\EDA_df_to_repo\\dfy_user.parquet')\n",
      "C:\\Users\\dmon2\\AppData\\Local\\Temp\\ipykernel_16872\\1449867972.py:4: SyntaxWarning: invalid escape sequence '\\D'\n",
      "  yelp_checkins = pd.read_parquet('..\\Data\\dataframes_to_repo\\EDA_df_to_repo\\dfy_checkins.parquet')\n"
     ]
    }
   ],
   "source": [
    "# Yelp\n",
    "yelp_rest = pd.read_parquet('..\\Data\\dataframes_to_repo\\EDA_df_to_repo\\dfy_rest.parquet')\n",
    "yelp_user = pd.read_parquet('..\\Data\\dataframes_to_repo\\EDA_df_to_repo\\dfy_user.parquet')\n",
    "yelp_checkins = pd.read_parquet('..\\Data\\dataframes_to_repo\\EDA_df_to_repo\\dfy_checkins.parquet')"
   ]
  },
  {
   "cell_type": "code",
   "execution_count": 7,
   "metadata": {},
   "outputs": [
    {
     "name": "stderr",
     "output_type": "stream",
     "text": [
      "<>:2: SyntaxWarning: invalid escape sequence '\\D'\n",
      "<>:2: SyntaxWarning: invalid escape sequence '\\D'\n",
      "C:\\Users\\dmon2\\AppData\\Local\\Temp\\ipykernel_16872\\819623371.py:2: SyntaxWarning: invalid escape sequence '\\D'\n",
      "  yelp_reviews = pd.read_parquet('..\\Data\\dataframes_to_repo\\EDA_df_to_repo\\dfy_reviews.parquet')\n"
     ]
    }
   ],
   "source": [
    "# Review\n",
    "yelp_reviews = pd.read_parquet('..\\Data\\dataframes_to_repo\\EDA_df_to_repo\\dfy_reviews.parquet')"
   ]
  },
  {
   "cell_type": "code",
   "execution_count": 8,
   "metadata": {},
   "outputs": [
    {
     "name": "stderr",
     "output_type": "stream",
     "text": [
      "<>:2: SyntaxWarning: invalid escape sequence '\\D'\n",
      "<>:2: SyntaxWarning: invalid escape sequence '\\D'\n",
      "C:\\Users\\dmon2\\AppData\\Local\\Temp\\ipykernel_16872\\2310033575.py:2: SyntaxWarning: invalid escape sequence '\\D'\n",
      "  yelp_tips = pd.read_parquet('..\\Data\\dataframes_to_repo\\EDA_df_to_repo\\dfy_tips.parquet')\n"
     ]
    }
   ],
   "source": [
    "# Tips\n",
    "yelp_tips = pd.read_parquet('..\\Data\\dataframes_to_repo\\EDA_df_to_repo\\dfy_tips.parquet')"
   ]
  },
  {
   "cell_type": "code",
   "execution_count": 9,
   "metadata": {},
   "outputs": [
    {
     "name": "stderr",
     "output_type": "stream",
     "text": [
      "<>:2: SyntaxWarning: invalid escape sequence '\\D'\n",
      "<>:3: SyntaxWarning: invalid escape sequence '\\D'\n",
      "<>:2: SyntaxWarning: invalid escape sequence '\\D'\n",
      "<>:3: SyntaxWarning: invalid escape sequence '\\D'\n",
      "C:\\Users\\dmon2\\AppData\\Local\\Temp\\ipykernel_16872\\3408893820.py:2: SyntaxWarning: invalid escape sequence '\\D'\n",
      "  yelp_site_categories = pd.read_parquet('..\\Data\\dataframes_to_repo\\EDA_df_to_repo\\dfy_site_categories.parquet')\n",
      "C:\\Users\\dmon2\\AppData\\Local\\Temp\\ipykernel_16872\\3408893820.py:3: SyntaxWarning: invalid escape sequence '\\D'\n",
      "  yelp_site_attributes = pd.read_parquet('..\\Data\\dataframes_to_repo\\EDA_df_to_repo\\dfy_attributes.parquet')\n"
     ]
    }
   ],
   "source": [
    "# Categorías y atributos\n",
    "yelp_site_categories = pd.read_parquet('..\\Data\\dataframes_to_repo\\EDA_df_to_repo\\dfy_site_categories.parquet')\n",
    "yelp_site_attributes = pd.read_parquet('..\\Data\\dataframes_to_repo\\EDA_df_to_repo\\dfy_attributes.parquet')"
   ]
  },
  {
   "cell_type": "markdown",
   "metadata": {},
   "source": [
    "### Google"
   ]
  },
  {
   "cell_type": "code",
   "execution_count": 10,
   "metadata": {},
   "outputs": [
    {
     "name": "stderr",
     "output_type": "stream",
     "text": [
      "<>:2: SyntaxWarning: invalid escape sequence '\\D'\n",
      "<>:2: SyntaxWarning: invalid escape sequence '\\D'\n",
      "C:\\Users\\dmon2\\AppData\\Local\\Temp\\ipykernel_16872\\623300417.py:2: SyntaxWarning: invalid escape sequence '\\D'\n",
      "  google_rest = pd.read_parquet('..\\Data\\dataframes_to_repo\\EDA_df_to_repo\\dfg_rest.parquet')\n"
     ]
    }
   ],
   "source": [
    "# Restaurants\n",
    "google_rest = pd.read_parquet('..\\Data\\dataframes_to_repo\\EDA_df_to_repo\\dfg_rest.parquet')"
   ]
  },
  {
   "cell_type": "code",
   "execution_count": 11,
   "metadata": {},
   "outputs": [
    {
     "name": "stderr",
     "output_type": "stream",
     "text": [
      "<>:2: SyntaxWarning: invalid escape sequence '\\D'\n",
      "<>:2: SyntaxWarning: invalid escape sequence '\\D'\n",
      "C:\\Users\\dmon2\\AppData\\Local\\Temp\\ipykernel_16872\\440844640.py:2: SyntaxWarning: invalid escape sequence '\\D'\n",
      "  google_reviews = pd.read_parquet('..\\Data\\dataframes_to_repo\\EDA_df_to_repo\\dfg_reviews.parquet')\n"
     ]
    }
   ],
   "source": [
    "# Reviews\n",
    "google_reviews = pd.read_parquet('..\\Data\\dataframes_to_repo\\EDA_df_to_repo\\dfg_reviews.parquet')"
   ]
  },
  {
   "cell_type": "code",
   "execution_count": 12,
   "metadata": {},
   "outputs": [
    {
     "name": "stderr",
     "output_type": "stream",
     "text": [
      "<>:2: SyntaxWarning: invalid escape sequence '\\D'\n",
      "<>:2: SyntaxWarning: invalid escape sequence '\\D'\n",
      "C:\\Users\\dmon2\\AppData\\Local\\Temp\\ipykernel_16872\\19224335.py:2: SyntaxWarning: invalid escape sequence '\\D'\n",
      "  google_site_categories = pd.read_parquet('..\\Data\\dataframes_to_repo\\EDA_df_to_repo\\dfg_site_categories.parquet')\n"
     ]
    }
   ],
   "source": [
    "# Categorías y atributos\n",
    "google_site_categories = pd.read_parquet('..\\Data\\dataframes_to_repo\\EDA_df_to_repo\\dfg_site_categories.parquet')"
   ]
  },
  {
   "cell_type": "markdown",
   "metadata": {},
   "source": [
    "## Preprocesamiento\n",
    "============================================================================================================0000"
   ]
  },
  {
   "cell_type": "markdown",
   "metadata": {},
   "source": [
    "### Datasets de YELP"
   ]
  },
  {
   "cell_type": "markdown",
   "metadata": {},
   "source": [
    "#### YELP reviews"
   ]
  },
  {
   "cell_type": "code",
   "execution_count": 13,
   "metadata": {},
   "outputs": [
    {
     "name": "stdout",
     "output_type": "stream",
     "text": [
      "<class 'pandas.core.frame.DataFrame'>\n",
      "RangeIndex: 1000000 entries, 0 to 999999\n",
      "Data columns (total 14 columns):\n",
      " #   Column       Non-Null Count    Dtype         \n",
      "---  ------       --------------    -----         \n",
      " 0   review_id    1000000 non-null  object        \n",
      " 1   user_id      1000000 non-null  object        \n",
      " 2   business_id  1000000 non-null  object        \n",
      " 3   stars        1000000 non-null  float64       \n",
      " 4   useful       1000000 non-null  int64         \n",
      " 5   funny        1000000 non-null  int64         \n",
      " 6   cool         1000000 non-null  int64         \n",
      " 7   text         1000000 non-null  object        \n",
      " 8   date         1000000 non-null  datetime64[ns]\n",
      " 9   year         1000000 non-null  int32         \n",
      " 10  month        1000000 non-null  int32         \n",
      " 11  year_month   1000000 non-null  object        \n",
      " 12  polarity     1000000 non-null  float64       \n",
      " 13  sentiment    1000000 non-null  int64         \n",
      "dtypes: datetime64[ns](1), float64(2), int32(2), int64(4), object(5)\n",
      "memory usage: 99.2+ MB\n",
      "None\n"
     ]
    },
    {
     "data": {
      "text/html": [
       "<div>\n",
       "<style scoped>\n",
       "    .dataframe tbody tr th:only-of-type {\n",
       "        vertical-align: middle;\n",
       "    }\n",
       "\n",
       "    .dataframe tbody tr th {\n",
       "        vertical-align: top;\n",
       "    }\n",
       "\n",
       "    .dataframe thead th {\n",
       "        text-align: right;\n",
       "    }\n",
       "</style>\n",
       "<table border=\"1\" class=\"dataframe\">\n",
       "  <thead>\n",
       "    <tr style=\"text-align: right;\">\n",
       "      <th></th>\n",
       "      <th>review_id</th>\n",
       "      <th>user_id</th>\n",
       "      <th>business_id</th>\n",
       "      <th>stars</th>\n",
       "      <th>useful</th>\n",
       "      <th>funny</th>\n",
       "      <th>cool</th>\n",
       "      <th>text</th>\n",
       "      <th>date</th>\n",
       "      <th>year</th>\n",
       "      <th>month</th>\n",
       "      <th>year_month</th>\n",
       "      <th>polarity</th>\n",
       "      <th>sentiment</th>\n",
       "    </tr>\n",
       "  </thead>\n",
       "  <tbody>\n",
       "    <tr>\n",
       "      <th>637882</th>\n",
       "      <td>RqB4K0dJIIk_65PitROCOQ</td>\n",
       "      <td>snbV1KcikYo-y_49kjKv9A</td>\n",
       "      <td>9y9YOmix4f5xqtJi7_XgGQ</td>\n",
       "      <td>1.0</td>\n",
       "      <td>1</td>\n",
       "      <td>1</td>\n",
       "      <td>1</td>\n",
       "      <td>Some seriously rude staff working at this join...</td>\n",
       "      <td>2017-10-02 00:52:25</td>\n",
       "      <td>2017</td>\n",
       "      <td>10</td>\n",
       "      <td>1710</td>\n",
       "      <td>-0.2843</td>\n",
       "      <td>-1</td>\n",
       "    </tr>\n",
       "    <tr>\n",
       "      <th>552276</th>\n",
       "      <td>ubyvxs16MX2AqhEqh0ALzg</td>\n",
       "      <td>tlAb58AJssGiSiXJHWGGBQ</td>\n",
       "      <td>bncTqUdA8ZPcUkDDmUbqyA</td>\n",
       "      <td>4.0</td>\n",
       "      <td>1</td>\n",
       "      <td>0</td>\n",
       "      <td>0</td>\n",
       "      <td>Finally ! A gluten free menu at a brewery!\\nTh...</td>\n",
       "      <td>2011-05-16 14:17:49</td>\n",
       "      <td>2011</td>\n",
       "      <td>5</td>\n",
       "      <td>1105</td>\n",
       "      <td>0.8856</td>\n",
       "      <td>1</td>\n",
       "    </tr>\n",
       "  </tbody>\n",
       "</table>\n",
       "</div>"
      ],
      "text/plain": [
       "                     review_id                 user_id  \\\n",
       "637882  RqB4K0dJIIk_65PitROCOQ  snbV1KcikYo-y_49kjKv9A   \n",
       "552276  ubyvxs16MX2AqhEqh0ALzg  tlAb58AJssGiSiXJHWGGBQ   \n",
       "\n",
       "                   business_id  stars  useful  funny  cool  \\\n",
       "637882  9y9YOmix4f5xqtJi7_XgGQ    1.0       1      1     1   \n",
       "552276  bncTqUdA8ZPcUkDDmUbqyA    4.0       1      0     0   \n",
       "\n",
       "                                                     text                date  \\\n",
       "637882  Some seriously rude staff working at this join... 2017-10-02 00:52:25   \n",
       "552276  Finally ! A gluten free menu at a brewery!\\nTh... 2011-05-16 14:17:49   \n",
       "\n",
       "        year  month year_month  polarity  sentiment  \n",
       "637882  2017     10       1710   -0.2843         -1  \n",
       "552276  2011      5       1105    0.8856          1  "
      ]
     },
     "execution_count": 13,
     "metadata": {},
     "output_type": "execute_result"
    }
   ],
   "source": [
    "print(yelp_reviews.info())\n",
    "yelp_reviews.sample(2)\n",
    "# Nota: el dataset constituye una muestra 1 millón de registros debido a que el dataset de reviews es mucho mayor. \n",
    "# A Efectos del EDA, se considera suficiente."
   ]
  },
  {
   "cell_type": "code",
   "execution_count": 14,
   "metadata": {},
   "outputs": [
    {
     "name": "stdout",
     "output_type": "stream",
     "text": [
      "<class 'pandas.core.frame.DataFrame'>\n",
      "RangeIndex: 1000000 entries, 0 to 999999\n",
      "Data columns (total 9 columns):\n",
      " #   Column     Non-Null Count    Dtype         \n",
      "---  ------     --------------    -----         \n",
      " 0   source     1000000 non-null  object        \n",
      " 1   site_id    1000000 non-null  object        \n",
      " 2   user_id    1000000 non-null  object        \n",
      " 3   datetime   1000000 non-null  datetime64[ns]\n",
      " 4   month      1000000 non-null  int32         \n",
      " 5   year       1000000 non-null  int32         \n",
      " 6   rating     1000000 non-null  float64       \n",
      " 7   polarity   1000000 non-null  float64       \n",
      " 8   sentiment  1000000 non-null  int64         \n",
      "dtypes: datetime64[ns](1), float64(2), int32(2), int64(1), object(3)\n",
      "memory usage: 61.0+ MB\n",
      "None\n"
     ]
    },
    {
     "data": {
      "text/html": [
       "<div>\n",
       "<style scoped>\n",
       "    .dataframe tbody tr th:only-of-type {\n",
       "        vertical-align: middle;\n",
       "    }\n",
       "\n",
       "    .dataframe tbody tr th {\n",
       "        vertical-align: top;\n",
       "    }\n",
       "\n",
       "    .dataframe thead th {\n",
       "        text-align: right;\n",
       "    }\n",
       "</style>\n",
       "<table border=\"1\" class=\"dataframe\">\n",
       "  <thead>\n",
       "    <tr style=\"text-align: right;\">\n",
       "      <th></th>\n",
       "      <th>source</th>\n",
       "      <th>site_id</th>\n",
       "      <th>user_id</th>\n",
       "      <th>datetime</th>\n",
       "      <th>month</th>\n",
       "      <th>year</th>\n",
       "      <th>rating</th>\n",
       "      <th>polarity</th>\n",
       "      <th>sentiment</th>\n",
       "    </tr>\n",
       "  </thead>\n",
       "  <tbody>\n",
       "    <tr>\n",
       "      <th>482598</th>\n",
       "      <td>yelp</td>\n",
       "      <td>4f6LBuHB1G8owOOZgm5IEA</td>\n",
       "      <td>jMJOOe8Ix9EFcY8GY4b08g</td>\n",
       "      <td>2020-12-30 02:59:59</td>\n",
       "      <td>12</td>\n",
       "      <td>2020</td>\n",
       "      <td>5.0</td>\n",
       "      <td>0.8766</td>\n",
       "      <td>1</td>\n",
       "    </tr>\n",
       "    <tr>\n",
       "      <th>548848</th>\n",
       "      <td>yelp</td>\n",
       "      <td>5Ce3lZksYVkCbrihqylVHQ</td>\n",
       "      <td>WfietwxXBDs_whgmYKc49w</td>\n",
       "      <td>2014-05-07 12:29:13</td>\n",
       "      <td>5</td>\n",
       "      <td>2014</td>\n",
       "      <td>5.0</td>\n",
       "      <td>0.9656</td>\n",
       "      <td>1</td>\n",
       "    </tr>\n",
       "  </tbody>\n",
       "</table>\n",
       "</div>"
      ],
      "text/plain": [
       "       source                 site_id                 user_id  \\\n",
       "482598   yelp  4f6LBuHB1G8owOOZgm5IEA  jMJOOe8Ix9EFcY8GY4b08g   \n",
       "548848   yelp  5Ce3lZksYVkCbrihqylVHQ  WfietwxXBDs_whgmYKc49w   \n",
       "\n",
       "                  datetime  month  year  rating  polarity  sentiment  \n",
       "482598 2020-12-30 02:59:59     12  2020     5.0    0.8766          1  \n",
       "548848 2014-05-07 12:29:13      5  2014     5.0    0.9656          1  "
      ]
     },
     "execution_count": 14,
     "metadata": {},
     "output_type": "execute_result"
    }
   ],
   "source": [
    "dfy_reviews = yelp_reviews.copy()\n",
    "\n",
    "dfy_reviews['source'] = 'yelp'\n",
    "dfy_reviews = dfy_reviews[['source','business_id','user_id', 'date', 'month', 'year', 'stars', 'polarity', 'sentiment']]\n",
    "dfy_reviews = dfy_reviews.rename(columns={'business_id': 'site_id', 'date':'datetime', 'stars':'rating'})\n",
    "\n",
    "print(dfy_reviews.info())\n",
    "dfy_reviews.sample(2)"
   ]
  },
  {
   "cell_type": "markdown",
   "metadata": {},
   "source": [
    "#### YELP restaurants"
   ]
  },
  {
   "cell_type": "code",
   "execution_count": 15,
   "metadata": {},
   "outputs": [
    {
     "name": "stdout",
     "output_type": "stream",
     "text": [
      "<class 'pandas.core.frame.DataFrame'>\n",
      "RangeIndex: 212998 entries, 0 to 212997\n",
      "Data columns (total 16 columns):\n",
      " #   Column                 Non-Null Count   Dtype  \n",
      "---  ------                 --------------   -----  \n",
      " 0   business_id            212998 non-null  object \n",
      " 1   name                   212998 non-null  object \n",
      " 2   city                   212998 non-null  object \n",
      " 3   postal_code            212998 non-null  object \n",
      " 4   latitude               212998 non-null  float64\n",
      " 5   longitude              212998 non-null  float64\n",
      " 6   stars                  212998 non-null  float64\n",
      " 7   review_count           212998 non-null  int64  \n",
      " 8   is_open                212998 non-null  int64  \n",
      " 9   state                  212998 non-null  object \n",
      " 10  state_city             212998 non-null  object \n",
      " 11  city_postalcode        212998 non-null  object \n",
      " 12  state_city_postalcode  212998 non-null  object \n",
      " 13  categories             133777 non-null  object \n",
      " 14  food                   133777 non-null  object \n",
      " 15  price                  211084 non-null  float64\n",
      "dtypes: float64(4), int64(2), object(10)\n",
      "memory usage: 26.0+ MB\n",
      "None\n"
     ]
    },
    {
     "data": {
      "text/html": [
       "<div>\n",
       "<style scoped>\n",
       "    .dataframe tbody tr th:only-of-type {\n",
       "        vertical-align: middle;\n",
       "    }\n",
       "\n",
       "    .dataframe tbody tr th {\n",
       "        vertical-align: top;\n",
       "    }\n",
       "\n",
       "    .dataframe thead th {\n",
       "        text-align: right;\n",
       "    }\n",
       "</style>\n",
       "<table border=\"1\" class=\"dataframe\">\n",
       "  <thead>\n",
       "    <tr style=\"text-align: right;\">\n",
       "      <th></th>\n",
       "      <th>business_id</th>\n",
       "      <th>name</th>\n",
       "      <th>city</th>\n",
       "      <th>postal_code</th>\n",
       "      <th>latitude</th>\n",
       "      <th>longitude</th>\n",
       "      <th>stars</th>\n",
       "      <th>review_count</th>\n",
       "      <th>is_open</th>\n",
       "      <th>state</th>\n",
       "      <th>state_city</th>\n",
       "      <th>city_postalcode</th>\n",
       "      <th>state_city_postalcode</th>\n",
       "      <th>categories</th>\n",
       "      <th>food</th>\n",
       "      <th>price</th>\n",
       "    </tr>\n",
       "  </thead>\n",
       "  <tbody>\n",
       "    <tr>\n",
       "      <th>168184</th>\n",
       "      <td>BG5ErcFzXJ0tG9rzvKtyjg</td>\n",
       "      <td>The Coves of Brighton Bay - Matrix Residential</td>\n",
       "      <td>St Petersburg</td>\n",
       "      <td>33716</td>\n",
       "      <td>27.871708</td>\n",
       "      <td>-82.624055</td>\n",
       "      <td>1.5</td>\n",
       "      <td>8</td>\n",
       "      <td>0</td>\n",
       "      <td>FL</td>\n",
       "      <td>FL - St Petersburg</td>\n",
       "      <td>St Petersburg - 33716</td>\n",
       "      <td>FL - St Petersburg - 33716</td>\n",
       "      <td>None</td>\n",
       "      <td>None</td>\n",
       "      <td>1.750000</td>\n",
       "    </tr>\n",
       "    <tr>\n",
       "      <th>200931</th>\n",
       "      <td>vjlMxdeqRKQCo7ZJ7BKxPw</td>\n",
       "      <td>Hard Rock Cafe Sales</td>\n",
       "      <td>Nashville</td>\n",
       "      <td>37201</td>\n",
       "      <td>36.162405</td>\n",
       "      <td>-86.774979</td>\n",
       "      <td>4.0</td>\n",
       "      <td>6</td>\n",
       "      <td>1</td>\n",
       "      <td>TN</td>\n",
       "      <td>TN - Nashville</td>\n",
       "      <td>Nashville - 37201</td>\n",
       "      <td>TN - Nashville - 37201</td>\n",
       "      <td>None</td>\n",
       "      <td>None</td>\n",
       "      <td>1.857143</td>\n",
       "    </tr>\n",
       "    <tr>\n",
       "      <th>137430</th>\n",
       "      <td>iXaVR134oU7VnxFPVPWjvg</td>\n",
       "      <td>B Willey Hair Studio</td>\n",
       "      <td>New Orleans</td>\n",
       "      <td>70119</td>\n",
       "      <td>29.977539</td>\n",
       "      <td>-90.100015</td>\n",
       "      <td>5.0</td>\n",
       "      <td>8</td>\n",
       "      <td>1</td>\n",
       "      <td>LA</td>\n",
       "      <td>LA - New Orleans</td>\n",
       "      <td>New Orleans - 70119</td>\n",
       "      <td>LA - New Orleans - 70119</td>\n",
       "      <td>None</td>\n",
       "      <td>None</td>\n",
       "      <td>1.466667</td>\n",
       "    </tr>\n",
       "    <tr>\n",
       "      <th>120260</th>\n",
       "      <td>SZZX4dKRKT2OQPAcBjjPNw</td>\n",
       "      <td>NOLA Super Buffet</td>\n",
       "      <td>Kenner</td>\n",
       "      <td>70065</td>\n",
       "      <td>30.027380</td>\n",
       "      <td>-90.238327</td>\n",
       "      <td>2.0</td>\n",
       "      <td>51</td>\n",
       "      <td>0</td>\n",
       "      <td>LA</td>\n",
       "      <td>LA - Kenner</td>\n",
       "      <td>Kenner - 70065</td>\n",
       "      <td>LA - Kenner - 70065</td>\n",
       "      <td>Buffets</td>\n",
       "      <td>yes</td>\n",
       "      <td>1.421053</td>\n",
       "    </tr>\n",
       "    <tr>\n",
       "      <th>184189</th>\n",
       "      <td>ykvRMbh0HYTq5UYQ5oExRg</td>\n",
       "      <td>Senor Burrito</td>\n",
       "      <td>Reno</td>\n",
       "      <td>89502</td>\n",
       "      <td>39.474247</td>\n",
       "      <td>-119.781529</td>\n",
       "      <td>4.0</td>\n",
       "      <td>7</td>\n",
       "      <td>0</td>\n",
       "      <td>NV</td>\n",
       "      <td>NV - Reno</td>\n",
       "      <td>Reno - 89502</td>\n",
       "      <td>NV - Reno - 89502</td>\n",
       "      <td>Fast Food</td>\n",
       "      <td>yes</td>\n",
       "      <td>1.333333</td>\n",
       "    </tr>\n",
       "  </tbody>\n",
       "</table>\n",
       "</div>"
      ],
      "text/plain": [
       "                   business_id  \\\n",
       "168184  BG5ErcFzXJ0tG9rzvKtyjg   \n",
       "200931  vjlMxdeqRKQCo7ZJ7BKxPw   \n",
       "137430  iXaVR134oU7VnxFPVPWjvg   \n",
       "120260  SZZX4dKRKT2OQPAcBjjPNw   \n",
       "184189  ykvRMbh0HYTq5UYQ5oExRg   \n",
       "\n",
       "                                                  name           city  \\\n",
       "168184  The Coves of Brighton Bay - Matrix Residential  St Petersburg   \n",
       "200931                            Hard Rock Cafe Sales      Nashville   \n",
       "137430                            B Willey Hair Studio    New Orleans   \n",
       "120260                               NOLA Super Buffet         Kenner   \n",
       "184189                                   Senor Burrito           Reno   \n",
       "\n",
       "       postal_code   latitude   longitude  stars  review_count  is_open state  \\\n",
       "168184       33716  27.871708  -82.624055    1.5             8        0    FL   \n",
       "200931       37201  36.162405  -86.774979    4.0             6        1    TN   \n",
       "137430       70119  29.977539  -90.100015    5.0             8        1    LA   \n",
       "120260       70065  30.027380  -90.238327    2.0            51        0    LA   \n",
       "184189       89502  39.474247 -119.781529    4.0             7        0    NV   \n",
       "\n",
       "                state_city        city_postalcode       state_city_postalcode  \\\n",
       "168184  FL - St Petersburg  St Petersburg - 33716  FL - St Petersburg - 33716   \n",
       "200931      TN - Nashville      Nashville - 37201      TN - Nashville - 37201   \n",
       "137430    LA - New Orleans    New Orleans - 70119    LA - New Orleans - 70119   \n",
       "120260         LA - Kenner         Kenner - 70065         LA - Kenner - 70065   \n",
       "184189           NV - Reno           Reno - 89502           NV - Reno - 89502   \n",
       "\n",
       "       categories  food     price  \n",
       "168184       None  None  1.750000  \n",
       "200931       None  None  1.857143  \n",
       "137430       None  None  1.466667  \n",
       "120260    Buffets   yes  1.421053  \n",
       "184189  Fast Food   yes  1.333333  "
      ]
     },
     "execution_count": 15,
     "metadata": {},
     "output_type": "execute_result"
    }
   ],
   "source": [
    "print(yelp_rest.info())\n",
    "yelp_rest.sample(5)"
   ]
  },
  {
   "cell_type": "code",
   "execution_count": 16,
   "metadata": {},
   "outputs": [
    {
     "name": "stdout",
     "output_type": "stream",
     "text": [
      "<class 'pandas.core.frame.DataFrame'>\n",
      "RangeIndex: 211084 entries, 0 to 211083\n",
      "Data columns (total 15 columns):\n",
      " #   Column                 Non-Null Count   Dtype         \n",
      "---  ------                 --------------   -----         \n",
      " 0   source                 211084 non-null  object        \n",
      " 1   site_id                211084 non-null  object        \n",
      " 2   name                   211084 non-null  object        \n",
      " 3   state                  211084 non-null  object        \n",
      " 4   city                   211084 non-null  object        \n",
      " 5   postal_code            211084 non-null  object        \n",
      " 6   price                  211084 non-null  float64       \n",
      " 7   rating_avg             211084 non-null  float64       \n",
      " 8   reviews_count          211084 non-null  int64         \n",
      " 9   date_start             128792 non-null  datetime64[ns]\n",
      " 10  year                   128792 non-null  float64       \n",
      " 11  month                  128792 non-null  float64       \n",
      " 12  state_city             211084 non-null  object        \n",
      " 13  city_postalcode        211084 non-null  object        \n",
      " 14  state_city_postalcode  211084 non-null  object        \n",
      "dtypes: datetime64[ns](1), float64(4), int64(1), object(9)\n",
      "memory usage: 24.2+ MB\n",
      "None\n"
     ]
    },
    {
     "data": {
      "text/html": [
       "<div>\n",
       "<style scoped>\n",
       "    .dataframe tbody tr th:only-of-type {\n",
       "        vertical-align: middle;\n",
       "    }\n",
       "\n",
       "    .dataframe tbody tr th {\n",
       "        vertical-align: top;\n",
       "    }\n",
       "\n",
       "    .dataframe thead th {\n",
       "        text-align: right;\n",
       "    }\n",
       "</style>\n",
       "<table border=\"1\" class=\"dataframe\">\n",
       "  <thead>\n",
       "    <tr style=\"text-align: right;\">\n",
       "      <th></th>\n",
       "      <th>source</th>\n",
       "      <th>site_id</th>\n",
       "      <th>name</th>\n",
       "      <th>state</th>\n",
       "      <th>city</th>\n",
       "      <th>postal_code</th>\n",
       "      <th>price</th>\n",
       "      <th>rating_avg</th>\n",
       "      <th>reviews_count</th>\n",
       "      <th>date_start</th>\n",
       "      <th>year</th>\n",
       "      <th>month</th>\n",
       "      <th>state_city</th>\n",
       "      <th>city_postalcode</th>\n",
       "      <th>state_city_postalcode</th>\n",
       "    </tr>\n",
       "  </thead>\n",
       "  <tbody>\n",
       "    <tr>\n",
       "      <th>28960</th>\n",
       "      <td>yelp</td>\n",
       "      <td>EWLgU-D60x6NM10AfJGUDg</td>\n",
       "      <td>Little Caesars Pizza</td>\n",
       "      <td>IN</td>\n",
       "      <td>Indianapolis</td>\n",
       "      <td>46254</td>\n",
       "      <td>1.300000</td>\n",
       "      <td>1.5</td>\n",
       "      <td>6</td>\n",
       "      <td>2021-12-20 01:20:20</td>\n",
       "      <td>2021.0</td>\n",
       "      <td>12.0</td>\n",
       "      <td>IN - Indianapolis</td>\n",
       "      <td>Indianapolis - 46254</td>\n",
       "      <td>IN - Indianapolis - 46254</td>\n",
       "    </tr>\n",
       "    <tr>\n",
       "      <th>64503</th>\n",
       "      <td>yelp</td>\n",
       "      <td>eDfmJgWv43ysajI3jdDIqw</td>\n",
       "      <td>Pizza World</td>\n",
       "      <td>IL</td>\n",
       "      <td>Granite City</td>\n",
       "      <td>62040</td>\n",
       "      <td>1.045455</td>\n",
       "      <td>3.0</td>\n",
       "      <td>12</td>\n",
       "      <td>2014-05-01 02:07:50</td>\n",
       "      <td>2014.0</td>\n",
       "      <td>5.0</td>\n",
       "      <td>IL - Granite City</td>\n",
       "      <td>Granite City - 62040</td>\n",
       "      <td>IL - Granite City - 62040</td>\n",
       "    </tr>\n",
       "  </tbody>\n",
       "</table>\n",
       "</div>"
      ],
      "text/plain": [
       "      source                 site_id                  name state  \\\n",
       "28960   yelp  EWLgU-D60x6NM10AfJGUDg  Little Caesars Pizza    IN   \n",
       "64503   yelp  eDfmJgWv43ysajI3jdDIqw           Pizza World    IL   \n",
       "\n",
       "               city postal_code     price  rating_avg  reviews_count  \\\n",
       "28960  Indianapolis       46254  1.300000         1.5              6   \n",
       "64503  Granite City       62040  1.045455         3.0             12   \n",
       "\n",
       "               date_start    year  month         state_city  \\\n",
       "28960 2021-12-20 01:20:20  2021.0   12.0  IN - Indianapolis   \n",
       "64503 2014-05-01 02:07:50  2014.0    5.0  IL - Granite City   \n",
       "\n",
       "            city_postalcode      state_city_postalcode  \n",
       "28960  Indianapolis - 46254  IN - Indianapolis - 46254  \n",
       "64503  Granite City - 62040  IL - Granite City - 62040  "
      ]
     },
     "execution_count": 16,
     "metadata": {},
     "output_type": "execute_result"
    }
   ],
   "source": [
    "dfy_rest = yelp_rest\n",
    "\n",
    "dfy_rest['source'] = 'yelp'\n",
    "dfy_rest = dfy_rest[['source','business_id', 'name', 'state', 'city', 'postal_code', 'price', 'stars', 'review_count']]\n",
    "dfy_rest = dfy_rest.rename(columns={'business_id': 'site_id', 'stars':'rating_avg', 'review_count':'reviews_count'})\n",
    "\n",
    "dfy_rest.dropna(subset=['price'], inplace=True)\n",
    "\n",
    "# Agregado de fecha de inicio de acitividad\n",
    "dfy_rest_date_start = dfy_reviews.groupby('site_id')['datetime'].min().reset_index()\n",
    "dfy_rest = pd.merge(dfy_rest, dfy_rest_date_start, how='left', on=['site_id'])\n",
    "dfy_rest = dfy_rest.rename(columns={'datetime': 'date_start'})\n",
    "\n",
    "dfy_rest['year'] = dfy_rest['date_start'].dt.year\n",
    "dfy_rest['month'] = dfy_rest['date_start'].dt.month\n",
    "\n",
    "dfy_rest['state_city'] = dfy_rest['state'].str.cat(dfy_rest['city'], sep=' - ')\n",
    "dfy_rest['city_postalcode'] = dfy_rest['city'].str.cat(dfy_rest['postal_code'], sep=' - ')\n",
    "dfy_rest['state_city_postalcode'] = dfy_rest['state'].str.cat(dfy_rest['city'], sep=' - ').str.cat(dfy_rest['postal_code'], sep=' - ')\n",
    "\n",
    "print(dfy_rest.info())\n",
    "dfy_rest.sample(2)"
   ]
  },
  {
   "cell_type": "code",
   "execution_count": 17,
   "metadata": {},
   "outputs": [
    {
     "name": "stdout",
     "output_type": "stream",
     "text": [
      "<class 'pandas.core.frame.DataFrame'>\n",
      "RangeIndex: 211084 entries, 0 to 211083\n",
      "Data columns (total 15 columns):\n",
      " #   Column                 Non-Null Count   Dtype         \n",
      "---  ------                 --------------   -----         \n",
      " 0   source                 211084 non-null  object        \n",
      " 1   site_id                211084 non-null  object        \n",
      " 2   name                   211084 non-null  object        \n",
      " 3   state                  211084 non-null  object        \n",
      " 4   city                   211084 non-null  object        \n",
      " 5   postal_code            211084 non-null  object        \n",
      " 6   price                  211084 non-null  float64       \n",
      " 7   rating_avg             211084 non-null  float64       \n",
      " 8   reviews_count          211084 non-null  int64         \n",
      " 9   date_start             128792 non-null  datetime64[ns]\n",
      " 10  year                   128792 non-null  float64       \n",
      " 11  month                  128792 non-null  float64       \n",
      " 12  state_city             211084 non-null  object        \n",
      " 13  city_postalcode        211084 non-null  object        \n",
      " 14  state_city_postalcode  211084 non-null  object        \n",
      "dtypes: datetime64[ns](1), float64(4), int64(1), object(9)\n",
      "memory usage: 24.2+ MB\n",
      "None\n"
     ]
    },
    {
     "data": {
      "text/html": [
       "<div>\n",
       "<style scoped>\n",
       "    .dataframe tbody tr th:only-of-type {\n",
       "        vertical-align: middle;\n",
       "    }\n",
       "\n",
       "    .dataframe tbody tr th {\n",
       "        vertical-align: top;\n",
       "    }\n",
       "\n",
       "    .dataframe thead th {\n",
       "        text-align: right;\n",
       "    }\n",
       "</style>\n",
       "<table border=\"1\" class=\"dataframe\">\n",
       "  <thead>\n",
       "    <tr style=\"text-align: right;\">\n",
       "      <th></th>\n",
       "      <th>source</th>\n",
       "      <th>site_id</th>\n",
       "      <th>name</th>\n",
       "      <th>state</th>\n",
       "      <th>city</th>\n",
       "      <th>postal_code</th>\n",
       "      <th>price</th>\n",
       "      <th>rating_avg</th>\n",
       "      <th>reviews_count</th>\n",
       "      <th>date_start</th>\n",
       "      <th>year</th>\n",
       "      <th>month</th>\n",
       "      <th>state_city</th>\n",
       "      <th>city_postalcode</th>\n",
       "      <th>state_city_postalcode</th>\n",
       "    </tr>\n",
       "  </thead>\n",
       "  <tbody>\n",
       "    <tr>\n",
       "      <th>108501</th>\n",
       "      <td>yelp</td>\n",
       "      <td>lZbimwxtW5JPB6biT7_q3w</td>\n",
       "      <td>Carnitas y Taqueria La Frontera</td>\n",
       "      <td>IN</td>\n",
       "      <td>Indianapolis</td>\n",
       "      <td>46227</td>\n",
       "      <td>1.444444</td>\n",
       "      <td>5.0</td>\n",
       "      <td>14</td>\n",
       "      <td>2021-01-10 20:58:13</td>\n",
       "      <td>2021.0</td>\n",
       "      <td>1.0</td>\n",
       "      <td>IN - Indianapolis</td>\n",
       "      <td>Indianapolis - 46227</td>\n",
       "      <td>IN - Indianapolis - 46227</td>\n",
       "    </tr>\n",
       "    <tr>\n",
       "      <th>82177</th>\n",
       "      <td>yelp</td>\n",
       "      <td>lwja_rmdJH48WPFaV2662A</td>\n",
       "      <td>Big Lots</td>\n",
       "      <td>FL</td>\n",
       "      <td>Tarpon Springs</td>\n",
       "      <td>34689</td>\n",
       "      <td>1.375000</td>\n",
       "      <td>4.5</td>\n",
       "      <td>6</td>\n",
       "      <td>NaT</td>\n",
       "      <td>NaN</td>\n",
       "      <td>NaN</td>\n",
       "      <td>FL - Tarpon Springs</td>\n",
       "      <td>Tarpon Springs - 34689</td>\n",
       "      <td>FL - Tarpon Springs - 34689</td>\n",
       "    </tr>\n",
       "  </tbody>\n",
       "</table>\n",
       "</div>"
      ],
      "text/plain": [
       "       source                 site_id                             name state  \\\n",
       "108501   yelp  lZbimwxtW5JPB6biT7_q3w  Carnitas y Taqueria La Frontera    IN   \n",
       "82177    yelp  lwja_rmdJH48WPFaV2662A                         Big Lots    FL   \n",
       "\n",
       "                  city postal_code     price  rating_avg  reviews_count  \\\n",
       "108501    Indianapolis       46227  1.444444         5.0             14   \n",
       "82177   Tarpon Springs       34689  1.375000         4.5              6   \n",
       "\n",
       "                date_start    year  month           state_city  \\\n",
       "108501 2021-01-10 20:58:13  2021.0    1.0    IN - Indianapolis   \n",
       "82177                  NaT     NaN    NaN  FL - Tarpon Springs   \n",
       "\n",
       "               city_postalcode        state_city_postalcode  \n",
       "108501    Indianapolis - 46227    IN - Indianapolis - 46227  \n",
       "82177   Tarpon Springs - 34689  FL - Tarpon Springs - 34689  "
      ]
     },
     "execution_count": 17,
     "metadata": {},
     "output_type": "execute_result"
    }
   ],
   "source": [
    "print(dfy_rest.info())\n",
    "dfy_rest.sample(2)"
   ]
  },
  {
   "cell_type": "markdown",
   "metadata": {},
   "source": [
    "#### YELP user"
   ]
  },
  {
   "cell_type": "code",
   "execution_count": 18,
   "metadata": {},
   "outputs": [
    {
     "name": "stdout",
     "output_type": "stream",
     "text": [
      "<class 'pandas.core.frame.DataFrame'>\n",
      "RangeIndex: 2105597 entries, 0 to 2105596\n",
      "Data columns (total 11 columns):\n",
      " #   Column         Dtype         \n",
      "---  ------         -----         \n",
      " 0   user_id        object        \n",
      " 1   review_count   int64         \n",
      " 2   fans           int64         \n",
      " 3   yelping_since  datetime64[ns]\n",
      " 4   useful         int64         \n",
      " 5   funny          int64         \n",
      " 6   cool           int64         \n",
      " 7   average_stars  float64       \n",
      " 8   year           int32         \n",
      " 9   month          int32         \n",
      " 10  year_month     object        \n",
      "dtypes: datetime64[ns](1), float64(1), int32(2), int64(5), object(2)\n",
      "memory usage: 160.6+ MB\n",
      "None\n"
     ]
    },
    {
     "data": {
      "text/html": [
       "<div>\n",
       "<style scoped>\n",
       "    .dataframe tbody tr th:only-of-type {\n",
       "        vertical-align: middle;\n",
       "    }\n",
       "\n",
       "    .dataframe tbody tr th {\n",
       "        vertical-align: top;\n",
       "    }\n",
       "\n",
       "    .dataframe thead th {\n",
       "        text-align: right;\n",
       "    }\n",
       "</style>\n",
       "<table border=\"1\" class=\"dataframe\">\n",
       "  <thead>\n",
       "    <tr style=\"text-align: right;\">\n",
       "      <th></th>\n",
       "      <th>user_id</th>\n",
       "      <th>review_count</th>\n",
       "      <th>fans</th>\n",
       "      <th>yelping_since</th>\n",
       "      <th>useful</th>\n",
       "      <th>funny</th>\n",
       "      <th>cool</th>\n",
       "      <th>average_stars</th>\n",
       "      <th>year</th>\n",
       "      <th>month</th>\n",
       "      <th>year_month</th>\n",
       "    </tr>\n",
       "  </thead>\n",
       "  <tbody>\n",
       "    <tr>\n",
       "      <th>854328</th>\n",
       "      <td>HpwQOx-11JhMe5_H3jloQw</td>\n",
       "      <td>12</td>\n",
       "      <td>0</td>\n",
       "      <td>2016-12-31 01:07:48</td>\n",
       "      <td>3</td>\n",
       "      <td>2</td>\n",
       "      <td>0</td>\n",
       "      <td>3.58</td>\n",
       "      <td>2016</td>\n",
       "      <td>12</td>\n",
       "      <td>1612</td>\n",
       "    </tr>\n",
       "    <tr>\n",
       "      <th>764226</th>\n",
       "      <td>mgGk2F-JqM_TwgX90p53cQ</td>\n",
       "      <td>3</td>\n",
       "      <td>0</td>\n",
       "      <td>2013-12-11 05:06:39</td>\n",
       "      <td>4</td>\n",
       "      <td>0</td>\n",
       "      <td>1</td>\n",
       "      <td>5.00</td>\n",
       "      <td>2013</td>\n",
       "      <td>12</td>\n",
       "      <td>1312</td>\n",
       "    </tr>\n",
       "  </tbody>\n",
       "</table>\n",
       "</div>"
      ],
      "text/plain": [
       "                       user_id  review_count  fans       yelping_since  \\\n",
       "854328  HpwQOx-11JhMe5_H3jloQw            12     0 2016-12-31 01:07:48   \n",
       "764226  mgGk2F-JqM_TwgX90p53cQ             3     0 2013-12-11 05:06:39   \n",
       "\n",
       "        useful  funny  cool  average_stars  year  month year_month  \n",
       "854328       3      2     0           3.58  2016     12       1612  \n",
       "764226       4      0     1           5.00  2013     12       1312  "
      ]
     },
     "execution_count": 18,
     "metadata": {},
     "output_type": "execute_result"
    }
   ],
   "source": [
    "dfy_user =yelp_user.copy()\n",
    "print(dfy_user.info())\n",
    "dfy_user.sample(2)"
   ]
  },
  {
   "cell_type": "code",
   "execution_count": 19,
   "metadata": {},
   "outputs": [
    {
     "name": "stdout",
     "output_type": "stream",
     "text": [
      "<class 'pandas.core.frame.DataFrame'>\n",
      "RangeIndex: 2105597 entries, 0 to 2105596\n",
      "Data columns (total 7 columns):\n",
      " #   Column         Dtype         \n",
      "---  ------         -----         \n",
      " 0   user_id        object        \n",
      " 1   reviews_count  int64         \n",
      " 2   date_start     datetime64[ns]\n",
      " 3   rating_avg     float64       \n",
      " 4   year           int32         \n",
      " 5   month          int32         \n",
      " 6   source         object        \n",
      "dtypes: datetime64[ns](1), float64(1), int32(2), int64(1), object(2)\n",
      "memory usage: 96.4+ MB\n"
     ]
    },
    {
     "data": {
      "text/html": [
       "<div>\n",
       "<style scoped>\n",
       "    .dataframe tbody tr th:only-of-type {\n",
       "        vertical-align: middle;\n",
       "    }\n",
       "\n",
       "    .dataframe tbody tr th {\n",
       "        vertical-align: top;\n",
       "    }\n",
       "\n",
       "    .dataframe thead th {\n",
       "        text-align: right;\n",
       "    }\n",
       "</style>\n",
       "<table border=\"1\" class=\"dataframe\">\n",
       "  <thead>\n",
       "    <tr style=\"text-align: right;\">\n",
       "      <th></th>\n",
       "      <th>user_id</th>\n",
       "      <th>reviews_count</th>\n",
       "      <th>date_start</th>\n",
       "      <th>rating_avg</th>\n",
       "      <th>year</th>\n",
       "      <th>month</th>\n",
       "      <th>source</th>\n",
       "    </tr>\n",
       "  </thead>\n",
       "  <tbody>\n",
       "    <tr>\n",
       "      <th>1224345</th>\n",
       "      <td>5BlfVarhU1erq-PMPGStqg</td>\n",
       "      <td>3</td>\n",
       "      <td>2011-05-07 13:17:59</td>\n",
       "      <td>3.00</td>\n",
       "      <td>2011</td>\n",
       "      <td>5</td>\n",
       "      <td>yelp</td>\n",
       "    </tr>\n",
       "    <tr>\n",
       "      <th>32185</th>\n",
       "      <td>mFj4BgkDgq4wcowBl3UXwg</td>\n",
       "      <td>20</td>\n",
       "      <td>2009-06-14 16:12:52</td>\n",
       "      <td>4.19</td>\n",
       "      <td>2009</td>\n",
       "      <td>6</td>\n",
       "      <td>yelp</td>\n",
       "    </tr>\n",
       "    <tr>\n",
       "      <th>2055997</th>\n",
       "      <td>-siBzHBNqMCH_trQDnFbTg</td>\n",
       "      <td>82</td>\n",
       "      <td>2011-03-14 03:48:48</td>\n",
       "      <td>4.20</td>\n",
       "      <td>2011</td>\n",
       "      <td>3</td>\n",
       "      <td>yelp</td>\n",
       "    </tr>\n",
       "    <tr>\n",
       "      <th>639093</th>\n",
       "      <td>rSTt0kdSs1lBakZ_ShGrGA</td>\n",
       "      <td>4</td>\n",
       "      <td>2014-09-12 22:11:18</td>\n",
       "      <td>3.00</td>\n",
       "      <td>2014</td>\n",
       "      <td>9</td>\n",
       "      <td>yelp</td>\n",
       "    </tr>\n",
       "    <tr>\n",
       "      <th>43638</th>\n",
       "      <td>OumwiIT9PQtfvMJifqjz4w</td>\n",
       "      <td>64</td>\n",
       "      <td>2010-08-07 22:49:36</td>\n",
       "      <td>3.76</td>\n",
       "      <td>2010</td>\n",
       "      <td>8</td>\n",
       "      <td>yelp</td>\n",
       "    </tr>\n",
       "  </tbody>\n",
       "</table>\n",
       "</div>"
      ],
      "text/plain": [
       "                        user_id  reviews_count          date_start  \\\n",
       "1224345  5BlfVarhU1erq-PMPGStqg              3 2011-05-07 13:17:59   \n",
       "32185    mFj4BgkDgq4wcowBl3UXwg             20 2009-06-14 16:12:52   \n",
       "2055997  -siBzHBNqMCH_trQDnFbTg             82 2011-03-14 03:48:48   \n",
       "639093   rSTt0kdSs1lBakZ_ShGrGA              4 2014-09-12 22:11:18   \n",
       "43638    OumwiIT9PQtfvMJifqjz4w             64 2010-08-07 22:49:36   \n",
       "\n",
       "         rating_avg  year  month source  \n",
       "1224345        3.00  2011      5   yelp  \n",
       "32185          4.19  2009      6   yelp  \n",
       "2055997        4.20  2011      3   yelp  \n",
       "639093         3.00  2014      9   yelp  \n",
       "43638          3.76  2010      8   yelp  "
      ]
     },
     "execution_count": 19,
     "metadata": {},
     "output_type": "execute_result"
    }
   ],
   "source": [
    "# Selección de campos\n",
    "dfy_user = dfy_user[['user_id', 'review_count', 'yelping_since', 'average_stars']]\n",
    "dfy_user = dfy_user.rename(columns={'review_count':'reviews_count', 'yelping_since':'date_start', 'average_stars':'rating_avg'})\n",
    "\n",
    "dfy_user['date_start'] = pd.to_datetime(dfy_user['date_start'], errors='coerce')\n",
    "dfy_user.reset_index(drop=True, inplace=True)\n",
    "\n",
    "dfy_user['year'] = dfy_user['date_start'].dt.year\n",
    "dfy_user['month'] = dfy_user['date_start'].dt.month\n",
    "\n",
    "dfy_user['source'] = 'yelp'\n",
    "dfy_user.info()\n",
    "dfy_user.sample(5)"
   ]
  },
  {
   "cell_type": "markdown",
   "metadata": {},
   "source": [
    "#### YELP checkin"
   ]
  },
  {
   "cell_type": "code",
   "execution_count": 20,
   "metadata": {},
   "outputs": [
    {
     "name": "stdout",
     "output_type": "stream",
     "text": [
      "(28668325, 19)\n"
     ]
    },
    {
     "data": {
      "text/html": [
       "<div>\n",
       "<style scoped>\n",
       "    .dataframe tbody tr th:only-of-type {\n",
       "        vertical-align: middle;\n",
       "    }\n",
       "\n",
       "    .dataframe tbody tr th {\n",
       "        vertical-align: top;\n",
       "    }\n",
       "\n",
       "    .dataframe thead th {\n",
       "        text-align: right;\n",
       "    }\n",
       "</style>\n",
       "<table border=\"1\" class=\"dataframe\">\n",
       "  <thead>\n",
       "    <tr style=\"text-align: right;\">\n",
       "      <th></th>\n",
       "      <th>business_id</th>\n",
       "      <th>date</th>\n",
       "      <th>name</th>\n",
       "      <th>city</th>\n",
       "      <th>postal_code</th>\n",
       "      <th>latitude</th>\n",
       "      <th>longitude</th>\n",
       "      <th>stars</th>\n",
       "      <th>review_count</th>\n",
       "      <th>is_open</th>\n",
       "      <th>state</th>\n",
       "      <th>state_city</th>\n",
       "      <th>city_postalcode</th>\n",
       "      <th>state_city_postalcode</th>\n",
       "      <th>categories</th>\n",
       "      <th>food</th>\n",
       "      <th>price</th>\n",
       "      <th>year</th>\n",
       "      <th>month</th>\n",
       "    </tr>\n",
       "  </thead>\n",
       "  <tbody>\n",
       "    <tr>\n",
       "      <th>25271298</th>\n",
       "      <td>sRJFxyCjZnmXuZLk6uKW6Q</td>\n",
       "      <td>2014-04-21 16:30:00</td>\n",
       "      <td>Panera Bread</td>\n",
       "      <td>Newark</td>\n",
       "      <td>19702</td>\n",
       "      <td>39.678257</td>\n",
       "      <td>-75.651854</td>\n",
       "      <td>2.5</td>\n",
       "      <td>35</td>\n",
       "      <td>0</td>\n",
       "      <td>DE</td>\n",
       "      <td>DE - Newark</td>\n",
       "      <td>Newark - 19702</td>\n",
       "      <td>DE - Newark - 19702</td>\n",
       "      <td>Cafes</td>\n",
       "      <td>yes</td>\n",
       "      <td>1.333333</td>\n",
       "      <td>2014</td>\n",
       "      <td>4</td>\n",
       "    </tr>\n",
       "    <tr>\n",
       "      <th>22457173</th>\n",
       "      <td>luuxLQDw4zsgbJiOPhARSg</td>\n",
       "      <td>2018-03-24 17:23:51</td>\n",
       "      <td>ALDI</td>\n",
       "      <td>Citrus Park</td>\n",
       "      <td>33626</td>\n",
       "      <td>28.043039</td>\n",
       "      <td>-82.581967</td>\n",
       "      <td>4.0</td>\n",
       "      <td>25</td>\n",
       "      <td>1</td>\n",
       "      <td>FL</td>\n",
       "      <td>FL - Citrus Park</td>\n",
       "      <td>Citrus Park - 33626</td>\n",
       "      <td>FL - Citrus Park - 33626</td>\n",
       "      <td>Specialty Food</td>\n",
       "      <td>yes</td>\n",
       "      <td>1.555556</td>\n",
       "      <td>2018</td>\n",
       "      <td>3</td>\n",
       "    </tr>\n",
       "  </tbody>\n",
       "</table>\n",
       "</div>"
      ],
      "text/plain": [
       "                     business_id                date          name  \\\n",
       "25271298  sRJFxyCjZnmXuZLk6uKW6Q 2014-04-21 16:30:00  Panera Bread   \n",
       "22457173  luuxLQDw4zsgbJiOPhARSg 2018-03-24 17:23:51          ALDI   \n",
       "\n",
       "                 city postal_code   latitude  longitude  stars  review_count  \\\n",
       "25271298       Newark       19702  39.678257 -75.651854    2.5            35   \n",
       "22457173  Citrus Park       33626  28.043039 -82.581967    4.0            25   \n",
       "\n",
       "          is_open state        state_city      city_postalcode  \\\n",
       "25271298        0    DE       DE - Newark       Newark - 19702   \n",
       "22457173        1    FL  FL - Citrus Park  Citrus Park - 33626   \n",
       "\n",
       "             state_city_postalcode      categories food     price  year  month  \n",
       "25271298       DE - Newark - 19702           Cafes  yes  1.333333  2014      4  \n",
       "22457173  FL - Citrus Park - 33626  Specialty Food  yes  1.555556  2018      3  "
      ]
     },
     "execution_count": 20,
     "metadata": {},
     "output_type": "execute_result"
    }
   ],
   "source": [
    "print(yelp_checkins.shape)\n",
    "yelp_checkins.sample(2)"
   ]
  },
  {
   "cell_type": "code",
   "execution_count": 21,
   "metadata": {},
   "outputs": [],
   "source": [
    "dfy_checkins = yelp_checkins[['business_id', 'date']]\n",
    "dfy_checkins = dfy_checkins.rename(columns={'business_id':'site_id', 'date':'datetime'})\n",
    "\n",
    "#dfy_checkins['datetime'] = pd.to_datetime(dfy_checkins['date'])\n",
    "dfy_checkins['year'] = dfy_checkins['datetime'].dt.year\n",
    "dfy_checkins['month'] = dfy_checkins['datetime'].dt.month\n",
    "\n",
    "dfy_checkins['source'] = 'yelp'\n",
    "\n",
    "dfy_checkins = dfy_checkins[['source', 'site_id', 'datetime', 'year', 'month']]"
   ]
  },
  {
   "cell_type": "code",
   "execution_count": 22,
   "metadata": {},
   "outputs": [
    {
     "name": "stdout",
     "output_type": "stream",
     "text": [
      "<class 'pandas.core.frame.DataFrame'>\n",
      "Index: 28668325 entries, 0 to 28715821\n",
      "Data columns (total 5 columns):\n",
      " #   Column    Dtype         \n",
      "---  ------    -----         \n",
      " 0   source    object        \n",
      " 1   site_id   object        \n",
      " 2   datetime  datetime64[ns]\n",
      " 3   year      int32         \n",
      " 4   month     int32         \n",
      "dtypes: datetime64[ns](1), int32(2), object(2)\n",
      "memory usage: 1.1+ GB\n",
      "None\n"
     ]
    },
    {
     "data": {
      "text/html": [
       "<div>\n",
       "<style scoped>\n",
       "    .dataframe tbody tr th:only-of-type {\n",
       "        vertical-align: middle;\n",
       "    }\n",
       "\n",
       "    .dataframe tbody tr th {\n",
       "        vertical-align: top;\n",
       "    }\n",
       "\n",
       "    .dataframe thead th {\n",
       "        text-align: right;\n",
       "    }\n",
       "</style>\n",
       "<table border=\"1\" class=\"dataframe\">\n",
       "  <thead>\n",
       "    <tr style=\"text-align: right;\">\n",
       "      <th></th>\n",
       "      <th>source</th>\n",
       "      <th>site_id</th>\n",
       "      <th>datetime</th>\n",
       "      <th>year</th>\n",
       "      <th>month</th>\n",
       "    </tr>\n",
       "  </thead>\n",
       "  <tbody>\n",
       "    <tr>\n",
       "      <th>16203770</th>\n",
       "      <td>yelp</td>\n",
       "      <td>Yu_QofgDAjn__QsMi5Wudg</td>\n",
       "      <td>2019-01-19 19:11:20</td>\n",
       "      <td>2019</td>\n",
       "      <td>1</td>\n",
       "    </tr>\n",
       "    <tr>\n",
       "      <th>5525319</th>\n",
       "      <td>yelp</td>\n",
       "      <td>BJOGo_upuBElDT_xOaurIA</td>\n",
       "      <td>2014-02-13 02:31:10</td>\n",
       "      <td>2014</td>\n",
       "      <td>2</td>\n",
       "    </tr>\n",
       "  </tbody>\n",
       "</table>\n",
       "</div>"
      ],
      "text/plain": [
       "         source                 site_id            datetime  year  month\n",
       "16203770   yelp  Yu_QofgDAjn__QsMi5Wudg 2019-01-19 19:11:20  2019      1\n",
       "5525319    yelp  BJOGo_upuBElDT_xOaurIA 2014-02-13 02:31:10  2014      2"
      ]
     },
     "execution_count": 22,
     "metadata": {},
     "output_type": "execute_result"
    }
   ],
   "source": [
    "print(dfy_checkins.info())\n",
    "dfy_checkins.sample(2)"
   ]
  },
  {
   "cell_type": "markdown",
   "metadata": {},
   "source": [
    "#### YELP categories"
   ]
  },
  {
   "cell_type": "code",
   "execution_count": 23,
   "metadata": {},
   "outputs": [
    {
     "name": "stdout",
     "output_type": "stream",
     "text": [
      "<class 'pandas.core.frame.DataFrame'>\n",
      "RangeIndex: 149643 entries, 0 to 149642\n",
      "Data columns (total 3 columns):\n",
      " #   Column      Non-Null Count   Dtype \n",
      "---  ------      --------------   ----- \n",
      " 0   site_id     149643 non-null  object\n",
      " 1   categories  149643 non-null  object\n",
      " 2   food        149643 non-null  object\n",
      "dtypes: object(3)\n",
      "memory usage: 3.4+ MB\n"
     ]
    },
    {
     "data": {
      "text/html": [
       "<div>\n",
       "<style scoped>\n",
       "    .dataframe tbody tr th:only-of-type {\n",
       "        vertical-align: middle;\n",
       "    }\n",
       "\n",
       "    .dataframe tbody tr th {\n",
       "        vertical-align: top;\n",
       "    }\n",
       "\n",
       "    .dataframe thead th {\n",
       "        text-align: right;\n",
       "    }\n",
       "</style>\n",
       "<table border=\"1\" class=\"dataframe\">\n",
       "  <thead>\n",
       "    <tr style=\"text-align: right;\">\n",
       "      <th></th>\n",
       "      <th>site_id</th>\n",
       "      <th>categories</th>\n",
       "      <th>food</th>\n",
       "    </tr>\n",
       "  </thead>\n",
       "  <tbody>\n",
       "    <tr>\n",
       "      <th>66626</th>\n",
       "      <td>qBnbXm2VhesKhmdRejnhSw</td>\n",
       "      <td>Bars</td>\n",
       "      <td>yes</td>\n",
       "    </tr>\n",
       "    <tr>\n",
       "      <th>105345</th>\n",
       "      <td>GHrXjivwy75GdaDxhneKyg</td>\n",
       "      <td>Chicken Wings</td>\n",
       "      <td>yes</td>\n",
       "    </tr>\n",
       "  </tbody>\n",
       "</table>\n",
       "</div>"
      ],
      "text/plain": [
       "                       site_id     categories food\n",
       "66626   qBnbXm2VhesKhmdRejnhSw           Bars  yes\n",
       "105345  GHrXjivwy75GdaDxhneKyg  Chicken Wings  yes"
      ]
     },
     "execution_count": 23,
     "metadata": {},
     "output_type": "execute_result"
    }
   ],
   "source": [
    "yelp_site_categories.info()\n",
    "yelp_site_categories.sample(2)"
   ]
  },
  {
   "cell_type": "code",
   "execution_count": 24,
   "metadata": {},
   "outputs": [
    {
     "name": "stdout",
     "output_type": "stream",
     "text": [
      "<class 'pandas.core.frame.DataFrame'>\n",
      "RangeIndex: 149643 entries, 0 to 149642\n",
      "Data columns (total 3 columns):\n",
      " #   Column      Non-Null Count   Dtype \n",
      "---  ------      --------------   ----- \n",
      " 0   source      149643 non-null  object\n",
      " 1   site_id     149643 non-null  object\n",
      " 2   categories  149643 non-null  object\n",
      "dtypes: object(3)\n",
      "memory usage: 3.4+ MB\n"
     ]
    },
    {
     "data": {
      "text/html": [
       "<div>\n",
       "<style scoped>\n",
       "    .dataframe tbody tr th:only-of-type {\n",
       "        vertical-align: middle;\n",
       "    }\n",
       "\n",
       "    .dataframe tbody tr th {\n",
       "        vertical-align: top;\n",
       "    }\n",
       "\n",
       "    .dataframe thead th {\n",
       "        text-align: right;\n",
       "    }\n",
       "</style>\n",
       "<table border=\"1\" class=\"dataframe\">\n",
       "  <thead>\n",
       "    <tr style=\"text-align: right;\">\n",
       "      <th></th>\n",
       "      <th>source</th>\n",
       "      <th>site_id</th>\n",
       "      <th>categories</th>\n",
       "    </tr>\n",
       "  </thead>\n",
       "  <tbody>\n",
       "    <tr>\n",
       "      <th>53378</th>\n",
       "      <td>yelp</td>\n",
       "      <td>lfbRfx3RNwYZ-VaRG0vsqQ</td>\n",
       "      <td>Italian</td>\n",
       "    </tr>\n",
       "    <tr>\n",
       "      <th>116057</th>\n",
       "      <td>yelp</td>\n",
       "      <td>22JMnG7XzPRJC0aj-ipHtg</td>\n",
       "      <td>Convenience Stores</td>\n",
       "    </tr>\n",
       "  </tbody>\n",
       "</table>\n",
       "</div>"
      ],
      "text/plain": [
       "       source                 site_id          categories\n",
       "53378    yelp  lfbRfx3RNwYZ-VaRG0vsqQ             Italian\n",
       "116057   yelp  22JMnG7XzPRJC0aj-ipHtg  Convenience Stores"
      ]
     },
     "execution_count": 24,
     "metadata": {},
     "output_type": "execute_result"
    }
   ],
   "source": [
    "dfy_categories = yelp_site_categories[['site_id', 'categories']]\n",
    "dfy_categories['source'] = 'yelp'\n",
    "dfy_categories = dfy_categories[['source', 'site_id', 'categories']]\n",
    "\n",
    "dfy_categories.info()\n",
    "dfy_categories.sample(2)"
   ]
  },
  {
   "cell_type": "markdown",
   "metadata": {},
   "source": [
    "#### YELP attributes"
   ]
  },
  {
   "cell_type": "code",
   "execution_count": 25,
   "metadata": {},
   "outputs": [
    {
     "name": "stdout",
     "output_type": "stream",
     "text": [
      "(1206820, 2)\n"
     ]
    },
    {
     "data": {
      "text/html": [
       "<div>\n",
       "<style scoped>\n",
       "    .dataframe tbody tr th:only-of-type {\n",
       "        vertical-align: middle;\n",
       "    }\n",
       "\n",
       "    .dataframe tbody tr th {\n",
       "        vertical-align: top;\n",
       "    }\n",
       "\n",
       "    .dataframe thead th {\n",
       "        text-align: right;\n",
       "    }\n",
       "</style>\n",
       "<table border=\"1\" class=\"dataframe\">\n",
       "  <thead>\n",
       "    <tr style=\"text-align: right;\">\n",
       "      <th></th>\n",
       "      <th>business_id</th>\n",
       "      <th>attributes</th>\n",
       "    </tr>\n",
       "  </thead>\n",
       "  <tbody>\n",
       "    <tr>\n",
       "      <th>129026</th>\n",
       "      <td>DYr-sOvFnfEfdHxxvwS3Yw</td>\n",
       "      <td>RestaurantsPriceRange2</td>\n",
       "    </tr>\n",
       "    <tr>\n",
       "      <th>90897</th>\n",
       "      <td>Jg9kkOl4sx2AXJVohbpSiw</td>\n",
       "      <td>RestaurantsGoodForGroups</td>\n",
       "    </tr>\n",
       "  </tbody>\n",
       "</table>\n",
       "</div>"
      ],
      "text/plain": [
       "                   business_id                attributes\n",
       "129026  DYr-sOvFnfEfdHxxvwS3Yw    RestaurantsPriceRange2\n",
       "90897   Jg9kkOl4sx2AXJVohbpSiw  RestaurantsGoodForGroups"
      ]
     },
     "execution_count": 25,
     "metadata": {},
     "output_type": "execute_result"
    }
   ],
   "source": [
    "dfy_attributes = yelp_site_attributes.copy()\n",
    "\n",
    "print(dfy_attributes.shape)\n",
    "dfy_attributes.sample(2)"
   ]
  },
  {
   "cell_type": "markdown",
   "metadata": {},
   "source": [
    "### Datasets GOOGLE"
   ]
  },
  {
   "cell_type": "markdown",
   "metadata": {},
   "source": [
    "#### GOOGLE reviews"
   ]
  },
  {
   "cell_type": "code",
   "execution_count": 26,
   "metadata": {},
   "outputs": [
    {
     "name": "stdout",
     "output_type": "stream",
     "text": [
      "<class 'pandas.core.frame.DataFrame'>\n",
      "RangeIndex: 4346287 entries, 0 to 4346286\n",
      "Data columns (total 7 columns):\n",
      " #   Column           Dtype         \n",
      "---  ------           -----         \n",
      " 0   user_id          float64       \n",
      " 1   gmap_id          object        \n",
      " 2   state            object        \n",
      " 3   datetime         datetime64[ns]\n",
      " 4   rating           int64         \n",
      " 5   vader_polarity   float64       \n",
      " 6   vader_sentiment  int64         \n",
      "dtypes: datetime64[ns](1), float64(2), int64(2), object(2)\n",
      "memory usage: 232.1+ MB\n",
      "None\n"
     ]
    },
    {
     "data": {
      "text/html": [
       "<div>\n",
       "<style scoped>\n",
       "    .dataframe tbody tr th:only-of-type {\n",
       "        vertical-align: middle;\n",
       "    }\n",
       "\n",
       "    .dataframe tbody tr th {\n",
       "        vertical-align: top;\n",
       "    }\n",
       "\n",
       "    .dataframe thead th {\n",
       "        text-align: right;\n",
       "    }\n",
       "</style>\n",
       "<table border=\"1\" class=\"dataframe\">\n",
       "  <thead>\n",
       "    <tr style=\"text-align: right;\">\n",
       "      <th></th>\n",
       "      <th>user_id</th>\n",
       "      <th>gmap_id</th>\n",
       "      <th>state</th>\n",
       "      <th>datetime</th>\n",
       "      <th>rating</th>\n",
       "      <th>vader_polarity</th>\n",
       "      <th>vader_sentiment</th>\n",
       "    </tr>\n",
       "  </thead>\n",
       "  <tbody>\n",
       "    <tr>\n",
       "      <th>2491073</th>\n",
       "      <td>1.131387e+20</td>\n",
       "      <td>0x89d36cf78a88eb49:0x24b1c7f1b2e64bdc</td>\n",
       "      <td>NY</td>\n",
       "      <td>2020-12-08 14:51:25.743</td>\n",
       "      <td>4</td>\n",
       "      <td>0.7845</td>\n",
       "      <td>1</td>\n",
       "    </tr>\n",
       "    <tr>\n",
       "      <th>1811574</th>\n",
       "      <td>1.140291e+20</td>\n",
       "      <td>0x8820fe24d8afedb5:0x92121a1815f036c8</td>\n",
       "      <td>MI</td>\n",
       "      <td>2020-03-07 14:55:11.010</td>\n",
       "      <td>5</td>\n",
       "      <td>0.0772</td>\n",
       "      <td>1</td>\n",
       "    </tr>\n",
       "  </tbody>\n",
       "</table>\n",
       "</div>"
      ],
      "text/plain": [
       "              user_id                                gmap_id state  \\\n",
       "2491073  1.131387e+20  0x89d36cf78a88eb49:0x24b1c7f1b2e64bdc    NY   \n",
       "1811574  1.140291e+20  0x8820fe24d8afedb5:0x92121a1815f036c8    MI   \n",
       "\n",
       "                       datetime  rating  vader_polarity  vader_sentiment  \n",
       "2491073 2020-12-08 14:51:25.743       4          0.7845                1  \n",
       "1811574 2020-03-07 14:55:11.010       5          0.0772                1  "
      ]
     },
     "execution_count": 26,
     "metadata": {},
     "output_type": "execute_result"
    }
   ],
   "source": [
    "print(google_reviews.info())\n",
    "google_reviews.sample(2)"
   ]
  },
  {
   "cell_type": "code",
   "execution_count": 27,
   "metadata": {},
   "outputs": [],
   "source": [
    "dfg_reviews = google_reviews\n",
    "dfg_reviews['source'] = 'google'\n",
    "dfg_reviews['month'] = dfg_reviews['datetime'].dt.month\n",
    "dfg_reviews['year'] = dfg_reviews['datetime'].dt.year\n",
    "dfg_reviews = dfg_reviews[['source', 'gmap_id','user_id', 'datetime', 'month', 'year', 'rating', 'vader_polarity', 'vader_sentiment']]\n",
    "dfg_reviews = dfg_reviews.rename(columns={'gmap_id': 'site_id', 'vader_polarity':'polarity', 'vader_sentiment':'sentiment'})"
   ]
  },
  {
   "cell_type": "code",
   "execution_count": 28,
   "metadata": {},
   "outputs": [
    {
     "data": {
      "text/html": [
       "<div>\n",
       "<style scoped>\n",
       "    .dataframe tbody tr th:only-of-type {\n",
       "        vertical-align: middle;\n",
       "    }\n",
       "\n",
       "    .dataframe tbody tr th {\n",
       "        vertical-align: top;\n",
       "    }\n",
       "\n",
       "    .dataframe thead th {\n",
       "        text-align: right;\n",
       "    }\n",
       "</style>\n",
       "<table border=\"1\" class=\"dataframe\">\n",
       "  <thead>\n",
       "    <tr style=\"text-align: right;\">\n",
       "      <th></th>\n",
       "      <th>source</th>\n",
       "      <th>site_id</th>\n",
       "      <th>user_id</th>\n",
       "      <th>datetime</th>\n",
       "      <th>month</th>\n",
       "      <th>year</th>\n",
       "      <th>rating</th>\n",
       "      <th>polarity</th>\n",
       "      <th>sentiment</th>\n",
       "    </tr>\n",
       "  </thead>\n",
       "  <tbody>\n",
       "    <tr>\n",
       "      <th>1732376</th>\n",
       "      <td>google</td>\n",
       "      <td>0x89e3a4309690cf97:0xa975c66a71d4939f</td>\n",
       "      <td>1.152199e+20</td>\n",
       "      <td>2018-09-17 06:01:39.763</td>\n",
       "      <td>9</td>\n",
       "      <td>2018</td>\n",
       "      <td>4</td>\n",
       "      <td>0.4404</td>\n",
       "      <td>1</td>\n",
       "    </tr>\n",
       "    <tr>\n",
       "      <th>3363171</th>\n",
       "      <td>google</td>\n",
       "      <td>0x89c5726d88bb1451:0x93cf3c0ff2b3b121</td>\n",
       "      <td>1.140947e+20</td>\n",
       "      <td>2017-05-28 11:40:50.970</td>\n",
       "      <td>5</td>\n",
       "      <td>2017</td>\n",
       "      <td>4</td>\n",
       "      <td>0.8257</td>\n",
       "      <td>1</td>\n",
       "    </tr>\n",
       "  </tbody>\n",
       "</table>\n",
       "</div>"
      ],
      "text/plain": [
       "         source                                site_id       user_id  \\\n",
       "1732376  google  0x89e3a4309690cf97:0xa975c66a71d4939f  1.152199e+20   \n",
       "3363171  google  0x89c5726d88bb1451:0x93cf3c0ff2b3b121  1.140947e+20   \n",
       "\n",
       "                       datetime  month  year  rating  polarity  sentiment  \n",
       "1732376 2018-09-17 06:01:39.763      9  2018       4    0.4404          1  \n",
       "3363171 2017-05-28 11:40:50.970      5  2017       4    0.8257          1  "
      ]
     },
     "execution_count": 28,
     "metadata": {},
     "output_type": "execute_result"
    }
   ],
   "source": [
    "dfg_reviews.sample(2)"
   ]
  },
  {
   "cell_type": "markdown",
   "metadata": {},
   "source": [
    "#### GOOGLE restaurants"
   ]
  },
  {
   "cell_type": "code",
   "execution_count": 29,
   "metadata": {},
   "outputs": [
    {
     "name": "stdout",
     "output_type": "stream",
     "text": [
      "<class 'pandas.core.frame.DataFrame'>\n",
      "Index: 223485 entries, 2 to 274996\n",
      "Data columns (total 12 columns):\n",
      " #   Column          Non-Null Count   Dtype  \n",
      "---  ------          --------------   -----  \n",
      " 0   name            223485 non-null  object \n",
      " 1   address_full    223485 non-null  object \n",
      " 2   gmap_id         223485 non-null  object \n",
      " 3   latitude        223485 non-null  float64\n",
      " 4   longitude       223485 non-null  float64\n",
      " 5   avg_rating      223485 non-null  float64\n",
      " 6   num_of_reviews  223485 non-null  int64  \n",
      " 7   price           223485 non-null  float64\n",
      " 8   address         223485 non-null  object \n",
      " 9   city            223485 non-null  object \n",
      " 10  postal_code     223485 non-null  object \n",
      " 11  state           223485 non-null  object \n",
      "dtypes: float64(4), int64(1), object(7)\n",
      "memory usage: 22.2+ MB\n",
      "None\n"
     ]
    },
    {
     "data": {
      "text/html": [
       "<div>\n",
       "<style scoped>\n",
       "    .dataframe tbody tr th:only-of-type {\n",
       "        vertical-align: middle;\n",
       "    }\n",
       "\n",
       "    .dataframe tbody tr th {\n",
       "        vertical-align: top;\n",
       "    }\n",
       "\n",
       "    .dataframe thead th {\n",
       "        text-align: right;\n",
       "    }\n",
       "</style>\n",
       "<table border=\"1\" class=\"dataframe\">\n",
       "  <thead>\n",
       "    <tr style=\"text-align: right;\">\n",
       "      <th></th>\n",
       "      <th>name</th>\n",
       "      <th>address_full</th>\n",
       "      <th>gmap_id</th>\n",
       "      <th>latitude</th>\n",
       "      <th>longitude</th>\n",
       "      <th>avg_rating</th>\n",
       "      <th>num_of_reviews</th>\n",
       "      <th>price</th>\n",
       "      <th>address</th>\n",
       "      <th>city</th>\n",
       "      <th>postal_code</th>\n",
       "      <th>state</th>\n",
       "    </tr>\n",
       "  </thead>\n",
       "  <tbody>\n",
       "    <tr>\n",
       "      <th>186042</th>\n",
       "      <td>M C's Sports Bar &amp; Grill</td>\n",
       "      <td>M C's Sports Bar &amp; Grill, 11050 Co Rd V, Glen ...</td>\n",
       "      <td>0x87fcbe8eb51ee795:0xfe85d61a6c16115f</td>\n",
       "      <td>42.815865</td>\n",
       "      <td>-90.966022</td>\n",
       "      <td>4.6</td>\n",
       "      <td>28</td>\n",
       "      <td>1.0</td>\n",
       "      <td>11050 Co Rd V</td>\n",
       "      <td>Glen Haven</td>\n",
       "      <td>53810</td>\n",
       "      <td>WI</td>\n",
       "    </tr>\n",
       "    <tr>\n",
       "      <th>17359</th>\n",
       "      <td>Iguana</td>\n",
       "      <td>Iguana, 5873 Albemarle Rd, Charlotte, NC 28212</td>\n",
       "      <td>0x885421ddb019b503:0xe19950c6180acf21</td>\n",
       "      <td>35.203945</td>\n",
       "      <td>-80.745768</td>\n",
       "      <td>3.9</td>\n",
       "      <td>78</td>\n",
       "      <td>1.0</td>\n",
       "      <td>5873 Albemarle Rd</td>\n",
       "      <td>Charlotte</td>\n",
       "      <td>28212</td>\n",
       "      <td>NC</td>\n",
       "    </tr>\n",
       "  </tbody>\n",
       "</table>\n",
       "</div>"
      ],
      "text/plain": [
       "                            name  \\\n",
       "186042  M C's Sports Bar & Grill   \n",
       "17359                     Iguana   \n",
       "\n",
       "                                             address_full  \\\n",
       "186042  M C's Sports Bar & Grill, 11050 Co Rd V, Glen ...   \n",
       "17359      Iguana, 5873 Albemarle Rd, Charlotte, NC 28212   \n",
       "\n",
       "                                      gmap_id   latitude  longitude  \\\n",
       "186042  0x87fcbe8eb51ee795:0xfe85d61a6c16115f  42.815865 -90.966022   \n",
       "17359   0x885421ddb019b503:0xe19950c6180acf21  35.203945 -80.745768   \n",
       "\n",
       "        avg_rating  num_of_reviews  price            address        city  \\\n",
       "186042         4.6              28    1.0      11050 Co Rd V  Glen Haven   \n",
       "17359          3.9              78    1.0  5873 Albemarle Rd   Charlotte   \n",
       "\n",
       "       postal_code state  \n",
       "186042       53810    WI  \n",
       "17359        28212    NC  "
      ]
     },
     "execution_count": 29,
     "metadata": {},
     "output_type": "execute_result"
    }
   ],
   "source": [
    "print(google_rest.info())\n",
    "google_rest.sample(2)"
   ]
  },
  {
   "cell_type": "code",
   "execution_count": 30,
   "metadata": {},
   "outputs": [],
   "source": [
    "dfg_rest = google_rest\n",
    "dfg_rest['source'] = 'google'\n",
    "dfg_rest = dfg_rest[['source','gmap_id', 'name', 'state', 'city', 'postal_code', 'price', 'avg_rating', 'num_of_reviews']]\n",
    "dfg_rest = dfg_rest.rename(columns={'gmap_id': 'site_id', 'avg_rating':'rating_avg', 'num_of_reviews':'reviews_count'})\n",
    "\n",
    "# Agregado de fecha de inicio de acitividad\n",
    "dfg_rest_date_start = dfg_reviews.groupby('site_id')['datetime'].min().reset_index()\n",
    "dfg_rest = pd.merge(dfg_rest, dfg_rest_date_start, how='left', on=['site_id'])\n",
    "dfg_rest = dfg_rest.rename(columns={'datetime': 'date_start'})\n",
    "\n",
    "dfg_rest['year'] = dfg_rest['date_start'].dt.year\n",
    "dfg_rest['month'] = dfg_rest['date_start'].dt.month\n",
    "\n",
    "dfg_rest['state_city'] = dfg_rest['state'].str.cat(dfg_rest['city'], sep=' - ')\n",
    "dfg_rest['city_postalcode'] = dfg_rest['city'].str.cat(dfg_rest['postal_code'], sep=' - ')\n",
    "dfg_rest['state_city_postalcode'] = dfg_rest['state'].str.cat(dfy_rest['city'], sep=' - ').str.cat(dfg_rest['postal_code'], sep=' - ')"
   ]
  },
  {
   "cell_type": "code",
   "execution_count": 31,
   "metadata": {},
   "outputs": [
    {
     "name": "stdout",
     "output_type": "stream",
     "text": [
      "<class 'pandas.core.frame.DataFrame'>\n",
      "RangeIndex: 223485 entries, 0 to 223484\n",
      "Data columns (total 15 columns):\n",
      " #   Column                 Non-Null Count   Dtype         \n",
      "---  ------                 --------------   -----         \n",
      " 0   source                 223485 non-null  object        \n",
      " 1   site_id                223485 non-null  object        \n",
      " 2   name                   223485 non-null  object        \n",
      " 3   state                  223485 non-null  object        \n",
      " 4   city                   223485 non-null  object        \n",
      " 5   postal_code            223485 non-null  object        \n",
      " 6   price                  223485 non-null  float64       \n",
      " 7   rating_avg             223485 non-null  float64       \n",
      " 8   reviews_count          223485 non-null  int64         \n",
      " 9   date_start             134644 non-null  datetime64[ns]\n",
      " 10  year                   134644 non-null  float64       \n",
      " 11  month                  134644 non-null  float64       \n",
      " 12  state_city             223485 non-null  object        \n",
      " 13  city_postalcode        223485 non-null  object        \n",
      " 14  state_city_postalcode  211084 non-null  object        \n",
      "dtypes: datetime64[ns](1), float64(4), int64(1), object(9)\n",
      "memory usage: 25.6+ MB\n",
      "None\n"
     ]
    },
    {
     "data": {
      "text/html": [
       "<div>\n",
       "<style scoped>\n",
       "    .dataframe tbody tr th:only-of-type {\n",
       "        vertical-align: middle;\n",
       "    }\n",
       "\n",
       "    .dataframe tbody tr th {\n",
       "        vertical-align: top;\n",
       "    }\n",
       "\n",
       "    .dataframe thead th {\n",
       "        text-align: right;\n",
       "    }\n",
       "</style>\n",
       "<table border=\"1\" class=\"dataframe\">\n",
       "  <thead>\n",
       "    <tr style=\"text-align: right;\">\n",
       "      <th></th>\n",
       "      <th>source</th>\n",
       "      <th>site_id</th>\n",
       "      <th>name</th>\n",
       "      <th>state</th>\n",
       "      <th>city</th>\n",
       "      <th>postal_code</th>\n",
       "      <th>price</th>\n",
       "      <th>rating_avg</th>\n",
       "      <th>reviews_count</th>\n",
       "      <th>date_start</th>\n",
       "      <th>year</th>\n",
       "      <th>month</th>\n",
       "      <th>state_city</th>\n",
       "      <th>city_postalcode</th>\n",
       "      <th>state_city_postalcode</th>\n",
       "    </tr>\n",
       "  </thead>\n",
       "  <tbody>\n",
       "    <tr>\n",
       "      <th>89802</th>\n",
       "      <td>google</td>\n",
       "      <td>0x89c2bdf94c2cf1cf:0xda6bb9d5dcb6c063</td>\n",
       "      <td>Casa Tequila</td>\n",
       "      <td>NY</td>\n",
       "      <td>Armonk</td>\n",
       "      <td>10504</td>\n",
       "      <td>2.000000</td>\n",
       "      <td>4.5</td>\n",
       "      <td>55</td>\n",
       "      <td>2019-12-21 19:24:39.897</td>\n",
       "      <td>2019.0</td>\n",
       "      <td>12.0</td>\n",
       "      <td>NY - Armonk</td>\n",
       "      <td>Armonk - 10504</td>\n",
       "      <td>NY - Levittown - 10504</td>\n",
       "    </tr>\n",
       "    <tr>\n",
       "      <th>3404</th>\n",
       "      <td>google</td>\n",
       "      <td>0x8816154726998a07:0xc73acc478de0ab39</td>\n",
       "      <td>Knight &amp; Day Sandwich Pub</td>\n",
       "      <td>IN</td>\n",
       "      <td>Kendallville</td>\n",
       "      <td>46755</td>\n",
       "      <td>1.333333</td>\n",
       "      <td>4.7</td>\n",
       "      <td>8</td>\n",
       "      <td>NaT</td>\n",
       "      <td>NaN</td>\n",
       "      <td>NaN</td>\n",
       "      <td>IN - Kendallville</td>\n",
       "      <td>Kendallville - 46755</td>\n",
       "      <td>IN - Saint Petersburg - 46755</td>\n",
       "    </tr>\n",
       "  </tbody>\n",
       "</table>\n",
       "</div>"
      ],
      "text/plain": [
       "       source                                site_id  \\\n",
       "89802  google  0x89c2bdf94c2cf1cf:0xda6bb9d5dcb6c063   \n",
       "3404   google  0x8816154726998a07:0xc73acc478de0ab39   \n",
       "\n",
       "                            name state          city postal_code     price  \\\n",
       "89802               Casa Tequila    NY        Armonk       10504  2.000000   \n",
       "3404   Knight & Day Sandwich Pub    IN  Kendallville       46755  1.333333   \n",
       "\n",
       "       rating_avg  reviews_count              date_start    year  month  \\\n",
       "89802         4.5             55 2019-12-21 19:24:39.897  2019.0   12.0   \n",
       "3404          4.7              8                     NaT     NaN    NaN   \n",
       "\n",
       "              state_city       city_postalcode          state_city_postalcode  \n",
       "89802        NY - Armonk        Armonk - 10504         NY - Levittown - 10504  \n",
       "3404   IN - Kendallville  Kendallville - 46755  IN - Saint Petersburg - 46755  "
      ]
     },
     "execution_count": 31,
     "metadata": {},
     "output_type": "execute_result"
    }
   ],
   "source": [
    "print(dfg_rest.info())\n",
    "dfg_rest.sample(2)"
   ]
  },
  {
   "cell_type": "markdown",
   "metadata": {},
   "source": [
    "#### GOOGLE user (creación de dataset)"
   ]
  },
  {
   "cell_type": "code",
   "execution_count": 32,
   "metadata": {},
   "outputs": [
    {
     "data": {
      "text/html": [
       "<div>\n",
       "<style scoped>\n",
       "    .dataframe tbody tr th:only-of-type {\n",
       "        vertical-align: middle;\n",
       "    }\n",
       "\n",
       "    .dataframe tbody tr th {\n",
       "        vertical-align: top;\n",
       "    }\n",
       "\n",
       "    .dataframe thead th {\n",
       "        text-align: right;\n",
       "    }\n",
       "</style>\n",
       "<table border=\"1\" class=\"dataframe\">\n",
       "  <thead>\n",
       "    <tr style=\"text-align: right;\">\n",
       "      <th></th>\n",
       "      <th>user_id</th>\n",
       "      <th>reviews_count</th>\n",
       "      <th>date_start</th>\n",
       "      <th>rating_avg</th>\n",
       "      <th>year</th>\n",
       "      <th>month</th>\n",
       "      <th>source</th>\n",
       "    </tr>\n",
       "  </thead>\n",
       "  <tbody>\n",
       "    <tr>\n",
       "      <th>721414</th>\n",
       "      <td>1.051675e+20</td>\n",
       "      <td>1</td>\n",
       "      <td>2019-10-11 17:17:54.153</td>\n",
       "      <td>5.0</td>\n",
       "      <td>2019</td>\n",
       "      <td>10</td>\n",
       "      <td>google</td>\n",
       "    </tr>\n",
       "    <tr>\n",
       "      <th>2225911</th>\n",
       "      <td>1.155223e+20</td>\n",
       "      <td>3</td>\n",
       "      <td>2017-05-07 16:47:54.650</td>\n",
       "      <td>4.0</td>\n",
       "      <td>2017</td>\n",
       "      <td>5</td>\n",
       "      <td>google</td>\n",
       "    </tr>\n",
       "  </tbody>\n",
       "</table>\n",
       "</div>"
      ],
      "text/plain": [
       "              user_id  reviews_count              date_start  rating_avg  \\\n",
       "721414   1.051675e+20              1 2019-10-11 17:17:54.153         5.0   \n",
       "2225911  1.155223e+20              3 2017-05-07 16:47:54.650         4.0   \n",
       "\n",
       "         year  month  source  \n",
       "721414   2019     10  google  \n",
       "2225911  2017      5  google  "
      ]
     },
     "execution_count": 32,
     "metadata": {},
     "output_type": "execute_result"
    }
   ],
   "source": [
    "dfg_user = dfg_reviews.groupby(['user_id']).agg({'site_id': 'count', 'datetime': 'min', 'rating': 'mean'}).reset_index()\n",
    "dfg_user = dfg_user.rename(columns={'site_id':'reviews_count', 'datetime':'date_start', 'rating':'rating_avg'})\n",
    "dfg_user['year'] = dfg_user['date_start'].dt.year\n",
    "dfg_user['month'] = dfg_user['date_start'].dt.month\n",
    "\n",
    "dfg_user['source'] = 'google'\n",
    "dfg_user.sample(2)"
   ]
  },
  {
   "cell_type": "markdown",
   "metadata": {},
   "source": [
    "#### GOOGLE checkins (creación de dataset)"
   ]
  },
  {
   "cell_type": "code",
   "execution_count": 33,
   "metadata": {},
   "outputs": [],
   "source": [
    "dfy_checkins = yelp_checkins[['business_id', 'date']]\n",
    "dfy_checkins = dfy_checkins.rename(columns={'business_id':'site_id', 'date':'datetime'})\n",
    "\n",
    "#dfy_checkins['datetime'] = pd.to_datetime(dfy_checkins['date'])\n",
    "dfy_checkins['year'] = dfy_checkins['datetime'].dt.year\n",
    "dfy_checkins['month'] = dfy_checkins['datetime'].dt.month\n",
    "\n",
    "dfy_checkins['source'] = 'yelp'\n",
    "\n",
    "dfy_checkins = dfy_checkins[['source', 'site_id', 'datetime', 'year', 'month']]"
   ]
  },
  {
   "cell_type": "code",
   "execution_count": 34,
   "metadata": {},
   "outputs": [],
   "source": [
    "dfg_checkins = dfg_reviews[['source', 'site_id', 'datetime', 'year', 'month']]"
   ]
  },
  {
   "cell_type": "code",
   "execution_count": 35,
   "metadata": {},
   "outputs": [
    {
     "name": "stdout",
     "output_type": "stream",
     "text": [
      "<class 'pandas.core.frame.DataFrame'>\n",
      "RangeIndex: 4346287 entries, 0 to 4346286\n",
      "Data columns (total 5 columns):\n",
      " #   Column    Dtype         \n",
      "---  ------    -----         \n",
      " 0   source    object        \n",
      " 1   site_id   object        \n",
      " 2   datetime  datetime64[ns]\n",
      " 3   year      int32         \n",
      " 4   month     int32         \n",
      "dtypes: datetime64[ns](1), int32(2), object(2)\n",
      "memory usage: 132.6+ MB\n",
      "None\n"
     ]
    },
    {
     "data": {
      "text/html": [
       "<div>\n",
       "<style scoped>\n",
       "    .dataframe tbody tr th:only-of-type {\n",
       "        vertical-align: middle;\n",
       "    }\n",
       "\n",
       "    .dataframe tbody tr th {\n",
       "        vertical-align: top;\n",
       "    }\n",
       "\n",
       "    .dataframe thead th {\n",
       "        text-align: right;\n",
       "    }\n",
       "</style>\n",
       "<table border=\"1\" class=\"dataframe\">\n",
       "  <thead>\n",
       "    <tr style=\"text-align: right;\">\n",
       "      <th></th>\n",
       "      <th>source</th>\n",
       "      <th>site_id</th>\n",
       "      <th>datetime</th>\n",
       "      <th>year</th>\n",
       "      <th>month</th>\n",
       "    </tr>\n",
       "  </thead>\n",
       "  <tbody>\n",
       "    <tr>\n",
       "      <th>1326030</th>\n",
       "      <td>google</td>\n",
       "      <td>0x87ee93e7e4732b31:0x1292f38eb8babd19</td>\n",
       "      <td>2019-03-17 11:18:31.839</td>\n",
       "      <td>2019</td>\n",
       "      <td>3</td>\n",
       "    </tr>\n",
       "    <tr>\n",
       "      <th>4329619</th>\n",
       "      <td>google</td>\n",
       "      <td>0x8765b30194472e1b:0x34f651ccb017a084</td>\n",
       "      <td>2020-07-26 10:28:16.142</td>\n",
       "      <td>2020</td>\n",
       "      <td>7</td>\n",
       "    </tr>\n",
       "  </tbody>\n",
       "</table>\n",
       "</div>"
      ],
      "text/plain": [
       "         source                                site_id  \\\n",
       "1326030  google  0x87ee93e7e4732b31:0x1292f38eb8babd19   \n",
       "4329619  google  0x8765b30194472e1b:0x34f651ccb017a084   \n",
       "\n",
       "                       datetime  year  month  \n",
       "1326030 2019-03-17 11:18:31.839  2019      3  \n",
       "4329619 2020-07-26 10:28:16.142  2020      7  "
      ]
     },
     "execution_count": 35,
     "metadata": {},
     "output_type": "execute_result"
    }
   ],
   "source": [
    "print(dfg_checkins.info())\n",
    "dfg_checkins.sample(2)"
   ]
  },
  {
   "cell_type": "markdown",
   "metadata": {},
   "source": [
    "#### GOOGLE categories"
   ]
  },
  {
   "cell_type": "code",
   "execution_count": 36,
   "metadata": {},
   "outputs": [
    {
     "name": "stdout",
     "output_type": "stream",
     "text": [
      "<class 'pandas.core.frame.DataFrame'>\n",
      "Index: 626995 entries, 2 to 274996\n",
      "Data columns (total 2 columns):\n",
      " #   Column    Non-Null Count   Dtype \n",
      "---  ------    --------------   ----- \n",
      " 0   site_id   626995 non-null  object\n",
      " 1   category  626995 non-null  object\n",
      "dtypes: object(2)\n",
      "memory usage: 14.4+ MB\n"
     ]
    },
    {
     "data": {
      "text/html": [
       "<div>\n",
       "<style scoped>\n",
       "    .dataframe tbody tr th:only-of-type {\n",
       "        vertical-align: middle;\n",
       "    }\n",
       "\n",
       "    .dataframe tbody tr th {\n",
       "        vertical-align: top;\n",
       "    }\n",
       "\n",
       "    .dataframe thead th {\n",
       "        text-align: right;\n",
       "    }\n",
       "</style>\n",
       "<table border=\"1\" class=\"dataframe\">\n",
       "  <thead>\n",
       "    <tr style=\"text-align: right;\">\n",
       "      <th></th>\n",
       "      <th>site_id</th>\n",
       "      <th>category</th>\n",
       "    </tr>\n",
       "  </thead>\n",
       "  <tbody>\n",
       "    <tr>\n",
       "      <th>185966</th>\n",
       "      <td>0x89c4353c18175d6d:0xa396afe61f85317f</td>\n",
       "      <td>Chinese restaurant</td>\n",
       "    </tr>\n",
       "    <tr>\n",
       "      <th>163550</th>\n",
       "      <td>0x89dfd1af58f736fd:0x365f5734b5f8a9e4</td>\n",
       "      <td>Pizza restaurant</td>\n",
       "    </tr>\n",
       "  </tbody>\n",
       "</table>\n",
       "</div>"
      ],
      "text/plain": [
       "                                      site_id            category\n",
       "185966  0x89c4353c18175d6d:0xa396afe61f85317f  Chinese restaurant\n",
       "163550  0x89dfd1af58f736fd:0x365f5734b5f8a9e4    Pizza restaurant"
      ]
     },
     "execution_count": 36,
     "metadata": {},
     "output_type": "execute_result"
    }
   ],
   "source": [
    "google_site_categories.info()\n",
    "google_site_categories.sample(2)"
   ]
  },
  {
   "cell_type": "code",
   "execution_count": 37,
   "metadata": {},
   "outputs": [
    {
     "name": "stdout",
     "output_type": "stream",
     "text": [
      "<class 'pandas.core.frame.DataFrame'>\n",
      "Index: 626995 entries, 2 to 274996\n",
      "Data columns (total 3 columns):\n",
      " #   Column      Non-Null Count   Dtype \n",
      "---  ------      --------------   ----- \n",
      " 0   source      626995 non-null  object\n",
      " 1   site_id     626995 non-null  object\n",
      " 2   categories  626995 non-null  object\n",
      "dtypes: object(3)\n",
      "memory usage: 19.1+ MB\n"
     ]
    },
    {
     "data": {
      "text/html": [
       "<div>\n",
       "<style scoped>\n",
       "    .dataframe tbody tr th:only-of-type {\n",
       "        vertical-align: middle;\n",
       "    }\n",
       "\n",
       "    .dataframe tbody tr th {\n",
       "        vertical-align: top;\n",
       "    }\n",
       "\n",
       "    .dataframe thead th {\n",
       "        text-align: right;\n",
       "    }\n",
       "</style>\n",
       "<table border=\"1\" class=\"dataframe\">\n",
       "  <thead>\n",
       "    <tr style=\"text-align: right;\">\n",
       "      <th></th>\n",
       "      <th>source</th>\n",
       "      <th>site_id</th>\n",
       "      <th>categories</th>\n",
       "    </tr>\n",
       "  </thead>\n",
       "  <tbody>\n",
       "    <tr>\n",
       "      <th>167066</th>\n",
       "      <td>google</td>\n",
       "      <td>0x52b332d54812701b:0xf1a957b769a72641</td>\n",
       "      <td>Espresso bar</td>\n",
       "    </tr>\n",
       "    <tr>\n",
       "      <th>137178</th>\n",
       "      <td>google</td>\n",
       "      <td>0x883be0fa7c8c6dd1:0xa78ebbfbad44333a</td>\n",
       "      <td>Takeout Restaurant</td>\n",
       "    </tr>\n",
       "  </tbody>\n",
       "</table>\n",
       "</div>"
      ],
      "text/plain": [
       "        source                                site_id          categories\n",
       "167066  google  0x52b332d54812701b:0xf1a957b769a72641        Espresso bar\n",
       "137178  google  0x883be0fa7c8c6dd1:0xa78ebbfbad44333a  Takeout Restaurant"
      ]
     },
     "execution_count": 37,
     "metadata": {},
     "output_type": "execute_result"
    }
   ],
   "source": [
    "dfg_categories = google_site_categories.copy()\n",
    "\n",
    "dfg_categories.rename(columns={'category': 'categories'}, inplace=True)\n",
    "dfg_categories['source'] = 'google'\n",
    "dfg_categories = dfg_categories[['source', 'site_id', 'categories']]\n",
    "\n",
    "dfg_categories.info()\n",
    "dfg_categories.sample(2)"
   ]
  },
  {
   "cell_type": "markdown",
   "metadata": {},
   "source": [
    "### Datasets COMBINADOS"
   ]
  },
  {
   "cell_type": "markdown",
   "metadata": {},
   "source": [
    "#### Dataset RESTAURANTS"
   ]
  },
  {
   "cell_type": "code",
   "execution_count": 38,
   "metadata": {},
   "outputs": [
    {
     "name": "stdout",
     "output_type": "stream",
     "text": [
      "<class 'pandas.core.frame.DataFrame'>\n",
      "Index: 342834 entries, 3 to 223484\n",
      "Data columns (total 15 columns):\n",
      " #   Column                 Non-Null Count   Dtype         \n",
      "---  ------                 --------------   -----         \n",
      " 0   source                 342834 non-null  object        \n",
      " 1   site_id                342834 non-null  object        \n",
      " 2   name                   342834 non-null  object        \n",
      " 3   state                  342834 non-null  object        \n",
      " 4   city                   342834 non-null  object        \n",
      " 5   postal_code            342834 non-null  object        \n",
      " 6   price                  342834 non-null  float64       \n",
      " 7   rating_avg             342834 non-null  float64       \n",
      " 8   reviews_count          342834 non-null  int64         \n",
      " 9   date_start             247726 non-null  datetime64[ns]\n",
      " 10  year                   247726 non-null  float64       \n",
      " 11  month                  247726 non-null  float64       \n",
      " 12  state_city             342834 non-null  object        \n",
      " 13  city_postalcode        342834 non-null  object        \n",
      " 14  state_city_postalcode  330433 non-null  object        \n",
      "dtypes: datetime64[ns](1), float64(4), int64(1), object(9)\n",
      "memory usage: 41.8+ MB\n",
      "None\n"
     ]
    },
    {
     "data": {
      "text/html": [
       "<div>\n",
       "<style scoped>\n",
       "    .dataframe tbody tr th:only-of-type {\n",
       "        vertical-align: middle;\n",
       "    }\n",
       "\n",
       "    .dataframe tbody tr th {\n",
       "        vertical-align: top;\n",
       "    }\n",
       "\n",
       "    .dataframe thead th {\n",
       "        text-align: right;\n",
       "    }\n",
       "</style>\n",
       "<table border=\"1\" class=\"dataframe\">\n",
       "  <thead>\n",
       "    <tr style=\"text-align: right;\">\n",
       "      <th></th>\n",
       "      <th>source</th>\n",
       "      <th>site_id</th>\n",
       "      <th>name</th>\n",
       "      <th>state</th>\n",
       "      <th>city</th>\n",
       "      <th>postal_code</th>\n",
       "      <th>price</th>\n",
       "      <th>rating_avg</th>\n",
       "      <th>reviews_count</th>\n",
       "      <th>date_start</th>\n",
       "      <th>year</th>\n",
       "      <th>month</th>\n",
       "      <th>state_city</th>\n",
       "      <th>city_postalcode</th>\n",
       "      <th>state_city_postalcode</th>\n",
       "    </tr>\n",
       "  </thead>\n",
       "  <tbody>\n",
       "    <tr>\n",
       "      <th>137375</th>\n",
       "      <td>google</td>\n",
       "      <td>0x88c290243ba6978f:0x4a53ff164abdab4d</td>\n",
       "      <td>Golden Tequila Mexican Restaurant</td>\n",
       "      <td>FL</td>\n",
       "      <td>Port Richey</td>\n",
       "      <td>34652</td>\n",
       "      <td>1.454545</td>\n",
       "      <td>4.0</td>\n",
       "      <td>18</td>\n",
       "      <td>NaT</td>\n",
       "      <td>NaN</td>\n",
       "      <td>NaN</td>\n",
       "      <td>FL - Port Richey</td>\n",
       "      <td>Port Richey - 34652</td>\n",
       "      <td>FL - Beech Grove - 34652</td>\n",
       "    </tr>\n",
       "    <tr>\n",
       "      <th>1394</th>\n",
       "      <td>google</td>\n",
       "      <td>0x7c007278edb2a865:0x4ed1c3d61fda94aa</td>\n",
       "      <td>Tucker &amp; Bevvy Breakfast</td>\n",
       "      <td>HI</td>\n",
       "      <td>Honolulu</td>\n",
       "      <td>96815</td>\n",
       "      <td>1.833333</td>\n",
       "      <td>4.2</td>\n",
       "      <td>57</td>\n",
       "      <td>2015-12-25 07:48:45.188</td>\n",
       "      <td>2015.0</td>\n",
       "      <td>12.0</td>\n",
       "      <td>HI - Honolulu</td>\n",
       "      <td>Honolulu - 96815</td>\n",
       "      <td>HI - New Orleans - 96815</td>\n",
       "    </tr>\n",
       "  </tbody>\n",
       "</table>\n",
       "</div>"
      ],
      "text/plain": [
       "        source                                site_id  \\\n",
       "137375  google  0x88c290243ba6978f:0x4a53ff164abdab4d   \n",
       "1394    google  0x7c007278edb2a865:0x4ed1c3d61fda94aa   \n",
       "\n",
       "                                     name state         city postal_code  \\\n",
       "137375  Golden Tequila Mexican Restaurant    FL  Port Richey       34652   \n",
       "1394             Tucker & Bevvy Breakfast    HI     Honolulu       96815   \n",
       "\n",
       "           price  rating_avg  reviews_count              date_start    year  \\\n",
       "137375  1.454545         4.0             18                     NaT     NaN   \n",
       "1394    1.833333         4.2             57 2015-12-25 07:48:45.188  2015.0   \n",
       "\n",
       "        month        state_city      city_postalcode     state_city_postalcode  \n",
       "137375    NaN  FL - Port Richey  Port Richey - 34652  FL - Beech Grove - 34652  \n",
       "1394     12.0     HI - Honolulu     Honolulu - 96815  HI - New Orleans - 96815  "
      ]
     },
     "execution_count": 38,
     "metadata": {},
     "output_type": "execute_result"
    }
   ],
   "source": [
    "# Filtrado\n",
    "dfy_rest = dfy_rest[dfy_rest['site_id'].isin(dfgy_rest_uniques['business_id'])]\n",
    "# Union\n",
    "dfgy_rest = pd.concat([dfy_rest, dfg_rest])\n",
    "\n",
    "print(dfgy_rest.info())\n",
    "dfgy_rest.sample(2)"
   ]
  },
  {
   "cell_type": "markdown",
   "metadata": {},
   "source": [
    "#### Dataset USER"
   ]
  },
  {
   "cell_type": "code",
   "execution_count": 39,
   "metadata": {},
   "outputs": [
    {
     "name": "stdout",
     "output_type": "stream",
     "text": [
      "<class 'pandas.core.frame.DataFrame'>\n",
      "Index: 4756911 entries, 0 to 2651313\n",
      "Data columns (total 7 columns):\n",
      " #   Column         Dtype         \n",
      "---  ------         -----         \n",
      " 0   user_id        object        \n",
      " 1   reviews_count  int64         \n",
      " 2   date_start     datetime64[ns]\n",
      " 3   rating_avg     float64       \n",
      " 4   year           int32         \n",
      " 5   month          int32         \n",
      " 6   source         object        \n",
      "dtypes: datetime64[ns](1), float64(1), int32(2), int64(1), object(2)\n",
      "memory usage: 254.0+ MB\n",
      "None\n"
     ]
    },
    {
     "data": {
      "text/html": [
       "<div>\n",
       "<style scoped>\n",
       "    .dataframe tbody tr th:only-of-type {\n",
       "        vertical-align: middle;\n",
       "    }\n",
       "\n",
       "    .dataframe tbody tr th {\n",
       "        vertical-align: top;\n",
       "    }\n",
       "\n",
       "    .dataframe thead th {\n",
       "        text-align: right;\n",
       "    }\n",
       "</style>\n",
       "<table border=\"1\" class=\"dataframe\">\n",
       "  <thead>\n",
       "    <tr style=\"text-align: right;\">\n",
       "      <th></th>\n",
       "      <th>user_id</th>\n",
       "      <th>reviews_count</th>\n",
       "      <th>date_start</th>\n",
       "      <th>rating_avg</th>\n",
       "      <th>year</th>\n",
       "      <th>month</th>\n",
       "      <th>source</th>\n",
       "    </tr>\n",
       "  </thead>\n",
       "  <tbody>\n",
       "    <tr>\n",
       "      <th>578667</th>\n",
       "      <td>104190924870702530560.0</td>\n",
       "      <td>5</td>\n",
       "      <td>2019-10-15 10:42:40.633</td>\n",
       "      <td>5.00</td>\n",
       "      <td>2019</td>\n",
       "      <td>10</td>\n",
       "      <td>google</td>\n",
       "    </tr>\n",
       "    <tr>\n",
       "      <th>209712</th>\n",
       "      <td>ui8mUkv49uhVchhFTjO3eg</td>\n",
       "      <td>13</td>\n",
       "      <td>2012-02-20 05:10:19.000</td>\n",
       "      <td>3.93</td>\n",
       "      <td>2012</td>\n",
       "      <td>2</td>\n",
       "      <td>yelp</td>\n",
       "    </tr>\n",
       "  </tbody>\n",
       "</table>\n",
       "</div>"
      ],
      "text/plain": [
       "                        user_id  reviews_count              date_start  \\\n",
       "578667  104190924870702530560.0              5 2019-10-15 10:42:40.633   \n",
       "209712   ui8mUkv49uhVchhFTjO3eg             13 2012-02-20 05:10:19.000   \n",
       "\n",
       "        rating_avg  year  month  source  \n",
       "578667        5.00  2019     10  google  \n",
       "209712        3.93  2012      2    yelp  "
      ]
     },
     "execution_count": 39,
     "metadata": {},
     "output_type": "execute_result"
    }
   ],
   "source": [
    "dfgy_user = pd.concat([dfy_user, dfg_user])\n",
    "\n",
    "print(dfgy_user.info())\n",
    "dfgy_user.sample(2)"
   ]
  },
  {
   "cell_type": "markdown",
   "metadata": {},
   "source": [
    "#### Dataset CHECKINS"
   ]
  },
  {
   "cell_type": "code",
   "execution_count": 40,
   "metadata": {},
   "outputs": [
    {
     "name": "stdout",
     "output_type": "stream",
     "text": [
      "<class 'pandas.core.frame.DataFrame'>\n",
      "Index: 28129090 entries, 0 to 4346286\n",
      "Data columns (total 5 columns):\n",
      " #   Column    Dtype         \n",
      "---  ------    -----         \n",
      " 0   source    object        \n",
      " 1   site_id   object        \n",
      " 2   datetime  datetime64[ns]\n",
      " 3   year      int32         \n",
      " 4   month     int32         \n",
      "dtypes: datetime64[ns](1), int32(2), object(2)\n",
      "memory usage: 1.0+ GB\n",
      "None\n"
     ]
    },
    {
     "data": {
      "text/html": [
       "<div>\n",
       "<style scoped>\n",
       "    .dataframe tbody tr th:only-of-type {\n",
       "        vertical-align: middle;\n",
       "    }\n",
       "\n",
       "    .dataframe tbody tr th {\n",
       "        vertical-align: top;\n",
       "    }\n",
       "\n",
       "    .dataframe thead th {\n",
       "        text-align: right;\n",
       "    }\n",
       "</style>\n",
       "<table border=\"1\" class=\"dataframe\">\n",
       "  <thead>\n",
       "    <tr style=\"text-align: right;\">\n",
       "      <th></th>\n",
       "      <th>source</th>\n",
       "      <th>site_id</th>\n",
       "      <th>datetime</th>\n",
       "      <th>year</th>\n",
       "      <th>month</th>\n",
       "    </tr>\n",
       "  </thead>\n",
       "  <tbody>\n",
       "    <tr>\n",
       "      <th>20895584</th>\n",
       "      <td>yelp</td>\n",
       "      <td>iOFbMitGdfU6i5xm4nZ8Ww</td>\n",
       "      <td>2016-12-27 18:34:22</td>\n",
       "      <td>2016</td>\n",
       "      <td>12</td>\n",
       "    </tr>\n",
       "    <tr>\n",
       "      <th>23911669</th>\n",
       "      <td>yelp</td>\n",
       "      <td>pCqAtxJDMv7ha57hOkB11w</td>\n",
       "      <td>2013-12-04 05:48:59</td>\n",
       "      <td>2013</td>\n",
       "      <td>12</td>\n",
       "    </tr>\n",
       "  </tbody>\n",
       "</table>\n",
       "</div>"
      ],
      "text/plain": [
       "         source                 site_id            datetime  year  month\n",
       "20895584   yelp  iOFbMitGdfU6i5xm4nZ8Ww 2016-12-27 18:34:22  2016     12\n",
       "23911669   yelp  pCqAtxJDMv7ha57hOkB11w 2013-12-04 05:48:59  2013     12"
      ]
     },
     "execution_count": 40,
     "metadata": {},
     "output_type": "execute_result"
    }
   ],
   "source": [
    "# Filtrado\n",
    "dfy_checkins = dfy_checkins[dfy_checkins['site_id'].isin(dfgy_rest_uniques['business_id'])]\n",
    "\n",
    "# Union\n",
    "dfgy_checkins = pd.concat([dfy_checkins, dfg_checkins])\n",
    "\n",
    "print(dfgy_checkins.info())\n",
    "dfgy_checkins.sample(2)"
   ]
  },
  {
   "cell_type": "markdown",
   "metadata": {},
   "source": [
    "#### Dataset REVIEWS"
   ]
  },
  {
   "cell_type": "code",
   "execution_count": 41,
   "metadata": {},
   "outputs": [
    {
     "name": "stdout",
     "output_type": "stream",
     "text": [
      "<class 'pandas.core.frame.DataFrame'>\n",
      "Index: 5204599 entries, 0 to 4346286\n",
      "Data columns (total 9 columns):\n",
      " #   Column     Dtype         \n",
      "---  ------     -----         \n",
      " 0   source     object        \n",
      " 1   site_id    object        \n",
      " 2   user_id    object        \n",
      " 3   datetime   datetime64[ns]\n",
      " 4   month      int32         \n",
      " 5   year       int32         \n",
      " 6   rating     float64       \n",
      " 7   polarity   float64       \n",
      " 8   sentiment  int64         \n",
      "dtypes: datetime64[ns](1), float64(2), int32(2), int64(1), object(3)\n",
      "memory usage: 357.4+ MB\n",
      "None\n"
     ]
    },
    {
     "data": {
      "text/html": [
       "<div>\n",
       "<style scoped>\n",
       "    .dataframe tbody tr th:only-of-type {\n",
       "        vertical-align: middle;\n",
       "    }\n",
       "\n",
       "    .dataframe tbody tr th {\n",
       "        vertical-align: top;\n",
       "    }\n",
       "\n",
       "    .dataframe thead th {\n",
       "        text-align: right;\n",
       "    }\n",
       "</style>\n",
       "<table border=\"1\" class=\"dataframe\">\n",
       "  <thead>\n",
       "    <tr style=\"text-align: right;\">\n",
       "      <th></th>\n",
       "      <th>source</th>\n",
       "      <th>site_id</th>\n",
       "      <th>user_id</th>\n",
       "      <th>datetime</th>\n",
       "      <th>month</th>\n",
       "      <th>year</th>\n",
       "      <th>rating</th>\n",
       "      <th>polarity</th>\n",
       "      <th>sentiment</th>\n",
       "    </tr>\n",
       "  </thead>\n",
       "  <tbody>\n",
       "    <tr>\n",
       "      <th>3185808</th>\n",
       "      <td>google</td>\n",
       "      <td>0x54955e82a5b53587:0x4b2f7a547aa5e76c</td>\n",
       "      <td>108390412652622839808.0</td>\n",
       "      <td>2018-07-13 23:51:19.753</td>\n",
       "      <td>7</td>\n",
       "      <td>2018</td>\n",
       "      <td>1.0</td>\n",
       "      <td>-0.9121</td>\n",
       "      <td>-1</td>\n",
       "    </tr>\n",
       "    <tr>\n",
       "      <th>3201765</th>\n",
       "      <td>google</td>\n",
       "      <td>0x54951a450a6a0661:0x7a7c930df64ebddb</td>\n",
       "      <td>115430852941586087936.0</td>\n",
       "      <td>2020-07-07 18:20:31.023</td>\n",
       "      <td>7</td>\n",
       "      <td>2020</td>\n",
       "      <td>5.0</td>\n",
       "      <td>0.0000</td>\n",
       "      <td>0</td>\n",
       "    </tr>\n",
       "  </tbody>\n",
       "</table>\n",
       "</div>"
      ],
      "text/plain": [
       "         source                                site_id  \\\n",
       "3185808  google  0x54955e82a5b53587:0x4b2f7a547aa5e76c   \n",
       "3201765  google  0x54951a450a6a0661:0x7a7c930df64ebddb   \n",
       "\n",
       "                         user_id                datetime  month  year  rating  \\\n",
       "3185808  108390412652622839808.0 2018-07-13 23:51:19.753      7  2018     1.0   \n",
       "3201765  115430852941586087936.0 2020-07-07 18:20:31.023      7  2020     5.0   \n",
       "\n",
       "         polarity  sentiment  \n",
       "3185808   -0.9121         -1  \n",
       "3201765    0.0000          0  "
      ]
     },
     "execution_count": 41,
     "metadata": {},
     "output_type": "execute_result"
    }
   ],
   "source": [
    "# Filtrado\n",
    "dfy_reviews = dfy_reviews[dfy_reviews['site_id'].isin(dfgy_rest_uniques['business_id'])]\n",
    "\n",
    "# Union\n",
    "dfgy_reviews = pd.concat([dfy_reviews, dfg_reviews])\n",
    "\n",
    "print(dfgy_reviews.info())\n",
    "dfgy_reviews.sample(2)"
   ]
  },
  {
   "cell_type": "markdown",
   "metadata": {},
   "source": [
    "#### Dataset CATEGORIES"
   ]
  },
  {
   "cell_type": "code",
   "execution_count": 42,
   "metadata": {},
   "outputs": [
    {
     "name": "stdout",
     "output_type": "stream",
     "text": [
      "<class 'pandas.core.frame.DataFrame'>\n",
      "Index: 744630 entries, 0 to 274996\n",
      "Data columns (total 3 columns):\n",
      " #   Column      Non-Null Count   Dtype \n",
      "---  ------      --------------   ----- \n",
      " 0   source      744630 non-null  object\n",
      " 1   site_id     744630 non-null  object\n",
      " 2   categories  744630 non-null  object\n",
      "dtypes: object(3)\n",
      "memory usage: 22.7+ MB\n",
      "None\n"
     ]
    },
    {
     "data": {
      "text/html": [
       "<div>\n",
       "<style scoped>\n",
       "    .dataframe tbody tr th:only-of-type {\n",
       "        vertical-align: middle;\n",
       "    }\n",
       "\n",
       "    .dataframe tbody tr th {\n",
       "        vertical-align: top;\n",
       "    }\n",
       "\n",
       "    .dataframe thead th {\n",
       "        text-align: right;\n",
       "    }\n",
       "</style>\n",
       "<table border=\"1\" class=\"dataframe\">\n",
       "  <thead>\n",
       "    <tr style=\"text-align: right;\">\n",
       "      <th></th>\n",
       "      <th>source</th>\n",
       "      <th>site_id</th>\n",
       "      <th>categories</th>\n",
       "    </tr>\n",
       "  </thead>\n",
       "  <tbody>\n",
       "    <tr>\n",
       "      <th>226663</th>\n",
       "      <td>google</td>\n",
       "      <td>0x87cbc08a2ceddb0f:0xedb583beb553fcb6</td>\n",
       "      <td>Restaurant</td>\n",
       "    </tr>\n",
       "    <tr>\n",
       "      <th>11241</th>\n",
       "      <td>google</td>\n",
       "      <td>0x54bff550f15e7a71:0x92b66f05da2a6240</td>\n",
       "      <td>Pizza restaurant</td>\n",
       "    </tr>\n",
       "  </tbody>\n",
       "</table>\n",
       "</div>"
      ],
      "text/plain": [
       "        source                                site_id        categories\n",
       "226663  google  0x87cbc08a2ceddb0f:0xedb583beb553fcb6        Restaurant\n",
       "11241   google  0x54bff550f15e7a71:0x92b66f05da2a6240  Pizza restaurant"
      ]
     },
     "execution_count": 42,
     "metadata": {},
     "output_type": "execute_result"
    }
   ],
   "source": [
    "# Filtrado\n",
    "dfy_categories = dfy_categories[dfy_categories['site_id'].isin(dfgy_rest_uniques['business_id'])]\n",
    "\n",
    "# Union\n",
    "dfgy_categories = pd.concat([dfy_categories, dfg_categories])\n",
    "\n",
    "print(dfgy_categories.info())\n",
    "dfgy_categories.sample(2)"
   ]
  },
  {
   "cell_type": "markdown",
   "metadata": {},
   "source": [
    "### Exportación de los datasets"
   ]
  },
  {
   "cell_type": "code",
   "execution_count": 45,
   "metadata": {},
   "outputs": [],
   "source": [
    "# Restaurantes\n",
    "dfgy_rest.to_parquet(\"../Data/Final/dfgy_rest.parquet\")\n",
    "\n",
    "# Usuarios\n",
    "dfgy_user['user_id'] = dfgy_user['user_id'].astype(str)\n",
    "dfgy_user.to_parquet(\"../Data/Final/dfgy_user.parquet\")\n",
    "\n",
    "# Checkins\n",
    "dfgy_checkins.to_parquet(\"../Data/Final/dfgy_checkins.parquet\")\n",
    "\n",
    "# Reviews\n",
    "dfgy_reviews['user_id'] = dfgy_reviews['user_id'].astype(str)\n",
    "dfgy_reviews.to_parquet(\"../Data/Final/dfgy_reviews.parquet\")\n",
    "\n",
    "# Categorías\n",
    "dfgy_categories.to_parquet(\"../Data/Final/dfgy_categories.parquet\")\n"
   ]
  }
 ],
 "metadata": {
  "kernelspec": {
   "display_name": "Python 3",
   "language": "python",
   "name": "python3"
  },
  "language_info": {
   "codemirror_mode": {
    "name": "ipython",
    "version": 3
   },
   "file_extension": ".py",
   "mimetype": "text/x-python",
   "name": "python",
   "nbconvert_exporter": "python",
   "pygments_lexer": "ipython3",
   "version": "3.12.2"
  }
 },
 "nbformat": 4,
 "nbformat_minor": 2
}
